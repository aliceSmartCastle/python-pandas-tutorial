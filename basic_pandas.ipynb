{
 "cells": [
  {
   "cell_type": "code",
   "execution_count": null,
   "id": "f5d3e82c",
   "metadata": {},
   "outputs": [],
   "source": [
    "import pandas as pd\n",
    "import numpy as np"
   ]
  },
  {
   "cell_type": "markdown",
   "id": "cc85dfad",
   "metadata": {},
   "source": [
    "OPEN Data write to Pandas"
   ]
  },
  {
   "cell_type": "code",
   "execution_count": 747,
   "id": "c1c01f1a",
   "metadata": {},
   "outputs": [
    {
     "data": {
      "application/vnd.microsoft.datawrangler.viewer.v0+json": {
       "columns": [
        {
         "name": "index",
         "rawType": "object",
         "type": "string"
        }
       ],
       "ref": "546376ea-9620-422d-87ff-d3b716c6e884",
       "rows": [
        [
         "cmake_minimum_required(VERSION 3.25)"
        ],
        [
         "#this change avoid the warning that appear when we include raylib using Cmake fatch content "
        ],
        [
         "project(raylib)"
        ],
        [
         "# Avoid excessive expansion of variables in conditionals. In particular, if"
        ]
       ],
       "shape": {
        "columns": 0,
        "rows": 4
       }
      },
      "text/html": [
       "<div>\n",
       "<style scoped>\n",
       "    .dataframe tbody tr th:only-of-type {\n",
       "        vertical-align: middle;\n",
       "    }\n",
       "\n",
       "    .dataframe tbody tr th {\n",
       "        vertical-align: top;\n",
       "    }\n",
       "\n",
       "    .dataframe thead th {\n",
       "        text-align: right;\n",
       "    }\n",
       "</style>\n",
       "<table border=\"1\" class=\"dataframe\">\n",
       "  <thead>\n",
       "    <tr style=\"text-align: right;\">\n",
       "      <th></th>\n",
       "    </tr>\n",
       "    <tr>\n",
       "      <th>0</th>\n",
       "    </tr>\n",
       "  </thead>\n",
       "  <tbody>\n",
       "    <tr>\n",
       "      <th>cmake_minimum_required(VERSION 3.25)</th>\n",
       "    </tr>\n",
       "    <tr>\n",
       "      <th>#this change avoid the warning that appear when we include raylib using Cmake fatch content</th>\n",
       "    </tr>\n",
       "    <tr>\n",
       "      <th>project(raylib)</th>\n",
       "    </tr>\n",
       "    <tr>\n",
       "      <th># Avoid excessive expansion of variables in conditionals. In particular, if</th>\n",
       "    </tr>\n",
       "  </tbody>\n",
       "</table>\n",
       "</div>"
      ],
      "text/plain": [
       "Empty DataFrame\n",
       "Columns: []\n",
       "Index: [cmake_minimum_required(VERSION 3.25), #this change avoid the warning that appear when we include raylib using Cmake fatch content , project(raylib), # Avoid excessive expansion of variables in conditionals. In particular, if]"
      ]
     },
     "execution_count": 747,
     "metadata": {},
     "output_type": "execute_result"
    }
   ],
   "source": [
    "read_cmakelists=pd.read_table(\"CMakeLists.txt\",usecols=[0],header=None,engine='python',index_col=0)  #CMakeLists.txt builds by cmake\n",
    "read_cmakelists.head(4)"
   ]
  },
  {
   "cell_type": "code",
   "execution_count": 748,
   "id": "2fee4304",
   "metadata": {},
   "outputs": [
    {
     "data": {
      "application/vnd.microsoft.datawrangler.viewer.v0+json": {
       "columns": [
        {
         "name": "index",
         "rawType": "object",
         "type": "string"
        },
        {
         "name": "Week",
         "rawType": "object",
         "type": "string"
        },
        {
         "name": "Weather",
         "rawType": "object",
         "type": "string"
        },
        {
         "name": "Temperature",
         "rawType": "float64",
         "type": "float"
        }
       ],
       "ref": "4e37ed16-d7ad-4109-a1f0-9ec2707d1284",
       "rows": [
        [
         "Day 1",
         "Monday",
         "accumulation",
         "13.4"
        ],
        [
         "Day 2",
         "Tuesday",
         "breeze",
         "13.96"
        ],
        [
         "Day 3",
         "Wednesday",
         "calm",
         "14.21"
        ],
        [
         "Day 4",
         "Thursday",
         "disturbance",
         "14.49"
        ],
        [
         "Day 5",
         "Friday",
         "drizzle",
         "15.25"
        ],
        [
         "Day 6",
         "Saturday",
         "sunny",
         "15.56"
        ],
        [
         "Day 7",
         "Sunday",
         "fair",
         "16.1"
        ],
        [
         "Day 8",
         "Monday",
         "cloudy",
         "16.5"
        ],
        [
         "Day 9",
         "Tuesday",
         "showers",
         "16.2"
        ],
        [
         "Day 10",
         "Wednesday",
         "rain",
         "15.8"
        ],
        [
         "Day 11",
         "Thursday",
         "downpour",
         "15.52"
        ],
        [
         "Day 12",
         "Friday",
         "hail",
         "15.12"
        ],
        [
         "Day 13",
         "Saturday",
         "sleet",
         "14.14"
        ],
        [
         "Day 14",
         "Sunday",
         "snow",
         "13.31"
        ],
        [
         "Day 15",
         "Monday",
         "snowflake",
         "12.11"
        ],
        [
         "Day 16",
         "Tuesday",
         "gloomy",
         "11.48"
        ],
        [
         "Day 17",
         "Wednesday",
         "foggy",
         "11.96"
        ],
        [
         "Day 18",
         "Thursday",
         "overcast",
         "12.24"
        ],
        [
         "Day 19",
         "Friday",
         "clear",
         "12.89"
        ],
        [
         "Day 20",
         "Saturday",
         "blustery",
         "13.56"
        ],
        [
         "Day 21",
         "Sunday",
         "windy",
         "14.83"
        ]
       ],
       "shape": {
        "columns": 3,
        "rows": 21
       }
      },
      "text/html": [
       "<div>\n",
       "<style scoped>\n",
       "    .dataframe tbody tr th:only-of-type {\n",
       "        vertical-align: middle;\n",
       "    }\n",
       "\n",
       "    .dataframe tbody tr th {\n",
       "        vertical-align: top;\n",
       "    }\n",
       "\n",
       "    .dataframe thead th {\n",
       "        text-align: right;\n",
       "    }\n",
       "</style>\n",
       "<table border=\"1\" class=\"dataframe\">\n",
       "  <thead>\n",
       "    <tr style=\"text-align: right;\">\n",
       "      <th></th>\n",
       "      <th>Week</th>\n",
       "      <th>Weather</th>\n",
       "      <th>Temperature</th>\n",
       "    </tr>\n",
       "  </thead>\n",
       "  <tbody>\n",
       "    <tr>\n",
       "      <th>Day 1</th>\n",
       "      <td>Monday</td>\n",
       "      <td>accumulation</td>\n",
       "      <td>13.40</td>\n",
       "    </tr>\n",
       "    <tr>\n",
       "      <th>Day 2</th>\n",
       "      <td>Tuesday</td>\n",
       "      <td>breeze</td>\n",
       "      <td>13.96</td>\n",
       "    </tr>\n",
       "    <tr>\n",
       "      <th>Day 3</th>\n",
       "      <td>Wednesday</td>\n",
       "      <td>calm</td>\n",
       "      <td>14.21</td>\n",
       "    </tr>\n",
       "    <tr>\n",
       "      <th>Day 4</th>\n",
       "      <td>Thursday</td>\n",
       "      <td>disturbance</td>\n",
       "      <td>14.49</td>\n",
       "    </tr>\n",
       "    <tr>\n",
       "      <th>Day 5</th>\n",
       "      <td>Friday</td>\n",
       "      <td>drizzle</td>\n",
       "      <td>15.25</td>\n",
       "    </tr>\n",
       "    <tr>\n",
       "      <th>Day 6</th>\n",
       "      <td>Saturday</td>\n",
       "      <td>sunny</td>\n",
       "      <td>15.56</td>\n",
       "    </tr>\n",
       "    <tr>\n",
       "      <th>Day 7</th>\n",
       "      <td>Sunday</td>\n",
       "      <td>fair</td>\n",
       "      <td>16.10</td>\n",
       "    </tr>\n",
       "    <tr>\n",
       "      <th>Day 8</th>\n",
       "      <td>Monday</td>\n",
       "      <td>cloudy</td>\n",
       "      <td>16.50</td>\n",
       "    </tr>\n",
       "    <tr>\n",
       "      <th>Day 9</th>\n",
       "      <td>Tuesday</td>\n",
       "      <td>showers</td>\n",
       "      <td>16.20</td>\n",
       "    </tr>\n",
       "    <tr>\n",
       "      <th>Day 10</th>\n",
       "      <td>Wednesday</td>\n",
       "      <td>rain</td>\n",
       "      <td>15.80</td>\n",
       "    </tr>\n",
       "    <tr>\n",
       "      <th>Day 11</th>\n",
       "      <td>Thursday</td>\n",
       "      <td>downpour</td>\n",
       "      <td>15.52</td>\n",
       "    </tr>\n",
       "    <tr>\n",
       "      <th>Day 12</th>\n",
       "      <td>Friday</td>\n",
       "      <td>hail</td>\n",
       "      <td>15.12</td>\n",
       "    </tr>\n",
       "    <tr>\n",
       "      <th>Day 13</th>\n",
       "      <td>Saturday</td>\n",
       "      <td>sleet</td>\n",
       "      <td>14.14</td>\n",
       "    </tr>\n",
       "    <tr>\n",
       "      <th>Day 14</th>\n",
       "      <td>Sunday</td>\n",
       "      <td>snow</td>\n",
       "      <td>13.31</td>\n",
       "    </tr>\n",
       "    <tr>\n",
       "      <th>Day 15</th>\n",
       "      <td>Monday</td>\n",
       "      <td>snowflake</td>\n",
       "      <td>12.11</td>\n",
       "    </tr>\n",
       "    <tr>\n",
       "      <th>Day 16</th>\n",
       "      <td>Tuesday</td>\n",
       "      <td>gloomy</td>\n",
       "      <td>11.48</td>\n",
       "    </tr>\n",
       "    <tr>\n",
       "      <th>Day 17</th>\n",
       "      <td>Wednesday</td>\n",
       "      <td>foggy</td>\n",
       "      <td>11.96</td>\n",
       "    </tr>\n",
       "    <tr>\n",
       "      <th>Day 18</th>\n",
       "      <td>Thursday</td>\n",
       "      <td>overcast</td>\n",
       "      <td>12.24</td>\n",
       "    </tr>\n",
       "    <tr>\n",
       "      <th>Day 19</th>\n",
       "      <td>Friday</td>\n",
       "      <td>clear</td>\n",
       "      <td>12.89</td>\n",
       "    </tr>\n",
       "    <tr>\n",
       "      <th>Day 20</th>\n",
       "      <td>Saturday</td>\n",
       "      <td>blustery</td>\n",
       "      <td>13.56</td>\n",
       "    </tr>\n",
       "    <tr>\n",
       "      <th>Day 21</th>\n",
       "      <td>Sunday</td>\n",
       "      <td>windy</td>\n",
       "      <td>14.83</td>\n",
       "    </tr>\n",
       "  </tbody>\n",
       "</table>\n",
       "</div>"
      ],
      "text/plain": [
       "             Week       Weather  Temperature\n",
       "Day 1      Monday  accumulation        13.40\n",
       "Day 2     Tuesday        breeze        13.96\n",
       "Day 3   Wednesday          calm        14.21\n",
       "Day 4    Thursday   disturbance        14.49\n",
       "Day 5      Friday       drizzle        15.25\n",
       "Day 6    Saturday         sunny        15.56\n",
       "Day 7      Sunday          fair        16.10\n",
       "Day 8      Monday        cloudy        16.50\n",
       "Day 9     Tuesday       showers        16.20\n",
       "Day 10  Wednesday          rain        15.80\n",
       "Day 11   Thursday      downpour        15.52\n",
       "Day 12     Friday          hail        15.12\n",
       "Day 13   Saturday         sleet        14.14\n",
       "Day 14     Sunday          snow        13.31\n",
       "Day 15     Monday     snowflake        12.11\n",
       "Day 16    Tuesday        gloomy        11.48\n",
       "Day 17  Wednesday         foggy        11.96\n",
       "Day 18   Thursday      overcast        12.24\n",
       "Day 19     Friday         clear        12.89\n",
       "Day 20   Saturday      blustery        13.56\n",
       "Day 21     Sunday         windy        14.83"
      ]
     },
     "execution_count": 748,
     "metadata": {},
     "output_type": "execute_result"
    }
   ],
   "source": [
    "\n",
    "read_land=pd.read_csv('lands.csv',index_col=0) \n",
    "read_land\n",
    "\n"
   ]
  },
  {
   "cell_type": "code",
   "execution_count": 749,
   "id": "179f8d86",
   "metadata": {},
   "outputs": [
    {
     "data": {
      "application/vnd.microsoft.datawrangler.viewer.v0+json": {
       "columns": [
        {
         "name": "State Agency or Indian Tribal Organization",
         "rawType": "object",
         "type": "string"
        },
        {
         "name": "Cumulative Cost:\r\n October-September",
         "rawType": "float64",
         "type": "float"
        }
       ],
       "ref": "9b41fabd-62e9-40c0-a268-815bd761a014",
       "rows": [
        [
         "Connecticut",
         "12113786.0"
        ],
        [
         "Maine",
         "5095547.0"
        ],
        [
         "Massachusetts",
         "24672286.0"
        ],
        [
         "New Hampshire",
         "4033109.0"
        ],
        [
         "New York",
         "108621754.0"
        ],
        [
         "Rhode Island",
         "5876413.0"
        ],
        [
         "Vermont",
         "4175866.0"
        ],
        [
         "Indian Township, ME",
         "37269.0"
        ],
        [
         "Pleasant Point, ME",
         "35018.0"
        ],
        [
         "Seneca Nation, NY",
         "55024.0"
        ],
        [
         "Delaware",
         "4582581.0"
        ],
        [
         "District of Columbia",
         "5123352.0"
        ],
        [
         "Maryland",
         "30151699.0"
        ],
        [
         "New Jersey",
         "30850575.0"
        ],
        [
         "Pennsylvania",
         "57166396.0"
        ],
        [
         "Puerto Rico",
         "42304231.0"
        ],
        [
         "Virginia",
         "33808792.0"
        ],
        [
         "Virgin Islands",
         "1990993.0"
        ],
        [
         "West Virginia",
         "11347056.0"
        ],
        [
         "Alabama",
         "31083991.0"
        ],
        [
         "Florida",
         "96090643.0"
        ],
        [
         "Georgia",
         "69442596.0"
        ],
        [
         "Kentucky",
         "33933092.0"
        ],
        [
         "Mississippi",
         "20285815.0"
        ],
        [
         "North Carolina",
         "57148056.0"
        ],
        [
         "South Carolina",
         "25584384.0"
        ],
        [
         "Tennessee",
         "39832380.0"
        ],
        [
         "Choctaw Indians, MS",
         "404038.0"
        ],
        [
         "Eastern Cherokee, NC",
         "371791.0"
        ],
        [
         "Illinois",
         "53761574.0"
        ],
        [
         "Indiana",
         "30152917.0"
        ],
        [
         "Michigan",
         "56524342.0"
        ],
        [
         "Minnesota",
         "30353785.0"
        ],
        [
         "Ohio",
         "51227090.0"
        ],
        [
         "Wisconsin",
         "28108360.0"
        ],
        [
         "Arkansas",
         "18755925.0"
        ],
        [
         "Louisiana",
         "29513281.0"
        ],
        [
         "New Mexico",
         "13158757.0"
        ],
        [
         "Oklahoma",
         "20599360.0"
        ],
        [
         "Texas",
         null
        ],
        [
         "Texas",
         "178674130.0"
        ],
        [
         "Acoma, Canoncito & Laguna, NM",
         "200412.0"
        ],
        [
         "Eight Northern Pueblos, NM",
         "168935.0"
        ],
        [
         "Five Sandoval Pueblos, NM",
         "192723.0"
        ],
        [
         "Isleta Pueblo, NM",
         "319088.0"
        ],
        [
         "San Felipe Pueblo, NM",
         "202192.0"
        ],
        [
         "Santo Domingo Tribe, NM",
         "100159.0"
        ],
        [
         "Zuni Pueblo, NM",
         "233917.0"
        ],
        [
         "Cherokee Nation, OK",
         "2236757.0"
        ],
        [
         "Chickasaw Nation, OK",
         "2166361.0"
        ]
       ],
       "shape": {
        "columns": 1,
        "rows": 92
       }
      },
      "text/html": [
       "<div>\n",
       "<style scoped>\n",
       "    .dataframe tbody tr th:only-of-type {\n",
       "        vertical-align: middle;\n",
       "    }\n",
       "\n",
       "    .dataframe tbody tr th {\n",
       "        vertical-align: top;\n",
       "    }\n",
       "\n",
       "    .dataframe thead th {\n",
       "        text-align: right;\n",
       "    }\n",
       "</style>\n",
       "<table border=\"1\" class=\"dataframe\">\n",
       "  <thead>\n",
       "    <tr style=\"text-align: right;\">\n",
       "      <th></th>\n",
       "      <th>Cumulative Cost:\\r\\n October-September</th>\n",
       "    </tr>\n",
       "    <tr>\n",
       "      <th>State Agency or Indian Tribal Organization</th>\n",
       "      <th></th>\n",
       "    </tr>\n",
       "  </thead>\n",
       "  <tbody>\n",
       "    <tr>\n",
       "      <th>Connecticut</th>\n",
       "      <td>12113786.0</td>\n",
       "    </tr>\n",
       "    <tr>\n",
       "      <th>Maine</th>\n",
       "      <td>5095547.0</td>\n",
       "    </tr>\n",
       "    <tr>\n",
       "      <th>Massachusetts</th>\n",
       "      <td>24672286.0</td>\n",
       "    </tr>\n",
       "    <tr>\n",
       "      <th>New Hampshire</th>\n",
       "      <td>4033109.0</td>\n",
       "    </tr>\n",
       "    <tr>\n",
       "      <th>New York</th>\n",
       "      <td>108621754.0</td>\n",
       "    </tr>\n",
       "    <tr>\n",
       "      <th>...</th>\n",
       "      <td>...</td>\n",
       "    </tr>\n",
       "    <tr>\n",
       "      <th>Washington</th>\n",
       "      <td>50671500.0</td>\n",
       "    </tr>\n",
       "    <tr>\n",
       "      <th>Northern Marianas</th>\n",
       "      <td>1184670.0</td>\n",
       "    </tr>\n",
       "    <tr>\n",
       "      <th>Inter-Tribal Council, AZ</th>\n",
       "      <td>3188297.0</td>\n",
       "    </tr>\n",
       "    <tr>\n",
       "      <th>Navajo Nation, AZ</th>\n",
       "      <td>3291062.0</td>\n",
       "    </tr>\n",
       "    <tr>\n",
       "      <th>Inter-Tribal Council, NV</th>\n",
       "      <td>609464.0</td>\n",
       "    </tr>\n",
       "  </tbody>\n",
       "</table>\n",
       "<p>92 rows × 1 columns</p>\n",
       "</div>"
      ],
      "text/plain": [
       "                                            Cumulative Cost:\\r\\n October-September\n",
       "State Agency or Indian Tribal Organization                                        \n",
       "Connecticut                                                             12113786.0\n",
       "Maine                                                                    5095547.0\n",
       "Massachusetts                                                           24672286.0\n",
       "New Hampshire                                                            4033109.0\n",
       "New York                                                               108621754.0\n",
       "...                                                                            ...\n",
       "Washington                                                              50671500.0\n",
       "Northern Marianas                                                        1184670.0\n",
       "Inter-Tribal Council, AZ                                                 3188297.0\n",
       "Navajo Nation, AZ                                                        3291062.0\n",
       "Inter-Tribal Council, NV                                                  609464.0\n",
       "\n",
       "[92 rows x 1 columns]"
      ]
     },
     "execution_count": 749,
     "metadata": {},
     "output_type": "execute_result"
    }
   ],
   "source": [
    "\n",
    "read_nut=pd.read_csv(\"Nut_Services_Admin_Costs.csv\",index_col=0)\n",
    "read_nut\n",
    "\n"
   ]
  },
  {
   "cell_type": "code",
   "execution_count": 750,
   "id": "e8888d4b",
   "metadata": {},
   "outputs": [
    {
     "data": {
      "application/vnd.microsoft.datawrangler.viewer.v0+json": {
       "columns": [
        {
         "name": "index",
         "rawType": "int64",
         "type": "integer"
        },
        {
         "name": "id",
         "rawType": "object",
         "type": "string"
        },
        {
         "name": "rated",
         "rawType": "bool",
         "type": "boolean"
        },
        {
         "name": "created_at",
         "rawType": "int64",
         "type": "integer"
        },
        {
         "name": "last_move_at",
         "rawType": "int64",
         "type": "integer"
        },
        {
         "name": "turns",
         "rawType": "int64",
         "type": "integer"
        },
        {
         "name": "victory_status",
         "rawType": "object",
         "type": "string"
        },
        {
         "name": "winner",
         "rawType": "object",
         "type": "string"
        },
        {
         "name": "increment_code",
         "rawType": "object",
         "type": "string"
        },
        {
         "name": "white_id",
         "rawType": "object",
         "type": "string"
        },
        {
         "name": "white_rating",
         "rawType": "int64",
         "type": "integer"
        },
        {
         "name": "black_id",
         "rawType": "object",
         "type": "string"
        },
        {
         "name": "black_rating",
         "rawType": "int64",
         "type": "integer"
        },
        {
         "name": "moves",
         "rawType": "object",
         "type": "string"
        },
        {
         "name": "opening_eco",
         "rawType": "object",
         "type": "string"
        },
        {
         "name": "opening_name",
         "rawType": "object",
         "type": "string"
        },
        {
         "name": "opening_ply",
         "rawType": "int64",
         "type": "integer"
        }
       ],
       "ref": "a1c1ad1c-f1f1-42f3-929e-586c78502c24",
       "rows": [
        [
         "0",
         "TZJHLljE",
         "False",
         "1504210000000",
         "1504210000000",
         "13",
         "outoftime",
         "white",
         "15+2",
         "bourgris",
         "1500",
         "a-00",
         "1191",
         "d4 d5 c4 c6 cxd5 e6 dxe6 fxe6 Nf3 Bb4+ Nc3 Ba5 Bf4",
         "D10",
         "Slav Defense: Exchange Variation",
         "5"
        ],
        [
         "1",
         "l1NXvwaE",
         "True",
         "1504130000000",
         "1504130000000",
         "16",
         "resign",
         "black",
         "5+10",
         "a-00",
         "1322",
         "skinnerua",
         "1261",
         "d4 Nc6 e4 e5 f4 f6 dxe5 fxe5 fxe5 Nxe5 Qd4 Nc6 Qe5+ Nxe5 c4 Bb4+",
         "B00",
         "Nimzowitsch Defense: Kennedy Variation",
         "4"
        ],
        [
         "2",
         "mIICvQHh",
         "True",
         "1504130000000",
         "1504130000000",
         "61",
         "mate",
         "white",
         "5+10",
         "ischia",
         "1496",
         "a-00",
         "1500",
         "e4 e5 d3 d6 Be3 c6 Be2 b5 Nd2 a5 a4 c5 axb5 Nc6 bxc6 Ra6 Nc4 a4 c3 a3 Nxa3 Rxa3 Rxa3 c4 dxc4 d5 cxd5 Qxd5 exd5 Be6 Ra8+ Ke7 Bc5+ Kf6 Bxf8 Kg6 Bxg7 Kxg7 dxe6 Kh6 exf7 Nf6 Rxh8 Nh5 Bxh5 Kg5 Rxh7 Kf5 Qf3+ Ke6 Bg4+ Kd6 Rh6+ Kc5 Qe3+ Kb5 c4+ Kb4 Qc3+ Ka4 Bd1#",
         "C20",
         "King's Pawn Game: Leonardis Variation",
         "3"
        ],
        [
         "3",
         "kWKvrqYL",
         "True",
         "1504110000000",
         "1504110000000",
         "61",
         "mate",
         "white",
         "20+0",
         "daniamurashov",
         "1439",
         "adivanov2009",
         "1454",
         "d4 d5 Nf3 Bf5 Nc3 Nf6 Bf4 Ng4 e3 Nc6 Be2 Qd7 O-O O-O-O Nb5 Nb4 Rc1 Nxa2 Ra1 Nb4 Nxa7+ Kb8 Nb5 Bxc2 Bxc7+ Kc8 Qd2 Qc6 Na7+ Kd7 Nxc6 bxc6 Bxd8 Kxd8 Qxb4 e5 Qb8+ Ke7 dxe5 Be4 Ra7+ Ke6 Qe8+ Kf5 Qxf7+ Nf6 Nh4+ Kg5 g3 Ng4 Qf4+ Kh5 Qxg4+ Kh6 Qf4+ g5 Qf6+ Bg6 Nxg6 Bg7 Qxg7#",
         "D02",
         "Queen's Pawn Game: Zukertort Variation",
         "3"
        ],
        [
         "4",
         "9tXo1AUZ",
         "True",
         "1504030000000",
         "1504030000000",
         "95",
         "mate",
         "white",
         "30+3",
         "nik221107",
         "1523",
         "adivanov2009",
         "1469",
         "e4 e5 Nf3 d6 d4 Nc6 d5 Nb4 a3 Na6 Nc3 Be7 b4 Nf6 Bg5 O-O b5 Nc5 Bxf6 Bxf6 Bd3 Qd7 O-O Nxd3 Qxd3 c6 a4 cxd5 Nxd5 Qe6 Nc7 Qg4 Nxa8 Bd7 Nc7 Rc8 Nd5 Qg6 Nxf6+ Qxf6 Rfd1 Re8 Qxd6 Bg4 Qxf6 gxf6 Rd3 Bxf3 Rxf3 Rd8 Rxf6 Kg7 Rf3 Rd2 Rg3+ Kf8 c3 Re2 f3 Rc2 Rg5 f6 Rh5 Kg7 Rd1 Kg6 Rh3 Rxc3 Rd7 Rc1+ Kf2 Rc2+ Kg3 h5 Rxb7 Kg5 Rxa7 h4+ Rxh4 Rxg2+ Kxg2 Kxh4 b6 Kg5 b7 f5 exf5 Kxf5 b8=Q e4 Rf7+ Kg5 Qg8+ Kh6 Rh7#",
         "C41",
         "Philidor Defense",
         "5"
        ]
       ],
       "shape": {
        "columns": 16,
        "rows": 5
       }
      },
      "text/html": [
       "<div>\n",
       "<style scoped>\n",
       "    .dataframe tbody tr th:only-of-type {\n",
       "        vertical-align: middle;\n",
       "    }\n",
       "\n",
       "    .dataframe tbody tr th {\n",
       "        vertical-align: top;\n",
       "    }\n",
       "\n",
       "    .dataframe thead th {\n",
       "        text-align: right;\n",
       "    }\n",
       "</style>\n",
       "<table border=\"1\" class=\"dataframe\">\n",
       "  <thead>\n",
       "    <tr style=\"text-align: right;\">\n",
       "      <th></th>\n",
       "      <th>id</th>\n",
       "      <th>rated</th>\n",
       "      <th>created_at</th>\n",
       "      <th>last_move_at</th>\n",
       "      <th>turns</th>\n",
       "      <th>victory_status</th>\n",
       "      <th>winner</th>\n",
       "      <th>increment_code</th>\n",
       "      <th>white_id</th>\n",
       "      <th>white_rating</th>\n",
       "      <th>black_id</th>\n",
       "      <th>black_rating</th>\n",
       "      <th>moves</th>\n",
       "      <th>opening_eco</th>\n",
       "      <th>opening_name</th>\n",
       "      <th>opening_ply</th>\n",
       "    </tr>\n",
       "  </thead>\n",
       "  <tbody>\n",
       "    <tr>\n",
       "      <th>0</th>\n",
       "      <td>TZJHLljE</td>\n",
       "      <td>False</td>\n",
       "      <td>1504210000000</td>\n",
       "      <td>1504210000000</td>\n",
       "      <td>13</td>\n",
       "      <td>outoftime</td>\n",
       "      <td>white</td>\n",
       "      <td>15+2</td>\n",
       "      <td>bourgris</td>\n",
       "      <td>1500</td>\n",
       "      <td>a-00</td>\n",
       "      <td>1191</td>\n",
       "      <td>d4 d5 c4 c6 cxd5 e6 dxe6 fxe6 Nf3 Bb4+ Nc3 Ba5...</td>\n",
       "      <td>D10</td>\n",
       "      <td>Slav Defense: Exchange Variation</td>\n",
       "      <td>5</td>\n",
       "    </tr>\n",
       "    <tr>\n",
       "      <th>1</th>\n",
       "      <td>l1NXvwaE</td>\n",
       "      <td>True</td>\n",
       "      <td>1504130000000</td>\n",
       "      <td>1504130000000</td>\n",
       "      <td>16</td>\n",
       "      <td>resign</td>\n",
       "      <td>black</td>\n",
       "      <td>5+10</td>\n",
       "      <td>a-00</td>\n",
       "      <td>1322</td>\n",
       "      <td>skinnerua</td>\n",
       "      <td>1261</td>\n",
       "      <td>d4 Nc6 e4 e5 f4 f6 dxe5 fxe5 fxe5 Nxe5 Qd4 Nc6...</td>\n",
       "      <td>B00</td>\n",
       "      <td>Nimzowitsch Defense: Kennedy Variation</td>\n",
       "      <td>4</td>\n",
       "    </tr>\n",
       "    <tr>\n",
       "      <th>2</th>\n",
       "      <td>mIICvQHh</td>\n",
       "      <td>True</td>\n",
       "      <td>1504130000000</td>\n",
       "      <td>1504130000000</td>\n",
       "      <td>61</td>\n",
       "      <td>mate</td>\n",
       "      <td>white</td>\n",
       "      <td>5+10</td>\n",
       "      <td>ischia</td>\n",
       "      <td>1496</td>\n",
       "      <td>a-00</td>\n",
       "      <td>1500</td>\n",
       "      <td>e4 e5 d3 d6 Be3 c6 Be2 b5 Nd2 a5 a4 c5 axb5 Nc...</td>\n",
       "      <td>C20</td>\n",
       "      <td>King's Pawn Game: Leonardis Variation</td>\n",
       "      <td>3</td>\n",
       "    </tr>\n",
       "    <tr>\n",
       "      <th>3</th>\n",
       "      <td>kWKvrqYL</td>\n",
       "      <td>True</td>\n",
       "      <td>1504110000000</td>\n",
       "      <td>1504110000000</td>\n",
       "      <td>61</td>\n",
       "      <td>mate</td>\n",
       "      <td>white</td>\n",
       "      <td>20+0</td>\n",
       "      <td>daniamurashov</td>\n",
       "      <td>1439</td>\n",
       "      <td>adivanov2009</td>\n",
       "      <td>1454</td>\n",
       "      <td>d4 d5 Nf3 Bf5 Nc3 Nf6 Bf4 Ng4 e3 Nc6 Be2 Qd7 O...</td>\n",
       "      <td>D02</td>\n",
       "      <td>Queen's Pawn Game: Zukertort Variation</td>\n",
       "      <td>3</td>\n",
       "    </tr>\n",
       "    <tr>\n",
       "      <th>4</th>\n",
       "      <td>9tXo1AUZ</td>\n",
       "      <td>True</td>\n",
       "      <td>1504030000000</td>\n",
       "      <td>1504030000000</td>\n",
       "      <td>95</td>\n",
       "      <td>mate</td>\n",
       "      <td>white</td>\n",
       "      <td>30+3</td>\n",
       "      <td>nik221107</td>\n",
       "      <td>1523</td>\n",
       "      <td>adivanov2009</td>\n",
       "      <td>1469</td>\n",
       "      <td>e4 e5 Nf3 d6 d4 Nc6 d5 Nb4 a3 Na6 Nc3 Be7 b4 N...</td>\n",
       "      <td>C41</td>\n",
       "      <td>Philidor Defense</td>\n",
       "      <td>5</td>\n",
       "    </tr>\n",
       "  </tbody>\n",
       "</table>\n",
       "</div>"
      ],
      "text/plain": [
       "         id  rated     created_at   last_move_at  turns victory_status winner  \\\n",
       "0  TZJHLljE  False  1504210000000  1504210000000     13      outoftime  white   \n",
       "1  l1NXvwaE   True  1504130000000  1504130000000     16         resign  black   \n",
       "2  mIICvQHh   True  1504130000000  1504130000000     61           mate  white   \n",
       "3  kWKvrqYL   True  1504110000000  1504110000000     61           mate  white   \n",
       "4  9tXo1AUZ   True  1504030000000  1504030000000     95           mate  white   \n",
       "\n",
       "  increment_code       white_id  white_rating      black_id  black_rating  \\\n",
       "0           15+2       bourgris          1500          a-00          1191   \n",
       "1           5+10           a-00          1322     skinnerua          1261   \n",
       "2           5+10         ischia          1496          a-00          1500   \n",
       "3           20+0  daniamurashov          1439  adivanov2009          1454   \n",
       "4           30+3      nik221107          1523  adivanov2009          1469   \n",
       "\n",
       "                                               moves opening_eco  \\\n",
       "0  d4 d5 c4 c6 cxd5 e6 dxe6 fxe6 Nf3 Bb4+ Nc3 Ba5...         D10   \n",
       "1  d4 Nc6 e4 e5 f4 f6 dxe5 fxe5 fxe5 Nxe5 Qd4 Nc6...         B00   \n",
       "2  e4 e5 d3 d6 Be3 c6 Be2 b5 Nd2 a5 a4 c5 axb5 Nc...         C20   \n",
       "3  d4 d5 Nf3 Bf5 Nc3 Nf6 Bf4 Ng4 e3 Nc6 Be2 Qd7 O...         D02   \n",
       "4  e4 e5 Nf3 d6 d4 Nc6 d5 Nb4 a3 Na6 Nc3 Be7 b4 N...         C41   \n",
       "\n",
       "                             opening_name  opening_ply  \n",
       "0        Slav Defense: Exchange Variation            5  \n",
       "1  Nimzowitsch Defense: Kennedy Variation            4  \n",
       "2   King's Pawn Game: Leonardis Variation            3  \n",
       "3  Queen's Pawn Game: Zukertort Variation            3  \n",
       "4                        Philidor Defense            5  "
      ]
     },
     "execution_count": 750,
     "metadata": {},
     "output_type": "execute_result"
    }
   ],
   "source": [
    "read_xlsx=pd.read_excel(\"chess_data.xlsx\",nrows=5)\n",
    "read_xlsx.head()"
   ]
  },
  {
   "cell_type": "code",
   "execution_count": 751,
   "id": "60abe16e",
   "metadata": {},
   "outputs": [],
   "source": [
    "read_nut.to_csv(\"nut_sales.txt\",sep='\\t',index=True)"
   ]
  },
  {
   "cell_type": "code",
   "execution_count": 752,
   "id": "cb1c4013",
   "metadata": {},
   "outputs": [
    {
     "data": {
      "text/plain": [
       "pandas.core.frame.DataFrame"
      ]
     },
     "execution_count": 752,
     "metadata": {},
     "output_type": "execute_result"
    }
   ],
   "source": [
    "\n",
    "type(read_land)\n"
   ]
  },
  {
   "cell_type": "code",
   "execution_count": 753,
   "id": "36aa1566",
   "metadata": {},
   "outputs": [
    {
     "data": {
      "text/plain": [
       "['Week', 'Weather', 'Temperature']"
      ]
     },
     "execution_count": 753,
     "metadata": {},
     "output_type": "execute_result"
    }
   ],
   "source": [
    "def  data_colunm_get(iter:pd.DataFrame):   #get any dataframe columns for any data\n",
    " data_row=[]\n",
    " for i in iter:\n",
    "   data_row.append(i)\n",
    " return data_row\n",
    "\n",
    "magic_land_colums=data_colunm_get(iter=read_land)\n",
    "magic_land_colums"
   ]
  },
  {
   "cell_type": "code",
   "execution_count": 754,
   "id": "d7637b91",
   "metadata": {},
   "outputs": [
    {
     "data": {
      "text/plain": [
       "'Week'"
      ]
     },
     "execution_count": 754,
     "metadata": {},
     "output_type": "execute_result"
    }
   ],
   "source": [
    "\n",
    "magic_land_colums[0]  #get magic_land_columns[0] index"
   ]
  },
  {
   "cell_type": "code",
   "execution_count": 755,
   "id": "6ab93bf8",
   "metadata": {},
   "outputs": [
    {
     "data": {
      "application/vnd.microsoft.datawrangler.viewer.v0+json": {
       "columns": [
        {
         "name": "index",
         "rawType": "object",
         "type": "string"
        },
        {
         "name": "Week",
         "rawType": "object",
         "type": "string"
        }
       ],
       "ref": "016bf0f6-e93f-4e64-b99f-72e8dc9e6235",
       "rows": [
        [
         "Day 1",
         "Monday"
        ],
        [
         "Day 2",
         "Tuesday"
        ],
        [
         "Day 3",
         "Wednesday"
        ],
        [
         "Day 4",
         "Thursday"
        ],
        [
         "Day 5",
         "Friday"
        ],
        [
         "Day 6",
         "Saturday"
        ],
        [
         "Day 7",
         "Sunday"
        ],
        [
         "Day 8",
         "Monday"
        ],
        [
         "Day 9",
         "Tuesday"
        ],
        [
         "Day 10",
         "Wednesday"
        ],
        [
         "Day 11",
         "Thursday"
        ],
        [
         "Day 12",
         "Friday"
        ],
        [
         "Day 13",
         "Saturday"
        ],
        [
         "Day 14",
         "Sunday"
        ],
        [
         "Day 15",
         "Monday"
        ],
        [
         "Day 16",
         "Tuesday"
        ],
        [
         "Day 17",
         "Wednesday"
        ],
        [
         "Day 18",
         "Thursday"
        ],
        [
         "Day 19",
         "Friday"
        ],
        [
         "Day 20",
         "Saturday"
        ],
        [
         "Day 21",
         "Sunday"
        ]
       ],
       "shape": {
        "columns": 1,
        "rows": 21
       }
      },
      "text/plain": [
       "Day 1        Monday\n",
       "Day 2       Tuesday\n",
       "Day 3     Wednesday\n",
       "Day 4      Thursday\n",
       "Day 5        Friday\n",
       "Day 6      Saturday\n",
       "Day 7        Sunday\n",
       "Day 8        Monday\n",
       "Day 9       Tuesday\n",
       "Day 10    Wednesday\n",
       "Day 11     Thursday\n",
       "Day 12       Friday\n",
       "Day 13     Saturday\n",
       "Day 14       Sunday\n",
       "Day 15       Monday\n",
       "Day 16      Tuesday\n",
       "Day 17    Wednesday\n",
       "Day 18     Thursday\n",
       "Day 19       Friday\n",
       "Day 20     Saturday\n",
       "Day 21       Sunday\n",
       "Name: Week, dtype: object"
      ]
     },
     "execution_count": 755,
     "metadata": {},
     "output_type": "execute_result"
    }
   ],
   "source": [
    "Week=read_land.loc[:,'Week']    #get the magic land all week\n",
    "WEEK=pd.Series(data=Week,index=[\"Day %d\"% (i+1) for i in range(0,21)],dtype=object,name=\"Week\") #see the day-week reference \n",
    "WEEK\n",
    "\n"
   ]
  },
  {
   "cell_type": "code",
   "execution_count": 756,
   "id": "d8e38124",
   "metadata": {},
   "outputs": [
    {
     "data": {
      "text/plain": [
       "array(['Monday', 'Tuesday', 'Wednesday', 'Thursday', 'Friday', 'Saturday',\n",
       "       'Sunday', 'Monday', 'Tuesday', 'Wednesday', 'Thursday', 'Friday',\n",
       "       'Saturday', 'Sunday', 'Monday', 'Tuesday', 'Wednesday', 'Thursday',\n",
       "       'Friday', 'Saturday', 'Sunday'], dtype=object)"
      ]
     },
     "execution_count": 756,
     "metadata": {},
     "output_type": "execute_result"
    }
   ],
   "source": [
    "magic_land_value=WEEK.values   #get magic land all week index data\n",
    "magic_land_value"
   ]
  },
  {
   "cell_type": "code",
   "execution_count": 757,
   "id": "9256be99",
   "metadata": {},
   "outputs": [
    {
     "data": {
      "text/plain": [
       "Index(['Day 1', 'Day 2', 'Day 3', 'Day 4', 'Day 5', 'Day 6', 'Day 7', 'Day 8',\n",
       "       'Day 9', 'Day 10', 'Day 11', 'Day 12', 'Day 13', 'Day 14', 'Day 15',\n",
       "       'Day 16', 'Day 17', 'Day 18', 'Day 19', 'Day 20', 'Day 21'],\n",
       "      dtype='object')"
      ]
     },
     "execution_count": 757,
     "metadata": {},
     "output_type": "execute_result"
    }
   ],
   "source": [
    "magic_land_index=WEEK.index  #get magic land all day index data\n",
    "magic_land_index\n"
   ]
  },
  {
   "cell_type": "code",
   "execution_count": 758,
   "id": "2e37df75",
   "metadata": {},
   "outputs": [
    {
     "data": {
      "text/plain": [
       "dtype('O')"
      ]
     },
     "execution_count": 758,
     "metadata": {},
     "output_type": "execute_result"
    }
   ],
   "source": [
    "magic_land_datatype=WEEK.dtype\n",
    "magic_land_datatype"
   ]
  },
  {
   "cell_type": "code",
   "execution_count": 759,
   "id": "aab4afee",
   "metadata": {},
   "outputs": [
    {
     "data": {
      "text/plain": [
       "'Week'"
      ]
     },
     "execution_count": 759,
     "metadata": {},
     "output_type": "execute_result"
    }
   ],
   "source": [
    "magic_land_name=WEEK.name\n",
    "magic_land_name"
   ]
  },
  {
   "cell_type": "code",
   "execution_count": 760,
   "id": "02bd0d5c",
   "metadata": {},
   "outputs": [
    {
     "data": {
      "text/plain": [
       "(21,)"
      ]
     },
     "execution_count": 760,
     "metadata": {},
     "output_type": "execute_result"
    }
   ],
   "source": [
    "magic_land_shape=WEEK.shape\n",
    "magic_land_shape"
   ]
  },
  {
   "cell_type": "code",
   "execution_count": 761,
   "id": "385c6498",
   "metadata": {},
   "outputs": [
    {
     "data": {
      "text/plain": [
       "'Monday'"
      ]
     },
     "execution_count": 761,
     "metadata": {},
     "output_type": "execute_result"
    }
   ],
   "source": [
    "WEEK[magic_land_index.tolist()[0]]   "
   ]
  },
  {
   "cell_type": "code",
   "execution_count": 762,
   "id": "7eff8921",
   "metadata": {},
   "outputs": [
    {
     "data": {
      "application/vnd.microsoft.datawrangler.viewer.v0+json": {
       "columns": [
        {
         "name": "index",
         "rawType": "object",
         "type": "string"
        },
        {
         "name": "Week",
         "rawType": "object",
         "type": "string"
        },
        {
         "name": "Weather",
         "rawType": "object",
         "type": "string"
        },
        {
         "name": "Temperature",
         "rawType": "float64",
         "type": "float"
        }
       ],
       "ref": "50a0d149-c64a-4677-ad90-d280305140c3",
       "rows": [
        [
         "Day 1",
         "Monday",
         "accumulation",
         "13.4"
        ],
        [
         "Day 2",
         "Tuesday",
         "breeze",
         "13.96"
        ],
        [
         "Day 3",
         "Wednesday",
         "calm",
         "14.21"
        ],
        [
         "Day 4",
         "Thursday",
         "disturbance",
         "14.49"
        ],
        [
         "Day 5",
         "Friday",
         "drizzle",
         "15.25"
        ],
        [
         "Day 6",
         "Saturday",
         "sunny",
         "15.56"
        ],
        [
         "Day 7",
         "Sunday",
         "fair",
         "16.1"
        ],
        [
         "Day 8",
         "Monday",
         "cloudy",
         "16.5"
        ],
        [
         "Day 9",
         "Tuesday",
         "showers",
         "16.2"
        ],
        [
         "Day 10",
         "Wednesday",
         "rain",
         "15.8"
        ],
        [
         "Day 11",
         "Thursday",
         "downpour",
         "15.52"
        ],
        [
         "Day 12",
         "Friday",
         "hail",
         "15.12"
        ],
        [
         "Day 13",
         "Saturday",
         "sleet",
         "14.14"
        ],
        [
         "Day 14",
         "Sunday",
         "snow",
         "13.31"
        ],
        [
         "Day 15",
         "Monday",
         "snowflake",
         "12.11"
        ],
        [
         "Day 16",
         "Tuesday",
         "gloomy",
         "11.48"
        ],
        [
         "Day 17",
         "Wednesday",
         "foggy",
         "11.96"
        ],
        [
         "Day 18",
         "Thursday",
         "overcast",
         "12.24"
        ],
        [
         "Day 19",
         "Friday",
         "clear",
         "12.89"
        ],
        [
         "Day 20",
         "Saturday",
         "blustery",
         "13.56"
        ],
        [
         "Day 21",
         "Sunday",
         "windy",
         "14.83"
        ]
       ],
       "shape": {
        "columns": 3,
        "rows": 21
       }
      },
      "text/html": [
       "<div>\n",
       "<style scoped>\n",
       "    .dataframe tbody tr th:only-of-type {\n",
       "        vertical-align: middle;\n",
       "    }\n",
       "\n",
       "    .dataframe tbody tr th {\n",
       "        vertical-align: top;\n",
       "    }\n",
       "\n",
       "    .dataframe thead th {\n",
       "        text-align: right;\n",
       "    }\n",
       "</style>\n",
       "<table border=\"1\" class=\"dataframe\">\n",
       "  <thead>\n",
       "    <tr style=\"text-align: right;\">\n",
       "      <th></th>\n",
       "      <th>Week</th>\n",
       "      <th>Weather</th>\n",
       "      <th>Temperature</th>\n",
       "    </tr>\n",
       "  </thead>\n",
       "  <tbody>\n",
       "    <tr>\n",
       "      <th>Day 1</th>\n",
       "      <td>Monday</td>\n",
       "      <td>accumulation</td>\n",
       "      <td>13.40</td>\n",
       "    </tr>\n",
       "    <tr>\n",
       "      <th>Day 2</th>\n",
       "      <td>Tuesday</td>\n",
       "      <td>breeze</td>\n",
       "      <td>13.96</td>\n",
       "    </tr>\n",
       "    <tr>\n",
       "      <th>Day 3</th>\n",
       "      <td>Wednesday</td>\n",
       "      <td>calm</td>\n",
       "      <td>14.21</td>\n",
       "    </tr>\n",
       "    <tr>\n",
       "      <th>Day 4</th>\n",
       "      <td>Thursday</td>\n",
       "      <td>disturbance</td>\n",
       "      <td>14.49</td>\n",
       "    </tr>\n",
       "    <tr>\n",
       "      <th>Day 5</th>\n",
       "      <td>Friday</td>\n",
       "      <td>drizzle</td>\n",
       "      <td>15.25</td>\n",
       "    </tr>\n",
       "    <tr>\n",
       "      <th>Day 6</th>\n",
       "      <td>Saturday</td>\n",
       "      <td>sunny</td>\n",
       "      <td>15.56</td>\n",
       "    </tr>\n",
       "    <tr>\n",
       "      <th>Day 7</th>\n",
       "      <td>Sunday</td>\n",
       "      <td>fair</td>\n",
       "      <td>16.10</td>\n",
       "    </tr>\n",
       "    <tr>\n",
       "      <th>Day 8</th>\n",
       "      <td>Monday</td>\n",
       "      <td>cloudy</td>\n",
       "      <td>16.50</td>\n",
       "    </tr>\n",
       "    <tr>\n",
       "      <th>Day 9</th>\n",
       "      <td>Tuesday</td>\n",
       "      <td>showers</td>\n",
       "      <td>16.20</td>\n",
       "    </tr>\n",
       "    <tr>\n",
       "      <th>Day 10</th>\n",
       "      <td>Wednesday</td>\n",
       "      <td>rain</td>\n",
       "      <td>15.80</td>\n",
       "    </tr>\n",
       "    <tr>\n",
       "      <th>Day 11</th>\n",
       "      <td>Thursday</td>\n",
       "      <td>downpour</td>\n",
       "      <td>15.52</td>\n",
       "    </tr>\n",
       "    <tr>\n",
       "      <th>Day 12</th>\n",
       "      <td>Friday</td>\n",
       "      <td>hail</td>\n",
       "      <td>15.12</td>\n",
       "    </tr>\n",
       "    <tr>\n",
       "      <th>Day 13</th>\n",
       "      <td>Saturday</td>\n",
       "      <td>sleet</td>\n",
       "      <td>14.14</td>\n",
       "    </tr>\n",
       "    <tr>\n",
       "      <th>Day 14</th>\n",
       "      <td>Sunday</td>\n",
       "      <td>snow</td>\n",
       "      <td>13.31</td>\n",
       "    </tr>\n",
       "    <tr>\n",
       "      <th>Day 15</th>\n",
       "      <td>Monday</td>\n",
       "      <td>snowflake</td>\n",
       "      <td>12.11</td>\n",
       "    </tr>\n",
       "    <tr>\n",
       "      <th>Day 16</th>\n",
       "      <td>Tuesday</td>\n",
       "      <td>gloomy</td>\n",
       "      <td>11.48</td>\n",
       "    </tr>\n",
       "    <tr>\n",
       "      <th>Day 17</th>\n",
       "      <td>Wednesday</td>\n",
       "      <td>foggy</td>\n",
       "      <td>11.96</td>\n",
       "    </tr>\n",
       "    <tr>\n",
       "      <th>Day 18</th>\n",
       "      <td>Thursday</td>\n",
       "      <td>overcast</td>\n",
       "      <td>12.24</td>\n",
       "    </tr>\n",
       "    <tr>\n",
       "      <th>Day 19</th>\n",
       "      <td>Friday</td>\n",
       "      <td>clear</td>\n",
       "      <td>12.89</td>\n",
       "    </tr>\n",
       "    <tr>\n",
       "      <th>Day 20</th>\n",
       "      <td>Saturday</td>\n",
       "      <td>blustery</td>\n",
       "      <td>13.56</td>\n",
       "    </tr>\n",
       "    <tr>\n",
       "      <th>Day 21</th>\n",
       "      <td>Sunday</td>\n",
       "      <td>windy</td>\n",
       "      <td>14.83</td>\n",
       "    </tr>\n",
       "  </tbody>\n",
       "</table>\n",
       "</div>"
      ],
      "text/plain": [
       "             Week       Weather  Temperature\n",
       "Day 1      Monday  accumulation        13.40\n",
       "Day 2     Tuesday        breeze        13.96\n",
       "Day 3   Wednesday          calm        14.21\n",
       "Day 4    Thursday   disturbance        14.49\n",
       "Day 5      Friday       drizzle        15.25\n",
       "Day 6    Saturday         sunny        15.56\n",
       "Day 7      Sunday          fair        16.10\n",
       "Day 8      Monday        cloudy        16.50\n",
       "Day 9     Tuesday       showers        16.20\n",
       "Day 10  Wednesday          rain        15.80\n",
       "Day 11   Thursday      downpour        15.52\n",
       "Day 12     Friday          hail        15.12\n",
       "Day 13   Saturday         sleet        14.14\n",
       "Day 14     Sunday          snow        13.31\n",
       "Day 15     Monday     snowflake        12.11\n",
       "Day 16    Tuesday        gloomy        11.48\n",
       "Day 17  Wednesday         foggy        11.96\n",
       "Day 18   Thursday      overcast        12.24\n",
       "Day 19     Friday         clear        12.89\n",
       "Day 20   Saturday      blustery        13.56\n",
       "Day 21     Sunday         windy        14.83"
      ]
     },
     "execution_count": 762,
     "metadata": {},
     "output_type": "execute_result"
    }
   ],
   "source": [
    "magic_land=pd.DataFrame(data=read_land)\n",
    "magic_land"
   ]
  },
  {
   "cell_type": "code",
   "execution_count": 763,
   "id": "f7bfcc3b",
   "metadata": {},
   "outputs": [
    {
     "data": {
      "application/vnd.microsoft.datawrangler.viewer.v0+json": {
       "columns": [
        {
         "name": "index",
         "rawType": "object",
         "type": "string"
        },
        {
         "name": "Week",
         "rawType": "object",
         "type": "string"
        },
        {
         "name": "Weather",
         "rawType": "object",
         "type": "string"
        }
       ],
       "ref": "70bd30e4-357d-4bb4-a6a6-d66c3458df93",
       "rows": [
        [
         "Day 1",
         "Monday",
         "accumulation"
        ],
        [
         "Day 2",
         "Tuesday",
         "breeze"
        ],
        [
         "Day 3",
         "Wednesday",
         "calm"
        ],
        [
         "Day 4",
         "Thursday",
         "disturbance"
        ],
        [
         "Day 5",
         "Friday",
         "drizzle"
        ],
        [
         "Day 6",
         "Saturday",
         "sunny"
        ],
        [
         "Day 7",
         "Sunday",
         "fair"
        ],
        [
         "Day 8",
         "Monday",
         "cloudy"
        ],
        [
         "Day 9",
         "Tuesday",
         "showers"
        ],
        [
         "Day 10",
         "Wednesday",
         "rain"
        ],
        [
         "Day 11",
         "Thursday",
         "downpour"
        ],
        [
         "Day 12",
         "Friday",
         "hail"
        ],
        [
         "Day 13",
         "Saturday",
         "sleet"
        ],
        [
         "Day 14",
         "Sunday",
         "snow"
        ],
        [
         "Day 15",
         "Monday",
         "snowflake"
        ],
        [
         "Day 16",
         "Tuesday",
         "gloomy"
        ],
        [
         "Day 17",
         "Wednesday",
         "foggy"
        ],
        [
         "Day 18",
         "Thursday",
         "overcast"
        ],
        [
         "Day 19",
         "Friday",
         "clear"
        ],
        [
         "Day 20",
         "Saturday",
         "blustery"
        ],
        [
         "Day 21",
         "Sunday",
         "windy"
        ]
       ],
       "shape": {
        "columns": 2,
        "rows": 21
       }
      },
      "text/html": [
       "<div>\n",
       "<style scoped>\n",
       "    .dataframe tbody tr th:only-of-type {\n",
       "        vertical-align: middle;\n",
       "    }\n",
       "\n",
       "    .dataframe tbody tr th {\n",
       "        vertical-align: top;\n",
       "    }\n",
       "\n",
       "    .dataframe thead th {\n",
       "        text-align: right;\n",
       "    }\n",
       "</style>\n",
       "<table border=\"1\" class=\"dataframe\">\n",
       "  <thead>\n",
       "    <tr style=\"text-align: right;\">\n",
       "      <th></th>\n",
       "      <th>Week</th>\n",
       "      <th>Weather</th>\n",
       "    </tr>\n",
       "  </thead>\n",
       "  <tbody>\n",
       "    <tr>\n",
       "      <th>Day 1</th>\n",
       "      <td>Monday</td>\n",
       "      <td>accumulation</td>\n",
       "    </tr>\n",
       "    <tr>\n",
       "      <th>Day 2</th>\n",
       "      <td>Tuesday</td>\n",
       "      <td>breeze</td>\n",
       "    </tr>\n",
       "    <tr>\n",
       "      <th>Day 3</th>\n",
       "      <td>Wednesday</td>\n",
       "      <td>calm</td>\n",
       "    </tr>\n",
       "    <tr>\n",
       "      <th>Day 4</th>\n",
       "      <td>Thursday</td>\n",
       "      <td>disturbance</td>\n",
       "    </tr>\n",
       "    <tr>\n",
       "      <th>Day 5</th>\n",
       "      <td>Friday</td>\n",
       "      <td>drizzle</td>\n",
       "    </tr>\n",
       "    <tr>\n",
       "      <th>Day 6</th>\n",
       "      <td>Saturday</td>\n",
       "      <td>sunny</td>\n",
       "    </tr>\n",
       "    <tr>\n",
       "      <th>Day 7</th>\n",
       "      <td>Sunday</td>\n",
       "      <td>fair</td>\n",
       "    </tr>\n",
       "    <tr>\n",
       "      <th>Day 8</th>\n",
       "      <td>Monday</td>\n",
       "      <td>cloudy</td>\n",
       "    </tr>\n",
       "    <tr>\n",
       "      <th>Day 9</th>\n",
       "      <td>Tuesday</td>\n",
       "      <td>showers</td>\n",
       "    </tr>\n",
       "    <tr>\n",
       "      <th>Day 10</th>\n",
       "      <td>Wednesday</td>\n",
       "      <td>rain</td>\n",
       "    </tr>\n",
       "    <tr>\n",
       "      <th>Day 11</th>\n",
       "      <td>Thursday</td>\n",
       "      <td>downpour</td>\n",
       "    </tr>\n",
       "    <tr>\n",
       "      <th>Day 12</th>\n",
       "      <td>Friday</td>\n",
       "      <td>hail</td>\n",
       "    </tr>\n",
       "    <tr>\n",
       "      <th>Day 13</th>\n",
       "      <td>Saturday</td>\n",
       "      <td>sleet</td>\n",
       "    </tr>\n",
       "    <tr>\n",
       "      <th>Day 14</th>\n",
       "      <td>Sunday</td>\n",
       "      <td>snow</td>\n",
       "    </tr>\n",
       "    <tr>\n",
       "      <th>Day 15</th>\n",
       "      <td>Monday</td>\n",
       "      <td>snowflake</td>\n",
       "    </tr>\n",
       "    <tr>\n",
       "      <th>Day 16</th>\n",
       "      <td>Tuesday</td>\n",
       "      <td>gloomy</td>\n",
       "    </tr>\n",
       "    <tr>\n",
       "      <th>Day 17</th>\n",
       "      <td>Wednesday</td>\n",
       "      <td>foggy</td>\n",
       "    </tr>\n",
       "    <tr>\n",
       "      <th>Day 18</th>\n",
       "      <td>Thursday</td>\n",
       "      <td>overcast</td>\n",
       "    </tr>\n",
       "    <tr>\n",
       "      <th>Day 19</th>\n",
       "      <td>Friday</td>\n",
       "      <td>clear</td>\n",
       "    </tr>\n",
       "    <tr>\n",
       "      <th>Day 20</th>\n",
       "      <td>Saturday</td>\n",
       "      <td>blustery</td>\n",
       "    </tr>\n",
       "    <tr>\n",
       "      <th>Day 21</th>\n",
       "      <td>Sunday</td>\n",
       "      <td>windy</td>\n",
       "    </tr>\n",
       "  </tbody>\n",
       "</table>\n",
       "</div>"
      ],
      "text/plain": [
       "             Week       Weather\n",
       "Day 1      Monday  accumulation\n",
       "Day 2     Tuesday        breeze\n",
       "Day 3   Wednesday          calm\n",
       "Day 4    Thursday   disturbance\n",
       "Day 5      Friday       drizzle\n",
       "Day 6    Saturday         sunny\n",
       "Day 7      Sunday          fair\n",
       "Day 8      Monday        cloudy\n",
       "Day 9     Tuesday       showers\n",
       "Day 10  Wednesday          rain\n",
       "Day 11   Thursday      downpour\n",
       "Day 12     Friday          hail\n",
       "Day 13   Saturday         sleet\n",
       "Day 14     Sunday          snow\n",
       "Day 15     Monday     snowflake\n",
       "Day 16    Tuesday        gloomy\n",
       "Day 17  Wednesday         foggy\n",
       "Day 18   Thursday      overcast\n",
       "Day 19     Friday         clear\n",
       "Day 20   Saturday      blustery\n",
       "Day 21     Sunday         windy"
      ]
     },
     "execution_count": 763,
     "metadata": {},
     "output_type": "execute_result"
    }
   ],
   "source": [
    "magic_land[[magic_land_colums[0],magic_land_colums[1]]] #select the Week and Weather data"
   ]
  },
  {
   "cell_type": "code",
   "execution_count": 764,
   "id": "103187a8",
   "metadata": {},
   "outputs": [
    {
     "data": {
      "text/plain": [
       "array([['Monday', 'accumulation', 13.4],\n",
       "       ['Tuesday', 'breeze', 13.96],\n",
       "       ['Wednesday', 'calm', 14.21],\n",
       "       ['Thursday', 'disturbance', 14.49],\n",
       "       ['Friday', 'drizzle', 15.25],\n",
       "       ['Saturday', 'sunny', 15.56],\n",
       "       ['Sunday', 'fair', 16.1],\n",
       "       ['Monday', 'cloudy', 16.5],\n",
       "       ['Tuesday', 'showers', 16.2],\n",
       "       ['Wednesday', 'rain', 15.8],\n",
       "       ['Thursday', 'downpour', 15.52],\n",
       "       ['Friday', 'hail', 15.12],\n",
       "       ['Saturday', 'sleet', 14.14],\n",
       "       ['Sunday', 'snow', 13.31],\n",
       "       ['Monday', 'snowflake', 12.11],\n",
       "       ['Tuesday', 'gloomy', 11.48],\n",
       "       ['Wednesday', 'foggy', 11.96],\n",
       "       ['Thursday', 'overcast', 12.24],\n",
       "       ['Friday', 'clear', 12.89],\n",
       "       ['Saturday', 'blustery', 13.56],\n",
       "       ['Sunday', 'windy', 14.83]], dtype=object)"
      ]
     },
     "execution_count": 764,
     "metadata": {},
     "output_type": "execute_result"
    }
   ],
   "source": [
    "magic_lands_value=magic_land.values\n",
    "magic_lands_value"
   ]
  },
  {
   "cell_type": "code",
   "execution_count": 765,
   "id": "b7924c06",
   "metadata": {},
   "outputs": [
    {
     "data": {
      "text/plain": [
       "Index(['Day 1', 'Day 2', 'Day 3', 'Day 4', 'Day 5', 'Day 6', 'Day 7', 'Day 8',\n",
       "       'Day 9', 'Day 10', 'Day 11', 'Day 12', 'Day 13', 'Day 14', 'Day 15',\n",
       "       'Day 16', 'Day 17', 'Day 18', 'Day 19', 'Day 20', 'Day 21'],\n",
       "      dtype='object')"
      ]
     },
     "execution_count": 765,
     "metadata": {},
     "output_type": "execute_result"
    }
   ],
   "source": [
    "magic_lands_index=magic_land.index\n",
    "magic_lands_index"
   ]
  },
  {
   "cell_type": "code",
   "execution_count": 766,
   "id": "7395501d",
   "metadata": {},
   "outputs": [
    {
     "data": {
      "text/plain": [
       "Index(['Week', 'Weather', 'Temperature'], dtype='object')"
      ]
     },
     "execution_count": 766,
     "metadata": {},
     "output_type": "execute_result"
    }
   ],
   "source": [
    "magic_lands_colums=magic_land.columns\n",
    "magic_lands_colums"
   ]
  },
  {
   "cell_type": "code",
   "execution_count": 767,
   "id": "485dfffb",
   "metadata": {},
   "outputs": [
    {
     "data": {
      "application/vnd.microsoft.datawrangler.viewer.v0+json": {
       "columns": [
        {
         "name": "index",
         "rawType": "object",
         "type": "string"
        },
        {
         "name": "0",
         "rawType": "object",
         "type": "unknown"
        }
       ],
       "ref": "65184649-d80c-479c-b62d-ac8b8ea4ac09",
       "rows": [
        [
         "Week",
         "object"
        ],
        [
         "Weather",
         "object"
        ],
        [
         "Temperature",
         "float64"
        ]
       ],
       "shape": {
        "columns": 1,
        "rows": 3
       }
      },
      "text/plain": [
       "Week            object\n",
       "Weather         object\n",
       "Temperature    float64\n",
       "dtype: object"
      ]
     },
     "execution_count": 767,
     "metadata": {},
     "output_type": "execute_result"
    }
   ],
   "source": [
    "magic_land.dtypes"
   ]
  },
  {
   "cell_type": "code",
   "execution_count": 768,
   "id": "5546d137",
   "metadata": {},
   "outputs": [
    {
     "data": {
      "text/plain": [
       "(21, 3)"
      ]
     },
     "execution_count": 768,
     "metadata": {},
     "output_type": "execute_result"
    }
   ],
   "source": [
    "magic_land.shape"
   ]
  },
  {
   "cell_type": "code",
   "execution_count": 769,
   "id": "cf6aa386",
   "metadata": {},
   "outputs": [
    {
     "data": {
      "application/vnd.microsoft.datawrangler.viewer.v0+json": {
       "columns": [
        {
         "name": "index",
         "rawType": "object",
         "type": "string"
        },
        {
         "name": "Day 1",
         "rawType": "object",
         "type": "unknown"
        },
        {
         "name": "Day 2",
         "rawType": "object",
         "type": "unknown"
        },
        {
         "name": "Day 3",
         "rawType": "object",
         "type": "unknown"
        },
        {
         "name": "Day 4",
         "rawType": "object",
         "type": "unknown"
        },
        {
         "name": "Day 5",
         "rawType": "object",
         "type": "unknown"
        },
        {
         "name": "Day 6",
         "rawType": "object",
         "type": "unknown"
        },
        {
         "name": "Day 7",
         "rawType": "object",
         "type": "unknown"
        },
        {
         "name": "Day 8",
         "rawType": "object",
         "type": "unknown"
        },
        {
         "name": "Day 9",
         "rawType": "object",
         "type": "unknown"
        },
        {
         "name": "Day 10",
         "rawType": "object",
         "type": "unknown"
        },
        {
         "name": "Day 11",
         "rawType": "object",
         "type": "unknown"
        },
        {
         "name": "Day 12",
         "rawType": "object",
         "type": "unknown"
        },
        {
         "name": "Day 13",
         "rawType": "object",
         "type": "unknown"
        },
        {
         "name": "Day 14",
         "rawType": "object",
         "type": "unknown"
        },
        {
         "name": "Day 15",
         "rawType": "object",
         "type": "unknown"
        },
        {
         "name": "Day 16",
         "rawType": "object",
         "type": "unknown"
        },
        {
         "name": "Day 17",
         "rawType": "object",
         "type": "unknown"
        },
        {
         "name": "Day 18",
         "rawType": "object",
         "type": "unknown"
        },
        {
         "name": "Day 19",
         "rawType": "object",
         "type": "unknown"
        },
        {
         "name": "Day 20",
         "rawType": "object",
         "type": "unknown"
        },
        {
         "name": "Day 21",
         "rawType": "object",
         "type": "unknown"
        }
       ],
       "ref": "4002de64-04cb-4bc9-a8c5-504f4dcd0c57",
       "rows": [
        [
         "Week",
         "Monday",
         "Tuesday",
         "Wednesday",
         "Thursday",
         "Friday",
         "Saturday",
         "Sunday",
         "Monday",
         "Tuesday",
         "Wednesday",
         "Thursday",
         "Friday",
         "Saturday",
         "Sunday",
         "Monday",
         "Tuesday",
         "Wednesday",
         "Thursday",
         "Friday",
         "Saturday",
         "Sunday"
        ],
        [
         "Weather",
         "accumulation",
         "breeze",
         "calm",
         "disturbance",
         "drizzle",
         "sunny",
         "fair",
         "cloudy",
         "showers",
         "rain",
         "downpour",
         "hail",
         "sleet",
         "snow",
         "snowflake",
         "gloomy",
         "foggy",
         "overcast",
         "clear",
         "blustery",
         "windy"
        ],
        [
         "Temperature",
         "13.4",
         "13.96",
         "14.21",
         "14.49",
         "15.25",
         "15.56",
         "16.1",
         "16.5",
         "16.2",
         "15.8",
         "15.52",
         "15.12",
         "14.14",
         "13.31",
         "12.11",
         "11.48",
         "11.96",
         "12.24",
         "12.89",
         "13.56",
         "14.83"
        ]
       ],
       "shape": {
        "columns": 21,
        "rows": 3
       }
      },
      "text/html": [
       "<div>\n",
       "<style scoped>\n",
       "    .dataframe tbody tr th:only-of-type {\n",
       "        vertical-align: middle;\n",
       "    }\n",
       "\n",
       "    .dataframe tbody tr th {\n",
       "        vertical-align: top;\n",
       "    }\n",
       "\n",
       "    .dataframe thead th {\n",
       "        text-align: right;\n",
       "    }\n",
       "</style>\n",
       "<table border=\"1\" class=\"dataframe\">\n",
       "  <thead>\n",
       "    <tr style=\"text-align: right;\">\n",
       "      <th></th>\n",
       "      <th>Day 1</th>\n",
       "      <th>Day 2</th>\n",
       "      <th>Day 3</th>\n",
       "      <th>Day 4</th>\n",
       "      <th>Day 5</th>\n",
       "      <th>Day 6</th>\n",
       "      <th>Day 7</th>\n",
       "      <th>Day 8</th>\n",
       "      <th>Day 9</th>\n",
       "      <th>Day 10</th>\n",
       "      <th>...</th>\n",
       "      <th>Day 12</th>\n",
       "      <th>Day 13</th>\n",
       "      <th>Day 14</th>\n",
       "      <th>Day 15</th>\n",
       "      <th>Day 16</th>\n",
       "      <th>Day 17</th>\n",
       "      <th>Day 18</th>\n",
       "      <th>Day 19</th>\n",
       "      <th>Day 20</th>\n",
       "      <th>Day 21</th>\n",
       "    </tr>\n",
       "  </thead>\n",
       "  <tbody>\n",
       "    <tr>\n",
       "      <th>Week</th>\n",
       "      <td>Monday</td>\n",
       "      <td>Tuesday</td>\n",
       "      <td>Wednesday</td>\n",
       "      <td>Thursday</td>\n",
       "      <td>Friday</td>\n",
       "      <td>Saturday</td>\n",
       "      <td>Sunday</td>\n",
       "      <td>Monday</td>\n",
       "      <td>Tuesday</td>\n",
       "      <td>Wednesday</td>\n",
       "      <td>...</td>\n",
       "      <td>Friday</td>\n",
       "      <td>Saturday</td>\n",
       "      <td>Sunday</td>\n",
       "      <td>Monday</td>\n",
       "      <td>Tuesday</td>\n",
       "      <td>Wednesday</td>\n",
       "      <td>Thursday</td>\n",
       "      <td>Friday</td>\n",
       "      <td>Saturday</td>\n",
       "      <td>Sunday</td>\n",
       "    </tr>\n",
       "    <tr>\n",
       "      <th>Weather</th>\n",
       "      <td>accumulation</td>\n",
       "      <td>breeze</td>\n",
       "      <td>calm</td>\n",
       "      <td>disturbance</td>\n",
       "      <td>drizzle</td>\n",
       "      <td>sunny</td>\n",
       "      <td>fair</td>\n",
       "      <td>cloudy</td>\n",
       "      <td>showers</td>\n",
       "      <td>rain</td>\n",
       "      <td>...</td>\n",
       "      <td>hail</td>\n",
       "      <td>sleet</td>\n",
       "      <td>snow</td>\n",
       "      <td>snowflake</td>\n",
       "      <td>gloomy</td>\n",
       "      <td>foggy</td>\n",
       "      <td>overcast</td>\n",
       "      <td>clear</td>\n",
       "      <td>blustery</td>\n",
       "      <td>windy</td>\n",
       "    </tr>\n",
       "    <tr>\n",
       "      <th>Temperature</th>\n",
       "      <td>13.4</td>\n",
       "      <td>13.96</td>\n",
       "      <td>14.21</td>\n",
       "      <td>14.49</td>\n",
       "      <td>15.25</td>\n",
       "      <td>15.56</td>\n",
       "      <td>16.1</td>\n",
       "      <td>16.5</td>\n",
       "      <td>16.2</td>\n",
       "      <td>15.8</td>\n",
       "      <td>...</td>\n",
       "      <td>15.12</td>\n",
       "      <td>14.14</td>\n",
       "      <td>13.31</td>\n",
       "      <td>12.11</td>\n",
       "      <td>11.48</td>\n",
       "      <td>11.96</td>\n",
       "      <td>12.24</td>\n",
       "      <td>12.89</td>\n",
       "      <td>13.56</td>\n",
       "      <td>14.83</td>\n",
       "    </tr>\n",
       "  </tbody>\n",
       "</table>\n",
       "<p>3 rows × 21 columns</p>\n",
       "</div>"
      ],
      "text/plain": [
       "                    Day 1    Day 2      Day 3        Day 4    Day 5     Day 6  \\\n",
       "Week               Monday  Tuesday  Wednesday     Thursday   Friday  Saturday   \n",
       "Weather      accumulation   breeze       calm  disturbance  drizzle     sunny   \n",
       "Temperature          13.4    13.96      14.21        14.49    15.25     15.56   \n",
       "\n",
       "              Day 7   Day 8    Day 9     Day 10  ...  Day 12    Day 13  \\\n",
       "Week         Sunday  Monday  Tuesday  Wednesday  ...  Friday  Saturday   \n",
       "Weather        fair  cloudy  showers       rain  ...    hail     sleet   \n",
       "Temperature    16.1    16.5     16.2       15.8  ...   15.12     14.14   \n",
       "\n",
       "             Day 14     Day 15   Day 16     Day 17    Day 18  Day 19  \\\n",
       "Week         Sunday     Monday  Tuesday  Wednesday  Thursday  Friday   \n",
       "Weather        snow  snowflake   gloomy      foggy  overcast   clear   \n",
       "Temperature   13.31      12.11    11.48      11.96     12.24   12.89   \n",
       "\n",
       "               Day 20  Day 21  \n",
       "Week         Saturday  Sunday  \n",
       "Weather      blustery   windy  \n",
       "Temperature     13.56   14.83  \n",
       "\n",
       "[3 rows x 21 columns]"
      ]
     },
     "execution_count": 769,
     "metadata": {},
     "output_type": "execute_result"
    }
   ],
   "source": [
    "magic_land.T"
   ]
  },
  {
   "cell_type": "code",
   "execution_count": 770,
   "id": "35176058",
   "metadata": {},
   "outputs": [
    {
     "data": {
      "text/plain": [
       "'Name'"
      ]
     },
     "execution_count": 770,
     "metadata": {},
     "output_type": "execute_result"
    }
   ],
   "source": [
    "learn_pd_data=pd.read_csv('learn_pandas.csv')  #it data for joyful-pandas address is  https://github.com/datawhalechina/joyful-pandas/blob/master/data/learn_pandas.csv\n",
    "learn_pd_data.columns[2]\n"
   ]
  },
  {
   "cell_type": "code",
   "execution_count": 771,
   "id": "a91cae6c",
   "metadata": {},
   "outputs": [],
   "source": [
    "def get_dataframe_column(iter:pd.DataFrame,choose_colums:int,end_columns:int|None):  #get any dataframe columns for any data\n",
    "    if  (choose_colums>len(iter.columns)) or (choose_colums<0):\n",
    "        raise ValueError(\"choose_colums is not in range\")\n",
    "    else:\n",
    "        return iter[iter.columns[choose_colums:end_columns]]"
   ]
  },
  {
   "cell_type": "code",
   "execution_count": 772,
   "id": "53324749",
   "metadata": {},
   "outputs": [
    {
     "data": {
      "application/vnd.microsoft.datawrangler.viewer.v0+json": {
       "columns": [
        {
         "name": "index",
         "rawType": "object",
         "type": "string"
        },
        {
         "name": "Week",
         "rawType": "object",
         "type": "string"
        },
        {
         "name": "Weather",
         "rawType": "object",
         "type": "string"
        }
       ],
       "ref": "be147d7c-da62-4a3a-b5fa-23f8b90c1301",
       "rows": [
        [
         "Day 1",
         "Monday",
         "accumulation"
        ],
        [
         "Day 2",
         "Tuesday",
         "breeze"
        ],
        [
         "Day 3",
         "Wednesday",
         "calm"
        ],
        [
         "Day 4",
         "Thursday",
         "disturbance"
        ],
        [
         "Day 5",
         "Friday",
         "drizzle"
        ],
        [
         "Day 6",
         "Saturday",
         "sunny"
        ],
        [
         "Day 7",
         "Sunday",
         "fair"
        ],
        [
         "Day 8",
         "Monday",
         "cloudy"
        ],
        [
         "Day 9",
         "Tuesday",
         "showers"
        ],
        [
         "Day 10",
         "Wednesday",
         "rain"
        ],
        [
         "Day 11",
         "Thursday",
         "downpour"
        ],
        [
         "Day 12",
         "Friday",
         "hail"
        ],
        [
         "Day 13",
         "Saturday",
         "sleet"
        ],
        [
         "Day 14",
         "Sunday",
         "snow"
        ],
        [
         "Day 15",
         "Monday",
         "snowflake"
        ],
        [
         "Day 16",
         "Tuesday",
         "gloomy"
        ],
        [
         "Day 17",
         "Wednesday",
         "foggy"
        ],
        [
         "Day 18",
         "Thursday",
         "overcast"
        ],
        [
         "Day 19",
         "Friday",
         "clear"
        ],
        [
         "Day 20",
         "Saturday",
         "blustery"
        ],
        [
         "Day 21",
         "Sunday",
         "windy"
        ]
       ],
       "shape": {
        "columns": 2,
        "rows": 21
       }
      },
      "text/html": [
       "<div>\n",
       "<style scoped>\n",
       "    .dataframe tbody tr th:only-of-type {\n",
       "        vertical-align: middle;\n",
       "    }\n",
       "\n",
       "    .dataframe tbody tr th {\n",
       "        vertical-align: top;\n",
       "    }\n",
       "\n",
       "    .dataframe thead th {\n",
       "        text-align: right;\n",
       "    }\n",
       "</style>\n",
       "<table border=\"1\" class=\"dataframe\">\n",
       "  <thead>\n",
       "    <tr style=\"text-align: right;\">\n",
       "      <th></th>\n",
       "      <th>Week</th>\n",
       "      <th>Weather</th>\n",
       "    </tr>\n",
       "  </thead>\n",
       "  <tbody>\n",
       "    <tr>\n",
       "      <th>Day 1</th>\n",
       "      <td>Monday</td>\n",
       "      <td>accumulation</td>\n",
       "    </tr>\n",
       "    <tr>\n",
       "      <th>Day 2</th>\n",
       "      <td>Tuesday</td>\n",
       "      <td>breeze</td>\n",
       "    </tr>\n",
       "    <tr>\n",
       "      <th>Day 3</th>\n",
       "      <td>Wednesday</td>\n",
       "      <td>calm</td>\n",
       "    </tr>\n",
       "    <tr>\n",
       "      <th>Day 4</th>\n",
       "      <td>Thursday</td>\n",
       "      <td>disturbance</td>\n",
       "    </tr>\n",
       "    <tr>\n",
       "      <th>Day 5</th>\n",
       "      <td>Friday</td>\n",
       "      <td>drizzle</td>\n",
       "    </tr>\n",
       "    <tr>\n",
       "      <th>Day 6</th>\n",
       "      <td>Saturday</td>\n",
       "      <td>sunny</td>\n",
       "    </tr>\n",
       "    <tr>\n",
       "      <th>Day 7</th>\n",
       "      <td>Sunday</td>\n",
       "      <td>fair</td>\n",
       "    </tr>\n",
       "    <tr>\n",
       "      <th>Day 8</th>\n",
       "      <td>Monday</td>\n",
       "      <td>cloudy</td>\n",
       "    </tr>\n",
       "    <tr>\n",
       "      <th>Day 9</th>\n",
       "      <td>Tuesday</td>\n",
       "      <td>showers</td>\n",
       "    </tr>\n",
       "    <tr>\n",
       "      <th>Day 10</th>\n",
       "      <td>Wednesday</td>\n",
       "      <td>rain</td>\n",
       "    </tr>\n",
       "    <tr>\n",
       "      <th>Day 11</th>\n",
       "      <td>Thursday</td>\n",
       "      <td>downpour</td>\n",
       "    </tr>\n",
       "    <tr>\n",
       "      <th>Day 12</th>\n",
       "      <td>Friday</td>\n",
       "      <td>hail</td>\n",
       "    </tr>\n",
       "    <tr>\n",
       "      <th>Day 13</th>\n",
       "      <td>Saturday</td>\n",
       "      <td>sleet</td>\n",
       "    </tr>\n",
       "    <tr>\n",
       "      <th>Day 14</th>\n",
       "      <td>Sunday</td>\n",
       "      <td>snow</td>\n",
       "    </tr>\n",
       "    <tr>\n",
       "      <th>Day 15</th>\n",
       "      <td>Monday</td>\n",
       "      <td>snowflake</td>\n",
       "    </tr>\n",
       "    <tr>\n",
       "      <th>Day 16</th>\n",
       "      <td>Tuesday</td>\n",
       "      <td>gloomy</td>\n",
       "    </tr>\n",
       "    <tr>\n",
       "      <th>Day 17</th>\n",
       "      <td>Wednesday</td>\n",
       "      <td>foggy</td>\n",
       "    </tr>\n",
       "    <tr>\n",
       "      <th>Day 18</th>\n",
       "      <td>Thursday</td>\n",
       "      <td>overcast</td>\n",
       "    </tr>\n",
       "    <tr>\n",
       "      <th>Day 19</th>\n",
       "      <td>Friday</td>\n",
       "      <td>clear</td>\n",
       "    </tr>\n",
       "    <tr>\n",
       "      <th>Day 20</th>\n",
       "      <td>Saturday</td>\n",
       "      <td>blustery</td>\n",
       "    </tr>\n",
       "    <tr>\n",
       "      <th>Day 21</th>\n",
       "      <td>Sunday</td>\n",
       "      <td>windy</td>\n",
       "    </tr>\n",
       "  </tbody>\n",
       "</table>\n",
       "</div>"
      ],
      "text/plain": [
       "             Week       Weather\n",
       "Day 1      Monday  accumulation\n",
       "Day 2     Tuesday        breeze\n",
       "Day 3   Wednesday          calm\n",
       "Day 4    Thursday   disturbance\n",
       "Day 5      Friday       drizzle\n",
       "Day 6    Saturday         sunny\n",
       "Day 7      Sunday          fair\n",
       "Day 8      Monday        cloudy\n",
       "Day 9     Tuesday       showers\n",
       "Day 10  Wednesday          rain\n",
       "Day 11   Thursday      downpour\n",
       "Day 12     Friday          hail\n",
       "Day 13   Saturday         sleet\n",
       "Day 14     Sunday          snow\n",
       "Day 15     Monday     snowflake\n",
       "Day 16    Tuesday        gloomy\n",
       "Day 17  Wednesday         foggy\n",
       "Day 18   Thursday      overcast\n",
       "Day 19     Friday         clear\n",
       "Day 20   Saturday      blustery\n",
       "Day 21     Sunday         windy"
      ]
     },
     "execution_count": 772,
     "metadata": {},
     "output_type": "execute_result"
    }
   ],
   "source": [
    "#magic_land[magic_lands_colums[:2]]\n",
    "get_dataframe_column(iter=magic_land,choose_colums=0,end_columns=2)"
   ]
  },
  {
   "cell_type": "code",
   "execution_count": 773,
   "id": "5b562cf9",
   "metadata": {},
   "outputs": [
    {
     "data": {
      "application/vnd.microsoft.datawrangler.viewer.v0+json": {
       "columns": [
        {
         "name": "index",
         "rawType": "int64",
         "type": "integer"
        },
        {
         "name": "Transfer",
         "rawType": "object",
         "type": "unknown"
        },
        {
         "name": "Test_Number",
         "rawType": "int64",
         "type": "integer"
        },
        {
         "name": "Test_Date",
         "rawType": "object",
         "type": "string"
        },
        {
         "name": "Time_Record",
         "rawType": "object",
         "type": "string"
        }
       ],
       "ref": "dd40c74b-a080-46e0-a527-86a6f718c163",
       "rows": [
        [
         "0",
         "N",
         "1",
         "2019/10/5",
         "0:04:34"
        ],
        [
         "1",
         "N",
         "1",
         "2019/9/4",
         "0:04:20"
        ],
        [
         "2",
         "N",
         "2",
         "2019/9/12",
         "0:05:22"
        ],
        [
         "3",
         "N",
         "2",
         "2020/1/3",
         "0:04:08"
        ],
        [
         "4",
         "N",
         "2",
         "2019/11/6",
         "0:05:22"
        ],
        [
         "5",
         "N",
         "1",
         "2019/10/31",
         "0:03:47"
        ],
        [
         "6",
         "N",
         "1",
         "2019/12/12",
         "0:03:53"
        ],
        [
         "7",
         "N",
         "1",
         "2019/9/3",
         "0:03:45"
        ],
        [
         "8",
         "N",
         "1",
         "2020/1/5",
         "0:05:13"
        ],
        [
         "9",
         "N",
         "3",
         "2019/10/5",
         "0:04:05"
        ],
        [
         "10",
         "N",
         "1",
         "2019/9/29",
         "0:05:16"
        ],
        [
         "11",
         "N",
         "2",
         "2019/9/16",
         "0:04:49"
        ],
        [
         "12",
         null,
         "2",
         "2019/10/20",
         "0:04:10"
        ],
        [
         "13",
         "N",
         "2",
         "2019/9/19",
         "0:05:29"
        ],
        [
         "14",
         "N",
         "1",
         "2019/12/29",
         "0:05:25"
        ],
        [
         "15",
         "N",
         "3",
         "2020/1/1",
         "0:05:25"
        ],
        [
         "16",
         "N",
         "1",
         "2019/9/11",
         "0:04:51"
        ],
        [
         "17",
         "N",
         "1",
         "2019/11/2",
         "0:04:53"
        ],
        [
         "18",
         "N",
         "2",
         "2019/11/4",
         "0:03:32"
        ],
        [
         "19",
         "N",
         "3",
         "2019/9/30",
         "0:03:36"
        ],
        [
         "20",
         "N",
         "1",
         "2019/10/5",
         "0:04:08"
        ],
        [
         "21",
         null,
         "1",
         "2020/1/2",
         "0:04:54"
        ],
        [
         "22",
         "N",
         "1",
         "2019/11/29",
         "0:05:01"
        ],
        [
         "23",
         "N",
         "1",
         "2019/12/5",
         "0:04:59"
        ],
        [
         "24",
         "N",
         "1",
         "2019/11/17",
         "0:04:32"
        ],
        [
         "25",
         "N",
         "1",
         "2019/11/19",
         "0:04:59"
        ],
        [
         "26",
         "N",
         "1",
         "2019/9/23",
         "0:03:34"
        ],
        [
         "27",
         "N",
         "1",
         "2019/12/11",
         "0:05:08"
        ],
        [
         "28",
         "N",
         "2",
         "2020/1/7",
         "0:05:24"
        ],
        [
         "29",
         "N",
         "2",
         "2020/1/3",
         "0:04:28"
        ],
        [
         "30",
         "N",
         "2",
         "2019/11/13",
         "0:04:54"
        ],
        [
         "31",
         "N",
         "1",
         "2019/12/20",
         "0:05:23"
        ],
        [
         "32",
         "N",
         "1",
         "2019/9/12",
         "0:04:58"
        ],
        [
         "33",
         "N",
         "3",
         "2019/11/5",
         "0:04:39"
        ],
        [
         "34",
         "N",
         "1",
         "2019/10/21",
         "0:04:32"
        ],
        [
         "35",
         "N",
         "2",
         "2019/10/8",
         "0:03:32"
        ],
        [
         "36",
         "Y",
         "1",
         "2019/12/10",
         "0:04:10"
        ],
        [
         "37",
         "N",
         "2",
         "2019/10/1",
         "0:05:23"
        ],
        [
         "38",
         "N",
         "3",
         "2020/1/7",
         "0:03:58"
        ],
        [
         "39",
         "N",
         "2",
         "2019/11/1",
         "0:03:39"
        ],
        [
         "40",
         "N",
         "1",
         "2019/10/7",
         "0:04:12"
        ],
        [
         "41",
         "N",
         "2",
         "2019/10/16",
         "0:03:58"
        ],
        [
         "42",
         "N",
         "1",
         "2019/9/13",
         "0:04:38"
        ],
        [
         "43",
         "Y",
         "1",
         "2019/12/30",
         "0:04:00"
        ],
        [
         "44",
         "N",
         "1",
         "2019/12/10",
         "0:04:13"
        ],
        [
         "45",
         "N",
         "1",
         "2019/11/28",
         "0:04:47"
        ],
        [
         "46",
         "N",
         "2",
         "2019/11/18",
         "0:04:59"
        ],
        [
         "47",
         "N",
         "2",
         "2019/9/14",
         "0:04:48"
        ],
        [
         "48",
         "N",
         "1",
         "2019/11/10",
         "0:03:44"
        ],
        [
         "49",
         "N",
         "2",
         "2019/10/16",
         "0:03:44"
        ]
       ],
       "shape": {
        "columns": 4,
        "rows": 200
       }
      },
      "text/html": [
       "<div>\n",
       "<style scoped>\n",
       "    .dataframe tbody tr th:only-of-type {\n",
       "        vertical-align: middle;\n",
       "    }\n",
       "\n",
       "    .dataframe tbody tr th {\n",
       "        vertical-align: top;\n",
       "    }\n",
       "\n",
       "    .dataframe thead th {\n",
       "        text-align: right;\n",
       "    }\n",
       "</style>\n",
       "<table border=\"1\" class=\"dataframe\">\n",
       "  <thead>\n",
       "    <tr style=\"text-align: right;\">\n",
       "      <th></th>\n",
       "      <th>Transfer</th>\n",
       "      <th>Test_Number</th>\n",
       "      <th>Test_Date</th>\n",
       "      <th>Time_Record</th>\n",
       "    </tr>\n",
       "  </thead>\n",
       "  <tbody>\n",
       "    <tr>\n",
       "      <th>0</th>\n",
       "      <td>N</td>\n",
       "      <td>1</td>\n",
       "      <td>2019/10/5</td>\n",
       "      <td>0:04:34</td>\n",
       "    </tr>\n",
       "    <tr>\n",
       "      <th>1</th>\n",
       "      <td>N</td>\n",
       "      <td>1</td>\n",
       "      <td>2019/9/4</td>\n",
       "      <td>0:04:20</td>\n",
       "    </tr>\n",
       "    <tr>\n",
       "      <th>2</th>\n",
       "      <td>N</td>\n",
       "      <td>2</td>\n",
       "      <td>2019/9/12</td>\n",
       "      <td>0:05:22</td>\n",
       "    </tr>\n",
       "    <tr>\n",
       "      <th>3</th>\n",
       "      <td>N</td>\n",
       "      <td>2</td>\n",
       "      <td>2020/1/3</td>\n",
       "      <td>0:04:08</td>\n",
       "    </tr>\n",
       "    <tr>\n",
       "      <th>4</th>\n",
       "      <td>N</td>\n",
       "      <td>2</td>\n",
       "      <td>2019/11/6</td>\n",
       "      <td>0:05:22</td>\n",
       "    </tr>\n",
       "    <tr>\n",
       "      <th>...</th>\n",
       "      <td>...</td>\n",
       "      <td>...</td>\n",
       "      <td>...</td>\n",
       "      <td>...</td>\n",
       "    </tr>\n",
       "    <tr>\n",
       "      <th>195</th>\n",
       "      <td>N</td>\n",
       "      <td>2</td>\n",
       "      <td>2019/10/17</td>\n",
       "      <td>0:04:31</td>\n",
       "    </tr>\n",
       "    <tr>\n",
       "      <th>196</th>\n",
       "      <td>N</td>\n",
       "      <td>3</td>\n",
       "      <td>2019/9/22</td>\n",
       "      <td>0:04:03</td>\n",
       "    </tr>\n",
       "    <tr>\n",
       "      <th>197</th>\n",
       "      <td>N</td>\n",
       "      <td>1</td>\n",
       "      <td>2020/1/5</td>\n",
       "      <td>0:04:48</td>\n",
       "    </tr>\n",
       "    <tr>\n",
       "      <th>198</th>\n",
       "      <td>N</td>\n",
       "      <td>2</td>\n",
       "      <td>2020/1/7</td>\n",
       "      <td>0:04:58</td>\n",
       "    </tr>\n",
       "    <tr>\n",
       "      <th>199</th>\n",
       "      <td>N</td>\n",
       "      <td>1</td>\n",
       "      <td>2019/11/6</td>\n",
       "      <td>0:05:05</td>\n",
       "    </tr>\n",
       "  </tbody>\n",
       "</table>\n",
       "<p>200 rows × 4 columns</p>\n",
       "</div>"
      ],
      "text/plain": [
       "    Transfer  Test_Number   Test_Date Time_Record\n",
       "0          N            1   2019/10/5     0:04:34\n",
       "1          N            1    2019/9/4     0:04:20\n",
       "2          N            2   2019/9/12     0:05:22\n",
       "3          N            2    2020/1/3     0:04:08\n",
       "4          N            2   2019/11/6     0:05:22\n",
       "..       ...          ...         ...         ...\n",
       "195        N            2  2019/10/17     0:04:31\n",
       "196        N            3   2019/9/22     0:04:03\n",
       "197        N            1    2020/1/5     0:04:48\n",
       "198        N            2    2020/1/7     0:04:58\n",
       "199        N            1   2019/11/6     0:05:05\n",
       "\n",
       "[200 rows x 4 columns]"
      ]
     },
     "execution_count": 773,
     "metadata": {},
     "output_type": "execute_result"
    }
   ],
   "source": [
    "get_dataframe_column(iter=learn_pd_data,choose_colums=6,end_columns=10)"
   ]
  },
  {
   "cell_type": "code",
   "execution_count": 774,
   "id": "bc446697",
   "metadata": {},
   "outputs": [
    {
     "data": {
      "application/vnd.microsoft.datawrangler.viewer.v0+json": {
       "columns": [
        {
         "name": "index",
         "rawType": "object",
         "type": "string"
        },
        {
         "name": "Week",
         "rawType": "object",
         "type": "string"
        },
        {
         "name": "Weather",
         "rawType": "object",
         "type": "string"
        },
        {
         "name": "Temperature",
         "rawType": "float64",
         "type": "float"
        }
       ],
       "ref": "c4d5a6b2-e843-43d8-9743-e9baf2c2f9cb",
       "rows": [
        [
         "Day 1",
         "Monday",
         "accumulation",
         "13.4"
        ],
        [
         "Day 2",
         "Tuesday",
         "breeze",
         "13.96"
        ],
        [
         "Day 3",
         "Wednesday",
         "calm",
         "14.21"
        ]
       ],
       "shape": {
        "columns": 3,
        "rows": 3
       }
      },
      "text/html": [
       "<div>\n",
       "<style scoped>\n",
       "    .dataframe tbody tr th:only-of-type {\n",
       "        vertical-align: middle;\n",
       "    }\n",
       "\n",
       "    .dataframe tbody tr th {\n",
       "        vertical-align: top;\n",
       "    }\n",
       "\n",
       "    .dataframe thead th {\n",
       "        text-align: right;\n",
       "    }\n",
       "</style>\n",
       "<table border=\"1\" class=\"dataframe\">\n",
       "  <thead>\n",
       "    <tr style=\"text-align: right;\">\n",
       "      <th></th>\n",
       "      <th>Week</th>\n",
       "      <th>Weather</th>\n",
       "      <th>Temperature</th>\n",
       "    </tr>\n",
       "  </thead>\n",
       "  <tbody>\n",
       "    <tr>\n",
       "      <th>Day 1</th>\n",
       "      <td>Monday</td>\n",
       "      <td>accumulation</td>\n",
       "      <td>13.40</td>\n",
       "    </tr>\n",
       "    <tr>\n",
       "      <th>Day 2</th>\n",
       "      <td>Tuesday</td>\n",
       "      <td>breeze</td>\n",
       "      <td>13.96</td>\n",
       "    </tr>\n",
       "    <tr>\n",
       "      <th>Day 3</th>\n",
       "      <td>Wednesday</td>\n",
       "      <td>calm</td>\n",
       "      <td>14.21</td>\n",
       "    </tr>\n",
       "  </tbody>\n",
       "</table>\n",
       "</div>"
      ],
      "text/plain": [
       "            Week       Weather  Temperature\n",
       "Day 1     Monday  accumulation        13.40\n",
       "Day 2    Tuesday        breeze        13.96\n",
       "Day 3  Wednesday          calm        14.21"
      ]
     },
     "execution_count": 774,
     "metadata": {},
     "output_type": "execute_result"
    }
   ],
   "source": [
    "magic_land.head(3)"
   ]
  },
  {
   "cell_type": "code",
   "execution_count": 775,
   "id": "78426c95",
   "metadata": {},
   "outputs": [
    {
     "data": {
      "application/vnd.microsoft.datawrangler.viewer.v0+json": {
       "columns": [
        {
         "name": "index",
         "rawType": "int64",
         "type": "integer"
        },
        {
         "name": "School",
         "rawType": "object",
         "type": "string"
        },
        {
         "name": "Grade",
         "rawType": "object",
         "type": "string"
        },
        {
         "name": "Name",
         "rawType": "object",
         "type": "string"
        },
        {
         "name": "Gender",
         "rawType": "object",
         "type": "string"
        },
        {
         "name": "Height",
         "rawType": "float64",
         "type": "float"
        },
        {
         "name": "Weight",
         "rawType": "float64",
         "type": "float"
        },
        {
         "name": "Transfer",
         "rawType": "object",
         "type": "string"
        },
        {
         "name": "Test_Number",
         "rawType": "int64",
         "type": "integer"
        },
        {
         "name": "Test_Date",
         "rawType": "object",
         "type": "string"
        },
        {
         "name": "Time_Record",
         "rawType": "object",
         "type": "string"
        }
       ],
       "ref": "2fc265b3-4f33-4432-8213-6b9e4c271df1",
       "rows": [
        [
         "0",
         "Shanghai Jiao Tong University",
         "Freshman",
         "Gaopeng Yang",
         "Female",
         "158.9",
         "46.0",
         "N",
         "1",
         "2019/10/5",
         "0:04:34"
        ],
        [
         "1",
         "Peking University",
         "Freshman",
         "Changqiang You",
         "Male",
         "166.5",
         "70.0",
         "N",
         "1",
         "2019/9/4",
         "0:04:20"
        ],
        [
         "2",
         "Shanghai Jiao Tong University",
         "Senior",
         "Mei Sun",
         "Male",
         "188.9",
         "89.0",
         "N",
         "2",
         "2019/9/12",
         "0:05:22"
        ]
       ],
       "shape": {
        "columns": 10,
        "rows": 3
       }
      },
      "text/html": [
       "<div>\n",
       "<style scoped>\n",
       "    .dataframe tbody tr th:only-of-type {\n",
       "        vertical-align: middle;\n",
       "    }\n",
       "\n",
       "    .dataframe tbody tr th {\n",
       "        vertical-align: top;\n",
       "    }\n",
       "\n",
       "    .dataframe thead th {\n",
       "        text-align: right;\n",
       "    }\n",
       "</style>\n",
       "<table border=\"1\" class=\"dataframe\">\n",
       "  <thead>\n",
       "    <tr style=\"text-align: right;\">\n",
       "      <th></th>\n",
       "      <th>School</th>\n",
       "      <th>Grade</th>\n",
       "      <th>Name</th>\n",
       "      <th>Gender</th>\n",
       "      <th>Height</th>\n",
       "      <th>Weight</th>\n",
       "      <th>Transfer</th>\n",
       "      <th>Test_Number</th>\n",
       "      <th>Test_Date</th>\n",
       "      <th>Time_Record</th>\n",
       "    </tr>\n",
       "  </thead>\n",
       "  <tbody>\n",
       "    <tr>\n",
       "      <th>0</th>\n",
       "      <td>Shanghai Jiao Tong University</td>\n",
       "      <td>Freshman</td>\n",
       "      <td>Gaopeng Yang</td>\n",
       "      <td>Female</td>\n",
       "      <td>158.9</td>\n",
       "      <td>46.0</td>\n",
       "      <td>N</td>\n",
       "      <td>1</td>\n",
       "      <td>2019/10/5</td>\n",
       "      <td>0:04:34</td>\n",
       "    </tr>\n",
       "    <tr>\n",
       "      <th>1</th>\n",
       "      <td>Peking University</td>\n",
       "      <td>Freshman</td>\n",
       "      <td>Changqiang You</td>\n",
       "      <td>Male</td>\n",
       "      <td>166.5</td>\n",
       "      <td>70.0</td>\n",
       "      <td>N</td>\n",
       "      <td>1</td>\n",
       "      <td>2019/9/4</td>\n",
       "      <td>0:04:20</td>\n",
       "    </tr>\n",
       "    <tr>\n",
       "      <th>2</th>\n",
       "      <td>Shanghai Jiao Tong University</td>\n",
       "      <td>Senior</td>\n",
       "      <td>Mei Sun</td>\n",
       "      <td>Male</td>\n",
       "      <td>188.9</td>\n",
       "      <td>89.0</td>\n",
       "      <td>N</td>\n",
       "      <td>2</td>\n",
       "      <td>2019/9/12</td>\n",
       "      <td>0:05:22</td>\n",
       "    </tr>\n",
       "  </tbody>\n",
       "</table>\n",
       "</div>"
      ],
      "text/plain": [
       "                          School     Grade            Name  Gender  Height  \\\n",
       "0  Shanghai Jiao Tong University  Freshman    Gaopeng Yang  Female   158.9   \n",
       "1              Peking University  Freshman  Changqiang You    Male   166.5   \n",
       "2  Shanghai Jiao Tong University    Senior         Mei Sun    Male   188.9   \n",
       "\n",
       "   Weight Transfer  Test_Number  Test_Date Time_Record  \n",
       "0    46.0        N            1  2019/10/5     0:04:34  \n",
       "1    70.0        N            1   2019/9/4     0:04:20  \n",
       "2    89.0        N            2  2019/9/12     0:05:22  "
      ]
     },
     "execution_count": 775,
     "metadata": {},
     "output_type": "execute_result"
    }
   ],
   "source": [
    "learn_pd_data.head(3)"
   ]
  },
  {
   "cell_type": "code",
   "execution_count": 776,
   "id": "ce0d1b7b",
   "metadata": {},
   "outputs": [
    {
     "data": {
      "application/vnd.microsoft.datawrangler.viewer.v0+json": {
       "columns": [
        {
         "name": "index",
         "rawType": "object",
         "type": "string"
        },
        {
         "name": "Week",
         "rawType": "object",
         "type": "string"
        },
        {
         "name": "Weather",
         "rawType": "object",
         "type": "string"
        },
        {
         "name": "Temperature",
         "rawType": "float64",
         "type": "float"
        }
       ],
       "ref": "0eb87b04-8d0c-4be9-aa07-9b3aa2c39d70",
       "rows": [
        [
         "Day 19",
         "Friday",
         "clear",
         "12.89"
        ],
        [
         "Day 20",
         "Saturday",
         "blustery",
         "13.56"
        ],
        [
         "Day 21",
         "Sunday",
         "windy",
         "14.83"
        ]
       ],
       "shape": {
        "columns": 3,
        "rows": 3
       }
      },
      "text/html": [
       "<div>\n",
       "<style scoped>\n",
       "    .dataframe tbody tr th:only-of-type {\n",
       "        vertical-align: middle;\n",
       "    }\n",
       "\n",
       "    .dataframe tbody tr th {\n",
       "        vertical-align: top;\n",
       "    }\n",
       "\n",
       "    .dataframe thead th {\n",
       "        text-align: right;\n",
       "    }\n",
       "</style>\n",
       "<table border=\"1\" class=\"dataframe\">\n",
       "  <thead>\n",
       "    <tr style=\"text-align: right;\">\n",
       "      <th></th>\n",
       "      <th>Week</th>\n",
       "      <th>Weather</th>\n",
       "      <th>Temperature</th>\n",
       "    </tr>\n",
       "  </thead>\n",
       "  <tbody>\n",
       "    <tr>\n",
       "      <th>Day 19</th>\n",
       "      <td>Friday</td>\n",
       "      <td>clear</td>\n",
       "      <td>12.89</td>\n",
       "    </tr>\n",
       "    <tr>\n",
       "      <th>Day 20</th>\n",
       "      <td>Saturday</td>\n",
       "      <td>blustery</td>\n",
       "      <td>13.56</td>\n",
       "    </tr>\n",
       "    <tr>\n",
       "      <th>Day 21</th>\n",
       "      <td>Sunday</td>\n",
       "      <td>windy</td>\n",
       "      <td>14.83</td>\n",
       "    </tr>\n",
       "  </tbody>\n",
       "</table>\n",
       "</div>"
      ],
      "text/plain": [
       "            Week   Weather  Temperature\n",
       "Day 19    Friday     clear        12.89\n",
       "Day 20  Saturday  blustery        13.56\n",
       "Day 21    Sunday     windy        14.83"
      ]
     },
     "execution_count": 776,
     "metadata": {},
     "output_type": "execute_result"
    }
   ],
   "source": [
    "magic_land.tail(3)"
   ]
  },
  {
   "cell_type": "code",
   "execution_count": 777,
   "id": "f208828f",
   "metadata": {},
   "outputs": [
    {
     "data": {
      "application/vnd.microsoft.datawrangler.viewer.v0+json": {
       "columns": [
        {
         "name": "index",
         "rawType": "int64",
         "type": "integer"
        },
        {
         "name": "School",
         "rawType": "object",
         "type": "string"
        }
       ],
       "ref": "5541c754-6f21-47b1-aa7f-4fbf8a174710",
       "rows": [
        [
         "197",
         "Shanghai Jiao Tong University"
        ],
        [
         "198",
         "Shanghai Jiao Tong University"
        ],
        [
         "199",
         "Tsinghua University"
        ]
       ],
       "shape": {
        "columns": 1,
        "rows": 3
       }
      },
      "text/plain": [
       "197    Shanghai Jiao Tong University\n",
       "198    Shanghai Jiao Tong University\n",
       "199              Tsinghua University\n",
       "Name: School, dtype: object"
      ]
     },
     "execution_count": 777,
     "metadata": {},
     "output_type": "execute_result"
    }
   ],
   "source": [
    "learn_pd_data[learn_pd_data.columns[0]].tail(3)"
   ]
  },
  {
   "cell_type": "code",
   "execution_count": 778,
   "id": "34d9188a",
   "metadata": {},
   "outputs": [
    {
     "name": "stdout",
     "output_type": "stream",
     "text": [
      "<class 'pandas.core.frame.DataFrame'>\n",
      "RangeIndex: 200 entries, 0 to 199\n",
      "Data columns (total 10 columns):\n",
      " #   Column       Non-Null Count  Dtype  \n",
      "---  ------       --------------  -----  \n",
      " 0   School       200 non-null    object \n",
      " 1   Grade        200 non-null    object \n",
      " 2   Name         200 non-null    object \n",
      " 3   Gender       200 non-null    object \n",
      " 4   Height       183 non-null    float64\n",
      " 5   Weight       189 non-null    float64\n",
      " 6   Transfer     188 non-null    object \n",
      " 7   Test_Number  200 non-null    int64  \n",
      " 8   Test_Date    200 non-null    object \n",
      " 9   Time_Record  200 non-null    object \n",
      "dtypes: float64(2), int64(1), object(7)\n",
      "memory usage: 15.8+ KB\n"
     ]
    }
   ],
   "source": [
    "learn_pd_data.info()"
   ]
  },
  {
   "cell_type": "code",
   "execution_count": 779,
   "id": "2e4e304c",
   "metadata": {},
   "outputs": [
    {
     "name": "stdout",
     "output_type": "stream",
     "text": [
      "<class 'pandas.core.frame.DataFrame'>\n",
      "Index: 21 entries, Day 1 to Day 21\n",
      "Data columns (total 3 columns):\n",
      " #   Column       Non-Null Count  Dtype  \n",
      "---  ------       --------------  -----  \n",
      " 0   Week         21 non-null     object \n",
      " 1   Weather      21 non-null     object \n",
      " 2   Temperature  21 non-null     float64\n",
      "dtypes: float64(1), object(2)\n",
      "memory usage: 1.2+ KB\n"
     ]
    }
   ],
   "source": [
    "magic_land.info()"
   ]
  },
  {
   "cell_type": "code",
   "execution_count": 780,
   "id": "80e4b3c3",
   "metadata": {},
   "outputs": [
    {
     "data": {
      "application/vnd.microsoft.datawrangler.viewer.v0+json": {
       "columns": [
        {
         "name": "index",
         "rawType": "object",
         "type": "string"
        },
        {
         "name": "Temperature",
         "rawType": "float64",
         "type": "float"
        }
       ],
       "ref": "53e330aa-440d-4311-96d5-e0cf036bc561",
       "rows": [
        [
         "count",
         "21.0"
        ],
        [
         "mean",
         "14.220476190476191"
        ],
        [
         "std",
         "1.511917577748457"
        ],
        [
         "min",
         "11.48"
        ],
        [
         "25%",
         "13.31"
        ],
        [
         "50%",
         "14.21"
        ],
        [
         "75%",
         "15.52"
        ],
        [
         "max",
         "16.5"
        ]
       ],
       "shape": {
        "columns": 1,
        "rows": 8
       }
      },
      "text/html": [
       "<div>\n",
       "<style scoped>\n",
       "    .dataframe tbody tr th:only-of-type {\n",
       "        vertical-align: middle;\n",
       "    }\n",
       "\n",
       "    .dataframe tbody tr th {\n",
       "        vertical-align: top;\n",
       "    }\n",
       "\n",
       "    .dataframe thead th {\n",
       "        text-align: right;\n",
       "    }\n",
       "</style>\n",
       "<table border=\"1\" class=\"dataframe\">\n",
       "  <thead>\n",
       "    <tr style=\"text-align: right;\">\n",
       "      <th></th>\n",
       "      <th>Temperature</th>\n",
       "    </tr>\n",
       "  </thead>\n",
       "  <tbody>\n",
       "    <tr>\n",
       "      <th>count</th>\n",
       "      <td>21.000000</td>\n",
       "    </tr>\n",
       "    <tr>\n",
       "      <th>mean</th>\n",
       "      <td>14.220476</td>\n",
       "    </tr>\n",
       "    <tr>\n",
       "      <th>std</th>\n",
       "      <td>1.511918</td>\n",
       "    </tr>\n",
       "    <tr>\n",
       "      <th>min</th>\n",
       "      <td>11.480000</td>\n",
       "    </tr>\n",
       "    <tr>\n",
       "      <th>25%</th>\n",
       "      <td>13.310000</td>\n",
       "    </tr>\n",
       "    <tr>\n",
       "      <th>50%</th>\n",
       "      <td>14.210000</td>\n",
       "    </tr>\n",
       "    <tr>\n",
       "      <th>75%</th>\n",
       "      <td>15.520000</td>\n",
       "    </tr>\n",
       "    <tr>\n",
       "      <th>max</th>\n",
       "      <td>16.500000</td>\n",
       "    </tr>\n",
       "  </tbody>\n",
       "</table>\n",
       "</div>"
      ],
      "text/plain": [
       "       Temperature\n",
       "count    21.000000\n",
       "mean     14.220476\n",
       "std       1.511918\n",
       "min      11.480000\n",
       "25%      13.310000\n",
       "50%      14.210000\n",
       "75%      15.520000\n",
       "max      16.500000"
      ]
     },
     "execution_count": 780,
     "metadata": {},
     "output_type": "execute_result"
    }
   ],
   "source": [
    "magic_land.describe()"
   ]
  },
  {
   "cell_type": "code",
   "execution_count": 781,
   "id": "fe92c0ef",
   "metadata": {},
   "outputs": [
    {
     "data": {
      "application/vnd.microsoft.datawrangler.viewer.v0+json": {
       "columns": [
        {
         "name": "index",
         "rawType": "object",
         "type": "string"
        },
        {
         "name": "Height",
         "rawType": "float64",
         "type": "float"
        },
        {
         "name": "Weight",
         "rawType": "float64",
         "type": "float"
        },
        {
         "name": "Test_Number",
         "rawType": "float64",
         "type": "float"
        }
       ],
       "ref": "97429384-276d-4915-a838-ed4e4cdc9945",
       "rows": [
        [
         "count",
         "183.0",
         "189.0",
         "200.0"
        ],
        [
         "mean",
         "163.21803278688526",
         "55.01587301587302",
         "1.645"
        ],
        [
         "std",
         "8.608879421853812",
         "12.824293846627201",
         "0.7222069748852226"
        ],
        [
         "min",
         "145.4",
         "34.0",
         "1.0"
        ],
        [
         "25%",
         "157.15",
         "46.0",
         "1.0"
        ],
        [
         "50%",
         "161.9",
         "51.0",
         "1.5"
        ],
        [
         "75%",
         "167.5",
         "65.0",
         "2.0"
        ],
        [
         "max",
         "193.9",
         "89.0",
         "3.0"
        ]
       ],
       "shape": {
        "columns": 3,
        "rows": 8
       }
      },
      "text/html": [
       "<div>\n",
       "<style scoped>\n",
       "    .dataframe tbody tr th:only-of-type {\n",
       "        vertical-align: middle;\n",
       "    }\n",
       "\n",
       "    .dataframe tbody tr th {\n",
       "        vertical-align: top;\n",
       "    }\n",
       "\n",
       "    .dataframe thead th {\n",
       "        text-align: right;\n",
       "    }\n",
       "</style>\n",
       "<table border=\"1\" class=\"dataframe\">\n",
       "  <thead>\n",
       "    <tr style=\"text-align: right;\">\n",
       "      <th></th>\n",
       "      <th>Height</th>\n",
       "      <th>Weight</th>\n",
       "      <th>Test_Number</th>\n",
       "    </tr>\n",
       "  </thead>\n",
       "  <tbody>\n",
       "    <tr>\n",
       "      <th>count</th>\n",
       "      <td>183.000000</td>\n",
       "      <td>189.000000</td>\n",
       "      <td>200.000000</td>\n",
       "    </tr>\n",
       "    <tr>\n",
       "      <th>mean</th>\n",
       "      <td>163.218033</td>\n",
       "      <td>55.015873</td>\n",
       "      <td>1.645000</td>\n",
       "    </tr>\n",
       "    <tr>\n",
       "      <th>std</th>\n",
       "      <td>8.608879</td>\n",
       "      <td>12.824294</td>\n",
       "      <td>0.722207</td>\n",
       "    </tr>\n",
       "    <tr>\n",
       "      <th>min</th>\n",
       "      <td>145.400000</td>\n",
       "      <td>34.000000</td>\n",
       "      <td>1.000000</td>\n",
       "    </tr>\n",
       "    <tr>\n",
       "      <th>25%</th>\n",
       "      <td>157.150000</td>\n",
       "      <td>46.000000</td>\n",
       "      <td>1.000000</td>\n",
       "    </tr>\n",
       "    <tr>\n",
       "      <th>50%</th>\n",
       "      <td>161.900000</td>\n",
       "      <td>51.000000</td>\n",
       "      <td>1.500000</td>\n",
       "    </tr>\n",
       "    <tr>\n",
       "      <th>75%</th>\n",
       "      <td>167.500000</td>\n",
       "      <td>65.000000</td>\n",
       "      <td>2.000000</td>\n",
       "    </tr>\n",
       "    <tr>\n",
       "      <th>max</th>\n",
       "      <td>193.900000</td>\n",
       "      <td>89.000000</td>\n",
       "      <td>3.000000</td>\n",
       "    </tr>\n",
       "  </tbody>\n",
       "</table>\n",
       "</div>"
      ],
      "text/plain": [
       "           Height      Weight  Test_Number\n",
       "count  183.000000  189.000000   200.000000\n",
       "mean   163.218033   55.015873     1.645000\n",
       "std      8.608879   12.824294     0.722207\n",
       "min    145.400000   34.000000     1.000000\n",
       "25%    157.150000   46.000000     1.000000\n",
       "50%    161.900000   51.000000     1.500000\n",
       "75%    167.500000   65.000000     2.000000\n",
       "max    193.900000   89.000000     3.000000"
      ]
     },
     "execution_count": 781,
     "metadata": {},
     "output_type": "execute_result"
    }
   ],
   "source": [
    "learn_pd_data.describe()"
   ]
  },
  {
   "cell_type": "code",
   "execution_count": 782,
   "id": "edaf90aa",
   "metadata": {},
   "outputs": [
    {
     "name": "stdout",
     "output_type": "stream",
     "text": [
      "<class 'numpy.dtypes.ObjectDType'>\n"
     ]
    },
    {
     "data": {
      "text/plain": [
       "pandas.core.series.Series"
      ]
     },
     "execution_count": 782,
     "metadata": {},
     "output_type": "execute_result"
    }
   ],
   "source": [
    "objects=(type(magic_land[magic_lands_colums[0]].dtypes))\n",
    "print(objects)\n",
    "type(magic_land[magic_land_colums[2]])\n",
    "   "
   ]
  },
  {
   "cell_type": "code",
   "execution_count": 783,
   "id": "82b48729",
   "metadata": {},
   "outputs": [],
   "source": [
    "def feature_statistics(data:pd.DataFrame,index:list,feature:str):\n",
    "     data_feature=data[index]\n",
    "     for index in data_feature.columns:\n",
    "      if (type(data_feature[index].dtypes)!=objects) :\n",
    "       match feature:\n",
    "         case \"mean\":\n",
    "          return data_feature.mean(axis=1)       #get any dataframe feature for any data\n",
    "         \n",
    "         case \"median\":                         \n",
    "          return data_feature.median(axis=1)\n",
    "         case \"max\":\n",
    "             return data_feature.max()\n",
    "         case \"min\":\n",
    "             return data_feature.min()\n",
    "         case \"std\":\n",
    "          return data_feature.std()\n",
    "         case \"var\":\n",
    "          return data_feature.var()\n",
    "         case 'quantile':\n",
    "          return data_feature.quantile(q=0.25,axis=1)\n",
    "         case \"count\":\n",
    "          return data_feature.count()\n",
    "         case \"idxmax\":\n",
    "          return data_feature.idxmax()\n",
    "         case _:\n",
    "           return(\"not support feature\")\n",
    "         \n",
    "      else:raise TypeError(\"not support dtype is object\")\n",
    "     "
   ]
  },
  {
   "cell_type": "code",
   "execution_count": 784,
   "id": "9e7c8f08",
   "metadata": {},
   "outputs": [
    {
     "data": {
      "application/vnd.microsoft.datawrangler.viewer.v0+json": {
       "columns": [
        {
         "name": "index",
         "rawType": "object",
         "type": "string"
        },
        {
         "name": "0",
         "rawType": "float64",
         "type": "float"
        }
       ],
       "ref": "1b30b5ef-1320-452c-89eb-474878171cc8",
       "rows": [
        [
         "Height",
         "8.608879421853812"
        ],
        [
         "Weight",
         "12.824293846627201"
        ]
       ],
       "shape": {
        "columns": 1,
        "rows": 2
       }
      },
      "text/plain": [
       "Height     8.608879\n",
       "Weight    12.824294\n",
       "dtype: float64"
      ]
     },
     "execution_count": 784,
     "metadata": {},
     "output_type": "execute_result"
    }
   ],
   "source": [
    "feature_statistics(data=learn_pd_data,index=[learn_pd_data.columns[4],learn_pd_data.columns[5]],feature=\"std\")"
   ]
  },
  {
   "cell_type": "code",
   "execution_count": 785,
   "id": "caf45979",
   "metadata": {},
   "outputs": [
    {
     "data": {
      "application/vnd.microsoft.datawrangler.viewer.v0+json": {
       "columns": [
        {
         "name": "index",
         "rawType": "object",
         "type": "string"
        },
        {
         "name": "0",
         "rawType": "object",
         "type": "string"
        }
       ],
       "ref": "71c9b242-8c94-4c04-b514-9a857683904d",
       "rows": [
        [
         "Temperature",
         "Day 8"
        ]
       ],
       "shape": {
        "columns": 1,
        "rows": 1
       }
      },
      "text/plain": [
       "Temperature    Day 8\n",
       "dtype: object"
      ]
     },
     "execution_count": 785,
     "metadata": {},
     "output_type": "execute_result"
    }
   ],
   "source": [
    "feature_statistics(data=magic_land,index=[magic_land_colums[2]],feature='idxmax')"
   ]
  },
  {
   "cell_type": "code",
   "execution_count": 786,
   "id": "1d6bfdc2",
   "metadata": {},
   "outputs": [],
   "source": [
    "def data_uniform(data:pd.DataFrame,index:list):\n",
    "     print(f\"unique data is {repr(data[index].head(4).unique())}\") \n",
    "     print(data[index].value_counts().head(4))\n"
   ]
  },
  {
   "cell_type": "code",
   "execution_count": 787,
   "id": "4619ac18",
   "metadata": {},
   "outputs": [
    {
     "name": "stdout",
     "output_type": "stream",
     "text": [
      "unique data is array([13.4 , 13.96, 14.21, 14.49])\n",
      "Temperature\n",
      "13.40    1\n",
      "13.96    1\n",
      "14.21    1\n",
      "14.49    1\n",
      "Name: count, dtype: int64\n"
     ]
    }
   ],
   "source": [
    "data_uniform(data=magic_land,index=magic_land_colums[2])"
   ]
  },
  {
   "cell_type": "code",
   "execution_count": 788,
   "id": "964320c7",
   "metadata": {},
   "outputs": [
    {
     "name": "stdout",
     "output_type": "stream",
     "text": [
      "unique data is array(['Shanghai Jiao Tong University', 'Peking University',\n",
      "       'Fudan University'], dtype=object)\n",
      "School\n",
      "Tsinghua University              69\n",
      "Shanghai Jiao Tong University    57\n",
      "Fudan University                 40\n",
      "Peking University                34\n",
      "Name: count, dtype: int64\n"
     ]
    }
   ],
   "source": [
    "data_uniform(data=learn_pd_data,index=learn_pd_data.columns[0])"
   ]
  },
  {
   "cell_type": "code",
   "execution_count": 789,
   "id": "c500ad0a",
   "metadata": {},
   "outputs": [],
   "source": [
    "def duplicated_data_includ_test(data:pd.DataFrame,index:list,index_another:list):\n",
    "        if not index or not index_another:\n",
    "         return False\n",
    "        elif not all(col in data.columns for col in index):\n",
    "         return False\n",
    "        elif not all(col in data.columns for col in index_another):\n",
    "           return False\n",
    "        elif not all(col in index for col in index_another):\n",
    "           return False\n",
    "        else:\n",
    "           return True"
   ]
  },
  {
   "cell_type": "code",
   "execution_count": 851,
   "id": "5d2e967a",
   "metadata": {},
   "outputs": [],
   "source": [
    "def duplicated_data(data:pd.DataFrame,index:list,duplicate_index:list):\n",
    "  if duplicated_data_includ_test(data=data,index=index,index_another=duplicate_index):\n",
    "    if duplicate_index is not None:\n",
    "     duplicate_data=data[index]\n",
    "     return duplicate_data.duplicated(duplicate_index)\n",
    "    else:return print(\"empty columns is not valid\")\n",
    "  else:\n",
    "    raise ValueError(\"index_another is not in index\")\n",
    " "
   ]
  },
  {
   "cell_type": "code",
   "execution_count": 846,
   "id": "3a78da1c",
   "metadata": {},
   "outputs": [],
   "source": [
    "def get_muit_columns_data(data:pd.DataFrame,index:list,index_another:list|None,keep:bool|str=False): # dataframe colunms index_another must include at  colunms index,can be call drop_duplicates()\n",
    "    if index_another is None:\n",
    "     return data.drop_duplicates(index)\n",
    "    if index_another is not None:\n",
    "     if duplicated_data_includ_test(data=data,index=index,index_another=index_another):\n",
    "      include_data=data[index]   \n",
    "      return include_data.drop_duplicates(index_another,keep=keep)\n",
    "     else:\n",
    "      raise ValueError(\"index_another is not in index\")\n",
    "      "
   ]
  },
  {
   "cell_type": "code",
   "execution_count": 804,
   "id": "dd666028",
   "metadata": {},
   "outputs": [
    {
     "data": {
      "application/vnd.microsoft.datawrangler.viewer.v0+json": {
       "columns": [
        {
         "name": "index",
         "rawType": "object",
         "type": "string"
        },
        {
         "name": "Temperature",
         "rawType": "float64",
         "type": "float"
        },
        {
         "name": "Weather",
         "rawType": "object",
         "type": "string"
        }
       ],
       "ref": "940cff65-c681-44c4-862d-b9f65168027d",
       "rows": [
        [
         "Day 1",
         "13.4",
         "accumulation"
        ],
        [
         "Day 2",
         "13.96",
         "breeze"
        ],
        [
         "Day 3",
         "14.21",
         "calm"
        ],
        [
         "Day 4",
         "14.49",
         "disturbance"
        ],
        [
         "Day 5",
         "15.25",
         "drizzle"
        ],
        [
         "Day 6",
         "15.56",
         "sunny"
        ],
        [
         "Day 7",
         "16.1",
         "fair"
        ],
        [
         "Day 8",
         "16.5",
         "cloudy"
        ],
        [
         "Day 9",
         "16.2",
         "showers"
        ],
        [
         "Day 10",
         "15.8",
         "rain"
        ],
        [
         "Day 11",
         "15.52",
         "downpour"
        ],
        [
         "Day 12",
         "15.12",
         "hail"
        ],
        [
         "Day 13",
         "14.14",
         "sleet"
        ],
        [
         "Day 14",
         "13.31",
         "snow"
        ],
        [
         "Day 15",
         "12.11",
         "snowflake"
        ],
        [
         "Day 16",
         "11.48",
         "gloomy"
        ],
        [
         "Day 17",
         "11.96",
         "foggy"
        ],
        [
         "Day 18",
         "12.24",
         "overcast"
        ],
        [
         "Day 19",
         "12.89",
         "clear"
        ],
        [
         "Day 20",
         "13.56",
         "blustery"
        ],
        [
         "Day 21",
         "14.83",
         "windy"
        ]
       ],
       "shape": {
        "columns": 2,
        "rows": 21
       }
      },
      "text/html": [
       "<div>\n",
       "<style scoped>\n",
       "    .dataframe tbody tr th:only-of-type {\n",
       "        vertical-align: middle;\n",
       "    }\n",
       "\n",
       "    .dataframe tbody tr th {\n",
       "        vertical-align: top;\n",
       "    }\n",
       "\n",
       "    .dataframe thead th {\n",
       "        text-align: right;\n",
       "    }\n",
       "</style>\n",
       "<table border=\"1\" class=\"dataframe\">\n",
       "  <thead>\n",
       "    <tr style=\"text-align: right;\">\n",
       "      <th></th>\n",
       "      <th>Temperature</th>\n",
       "      <th>Weather</th>\n",
       "    </tr>\n",
       "  </thead>\n",
       "  <tbody>\n",
       "    <tr>\n",
       "      <th>Day 1</th>\n",
       "      <td>13.40</td>\n",
       "      <td>accumulation</td>\n",
       "    </tr>\n",
       "    <tr>\n",
       "      <th>Day 2</th>\n",
       "      <td>13.96</td>\n",
       "      <td>breeze</td>\n",
       "    </tr>\n",
       "    <tr>\n",
       "      <th>Day 3</th>\n",
       "      <td>14.21</td>\n",
       "      <td>calm</td>\n",
       "    </tr>\n",
       "    <tr>\n",
       "      <th>Day 4</th>\n",
       "      <td>14.49</td>\n",
       "      <td>disturbance</td>\n",
       "    </tr>\n",
       "    <tr>\n",
       "      <th>Day 5</th>\n",
       "      <td>15.25</td>\n",
       "      <td>drizzle</td>\n",
       "    </tr>\n",
       "    <tr>\n",
       "      <th>Day 6</th>\n",
       "      <td>15.56</td>\n",
       "      <td>sunny</td>\n",
       "    </tr>\n",
       "    <tr>\n",
       "      <th>Day 7</th>\n",
       "      <td>16.10</td>\n",
       "      <td>fair</td>\n",
       "    </tr>\n",
       "    <tr>\n",
       "      <th>Day 8</th>\n",
       "      <td>16.50</td>\n",
       "      <td>cloudy</td>\n",
       "    </tr>\n",
       "    <tr>\n",
       "      <th>Day 9</th>\n",
       "      <td>16.20</td>\n",
       "      <td>showers</td>\n",
       "    </tr>\n",
       "    <tr>\n",
       "      <th>Day 10</th>\n",
       "      <td>15.80</td>\n",
       "      <td>rain</td>\n",
       "    </tr>\n",
       "    <tr>\n",
       "      <th>Day 11</th>\n",
       "      <td>15.52</td>\n",
       "      <td>downpour</td>\n",
       "    </tr>\n",
       "    <tr>\n",
       "      <th>Day 12</th>\n",
       "      <td>15.12</td>\n",
       "      <td>hail</td>\n",
       "    </tr>\n",
       "    <tr>\n",
       "      <th>Day 13</th>\n",
       "      <td>14.14</td>\n",
       "      <td>sleet</td>\n",
       "    </tr>\n",
       "    <tr>\n",
       "      <th>Day 14</th>\n",
       "      <td>13.31</td>\n",
       "      <td>snow</td>\n",
       "    </tr>\n",
       "    <tr>\n",
       "      <th>Day 15</th>\n",
       "      <td>12.11</td>\n",
       "      <td>snowflake</td>\n",
       "    </tr>\n",
       "    <tr>\n",
       "      <th>Day 16</th>\n",
       "      <td>11.48</td>\n",
       "      <td>gloomy</td>\n",
       "    </tr>\n",
       "    <tr>\n",
       "      <th>Day 17</th>\n",
       "      <td>11.96</td>\n",
       "      <td>foggy</td>\n",
       "    </tr>\n",
       "    <tr>\n",
       "      <th>Day 18</th>\n",
       "      <td>12.24</td>\n",
       "      <td>overcast</td>\n",
       "    </tr>\n",
       "    <tr>\n",
       "      <th>Day 19</th>\n",
       "      <td>12.89</td>\n",
       "      <td>clear</td>\n",
       "    </tr>\n",
       "    <tr>\n",
       "      <th>Day 20</th>\n",
       "      <td>13.56</td>\n",
       "      <td>blustery</td>\n",
       "    </tr>\n",
       "    <tr>\n",
       "      <th>Day 21</th>\n",
       "      <td>14.83</td>\n",
       "      <td>windy</td>\n",
       "    </tr>\n",
       "  </tbody>\n",
       "</table>\n",
       "</div>"
      ],
      "text/plain": [
       "        Temperature       Weather\n",
       "Day 1         13.40  accumulation\n",
       "Day 2         13.96        breeze\n",
       "Day 3         14.21          calm\n",
       "Day 4         14.49   disturbance\n",
       "Day 5         15.25       drizzle\n",
       "Day 6         15.56         sunny\n",
       "Day 7         16.10          fair\n",
       "Day 8         16.50        cloudy\n",
       "Day 9         16.20       showers\n",
       "Day 10        15.80          rain\n",
       "Day 11        15.52      downpour\n",
       "Day 12        15.12          hail\n",
       "Day 13        14.14         sleet\n",
       "Day 14        13.31          snow\n",
       "Day 15        12.11     snowflake\n",
       "Day 16        11.48        gloomy\n",
       "Day 17        11.96         foggy\n",
       "Day 18        12.24      overcast\n",
       "Day 19        12.89         clear\n",
       "Day 20        13.56      blustery\n",
       "Day 21        14.83         windy"
      ]
     },
     "execution_count": 804,
     "metadata": {},
     "output_type": "execute_result"
    }
   ],
   "source": [
    "get_muit_columns_data(data=magic_land,index=[magic_land_colums[2],magic_land_colums[1]],index_another=[magic_land_colums[1]])"
   ]
  },
  {
   "cell_type": "code",
   "execution_count": 793,
   "id": "c702b3a0",
   "metadata": {},
   "outputs": [
    {
     "data": {
      "application/vnd.microsoft.datawrangler.viewer.v0+json": {
       "columns": [
        {
         "name": "index",
         "rawType": "int64",
         "type": "integer"
        },
        {
         "name": "Grade",
         "rawType": "object",
         "type": "string"
        },
        {
         "name": "Transfer",
         "rawType": "object",
         "type": "unknown"
        },
        {
         "name": "Name",
         "rawType": "object",
         "type": "string"
        }
       ],
       "ref": "dfe5bc0f-7a18-4f93-a3a6-109d6d104863",
       "rows": [
        [
         "0",
         "Freshman",
         "N",
         "Gaopeng Yang"
        ],
        [
         "1",
         "Freshman",
         "N",
         "Changqiang You"
        ],
        [
         "2",
         "Senior",
         "N",
         "Mei Sun"
        ],
        [
         "3",
         "Sophomore",
         "N",
         "Xiaojuan Sun"
        ],
        [
         "4",
         "Sophomore",
         "N",
         "Gaojuan You"
        ],
        [
         "5",
         "Freshman",
         "N",
         "Xiaoli Qian"
        ],
        [
         "6",
         "Freshman",
         "N",
         "Qiang Chu"
        ],
        [
         "7",
         "Junior",
         "N",
         "Gaoqiang Qian"
        ],
        [
         "8",
         "Freshman",
         "N",
         "Changli Zhang"
        ],
        [
         "9",
         "Junior",
         "N",
         "Juan Xu"
        ],
        [
         "10",
         "Freshman",
         "N",
         "Xiaopeng Zhou"
        ],
        [
         "11",
         "Junior",
         "N",
         "Xiaoquan Lv"
        ],
        [
         "12",
         "Senior",
         null,
         "Peng You"
        ],
        [
         "13",
         "Sophomore",
         "N",
         "Yanfeng Qian"
        ],
        [
         "14",
         "Senior",
         "N",
         "Xiaomei Zhou"
        ],
        [
         "15",
         "Freshman",
         "N",
         "Changqiang Yang"
        ],
        [
         "16",
         "Junior",
         "N",
         "Xiaoqiang Qin"
        ],
        [
         "17",
         "Junior",
         "N",
         "Peng Wang"
        ],
        [
         "18",
         "Senior",
         "N",
         "Xiaofeng Sun"
        ],
        [
         "19",
         "Senior",
         "N",
         "Qiang Chu"
        ],
        [
         "20",
         "Junior",
         "N",
         "Changjuan You"
        ],
        [
         "21",
         "Senior",
         null,
         "Xiaopeng Shen"
        ],
        [
         "22",
         "Senior",
         "N",
         "Changqiang Sun"
        ],
        [
         "23",
         "Senior",
         "N",
         "Qiang Zheng"
        ],
        [
         "24",
         "Senior",
         "N",
         "Chunmei You"
        ],
        [
         "25",
         "Senior",
         "N",
         "Xiaopeng Chu"
        ],
        [
         "26",
         "Junior",
         "N",
         "Yanli You"
        ],
        [
         "28",
         "Freshman",
         "N",
         "Gaoqiang Qin"
        ],
        [
         "29",
         "Sophomore",
         "N",
         "Changmei Xu"
        ],
        [
         "30",
         "Senior",
         "N",
         "Changli Lv"
        ],
        [
         "31",
         "Junior",
         "N",
         "Feng Zheng"
        ],
        [
         "32",
         "Freshman",
         "N",
         "Gaopeng Shi"
        ],
        [
         "33",
         "Freshman",
         "N",
         "Yanjuan Han"
        ],
        [
         "34",
         "Freshman",
         "N",
         "Li Wu"
        ],
        [
         "35",
         "Freshman",
         "N",
         "Gaoli Zhao"
        ],
        [
         "36",
         "Freshman",
         "Y",
         "Xiaojuan Qin"
        ],
        [
         "37",
         "Sophomore",
         "N",
         "Xiaoquan Zhang"
        ],
        [
         "39",
         "Senior",
         "N",
         "Chengpeng Zheng"
        ],
        [
         "40",
         "Sophomore",
         "N",
         "Li Wang"
        ],
        [
         "41",
         "Junior",
         "N",
         "Chunqiang Chu"
        ],
        [
         "42",
         "Junior",
         "N",
         "Mei Zhang"
        ],
        [
         "43",
         "Freshman",
         "Y",
         "Gaoli Feng"
        ],
        [
         "44",
         "Freshman",
         "N",
         "Yanqiang Feng"
        ],
        [
         "45",
         "Freshman",
         "N",
         "Quan Chu"
        ],
        [
         "46",
         "Senior",
         "N",
         "Feng Zhou"
        ],
        [
         "47",
         "Freshman",
         "N",
         "Peng Wu"
        ],
        [
         "49",
         "Senior",
         "N",
         "Gaomei Lv"
        ],
        [
         "50",
         "Junior",
         "N",
         "Xiaoli Wang"
        ],
        [
         "51",
         "Freshman",
         "N",
         "Chengquan Chu"
        ],
        [
         "52",
         "Senior",
         "N",
         "Chunli Lv"
        ]
       ],
       "shape": {
        "columns": 3,
        "rows": 192
       }
      },
      "text/html": [
       "<div>\n",
       "<style scoped>\n",
       "    .dataframe tbody tr th:only-of-type {\n",
       "        vertical-align: middle;\n",
       "    }\n",
       "\n",
       "    .dataframe tbody tr th {\n",
       "        vertical-align: top;\n",
       "    }\n",
       "\n",
       "    .dataframe thead th {\n",
       "        text-align: right;\n",
       "    }\n",
       "</style>\n",
       "<table border=\"1\" class=\"dataframe\">\n",
       "  <thead>\n",
       "    <tr style=\"text-align: right;\">\n",
       "      <th></th>\n",
       "      <th>Grade</th>\n",
       "      <th>Transfer</th>\n",
       "      <th>Name</th>\n",
       "    </tr>\n",
       "  </thead>\n",
       "  <tbody>\n",
       "    <tr>\n",
       "      <th>0</th>\n",
       "      <td>Freshman</td>\n",
       "      <td>N</td>\n",
       "      <td>Gaopeng Yang</td>\n",
       "    </tr>\n",
       "    <tr>\n",
       "      <th>1</th>\n",
       "      <td>Freshman</td>\n",
       "      <td>N</td>\n",
       "      <td>Changqiang You</td>\n",
       "    </tr>\n",
       "    <tr>\n",
       "      <th>2</th>\n",
       "      <td>Senior</td>\n",
       "      <td>N</td>\n",
       "      <td>Mei Sun</td>\n",
       "    </tr>\n",
       "    <tr>\n",
       "      <th>3</th>\n",
       "      <td>Sophomore</td>\n",
       "      <td>N</td>\n",
       "      <td>Xiaojuan Sun</td>\n",
       "    </tr>\n",
       "    <tr>\n",
       "      <th>4</th>\n",
       "      <td>Sophomore</td>\n",
       "      <td>N</td>\n",
       "      <td>Gaojuan You</td>\n",
       "    </tr>\n",
       "    <tr>\n",
       "      <th>...</th>\n",
       "      <td>...</td>\n",
       "      <td>...</td>\n",
       "      <td>...</td>\n",
       "    </tr>\n",
       "    <tr>\n",
       "      <th>195</th>\n",
       "      <td>Junior</td>\n",
       "      <td>N</td>\n",
       "      <td>Xiaojuan Sun</td>\n",
       "    </tr>\n",
       "    <tr>\n",
       "      <th>196</th>\n",
       "      <td>Senior</td>\n",
       "      <td>N</td>\n",
       "      <td>Li Zhao</td>\n",
       "    </tr>\n",
       "    <tr>\n",
       "      <th>197</th>\n",
       "      <td>Senior</td>\n",
       "      <td>N</td>\n",
       "      <td>Chengqiang Chu</td>\n",
       "    </tr>\n",
       "    <tr>\n",
       "      <th>198</th>\n",
       "      <td>Senior</td>\n",
       "      <td>N</td>\n",
       "      <td>Chengmei Shen</td>\n",
       "    </tr>\n",
       "    <tr>\n",
       "      <th>199</th>\n",
       "      <td>Sophomore</td>\n",
       "      <td>N</td>\n",
       "      <td>Chunpeng Lv</td>\n",
       "    </tr>\n",
       "  </tbody>\n",
       "</table>\n",
       "<p>192 rows × 3 columns</p>\n",
       "</div>"
      ],
      "text/plain": [
       "         Grade Transfer            Name\n",
       "0     Freshman        N    Gaopeng Yang\n",
       "1     Freshman        N  Changqiang You\n",
       "2       Senior        N         Mei Sun\n",
       "3    Sophomore        N    Xiaojuan Sun\n",
       "4    Sophomore        N     Gaojuan You\n",
       "..         ...      ...             ...\n",
       "195     Junior        N    Xiaojuan Sun\n",
       "196     Senior        N         Li Zhao\n",
       "197     Senior        N  Chengqiang Chu\n",
       "198     Senior        N   Chengmei Shen\n",
       "199  Sophomore        N     Chunpeng Lv\n",
       "\n",
       "[192 rows x 3 columns]"
      ]
     },
     "execution_count": 793,
     "metadata": {},
     "output_type": "execute_result"
    }
   ],
   "source": [
    "get_muit_columns_data(data=learn_pd_data,index=[learn_pd_data.columns[1],learn_pd_data.columns[6],learn_pd_data.columns[2]],index_another=[learn_pd_data.columns[1],learn_pd_data.columns[2]])"
   ]
  },
  {
   "cell_type": "code",
   "execution_count": 852,
   "id": "2be7afc5",
   "metadata": {},
   "outputs": [
    {
     "data": {
      "application/vnd.microsoft.datawrangler.viewer.v0+json": {
       "columns": [
        {
         "name": "index",
         "rawType": "int64",
         "type": "integer"
        },
        {
         "name": "0",
         "rawType": "bool",
         "type": "boolean"
        }
       ],
       "ref": "dd08fbe5-3479-432a-a7ae-a2bfc4f71cc7",
       "rows": [
        [
         "0",
         "False"
        ],
        [
         "1",
         "False"
        ],
        [
         "2",
         "False"
        ],
        [
         "3",
         "False"
        ],
        [
         "4",
         "False"
        ],
        [
         "5",
         "False"
        ],
        [
         "6",
         "False"
        ],
        [
         "7",
         "False"
        ],
        [
         "8",
         "False"
        ],
        [
         "9",
         "False"
        ],
        [
         "10",
         "True"
        ],
        [
         "11",
         "False"
        ],
        [
         "12",
         "True"
        ],
        [
         "13",
         "True"
        ],
        [
         "14",
         "False"
        ],
        [
         "15",
         "False"
        ],
        [
         "16",
         "False"
        ],
        [
         "17",
         "False"
        ],
        [
         "18",
         "False"
        ],
        [
         "19",
         "True"
        ],
        [
         "20",
         "False"
        ],
        [
         "21",
         "False"
        ],
        [
         "22",
         "False"
        ],
        [
         "23",
         "False"
        ],
        [
         "24",
         "False"
        ],
        [
         "25",
         "False"
        ],
        [
         "26",
         "True"
        ],
        [
         "27",
         "False"
        ],
        [
         "28",
         "False"
        ],
        [
         "29",
         "True"
        ],
        [
         "30",
         "True"
        ],
        [
         "31",
         "True"
        ],
        [
         "32",
         "True"
        ],
        [
         "33",
         "True"
        ],
        [
         "34",
         "True"
        ],
        [
         "35",
         "False"
        ],
        [
         "36",
         "False"
        ],
        [
         "37",
         "False"
        ],
        [
         "38",
         "True"
        ],
        [
         "39",
         "False"
        ],
        [
         "40",
         "True"
        ],
        [
         "41",
         "False"
        ],
        [
         "42",
         "False"
        ],
        [
         "43",
         "True"
        ],
        [
         "44",
         "True"
        ],
        [
         "45",
         "True"
        ],
        [
         "46",
         "True"
        ],
        [
         "47",
         "True"
        ],
        [
         "48",
         "True"
        ],
        [
         "49",
         "False"
        ]
       ],
       "shape": {
        "columns": 1,
        "rows": 200
       }
      },
      "text/plain": [
       "0      False\n",
       "1      False\n",
       "2      False\n",
       "3      False\n",
       "4      False\n",
       "       ...  \n",
       "195     True\n",
       "196     True\n",
       "197     True\n",
       "198     True\n",
       "199     True\n",
       "Length: 200, dtype: bool"
      ]
     },
     "execution_count": 852,
     "metadata": {},
     "output_type": "execute_result"
    }
   ],
   "source": [
    "duplicated_data(data=learn_pd_data,index=[learn_pd_data.columns[0],learn_pd_data.columns[5]],duplicate_index=[learn_pd_data.columns[5]])"
   ]
  },
  {
   "cell_type": "code",
   "execution_count": 853,
   "id": "164854fa",
   "metadata": {},
   "outputs": [
    {
     "data": {
      "application/vnd.microsoft.datawrangler.viewer.v0+json": {
       "columns": [
        {
         "name": "index",
         "rawType": "object",
         "type": "string"
        },
        {
         "name": "0",
         "rawType": "bool",
         "type": "boolean"
        }
       ],
       "ref": "c4827b56-3828-4654-a4f6-d57d18dabe7e",
       "rows": [
        [
         "Day 1",
         "False"
        ],
        [
         "Day 2",
         "False"
        ],
        [
         "Day 3",
         "False"
        ],
        [
         "Day 4",
         "False"
        ],
        [
         "Day 5",
         "False"
        ],
        [
         "Day 6",
         "False"
        ],
        [
         "Day 7",
         "False"
        ],
        [
         "Day 8",
         "False"
        ],
        [
         "Day 9",
         "False"
        ],
        [
         "Day 10",
         "False"
        ],
        [
         "Day 11",
         "False"
        ],
        [
         "Day 12",
         "False"
        ],
        [
         "Day 13",
         "False"
        ],
        [
         "Day 14",
         "False"
        ],
        [
         "Day 15",
         "False"
        ],
        [
         "Day 16",
         "False"
        ],
        [
         "Day 17",
         "False"
        ],
        [
         "Day 18",
         "False"
        ],
        [
         "Day 19",
         "False"
        ],
        [
         "Day 20",
         "False"
        ],
        [
         "Day 21",
         "False"
        ]
       ],
       "shape": {
        "columns": 1,
        "rows": 21
       }
      },
      "text/plain": [
       "Day 1     False\n",
       "Day 2     False\n",
       "Day 3     False\n",
       "Day 4     False\n",
       "Day 5     False\n",
       "Day 6     False\n",
       "Day 7     False\n",
       "Day 8     False\n",
       "Day 9     False\n",
       "Day 10    False\n",
       "Day 11    False\n",
       "Day 12    False\n",
       "Day 13    False\n",
       "Day 14    False\n",
       "Day 15    False\n",
       "Day 16    False\n",
       "Day 17    False\n",
       "Day 18    False\n",
       "Day 19    False\n",
       "Day 20    False\n",
       "Day 21    False\n",
       "dtype: bool"
      ]
     },
     "execution_count": 853,
     "metadata": {},
     "output_type": "execute_result"
    }
   ],
   "source": [
    "duplicated_data(data=magic_land,index=[magic_land_colums[0],magic_land_colums[1]],duplicate_index=[magic_land_colums[1]])"
   ]
  },
  {
   "cell_type": "code",
   "execution_count": null,
   "id": "3482cb14",
   "metadata": {},
   "outputs": [],
   "source": [
    "def replace_data(data:pd.DataFrame,index_columns:list,replace_text:dict):\n",
    "          return data[index_columns].replace(replace_text)"
   ]
  },
  {
   "cell_type": "code",
   "execution_count": 902,
   "id": "d869661a",
   "metadata": {},
   "outputs": [
    {
     "data": {
      "application/vnd.microsoft.datawrangler.viewer.v0+json": {
       "columns": [
        {
         "name": "index",
         "rawType": "int64",
         "type": "integer"
        },
        {
         "name": "Grade",
         "rawType": "object",
         "type": "string"
        }
       ],
       "ref": "39de8ae5-1642-49fb-9c97-5798ea84ab22",
       "rows": [
        [
         "0",
         "F"
        ],
        [
         "1",
         "F"
        ],
        [
         "2",
         "S"
        ],
        [
         "3",
         "Sophomore"
        ],
        [
         "4",
         "Sophomore"
        ],
        [
         "5",
         "F"
        ],
        [
         "6",
         "F"
        ],
        [
         "7",
         "Junior"
        ],
        [
         "8",
         "F"
        ],
        [
         "9",
         "Junior"
        ],
        [
         "10",
         "F"
        ],
        [
         "11",
         "Junior"
        ],
        [
         "12",
         "S"
        ],
        [
         "13",
         "Sophomore"
        ],
        [
         "14",
         "S"
        ],
        [
         "15",
         "F"
        ],
        [
         "16",
         "Junior"
        ],
        [
         "17",
         "Junior"
        ],
        [
         "18",
         "S"
        ],
        [
         "19",
         "S"
        ],
        [
         "20",
         "Junior"
        ],
        [
         "21",
         "S"
        ],
        [
         "22",
         "S"
        ],
        [
         "23",
         "S"
        ],
        [
         "24",
         "S"
        ],
        [
         "25",
         "S"
        ],
        [
         "26",
         "Junior"
        ],
        [
         "27",
         "Junior"
        ],
        [
         "28",
         "F"
        ],
        [
         "29",
         "Sophomore"
        ],
        [
         "30",
         "S"
        ],
        [
         "31",
         "Junior"
        ],
        [
         "32",
         "F"
        ],
        [
         "33",
         "F"
        ],
        [
         "34",
         "F"
        ],
        [
         "35",
         "F"
        ],
        [
         "36",
         "F"
        ],
        [
         "37",
         "Sophomore"
        ],
        [
         "38",
         "F"
        ],
        [
         "39",
         "S"
        ],
        [
         "40",
         "Sophomore"
        ],
        [
         "41",
         "Junior"
        ],
        [
         "42",
         "Junior"
        ],
        [
         "43",
         "F"
        ],
        [
         "44",
         "F"
        ],
        [
         "45",
         "F"
        ],
        [
         "46",
         "S"
        ],
        [
         "47",
         "F"
        ],
        [
         "48",
         "Sophomore"
        ],
        [
         "49",
         "S"
        ]
       ],
       "shape": {
        "columns": 1,
        "rows": 200
       }
      },
      "text/html": [
       "<div>\n",
       "<style scoped>\n",
       "    .dataframe tbody tr th:only-of-type {\n",
       "        vertical-align: middle;\n",
       "    }\n",
       "\n",
       "    .dataframe tbody tr th {\n",
       "        vertical-align: top;\n",
       "    }\n",
       "\n",
       "    .dataframe thead th {\n",
       "        text-align: right;\n",
       "    }\n",
       "</style>\n",
       "<table border=\"1\" class=\"dataframe\">\n",
       "  <thead>\n",
       "    <tr style=\"text-align: right;\">\n",
       "      <th></th>\n",
       "      <th>Grade</th>\n",
       "    </tr>\n",
       "  </thead>\n",
       "  <tbody>\n",
       "    <tr>\n",
       "      <th>0</th>\n",
       "      <td>F</td>\n",
       "    </tr>\n",
       "    <tr>\n",
       "      <th>1</th>\n",
       "      <td>F</td>\n",
       "    </tr>\n",
       "    <tr>\n",
       "      <th>2</th>\n",
       "      <td>S</td>\n",
       "    </tr>\n",
       "    <tr>\n",
       "      <th>3</th>\n",
       "      <td>Sophomore</td>\n",
       "    </tr>\n",
       "    <tr>\n",
       "      <th>4</th>\n",
       "      <td>Sophomore</td>\n",
       "    </tr>\n",
       "    <tr>\n",
       "      <th>...</th>\n",
       "      <td>...</td>\n",
       "    </tr>\n",
       "    <tr>\n",
       "      <th>195</th>\n",
       "      <td>Junior</td>\n",
       "    </tr>\n",
       "    <tr>\n",
       "      <th>196</th>\n",
       "      <td>S</td>\n",
       "    </tr>\n",
       "    <tr>\n",
       "      <th>197</th>\n",
       "      <td>S</td>\n",
       "    </tr>\n",
       "    <tr>\n",
       "      <th>198</th>\n",
       "      <td>S</td>\n",
       "    </tr>\n",
       "    <tr>\n",
       "      <th>199</th>\n",
       "      <td>Sophomore</td>\n",
       "    </tr>\n",
       "  </tbody>\n",
       "</table>\n",
       "<p>200 rows × 1 columns</p>\n",
       "</div>"
      ],
      "text/plain": [
       "         Grade\n",
       "0            F\n",
       "1            F\n",
       "2            S\n",
       "3    Sophomore\n",
       "4    Sophomore\n",
       "..         ...\n",
       "195     Junior\n",
       "196          S\n",
       "197          S\n",
       "198          S\n",
       "199  Sophomore\n",
       "\n",
       "[200 rows x 1 columns]"
      ]
     },
     "execution_count": 902,
     "metadata": {},
     "output_type": "execute_result"
    }
   ],
   "source": [
    "\n",
    "replace_dicta={\"Freshman\":\"F\",\"Senior\":\"S\"}\n",
    "replace_data(data=learn_pd_data,index_columns=[learn_pd_data.columns[1]],replace_text=replace_dicta)"
   ]
  },
  {
   "cell_type": "code",
   "execution_count": null,
   "id": "b1ec8022",
   "metadata": {},
   "outputs": [
    {
     "name": "stdout",
     "output_type": "stream",
     "text": [
      "not valid replace\n"
     ]
    },
    {
     "data": {
      "application/vnd.microsoft.datawrangler.viewer.v0+json": {
       "columns": [
        {
         "name": "index",
         "rawType": "object",
         "type": "string"
        },
        {
         "name": "Weather",
         "rawType": "object",
         "type": "string"
        }
       ],
       "ref": "2def312f-0123-45d0-bed3-212b522bdf00",
       "rows": [
        [
         "Day 1",
         "accumulation"
        ],
        [
         "Day 2",
         "breeze"
        ],
        [
         "Day 3",
         "calm"
        ],
        [
         "Day 4",
         "disturbance"
        ],
        [
         "Day 5",
         "drizzle"
        ],
        [
         "Day 6",
         "sunny"
        ],
        [
         "Day 7",
         "fair"
        ],
        [
         "Day 8",
         "cloudy"
        ],
        [
         "Day 9",
         "showers"
        ],
        [
         "Day 10",
         "rain"
        ],
        [
         "Day 11",
         "downpour"
        ],
        [
         "Day 12",
         "hail"
        ],
        [
         "Day 13",
         "sleet"
        ],
        [
         "Day 14",
         "snow"
        ],
        [
         "Day 15",
         "snowflake"
        ],
        [
         "Day 16",
         "gloomy"
        ],
        [
         "Day 17",
         "foggy"
        ],
        [
         "Day 18",
         "overcast"
        ],
        [
         "Day 19",
         "clear"
        ],
        [
         "Day 20",
         "blustery"
        ],
        [
         "Day 21",
         "windy"
        ]
       ],
       "shape": {
        "columns": 1,
        "rows": 21
       }
      },
      "text/plain": [
       "Day 1     accumulation\n",
       "Day 2           breeze\n",
       "Day 3             calm\n",
       "Day 4      disturbance\n",
       "Day 5          drizzle\n",
       "Day 6            sunny\n",
       "Day 7             fair\n",
       "Day 8           cloudy\n",
       "Day 9          showers\n",
       "Day 10            rain\n",
       "Day 11        downpour\n",
       "Day 12            hail\n",
       "Day 13           sleet\n",
       "Day 14            snow\n",
       "Day 15       snowflake\n",
       "Day 16          gloomy\n",
       "Day 17           foggy\n",
       "Day 18        overcast\n",
       "Day 19           clear\n",
       "Day 20        blustery\n",
       "Day 21           windy\n",
       "Name: Weather, dtype: object"
      ]
     },
     "execution_count": 710,
     "metadata": {},
     "output_type": "execute_result"
    }
   ],
   "source": [
    "replace_dictss={\"breeze\":\"Breeze\",\"fair\":\"Fair\"}\n",
    "replace_data(data=magic_land,index_columns=[magic_land_colums[1]],replace_text=replace_dictss)\n",
    "magic_land[magic_land_colums[1]]"
   ]
  },
  {
   "cell_type": "code",
   "execution_count": null,
   "id": "4e53f8df",
   "metadata": {},
   "outputs": [
    {
     "data": {
      "application/vnd.microsoft.datawrangler.viewer.v0+json": {
       "columns": [
        {
         "name": "index",
         "rawType": "object",
         "type": "string"
        },
        {
         "name": "Temperature",
         "rawType": "object",
         "type": "unknown"
        }
       ],
       "ref": "5a90aba8-63e2-48d8-8185-bce12e683112",
       "rows": [
        [
         "Day 1",
         "Cold"
        ],
        [
         "Day 2",
         "Cold"
        ],
        [
         "Day 3",
         "14.21"
        ],
        [
         "Day 4",
         "14.49"
        ],
        [
         "Day 5",
         "15.25"
        ],
        [
         "Day 6",
         "15.56"
        ],
        [
         "Day 7",
         "16.1"
        ],
        [
         "Day 8",
         "16.5"
        ],
        [
         "Day 9",
         "16.2"
        ],
        [
         "Day 10",
         "15.8"
        ],
        [
         "Day 11",
         "15.52"
        ],
        [
         "Day 12",
         "15.12"
        ],
        [
         "Day 13",
         "14.14"
        ],
        [
         "Day 14",
         "Cold"
        ],
        [
         "Day 15",
         "Cold"
        ],
        [
         "Day 16",
         "Cold"
        ],
        [
         "Day 17",
         "Cold"
        ],
        [
         "Day 18",
         "Cold"
        ],
        [
         "Day 19",
         "Cold"
        ],
        [
         "Day 20",
         "Cold"
        ],
        [
         "Day 21",
         "14.83"
        ]
       ],
       "shape": {
        "columns": 1,
        "rows": 21
       }
      },
      "text/plain": [
       "Day 1      Cold\n",
       "Day 2      Cold\n",
       "Day 3     14.21\n",
       "Day 4     14.49\n",
       "Day 5     15.25\n",
       "Day 6     15.56\n",
       "Day 7      16.1\n",
       "Day 8      16.5\n",
       "Day 9      16.2\n",
       "Day 10     15.8\n",
       "Day 11    15.52\n",
       "Day 12    15.12\n",
       "Day 13    14.14\n",
       "Day 14     Cold\n",
       "Day 15     Cold\n",
       "Day 16     Cold\n",
       "Day 17     Cold\n",
       "Day 18     Cold\n",
       "Day 19     Cold\n",
       "Day 20     Cold\n",
       "Day 21    14.83\n",
       "Name: Temperature, dtype: object"
      ]
     },
     "execution_count": 711,
     "metadata": {},
     "output_type": "execute_result"
    }
   ],
   "source": [
    "m=magic_land[magic_land_colums[2]]\n",
    "m.where(m>14,\"Cold\")"
   ]
  },
  {
   "cell_type": "code",
   "execution_count": null,
   "id": "27b1ea28",
   "metadata": {},
   "outputs": [
    {
     "data": {
      "application/vnd.microsoft.datawrangler.viewer.v0+json": {
       "columns": [
        {
         "name": "index",
         "rawType": "object",
         "type": "string"
        },
        {
         "name": "Week",
         "rawType": "object",
         "type": "string"
        }
       ],
       "ref": "06e41366-1a8d-403c-85c2-5d516d0a2f9e",
       "rows": [
        [
         "Day 1",
         "monday"
        ],
        [
         "Day 2",
         "Tuesday"
        ],
        [
         "Day 3",
         "Wednesday"
        ],
        [
         "Day 4",
         "Thursday"
        ],
        [
         "Day 5",
         "Friday"
        ],
        [
         "Day 6",
         "Saturday"
        ],
        [
         "Day 7",
         "Sunday"
        ],
        [
         "Day 8",
         "monday"
        ],
        [
         "Day 9",
         "Tuesday"
        ],
        [
         "Day 10",
         "Wednesday"
        ],
        [
         "Day 11",
         "Thursday"
        ],
        [
         "Day 12",
         "Friday"
        ],
        [
         "Day 13",
         "Saturday"
        ],
        [
         "Day 14",
         "Sunday"
        ],
        [
         "Day 15",
         "monday"
        ],
        [
         "Day 16",
         "Tuesday"
        ],
        [
         "Day 17",
         "Wednesday"
        ],
        [
         "Day 18",
         "Thursday"
        ],
        [
         "Day 19",
         "Friday"
        ],
        [
         "Day 20",
         "Saturday"
        ],
        [
         "Day 21",
         "Sunday"
        ]
       ],
       "shape": {
        "columns": 1,
        "rows": 21
       }
      },
      "text/plain": [
       "Day 1        monday\n",
       "Day 2       Tuesday\n",
       "Day 3     Wednesday\n",
       "Day 4      Thursday\n",
       "Day 5        Friday\n",
       "Day 6      Saturday\n",
       "Day 7        Sunday\n",
       "Day 8        monday\n",
       "Day 9       Tuesday\n",
       "Day 10    Wednesday\n",
       "Day 11     Thursday\n",
       "Day 12       Friday\n",
       "Day 13     Saturday\n",
       "Day 14       Sunday\n",
       "Day 15       monday\n",
       "Day 16      Tuesday\n",
       "Day 17    Wednesday\n",
       "Day 18     Thursday\n",
       "Day 19       Friday\n",
       "Day 20     Saturday\n",
       "Day 21       Sunday\n",
       "Name: Week, dtype: object"
      ]
     },
     "execution_count": 712,
     "metadata": {},
     "output_type": "execute_result"
    }
   ],
   "source": [
    "WEEK.where(WEEK!=\"Monday\",'monday')"
   ]
  },
  {
   "cell_type": "code",
   "execution_count": null,
   "id": "e67bfc70",
   "metadata": {},
   "outputs": [
    {
     "data": {
      "application/vnd.microsoft.datawrangler.viewer.v0+json": {
       "columns": [
        {
         "name": "index",
         "rawType": "int64",
         "type": "integer"
        },
        {
         "name": "Height",
         "rawType": "object",
         "type": "unknown"
        }
       ],
       "ref": "aba0d0df-a8e4-465f-b360-12aa0f98419b",
       "rows": [
        [
         "0",
         "158.9"
        ],
        [
         "1",
         "A+"
        ],
        [
         "2",
         "A+"
        ],
        [
         "3",
         "A+"
        ],
        [
         "4",
         "A+"
        ],
        [
         "5",
         "158.0"
        ],
        [
         "6",
         "A+"
        ],
        [
         "7",
         "A+"
        ],
        [
         "8",
         "A+"
        ],
        [
         "9",
         "A+"
        ],
        [
         "10",
         "A+"
        ],
        [
         "11",
         "153.2"
        ],
        [
         "12",
         "A+"
        ],
        [
         "13",
         "A+"
        ],
        [
         "14",
         "A+"
        ],
        [
         "15",
         "156.0"
        ],
        [
         "16",
         "A+"
        ],
        [
         "17",
         "A+"
        ],
        [
         "18",
         "A+"
        ],
        [
         "19",
         "A+"
        ],
        [
         "20",
         "A+"
        ],
        [
         "21",
         "A+"
        ],
        [
         "22",
         "A+"
        ],
        [
         "23",
         "A+"
        ],
        [
         "24",
         "A+"
        ],
        [
         "25",
         "156.5"
        ],
        [
         "26",
         "A+"
        ],
        [
         "27",
         "A+"
        ],
        [
         "28",
         "A+"
        ],
        [
         "29",
         "151.6"
        ],
        [
         "30",
         "148.7"
        ],
        [
         "31",
         "A+"
        ],
        [
         "32",
         "A+"
        ],
        [
         "33",
         "A+"
        ],
        [
         "34",
         "A+"
        ],
        [
         "35",
         "A+"
        ],
        [
         "36",
         "A+"
        ],
        [
         "37",
         "158.3"
        ],
        [
         "38",
         "A+"
        ],
        [
         "39",
         "151.7"
        ],
        [
         "40",
         "A+"
        ],
        [
         "41",
         "A+"
        ],
        [
         "42",
         "156.5"
        ],
        [
         "43",
         "157.4"
        ],
        [
         "44",
         "A+"
        ],
        [
         "45",
         "154.7"
        ],
        [
         "46",
         "155.6"
        ],
        [
         "47",
         "A+"
        ],
        [
         "48",
         "A+"
        ],
        [
         "49",
         "147.3"
        ]
       ],
       "shape": {
        "columns": 1,
        "rows": 200
       }
      },
      "text/plain": [
       "0      158.9\n",
       "1         A+\n",
       "2         A+\n",
       "3         A+\n",
       "4         A+\n",
       "       ...  \n",
       "195    153.9\n",
       "196       A+\n",
       "197    153.9\n",
       "198       A+\n",
       "199    155.7\n",
       "Name: Height, Length: 200, dtype: object"
      ]
     },
     "execution_count": 713,
     "metadata": {},
     "output_type": "execute_result"
    }
   ],
   "source": [
    "\n",
    "#learn_pd_data[learn_pd_data.columns[1]]\n",
    "s=learn_pd_data[learn_pd_data.columns[4]]\n",
    "s.where(s<160,\"A+\")\n"
   ]
  },
  {
   "cell_type": "code",
   "execution_count": null,
   "id": "dcfd2d83",
   "metadata": {},
   "outputs": [
    {
     "data": {
      "application/vnd.microsoft.datawrangler.viewer.v0+json": {
       "columns": [
        {
         "name": "index",
         "rawType": "int64",
         "type": "integer"
        },
        {
         "name": "Height",
         "rawType": "object",
         "type": "unknown"
        }
       ],
       "ref": "0fa86100-125d-43e5-9a1c-f645f63346c2",
       "rows": [
        [
         "0",
         "158.9"
        ],
        [
         "1",
         "A+"
        ],
        [
         "2",
         "A+"
        ],
        [
         "3",
         null
        ],
        [
         "4",
         "A+"
        ],
        [
         "5",
         "158.0"
        ],
        [
         "6",
         "A+"
        ],
        [
         "7",
         "A+"
        ],
        [
         "8",
         "A+"
        ],
        [
         "9",
         "A+"
        ],
        [
         "10",
         "A+"
        ],
        [
         "11",
         "153.2"
        ],
        [
         "12",
         null
        ],
        [
         "13",
         "A+"
        ],
        [
         "14",
         "A+"
        ],
        [
         "15",
         "156.0"
        ],
        [
         "16",
         "A+"
        ],
        [
         "17",
         "A+"
        ],
        [
         "18",
         "A+"
        ],
        [
         "19",
         "A+"
        ],
        [
         "20",
         "A+"
        ],
        [
         "21",
         "A+"
        ],
        [
         "22",
         "A+"
        ],
        [
         "23",
         "A+"
        ],
        [
         "24",
         "A+"
        ],
        [
         "25",
         "156.5"
        ],
        [
         "26",
         null
        ],
        [
         "27",
         "A+"
        ],
        [
         "28",
         "A+"
        ],
        [
         "29",
         "151.6"
        ],
        [
         "30",
         "148.7"
        ],
        [
         "31",
         "A+"
        ],
        [
         "32",
         "A+"
        ],
        [
         "33",
         "A+"
        ],
        [
         "34",
         "A+"
        ],
        [
         "35",
         "A+"
        ],
        [
         "36",
         null
        ],
        [
         "37",
         "158.3"
        ],
        [
         "38",
         "A+"
        ],
        [
         "39",
         "151.7"
        ],
        [
         "40",
         "A+"
        ],
        [
         "41",
         "A+"
        ],
        [
         "42",
         "156.5"
        ],
        [
         "43",
         "157.4"
        ],
        [
         "44",
         "A+"
        ],
        [
         "45",
         "154.7"
        ],
        [
         "46",
         "155.6"
        ],
        [
         "47",
         "A+"
        ],
        [
         "48",
         "A+"
        ],
        [
         "49",
         "147.3"
        ]
       ],
       "shape": {
        "columns": 1,
        "rows": 200
       }
      },
      "text/plain": [
       "0      158.9\n",
       "1         A+\n",
       "2         A+\n",
       "3        NaN\n",
       "4         A+\n",
       "       ...  \n",
       "195    153.9\n",
       "196       A+\n",
       "197    153.9\n",
       "198       A+\n",
       "199    155.7\n",
       "Name: Height, Length: 200, dtype: object"
      ]
     },
     "execution_count": 714,
     "metadata": {},
     "output_type": "execute_result"
    }
   ],
   "source": [
    "s.mask(s>160,\"A+\")"
   ]
  },
  {
   "cell_type": "code",
   "execution_count": null,
   "id": "a85f569e",
   "metadata": {},
   "outputs": [],
   "source": [
    "def mask_where(data:pd.DataFrame,index_columns:list,cond:bool,new_value:any,logic:str):\n",
    "    if type(new_value)!=type([]):\n",
    "     match logic:\n",
    "      case \"where\":\n",
    "        return data[index_columns].where(cond,new_value)\n",
    "      case \"mask\":\n",
    "       return data[index_columns].mask(cond,new_value)\n",
    "      case _:\n",
    "        return(\"not support logic\")\n",
    "    else:\n",
    "      print(\"not support list type\")\n",
    "      \n"
   ]
  },
  {
   "cell_type": "code",
   "execution_count": null,
   "id": "5bbbc50f",
   "metadata": {},
   "outputs": [
    {
     "data": {
      "application/vnd.microsoft.datawrangler.viewer.v0+json": {
       "columns": [
        {
         "name": "index",
         "rawType": "int64",
         "type": "integer"
        },
        {
         "name": "Height",
         "rawType": "float64",
         "type": "float"
        }
       ],
       "ref": "a95754be-dc9c-4157-abde-90d316f471d7",
       "rows": [
        [
         "0",
         "158.9"
        ],
        [
         "1",
         "166.5"
        ],
        [
         "2",
         "180.0"
        ],
        [
         "3",
         "13.0"
        ],
        [
         "4",
         "174.0"
        ],
        [
         "5",
         "158.0"
        ],
        [
         "6",
         "162.5"
        ],
        [
         "7",
         "161.9"
        ],
        [
         "8",
         "163.0"
        ],
        [
         "9",
         "164.8"
        ],
        [
         "10",
         "174.1"
        ],
        [
         "11",
         "153.2"
        ],
        [
         "12",
         "13.0"
        ],
        [
         "13",
         "160.1"
        ],
        [
         "14",
         "165.3"
        ],
        [
         "15",
         "156.0"
        ],
        [
         "16",
         "170.1"
        ],
        [
         "17",
         "162.8"
        ],
        [
         "18",
         "170.3"
        ],
        [
         "19",
         "162.4"
        ],
        [
         "20",
         "161.4"
        ],
        [
         "21",
         "166.0"
        ],
        [
         "22",
         "166.1"
        ],
        [
         "23",
         "180.0"
        ],
        [
         "24",
         "167.4"
        ],
        [
         "25",
         "156.5"
        ],
        [
         "26",
         "13.0"
        ],
        [
         "27",
         "163.1"
        ],
        [
         "28",
         "170.2"
        ],
        [
         "29",
         "151.6"
        ],
        [
         "30",
         "13.0"
        ],
        [
         "31",
         "165.6"
        ],
        [
         "32",
         "162.9"
        ],
        [
         "33",
         "163.7"
        ],
        [
         "34",
         "164.3"
        ],
        [
         "35",
         "175.4"
        ],
        [
         "36",
         "13.0"
        ],
        [
         "37",
         "158.3"
        ],
        [
         "38",
         "180.0"
        ],
        [
         "39",
         "151.7"
        ],
        [
         "40",
         "175.0"
        ],
        [
         "41",
         "168.6"
        ],
        [
         "42",
         "156.5"
        ],
        [
         "43",
         "157.4"
        ],
        [
         "44",
         "162.3"
        ],
        [
         "45",
         "154.7"
        ],
        [
         "46",
         "155.6"
        ],
        [
         "47",
         "162.5"
        ],
        [
         "48",
         "177.3"
        ],
        [
         "49",
         "13.0"
        ]
       ],
       "shape": {
        "columns": 1,
        "rows": 200
       }
      },
      "text/plain": [
       "0      158.9\n",
       "1      166.5\n",
       "2      180.0\n",
       "3       13.0\n",
       "4      174.0\n",
       "       ...  \n",
       "195    153.9\n",
       "196    160.9\n",
       "197    153.9\n",
       "198    175.3\n",
       "199    155.7\n",
       "Name: Height, Length: 200, dtype: float64"
      ]
     },
     "execution_count": 716,
     "metadata": {},
     "output_type": "execute_result"
    }
   ],
   "source": [
    "mask_where(data=learn_pd_data,index_columns=learn_pd_data.columns[4],cond=learn_pd_data[learn_pd_data.columns[4]]>150,new_value=-12.999,logic='where').round(2).abs().clip(13,180)"
   ]
  },
  {
   "cell_type": "code",
   "execution_count": null,
   "id": "7927813b",
   "metadata": {},
   "outputs": [
    {
     "data": {
      "application/vnd.microsoft.datawrangler.viewer.v0+json": {
       "columns": [
        {
         "name": "index",
         "rawType": "object",
         "type": "string"
        },
        {
         "name": "Temperature",
         "rawType": "object",
         "type": "unknown"
        }
       ],
       "ref": "a06614c7-3b00-4d61-8e31-31fde4d3bb13",
       "rows": [
        [
         "Day 1",
         "13.4"
        ],
        [
         "Day 2",
         "13.96"
        ],
        [
         "Day 3",
         "14.21"
        ],
        [
         "Day 4",
         "14.49"
        ],
        [
         "Day 5",
         "15.25"
        ],
        [
         "Day 6",
         "15.56"
        ],
        [
         "Day 7",
         "16.1"
        ],
        [
         "Day 8",
         "16.5"
        ],
        [
         "Day 9",
         "16.2"
        ],
        [
         "Day 10",
         "15.8"
        ],
        [
         "Day 11",
         "15.52"
        ],
        [
         "Day 12",
         "15.12"
        ],
        [
         "Day 13",
         "14.14"
        ],
        [
         "Day 14",
         "13.31"
        ],
        [
         "Day 15",
         "Cold"
        ],
        [
         "Day 16",
         "Cold"
        ],
        [
         "Day 17",
         "Cold"
        ],
        [
         "Day 18",
         "Cold"
        ],
        [
         "Day 19",
         "Cold"
        ],
        [
         "Day 20",
         "13.56"
        ],
        [
         "Day 21",
         "14.83"
        ]
       ],
       "shape": {
        "columns": 1,
        "rows": 21
       }
      },
      "text/plain": [
       "Day 1      13.4\n",
       "Day 2     13.96\n",
       "Day 3     14.21\n",
       "Day 4     14.49\n",
       "Day 5     15.25\n",
       "Day 6     15.56\n",
       "Day 7      16.1\n",
       "Day 8      16.5\n",
       "Day 9      16.2\n",
       "Day 10     15.8\n",
       "Day 11    15.52\n",
       "Day 12    15.12\n",
       "Day 13    14.14\n",
       "Day 14    13.31\n",
       "Day 15     Cold\n",
       "Day 16     Cold\n",
       "Day 17     Cold\n",
       "Day 18     Cold\n",
       "Day 19     Cold\n",
       "Day 20    13.56\n",
       "Day 21    14.83\n",
       "Name: Temperature, dtype: object"
      ]
     },
     "execution_count": 717,
     "metadata": {},
     "output_type": "execute_result"
    }
   ],
   "source": [
    "#magic_land[magic_land.columns[2]]\n",
    "mask_where(data=magic_land,index_columns=magic_land_colums[2],cond=magic_land[magic_land_colums[2]]<13,new_value=\"Cold\",logic='mask')"
   ]
  },
  {
   "cell_type": "code",
   "execution_count": 987,
   "id": "705ddb89",
   "metadata": {},
   "outputs": [],
   "source": [
    "def sorting_data(data:pd.DataFrame,index_columns:list|None,set_index:list,ascending:bool|list):\n",
    "    if index_columns is None:\n",
    "      return data.sort_values(set_index,ascending=ascending)\n",
    "    if duplicated_data_includ_test(data=data,index=index_columns,index_another=set_index):\n",
    "     if type(ascending)==type([]):\n",
    "        if len(ascending)==len(set_index):\n",
    "         return data[index_columns].sort_values(set_index,ascending=ascending)\n",
    "        else:print(\"ascending and set_index length is not equal\")\n",
    "     else:data[index_columns].sort_values(level=set_index,ascending=ascending)\n",
    "    else :print(\"set index is not in index_columns\")\n"
   ]
  },
  {
   "cell_type": "code",
   "execution_count": 988,
   "id": "48349e7d",
   "metadata": {},
   "outputs": [
    {
     "data": {
      "application/vnd.microsoft.datawrangler.viewer.v0+json": {
       "columns": [
        {
         "name": "index",
         "rawType": "int64",
         "type": "integer"
        },
        {
         "name": "Grade",
         "rawType": "object",
         "type": "string"
        },
        {
         "name": "Test_Date",
         "rawType": "object",
         "type": "string"
        },
        {
         "name": "Height",
         "rawType": "float64",
         "type": "float"
        },
        {
         "name": "Weight",
         "rawType": "float64",
         "type": "float"
        }
       ],
       "ref": "50a8e35f-4008-4dc1-b970-602355903ac4",
       "rows": [
        [
         "185",
         "Freshman",
         "2019/12/10",
         "151.2",
         "43.0"
        ],
        [
         "125",
         "Freshman",
         "2019/11/24",
         "151.8",
         "38.0"
        ],
        [
         "63",
         "Freshman",
         "2019/10/31",
         "152.2",
         "43.0"
        ],
        [
         "108",
         "Freshman",
         "2019/12/8",
         "152.4",
         "38.0"
        ],
        [
         "157",
         "Freshman",
         "2019/9/11",
         "152.5",
         "45.0"
        ],
        [
         "140",
         "Freshman",
         "2019/11/30",
         "152.7",
         "43.0"
        ],
        [
         "121",
         "Freshman",
         "2019/11/12",
         "154.6",
         "40.0"
        ],
        [
         "45",
         "Freshman",
         "2019/11/28",
         "154.7",
         "43.0"
        ],
        [
         "136",
         "Freshman",
         "2019/9/28",
         "155.2",
         "44.0"
        ],
        [
         "15",
         "Freshman",
         "2020/1/1",
         "156.0",
         "49.0"
        ],
        [
         "62",
         "Freshman",
         "2019/9/7",
         "156.5",
         "43.0"
        ],
        [
         "67",
         "Freshman",
         "2019/11/9",
         "156.8",
         "42.0"
        ],
        [
         "43",
         "Freshman",
         "2019/12/30",
         "157.4",
         "46.0"
        ],
        [
         "5",
         "Freshman",
         "2019/10/31",
         "158.0",
         "51.0"
        ],
        [
         "149",
         "Freshman",
         "2019/10/19",
         "158.5",
         "49.0"
        ],
        [
         "0",
         "Freshman",
         "2019/10/5",
         "158.9",
         "46.0"
        ],
        [
         "142",
         "Freshman",
         "2019/9/17",
         "158.9",
         "44.0"
        ],
        [
         "148",
         "Freshman",
         "2019/9/17",
         "159.3",
         "49.0"
        ],
        [
         "57",
         "Freshman",
         "2019/12/9",
         "159.6",
         "45.0"
        ],
        [
         "114",
         "Freshman",
         "2019/9/25",
         "161.0",
         "53.0"
        ],
        [
         "51",
         "Freshman",
         "2019/12/10",
         "161.3",
         "47.0"
        ],
        [
         "44",
         "Freshman",
         "2019/12/10",
         "162.3",
         "51.0"
        ],
        [
         "54",
         "Freshman",
         "2019/11/29",
         "162.4",
         "58.0"
        ],
        [
         "6",
         "Freshman",
         "2019/12/12",
         "162.5",
         "52.0"
        ],
        [
         "47",
         "Freshman",
         "2019/9/14",
         "162.5",
         "53.0"
        ],
        [
         "32",
         "Freshman",
         "2019/9/12",
         "162.9",
         "48.0"
        ],
        [
         "8",
         "Freshman",
         "2020/1/5",
         "163.0",
         "48.0"
        ],
        [
         "119",
         "Freshman",
         "2019/9/23",
         "163.1",
         null
        ],
        [
         "70",
         "Freshman",
         "2019/11/19",
         "163.5",
         "55.0"
        ],
        [
         "33",
         "Freshman",
         "2019/11/5",
         "163.7",
         "49.0"
        ],
        [
         "96",
         "Freshman",
         "2019/11/8",
         "163.8",
         "56.0"
        ],
        [
         "88",
         "Freshman",
         "2019/12/18",
         "164.1",
         "53.0"
        ],
        [
         "34",
         "Freshman",
         "2019/10/21",
         "164.3",
         "51.0"
        ],
        [
         "105",
         "Freshman",
         "2019/12/11",
         "164.5",
         "52.0"
        ],
        [
         "141",
         "Freshman",
         "2019/9/8",
         "164.9",
         "52.0"
        ],
        [
         "81",
         "Freshman",
         "2019/9/13",
         "165.1",
         "52.0"
        ],
        [
         "1",
         "Freshman",
         "2019/9/4",
         "166.5",
         "70.0"
        ],
        [
         "146",
         "Freshman",
         "2019/9/30",
         "168.6",
         "55.0"
        ],
        [
         "28",
         "Freshman",
         "2020/1/7",
         "170.2",
         "63.0"
        ],
        [
         "153",
         "Freshman",
         "2019/10/6",
         "172.2",
         "75.0"
        ],
        [
         "10",
         "Freshman",
         "2019/9/29",
         "174.1",
         "74.0"
        ],
        [
         "35",
         "Freshman",
         "2019/10/8",
         "175.4",
         "78.0"
        ],
        [
         "73",
         "Freshman",
         "2019/9/26",
         "176.3",
         "74.0"
        ],
        [
         "184",
         "Freshman",
         "2019/12/6",
         "178.9",
         "80.0"
        ],
        [
         "117",
         "Freshman",
         "2020/1/7",
         "180.2",
         "83.0"
        ],
        [
         "99",
         "Freshman",
         "2019/10/24",
         "181.3",
         "83.0"
        ],
        [
         "38",
         "Freshman",
         "2020/1/7",
         "185.3",
         "87.0"
        ],
        [
         "36",
         "Freshman",
         "2019/12/10",
         null,
         "79.0"
        ],
        [
         "60",
         "Freshman",
         "2019/11/17",
         null,
         "65.0"
        ],
        [
         "111",
         "Freshman",
         "2019/11/30",
         null,
         "52.0"
        ]
       ],
       "shape": {
        "columns": 4,
        "rows": 200
       }
      },
      "text/html": [
       "<div>\n",
       "<style scoped>\n",
       "    .dataframe tbody tr th:only-of-type {\n",
       "        vertical-align: middle;\n",
       "    }\n",
       "\n",
       "    .dataframe tbody tr th {\n",
       "        vertical-align: top;\n",
       "    }\n",
       "\n",
       "    .dataframe thead th {\n",
       "        text-align: right;\n",
       "    }\n",
       "</style>\n",
       "<table border=\"1\" class=\"dataframe\">\n",
       "  <thead>\n",
       "    <tr style=\"text-align: right;\">\n",
       "      <th></th>\n",
       "      <th>Grade</th>\n",
       "      <th>Test_Date</th>\n",
       "      <th>Height</th>\n",
       "      <th>Weight</th>\n",
       "    </tr>\n",
       "  </thead>\n",
       "  <tbody>\n",
       "    <tr>\n",
       "      <th>185</th>\n",
       "      <td>Freshman</td>\n",
       "      <td>2019/12/10</td>\n",
       "      <td>151.2</td>\n",
       "      <td>43.0</td>\n",
       "    </tr>\n",
       "    <tr>\n",
       "      <th>125</th>\n",
       "      <td>Freshman</td>\n",
       "      <td>2019/11/24</td>\n",
       "      <td>151.8</td>\n",
       "      <td>38.0</td>\n",
       "    </tr>\n",
       "    <tr>\n",
       "      <th>63</th>\n",
       "      <td>Freshman</td>\n",
       "      <td>2019/10/31</td>\n",
       "      <td>152.2</td>\n",
       "      <td>43.0</td>\n",
       "    </tr>\n",
       "    <tr>\n",
       "      <th>108</th>\n",
       "      <td>Freshman</td>\n",
       "      <td>2019/12/8</td>\n",
       "      <td>152.4</td>\n",
       "      <td>38.0</td>\n",
       "    </tr>\n",
       "    <tr>\n",
       "      <th>157</th>\n",
       "      <td>Freshman</td>\n",
       "      <td>2019/9/11</td>\n",
       "      <td>152.5</td>\n",
       "      <td>45.0</td>\n",
       "    </tr>\n",
       "    <tr>\n",
       "      <th>...</th>\n",
       "      <td>...</td>\n",
       "      <td>...</td>\n",
       "      <td>...</td>\n",
       "      <td>...</td>\n",
       "    </tr>\n",
       "    <tr>\n",
       "      <th>3</th>\n",
       "      <td>Sophomore</td>\n",
       "      <td>2020/1/3</td>\n",
       "      <td>NaN</td>\n",
       "      <td>41.0</td>\n",
       "    </tr>\n",
       "    <tr>\n",
       "      <th>91</th>\n",
       "      <td>Sophomore</td>\n",
       "      <td>2019/9/7</td>\n",
       "      <td>NaN</td>\n",
       "      <td>NaN</td>\n",
       "    </tr>\n",
       "    <tr>\n",
       "      <th>98</th>\n",
       "      <td>Sophomore</td>\n",
       "      <td>2019/11/3</td>\n",
       "      <td>NaN</td>\n",
       "      <td>68.0</td>\n",
       "    </tr>\n",
       "    <tr>\n",
       "      <th>178</th>\n",
       "      <td>Sophomore</td>\n",
       "      <td>2020/1/7</td>\n",
       "      <td>NaN</td>\n",
       "      <td>76.0</td>\n",
       "    </tr>\n",
       "    <tr>\n",
       "      <th>181</th>\n",
       "      <td>Sophomore</td>\n",
       "      <td>2019/11/23</td>\n",
       "      <td>NaN</td>\n",
       "      <td>55.0</td>\n",
       "    </tr>\n",
       "  </tbody>\n",
       "</table>\n",
       "<p>200 rows × 4 columns</p>\n",
       "</div>"
      ],
      "text/plain": [
       "         Grade   Test_Date  Height  Weight\n",
       "185   Freshman  2019/12/10   151.2    43.0\n",
       "125   Freshman  2019/11/24   151.8    38.0\n",
       "63    Freshman  2019/10/31   152.2    43.0\n",
       "108   Freshman   2019/12/8   152.4    38.0\n",
       "157   Freshman   2019/9/11   152.5    45.0\n",
       "..         ...         ...     ...     ...\n",
       "3    Sophomore    2020/1/3     NaN    41.0\n",
       "91   Sophomore    2019/9/7     NaN     NaN\n",
       "98   Sophomore   2019/11/3     NaN    68.0\n",
       "178  Sophomore    2020/1/7     NaN    76.0\n",
       "181  Sophomore  2019/11/23     NaN    55.0\n",
       "\n",
       "[200 rows x 4 columns]"
      ]
     },
     "execution_count": 988,
     "metadata": {},
     "output_type": "execute_result"
    }
   ],
   "source": [
    "sorting_data(data=learn_pd_data,index_columns=[learn_pd_data.columns[1],learn_pd_data.columns[8],learn_pd_data.columns[4],\n",
    "            learn_pd_data.columns[5]],set_index=[learn_pd_data.columns[1],learn_pd_data.columns[4]],ascending=[True,True])"
   ]
  },
  {
   "cell_type": "code",
   "execution_count": 989,
   "id": "cb249710",
   "metadata": {},
   "outputs": [
    {
     "data": {
      "application/vnd.microsoft.datawrangler.viewer.v0+json": {
       "columns": [
        {
         "name": "index",
         "rawType": "int64",
         "type": "integer"
        },
        {
         "name": "Height",
         "rawType": "float64",
         "type": "float"
        },
        {
         "name": "Weight",
         "rawType": "float64",
         "type": "float"
        }
       ],
       "ref": "43e89228-0386-4296-86db-22e6846d6d46",
       "rows": [
        [
         "143",
         "145.4",
         "34.0"
        ],
        [
         "49",
         "147.3",
         "34.0"
        ],
        [
         "120",
         "147.8",
         "34.0"
        ],
        [
         "30",
         "148.7",
         "41.0"
        ],
        [
         "139",
         "150.5",
         "36.0"
        ],
        [
         "80",
         "150.5",
         "40.0"
        ],
        [
         "185",
         "151.2",
         "43.0"
        ],
        [
         "89",
         "151.5",
         "44.0"
        ],
        [
         "29",
         "151.6",
         "43.0"
        ],
        [
         "39",
         "151.7",
         "38.0"
        ],
        [
         "125",
         "151.8",
         "38.0"
        ],
        [
         "56",
         "152.1",
         "42.0"
        ],
        [
         "63",
         "152.2",
         "43.0"
        ],
        [
         "108",
         "152.4",
         "38.0"
        ],
        [
         "157",
         "152.5",
         "45.0"
        ],
        [
         "140",
         "152.7",
         "43.0"
        ],
        [
         "124",
         "152.9",
         "44.0"
        ],
        [
         "11",
         "153.2",
         "43.0"
        ],
        [
         "155",
         "153.2",
         "44.0"
        ],
        [
         "103",
         "153.6",
         null
        ],
        [
         "197",
         "153.9",
         "45.0"
        ],
        [
         "195",
         "153.9",
         "46.0"
        ],
        [
         "126",
         "154.0",
         "40.0"
        ],
        [
         "83",
         "154.2",
         "39.0"
        ],
        [
         "175",
         "154.2",
         "41.0"
        ],
        [
         "106",
         "154.3",
         "40.0"
        ],
        [
         "166",
         "154.3",
         "46.0"
        ],
        [
         "121",
         "154.6",
         "40.0"
        ],
        [
         "45",
         "154.7",
         "43.0"
        ],
        [
         "173",
         "154.8",
         "44.0"
        ],
        [
         "136",
         "155.2",
         "44.0"
        ],
        [
         "79",
         "155.3",
         "46.0"
        ],
        [
         "46",
         "155.6",
         "47.0"
        ],
        [
         "168",
         "155.7",
         "47.0"
        ],
        [
         "199",
         "155.7",
         "51.0"
        ],
        [
         "159",
         "156.0",
         "44.0"
        ],
        [
         "156",
         "156.0",
         "47.0"
        ],
        [
         "15",
         "156.0",
         "49.0"
        ],
        [
         "151",
         "156.4",
         "43.0"
        ],
        [
         "25",
         "156.5",
         "42.0"
        ],
        [
         "62",
         "156.5",
         "43.0"
        ],
        [
         "42",
         "156.5",
         "44.0"
        ],
        [
         "67",
         "156.8",
         "42.0"
        ],
        [
         "90",
         "156.8",
         "43.0"
        ],
        [
         "167",
         "157.0",
         "43.0"
        ],
        [
         "144",
         "157.0",
         "44.0"
        ],
        [
         "59",
         "157.3",
         "48.0"
        ],
        [
         "43",
         "157.4",
         "46.0"
        ],
        [
         "164",
         "157.5",
         "48.0"
        ],
        [
         "123",
         "157.7",
         null
        ]
       ],
       "shape": {
        "columns": 2,
        "rows": 200
       }
      },
      "text/html": [
       "<div>\n",
       "<style scoped>\n",
       "    .dataframe tbody tr th:only-of-type {\n",
       "        vertical-align: middle;\n",
       "    }\n",
       "\n",
       "    .dataframe tbody tr th {\n",
       "        vertical-align: top;\n",
       "    }\n",
       "\n",
       "    .dataframe thead th {\n",
       "        text-align: right;\n",
       "    }\n",
       "</style>\n",
       "<table border=\"1\" class=\"dataframe\">\n",
       "  <thead>\n",
       "    <tr style=\"text-align: right;\">\n",
       "      <th></th>\n",
       "      <th>Height</th>\n",
       "      <th>Weight</th>\n",
       "    </tr>\n",
       "  </thead>\n",
       "  <tbody>\n",
       "    <tr>\n",
       "      <th>143</th>\n",
       "      <td>145.4</td>\n",
       "      <td>34.0</td>\n",
       "    </tr>\n",
       "    <tr>\n",
       "      <th>49</th>\n",
       "      <td>147.3</td>\n",
       "      <td>34.0</td>\n",
       "    </tr>\n",
       "    <tr>\n",
       "      <th>120</th>\n",
       "      <td>147.8</td>\n",
       "      <td>34.0</td>\n",
       "    </tr>\n",
       "    <tr>\n",
       "      <th>30</th>\n",
       "      <td>148.7</td>\n",
       "      <td>41.0</td>\n",
       "    </tr>\n",
       "    <tr>\n",
       "      <th>139</th>\n",
       "      <td>150.5</td>\n",
       "      <td>36.0</td>\n",
       "    </tr>\n",
       "    <tr>\n",
       "      <th>...</th>\n",
       "      <td>...</td>\n",
       "      <td>...</td>\n",
       "    </tr>\n",
       "    <tr>\n",
       "      <th>98</th>\n",
       "      <td>NaN</td>\n",
       "      <td>68.0</td>\n",
       "    </tr>\n",
       "    <tr>\n",
       "      <th>178</th>\n",
       "      <td>NaN</td>\n",
       "      <td>76.0</td>\n",
       "    </tr>\n",
       "    <tr>\n",
       "      <th>36</th>\n",
       "      <td>NaN</td>\n",
       "      <td>79.0</td>\n",
       "    </tr>\n",
       "    <tr>\n",
       "      <th>91</th>\n",
       "      <td>NaN</td>\n",
       "      <td>NaN</td>\n",
       "    </tr>\n",
       "    <tr>\n",
       "      <th>102</th>\n",
       "      <td>NaN</td>\n",
       "      <td>NaN</td>\n",
       "    </tr>\n",
       "  </tbody>\n",
       "</table>\n",
       "<p>200 rows × 2 columns</p>\n",
       "</div>"
      ],
      "text/plain": [
       "     Height  Weight\n",
       "143   145.4    34.0\n",
       "49    147.3    34.0\n",
       "120   147.8    34.0\n",
       "30    148.7    41.0\n",
       "139   150.5    36.0\n",
       "..      ...     ...\n",
       "98      NaN    68.0\n",
       "178     NaN    76.0\n",
       "36      NaN    79.0\n",
       "91      NaN     NaN\n",
       "102     NaN     NaN\n",
       "\n",
       "[200 rows x 2 columns]"
      ]
     },
     "execution_count": 989,
     "metadata": {},
     "output_type": "execute_result"
    }
   ],
   "source": [
    "sorting_data(data=learn_pd_data,index_columns=[learn_pd_data.columns[4],learn_pd_data.columns[5]],set_index=[learn_pd_data.columns[4],learn_pd_data.columns[5]],ascending=[True,True])"
   ]
  },
  {
   "cell_type": "code",
   "execution_count": null,
   "id": "ff37115e",
   "metadata": {},
   "outputs": [
    {
     "data": {
      "application/vnd.microsoft.datawrangler.viewer.v0+json": {
       "columns": [
        {
         "name": "index",
         "rawType": "object",
         "type": "string"
        },
        {
         "name": "Week",
         "rawType": "object",
         "type": "string"
        },
        {
         "name": "Temperature",
         "rawType": "float64",
         "type": "float"
        }
       ],
       "ref": "4f586248-a0d6-4495-9bbb-553ca2ed93ba",
       "rows": [
        [
         "Day 19",
         "Friday",
         "12.89"
        ],
        [
         "Day 12",
         "Friday",
         "15.12"
        ],
        [
         "Day 5",
         "Friday",
         "15.25"
        ],
        [
         "Day 15",
         "Monday",
         "12.11"
        ],
        [
         "Day 1",
         "Monday",
         "13.4"
        ],
        [
         "Day 8",
         "Monday",
         "16.5"
        ],
        [
         "Day 20",
         "Saturday",
         "13.56"
        ],
        [
         "Day 13",
         "Saturday",
         "14.14"
        ],
        [
         "Day 6",
         "Saturday",
         "15.56"
        ],
        [
         "Day 14",
         "Sunday",
         "13.31"
        ],
        [
         "Day 21",
         "Sunday",
         "14.83"
        ],
        [
         "Day 7",
         "Sunday",
         "16.1"
        ],
        [
         "Day 18",
         "Thursday",
         "12.24"
        ],
        [
         "Day 4",
         "Thursday",
         "14.49"
        ],
        [
         "Day 11",
         "Thursday",
         "15.52"
        ],
        [
         "Day 16",
         "Tuesday",
         "11.48"
        ],
        [
         "Day 2",
         "Tuesday",
         "13.96"
        ],
        [
         "Day 9",
         "Tuesday",
         "16.2"
        ],
        [
         "Day 17",
         "Wednesday",
         "11.96"
        ],
        [
         "Day 3",
         "Wednesday",
         "14.21"
        ],
        [
         "Day 10",
         "Wednesday",
         "15.8"
        ]
       ],
       "shape": {
        "columns": 2,
        "rows": 21
       }
      },
      "text/html": [
       "<div>\n",
       "<style scoped>\n",
       "    .dataframe tbody tr th:only-of-type {\n",
       "        vertical-align: middle;\n",
       "    }\n",
       "\n",
       "    .dataframe tbody tr th {\n",
       "        vertical-align: top;\n",
       "    }\n",
       "\n",
       "    .dataframe thead th {\n",
       "        text-align: right;\n",
       "    }\n",
       "</style>\n",
       "<table border=\"1\" class=\"dataframe\">\n",
       "  <thead>\n",
       "    <tr style=\"text-align: right;\">\n",
       "      <th></th>\n",
       "      <th>Week</th>\n",
       "      <th>Temperature</th>\n",
       "    </tr>\n",
       "  </thead>\n",
       "  <tbody>\n",
       "    <tr>\n",
       "      <th>Day 19</th>\n",
       "      <td>Friday</td>\n",
       "      <td>12.89</td>\n",
       "    </tr>\n",
       "    <tr>\n",
       "      <th>Day 12</th>\n",
       "      <td>Friday</td>\n",
       "      <td>15.12</td>\n",
       "    </tr>\n",
       "    <tr>\n",
       "      <th>Day 5</th>\n",
       "      <td>Friday</td>\n",
       "      <td>15.25</td>\n",
       "    </tr>\n",
       "    <tr>\n",
       "      <th>Day 15</th>\n",
       "      <td>Monday</td>\n",
       "      <td>12.11</td>\n",
       "    </tr>\n",
       "    <tr>\n",
       "      <th>Day 1</th>\n",
       "      <td>Monday</td>\n",
       "      <td>13.40</td>\n",
       "    </tr>\n",
       "    <tr>\n",
       "      <th>Day 8</th>\n",
       "      <td>Monday</td>\n",
       "      <td>16.50</td>\n",
       "    </tr>\n",
       "    <tr>\n",
       "      <th>Day 20</th>\n",
       "      <td>Saturday</td>\n",
       "      <td>13.56</td>\n",
       "    </tr>\n",
       "    <tr>\n",
       "      <th>Day 13</th>\n",
       "      <td>Saturday</td>\n",
       "      <td>14.14</td>\n",
       "    </tr>\n",
       "    <tr>\n",
       "      <th>Day 6</th>\n",
       "      <td>Saturday</td>\n",
       "      <td>15.56</td>\n",
       "    </tr>\n",
       "    <tr>\n",
       "      <th>Day 14</th>\n",
       "      <td>Sunday</td>\n",
       "      <td>13.31</td>\n",
       "    </tr>\n",
       "    <tr>\n",
       "      <th>Day 21</th>\n",
       "      <td>Sunday</td>\n",
       "      <td>14.83</td>\n",
       "    </tr>\n",
       "    <tr>\n",
       "      <th>Day 7</th>\n",
       "      <td>Sunday</td>\n",
       "      <td>16.10</td>\n",
       "    </tr>\n",
       "    <tr>\n",
       "      <th>Day 18</th>\n",
       "      <td>Thursday</td>\n",
       "      <td>12.24</td>\n",
       "    </tr>\n",
       "    <tr>\n",
       "      <th>Day 4</th>\n",
       "      <td>Thursday</td>\n",
       "      <td>14.49</td>\n",
       "    </tr>\n",
       "    <tr>\n",
       "      <th>Day 11</th>\n",
       "      <td>Thursday</td>\n",
       "      <td>15.52</td>\n",
       "    </tr>\n",
       "    <tr>\n",
       "      <th>Day 16</th>\n",
       "      <td>Tuesday</td>\n",
       "      <td>11.48</td>\n",
       "    </tr>\n",
       "    <tr>\n",
       "      <th>Day 2</th>\n",
       "      <td>Tuesday</td>\n",
       "      <td>13.96</td>\n",
       "    </tr>\n",
       "    <tr>\n",
       "      <th>Day 9</th>\n",
       "      <td>Tuesday</td>\n",
       "      <td>16.20</td>\n",
       "    </tr>\n",
       "    <tr>\n",
       "      <th>Day 17</th>\n",
       "      <td>Wednesday</td>\n",
       "      <td>11.96</td>\n",
       "    </tr>\n",
       "    <tr>\n",
       "      <th>Day 3</th>\n",
       "      <td>Wednesday</td>\n",
       "      <td>14.21</td>\n",
       "    </tr>\n",
       "    <tr>\n",
       "      <th>Day 10</th>\n",
       "      <td>Wednesday</td>\n",
       "      <td>15.80</td>\n",
       "    </tr>\n",
       "  </tbody>\n",
       "</table>\n",
       "</div>"
      ],
      "text/plain": [
       "             Week  Temperature\n",
       "Day 19     Friday        12.89\n",
       "Day 12     Friday        15.12\n",
       "Day 5      Friday        15.25\n",
       "Day 15     Monday        12.11\n",
       "Day 1      Monday        13.40\n",
       "Day 8      Monday        16.50\n",
       "Day 20   Saturday        13.56\n",
       "Day 13   Saturday        14.14\n",
       "Day 6    Saturday        15.56\n",
       "Day 14     Sunday        13.31\n",
       "Day 21     Sunday        14.83\n",
       "Day 7      Sunday        16.10\n",
       "Day 18   Thursday        12.24\n",
       "Day 4    Thursday        14.49\n",
       "Day 11   Thursday        15.52\n",
       "Day 16    Tuesday        11.48\n",
       "Day 2     Tuesday        13.96\n",
       "Day 9     Tuesday        16.20\n",
       "Day 17  Wednesday        11.96\n",
       "Day 3   Wednesday        14.21\n",
       "Day 10  Wednesday        15.80"
      ]
     },
     "execution_count": 721,
     "metadata": {},
     "output_type": "execute_result"
    }
   ],
   "source": [
    "sorting_data(data=magic_land,index_columns=[magic_land_colums[0],magic_land_colums[2]],set_index=[magic_land_colums[0],magic_land_colums[2]],ascending=[True,True])\n"
   ]
  },
  {
   "cell_type": "code",
   "execution_count": null,
   "id": "262b4384",
   "metadata": {},
   "outputs": [],
   "source": [
    "def data_set_index(data:pd.DataFrame,index_columns:list,set_indx:list):\n",
    "    if duplicated_data_includ_test(data=data,index=index_columns,index_another=set_indx):\n",
    "        return data[index_columns].set_index(set_indx)\n",
    "    else:print(\"set index is not in index_columns\")"
   ]
  },
  {
   "cell_type": "code",
   "execution_count": null,
   "id": "eb435fe0",
   "metadata": {},
   "outputs": [
    {
     "data": {
      "application/vnd.microsoft.datawrangler.viewer.v0+json": {
       "columns": [
        {
         "name": "Grade",
         "rawType": "object",
         "type": "string"
        },
        {
         "name": "Test_Date",
         "rawType": "object",
         "type": "string"
        },
        {
         "name": "Height",
         "rawType": "float64",
         "type": "float"
        }
       ],
       "ref": "b1cec42d-ebf9-4936-8501-bed34999d9c6",
       "rows": [
        [
         "Freshman",
         "2019/10/5",
         "158.9"
        ],
        [
         "Freshman",
         "2019/9/4",
         "166.5"
        ],
        [
         "Senior",
         "2019/9/12",
         "188.9"
        ],
        [
         "Sophomore",
         "2020/1/3",
         null
        ],
        [
         "Sophomore",
         "2019/11/6",
         "174.0"
        ],
        [
         "Freshman",
         "2019/10/31",
         "158.0"
        ],
        [
         "Freshman",
         "2019/12/12",
         "162.5"
        ],
        [
         "Junior",
         "2019/9/3",
         "161.9"
        ],
        [
         "Freshman",
         "2020/1/5",
         "163.0"
        ],
        [
         "Junior",
         "2019/10/5",
         "164.8"
        ],
        [
         "Freshman",
         "2019/9/29",
         "174.1"
        ],
        [
         "Junior",
         "2019/9/16",
         "153.2"
        ],
        [
         "Senior",
         "2019/10/20",
         null
        ],
        [
         "Sophomore",
         "2019/9/19",
         "160.1"
        ],
        [
         "Senior",
         "2019/12/29",
         "165.3"
        ],
        [
         "Freshman",
         "2020/1/1",
         "156.0"
        ],
        [
         "Junior",
         "2019/9/11",
         "170.1"
        ],
        [
         "Junior",
         "2019/11/2",
         "162.8"
        ],
        [
         "Senior",
         "2019/11/4",
         "170.3"
        ],
        [
         "Senior",
         "2019/9/30",
         "162.4"
        ],
        [
         "Junior",
         "2019/10/5",
         "161.4"
        ],
        [
         "Senior",
         "2020/1/2",
         "166.0"
        ],
        [
         "Senior",
         "2019/11/29",
         "166.1"
        ],
        [
         "Senior",
         "2019/12/5",
         "183.9"
        ],
        [
         "Senior",
         "2019/11/17",
         "167.4"
        ],
        [
         "Senior",
         "2019/11/19",
         "156.5"
        ],
        [
         "Junior",
         "2019/9/23",
         null
        ],
        [
         "Junior",
         "2019/12/11",
         "163.1"
        ],
        [
         "Freshman",
         "2020/1/7",
         "170.2"
        ],
        [
         "Sophomore",
         "2020/1/3",
         "151.6"
        ],
        [
         "Senior",
         "2019/11/13",
         "148.7"
        ],
        [
         "Junior",
         "2019/12/20",
         "165.6"
        ],
        [
         "Freshman",
         "2019/9/12",
         "162.9"
        ],
        [
         "Freshman",
         "2019/11/5",
         "163.7"
        ],
        [
         "Freshman",
         "2019/10/21",
         "164.3"
        ],
        [
         "Freshman",
         "2019/10/8",
         "175.4"
        ],
        [
         "Freshman",
         "2019/12/10",
         null
        ],
        [
         "Sophomore",
         "2019/10/1",
         "158.3"
        ],
        [
         "Freshman",
         "2020/1/7",
         "185.3"
        ],
        [
         "Senior",
         "2019/11/1",
         "151.7"
        ],
        [
         "Sophomore",
         "2019/10/7",
         "175.0"
        ],
        [
         "Junior",
         "2019/10/16",
         "168.6"
        ],
        [
         "Junior",
         "2019/9/13",
         "156.5"
        ],
        [
         "Freshman",
         "2019/12/30",
         "157.4"
        ],
        [
         "Freshman",
         "2019/12/10",
         "162.3"
        ],
        [
         "Freshman",
         "2019/11/28",
         "154.7"
        ],
        [
         "Senior",
         "2019/11/18",
         "155.6"
        ],
        [
         "Freshman",
         "2019/9/14",
         "162.5"
        ],
        [
         "Sophomore",
         "2019/11/10",
         "177.3"
        ],
        [
         "Senior",
         "2019/10/16",
         "147.3"
        ]
       ],
       "shape": {
        "columns": 2,
        "rows": 200
       }
      },
      "text/html": [
       "<div>\n",
       "<style scoped>\n",
       "    .dataframe tbody tr th:only-of-type {\n",
       "        vertical-align: middle;\n",
       "    }\n",
       "\n",
       "    .dataframe tbody tr th {\n",
       "        vertical-align: top;\n",
       "    }\n",
       "\n",
       "    .dataframe thead th {\n",
       "        text-align: right;\n",
       "    }\n",
       "</style>\n",
       "<table border=\"1\" class=\"dataframe\">\n",
       "  <thead>\n",
       "    <tr style=\"text-align: right;\">\n",
       "      <th></th>\n",
       "      <th>Test_Date</th>\n",
       "      <th>Height</th>\n",
       "    </tr>\n",
       "    <tr>\n",
       "      <th>Grade</th>\n",
       "      <th></th>\n",
       "      <th></th>\n",
       "    </tr>\n",
       "  </thead>\n",
       "  <tbody>\n",
       "    <tr>\n",
       "      <th>Freshman</th>\n",
       "      <td>2019/10/5</td>\n",
       "      <td>158.9</td>\n",
       "    </tr>\n",
       "    <tr>\n",
       "      <th>Freshman</th>\n",
       "      <td>2019/9/4</td>\n",
       "      <td>166.5</td>\n",
       "    </tr>\n",
       "    <tr>\n",
       "      <th>Senior</th>\n",
       "      <td>2019/9/12</td>\n",
       "      <td>188.9</td>\n",
       "    </tr>\n",
       "    <tr>\n",
       "      <th>Sophomore</th>\n",
       "      <td>2020/1/3</td>\n",
       "      <td>NaN</td>\n",
       "    </tr>\n",
       "    <tr>\n",
       "      <th>Sophomore</th>\n",
       "      <td>2019/11/6</td>\n",
       "      <td>174.0</td>\n",
       "    </tr>\n",
       "    <tr>\n",
       "      <th>...</th>\n",
       "      <td>...</td>\n",
       "      <td>...</td>\n",
       "    </tr>\n",
       "    <tr>\n",
       "      <th>Junior</th>\n",
       "      <td>2019/10/17</td>\n",
       "      <td>153.9</td>\n",
       "    </tr>\n",
       "    <tr>\n",
       "      <th>Senior</th>\n",
       "      <td>2019/9/22</td>\n",
       "      <td>160.9</td>\n",
       "    </tr>\n",
       "    <tr>\n",
       "      <th>Senior</th>\n",
       "      <td>2020/1/5</td>\n",
       "      <td>153.9</td>\n",
       "    </tr>\n",
       "    <tr>\n",
       "      <th>Senior</th>\n",
       "      <td>2020/1/7</td>\n",
       "      <td>175.3</td>\n",
       "    </tr>\n",
       "    <tr>\n",
       "      <th>Sophomore</th>\n",
       "      <td>2019/11/6</td>\n",
       "      <td>155.7</td>\n",
       "    </tr>\n",
       "  </tbody>\n",
       "</table>\n",
       "<p>200 rows × 2 columns</p>\n",
       "</div>"
      ],
      "text/plain": [
       "            Test_Date  Height\n",
       "Grade                        \n",
       "Freshman    2019/10/5   158.9\n",
       "Freshman     2019/9/4   166.5\n",
       "Senior      2019/9/12   188.9\n",
       "Sophomore    2020/1/3     NaN\n",
       "Sophomore   2019/11/6   174.0\n",
       "...               ...     ...\n",
       "Junior     2019/10/17   153.9\n",
       "Senior      2019/9/22   160.9\n",
       "Senior       2020/1/5   153.9\n",
       "Senior       2020/1/7   175.3\n",
       "Sophomore   2019/11/6   155.7\n",
       "\n",
       "[200 rows x 2 columns]"
      ]
     },
     "execution_count": 723,
     "metadata": {},
     "output_type": "execute_result"
    }
   ],
   "source": [
    "data_set_index(data=learn_pd_data,index_columns=[learn_pd_data.columns[1],learn_pd_data.columns[8],learn_pd_data.columns[4]],set_indx=[learn_pd_data.columns[1]])\n"
   ]
  },
  {
   "cell_type": "code",
   "execution_count": null,
   "id": "f19c023f",
   "metadata": {},
   "outputs": [
    {
     "data": {
      "application/vnd.microsoft.datawrangler.viewer.v0+json": {
       "columns": [
        {
         "name": "Week",
         "rawType": "object",
         "type": "string"
        },
        {
         "name": "Temperature",
         "rawType": "float64",
         "type": "float"
        }
       ],
       "ref": "4544bdf1-0a4d-49d3-a327-c583db605009",
       "rows": [
        [
         "Monday",
         "13.4"
        ],
        [
         "Tuesday",
         "13.96"
        ],
        [
         "Wednesday",
         "14.21"
        ],
        [
         "Thursday",
         "14.49"
        ],
        [
         "Friday",
         "15.25"
        ],
        [
         "Saturday",
         "15.56"
        ],
        [
         "Sunday",
         "16.1"
        ],
        [
         "Monday",
         "16.5"
        ],
        [
         "Tuesday",
         "16.2"
        ],
        [
         "Wednesday",
         "15.8"
        ],
        [
         "Thursday",
         "15.52"
        ],
        [
         "Friday",
         "15.12"
        ],
        [
         "Saturday",
         "14.14"
        ],
        [
         "Sunday",
         "13.31"
        ],
        [
         "Monday",
         "12.11"
        ],
        [
         "Tuesday",
         "11.48"
        ],
        [
         "Wednesday",
         "11.96"
        ],
        [
         "Thursday",
         "12.24"
        ],
        [
         "Friday",
         "12.89"
        ],
        [
         "Saturday",
         "13.56"
        ],
        [
         "Sunday",
         "14.83"
        ]
       ],
       "shape": {
        "columns": 1,
        "rows": 21
       }
      },
      "text/html": [
       "<div>\n",
       "<style scoped>\n",
       "    .dataframe tbody tr th:only-of-type {\n",
       "        vertical-align: middle;\n",
       "    }\n",
       "\n",
       "    .dataframe tbody tr th {\n",
       "        vertical-align: top;\n",
       "    }\n",
       "\n",
       "    .dataframe thead th {\n",
       "        text-align: right;\n",
       "    }\n",
       "</style>\n",
       "<table border=\"1\" class=\"dataframe\">\n",
       "  <thead>\n",
       "    <tr style=\"text-align: right;\">\n",
       "      <th></th>\n",
       "      <th>Temperature</th>\n",
       "    </tr>\n",
       "    <tr>\n",
       "      <th>Week</th>\n",
       "      <th></th>\n",
       "    </tr>\n",
       "  </thead>\n",
       "  <tbody>\n",
       "    <tr>\n",
       "      <th>Monday</th>\n",
       "      <td>13.40</td>\n",
       "    </tr>\n",
       "    <tr>\n",
       "      <th>Tuesday</th>\n",
       "      <td>13.96</td>\n",
       "    </tr>\n",
       "    <tr>\n",
       "      <th>Wednesday</th>\n",
       "      <td>14.21</td>\n",
       "    </tr>\n",
       "    <tr>\n",
       "      <th>Thursday</th>\n",
       "      <td>14.49</td>\n",
       "    </tr>\n",
       "    <tr>\n",
       "      <th>Friday</th>\n",
       "      <td>15.25</td>\n",
       "    </tr>\n",
       "    <tr>\n",
       "      <th>Saturday</th>\n",
       "      <td>15.56</td>\n",
       "    </tr>\n",
       "    <tr>\n",
       "      <th>Sunday</th>\n",
       "      <td>16.10</td>\n",
       "    </tr>\n",
       "    <tr>\n",
       "      <th>Monday</th>\n",
       "      <td>16.50</td>\n",
       "    </tr>\n",
       "    <tr>\n",
       "      <th>Tuesday</th>\n",
       "      <td>16.20</td>\n",
       "    </tr>\n",
       "    <tr>\n",
       "      <th>Wednesday</th>\n",
       "      <td>15.80</td>\n",
       "    </tr>\n",
       "    <tr>\n",
       "      <th>Thursday</th>\n",
       "      <td>15.52</td>\n",
       "    </tr>\n",
       "    <tr>\n",
       "      <th>Friday</th>\n",
       "      <td>15.12</td>\n",
       "    </tr>\n",
       "    <tr>\n",
       "      <th>Saturday</th>\n",
       "      <td>14.14</td>\n",
       "    </tr>\n",
       "    <tr>\n",
       "      <th>Sunday</th>\n",
       "      <td>13.31</td>\n",
       "    </tr>\n",
       "    <tr>\n",
       "      <th>Monday</th>\n",
       "      <td>12.11</td>\n",
       "    </tr>\n",
       "    <tr>\n",
       "      <th>Tuesday</th>\n",
       "      <td>11.48</td>\n",
       "    </tr>\n",
       "    <tr>\n",
       "      <th>Wednesday</th>\n",
       "      <td>11.96</td>\n",
       "    </tr>\n",
       "    <tr>\n",
       "      <th>Thursday</th>\n",
       "      <td>12.24</td>\n",
       "    </tr>\n",
       "    <tr>\n",
       "      <th>Friday</th>\n",
       "      <td>12.89</td>\n",
       "    </tr>\n",
       "    <tr>\n",
       "      <th>Saturday</th>\n",
       "      <td>13.56</td>\n",
       "    </tr>\n",
       "    <tr>\n",
       "      <th>Sunday</th>\n",
       "      <td>14.83</td>\n",
       "    </tr>\n",
       "  </tbody>\n",
       "</table>\n",
       "</div>"
      ],
      "text/plain": [
       "           Temperature\n",
       "Week                  \n",
       "Monday           13.40\n",
       "Tuesday          13.96\n",
       "Wednesday        14.21\n",
       "Thursday         14.49\n",
       "Friday           15.25\n",
       "Saturday         15.56\n",
       "Sunday           16.10\n",
       "Monday           16.50\n",
       "Tuesday          16.20\n",
       "Wednesday        15.80\n",
       "Thursday         15.52\n",
       "Friday           15.12\n",
       "Saturday         14.14\n",
       "Sunday           13.31\n",
       "Monday           12.11\n",
       "Tuesday          11.48\n",
       "Wednesday        11.96\n",
       "Thursday         12.24\n",
       "Friday           12.89\n",
       "Saturday         13.56\n",
       "Sunday           14.83"
      ]
     },
     "execution_count": 724,
     "metadata": {},
     "output_type": "execute_result"
    }
   ],
   "source": [
    "data_set_index(data=magic_land,index_columns=[magic_land_colums[0],magic_land_colums[2]],set_indx=[magic_land_colums[0]])"
   ]
  },
  {
   "cell_type": "code",
   "execution_count": null,
   "id": "2987f68f",
   "metadata": {},
   "outputs": [
    {
     "data": {
      "application/vnd.microsoft.datawrangler.viewer.v0+json": {
       "columns": [
        {
         "name": "index",
         "rawType": "int64",
         "type": "integer"
        },
        {
         "name": "Grade",
         "rawType": "object",
         "type": "string"
        },
        {
         "name": "Time_Record",
         "rawType": "object",
         "type": "string"
        },
        {
         "name": "Height",
         "rawType": "float64",
         "type": "float"
        },
        {
         "name": "Weight",
         "rawType": "float64",
         "type": "float"
        }
       ],
       "ref": "a3678fb3-6a59-4a67-b139-0dca8b9ba541",
       "rows": [
        [
         "136",
         "Freshman",
         "0:05:27",
         "155.2",
         "44.0"
        ],
        [
         "140",
         "Freshman",
         "0:05:27",
         "152.7",
         "43.0"
        ],
        [
         "149",
         "Freshman",
         "0:05:26",
         "158.5",
         "49.0"
        ],
        [
         "15",
         "Freshman",
         "0:05:25",
         "156.0",
         "49.0"
        ],
        [
         "28",
         "Freshman",
         "0:05:24",
         "170.2",
         "63.0"
        ],
        [
         "111",
         "Freshman",
         "0:05:21",
         null,
         "52.0"
        ],
        [
         "88",
         "Freshman",
         "0:05:20",
         "164.1",
         "53.0"
        ],
        [
         "67",
         "Freshman",
         "0:05:18",
         "156.8",
         "42.0"
        ],
        [
         "10",
         "Freshman",
         "0:05:16",
         "174.1",
         "74.0"
        ],
        [
         "8",
         "Freshman",
         "0:05:13",
         "163.0",
         "48.0"
        ],
        [
         "114",
         "Freshman",
         "0:05:13",
         "161.0",
         "53.0"
        ],
        [
         "142",
         "Freshman",
         "0:05:11",
         "158.9",
         "44.0"
        ],
        [
         "146",
         "Freshman",
         "0:05:06",
         "168.6",
         "55.0"
        ],
        [
         "81",
         "Freshman",
         "0:05:05",
         "165.1",
         "52.0"
        ],
        [
         "133",
         "Freshman",
         "0:05:04",
         null,
         "41.0"
        ],
        [
         "108",
         "Freshman",
         "0:05:03",
         "152.4",
         "38.0"
        ],
        [
         "51",
         "Freshman",
         "0:05:02",
         "161.3",
         "47.0"
        ],
        [
         "32",
         "Freshman",
         "0:04:58",
         "162.9",
         "48.0"
        ],
        [
         "47",
         "Freshman",
         "0:04:48",
         "162.5",
         "53.0"
        ],
        [
         "45",
         "Freshman",
         "0:04:47",
         "154.7",
         "43.0"
        ],
        [
         "62",
         "Freshman",
         "0:04:41",
         "156.5",
         "43.0"
        ],
        [
         "96",
         "Freshman",
         "0:04:41",
         "163.8",
         "56.0"
        ],
        [
         "33",
         "Freshman",
         "0:04:39",
         "163.7",
         "49.0"
        ],
        [
         "0",
         "Freshman",
         "0:04:34",
         "158.9",
         "46.0"
        ],
        [
         "117",
         "Freshman",
         "0:04:33",
         "180.2",
         "83.0"
        ],
        [
         "34",
         "Freshman",
         "0:04:32",
         "164.3",
         "51.0"
        ],
        [
         "119",
         "Freshman",
         "0:04:31",
         "163.1",
         null
        ],
        [
         "185",
         "Freshman",
         "0:04:24",
         "151.2",
         "43.0"
        ],
        [
         "105",
         "Freshman",
         "0:04:23",
         "164.5",
         "52.0"
        ],
        [
         "184",
         "Freshman",
         "0:04:23",
         "178.9",
         "80.0"
        ],
        [
         "148",
         "Freshman",
         "0:04:22",
         "159.3",
         "49.0"
        ],
        [
         "186",
         "Freshman",
         "0:04:21",
         null,
         "53.0"
        ],
        [
         "1",
         "Freshman",
         "0:04:20",
         "166.5",
         "70.0"
        ],
        [
         "57",
         "Freshman",
         "0:04:18",
         "159.6",
         "45.0"
        ],
        [
         "157",
         "Freshman",
         "0:04:17",
         "152.5",
         "45.0"
        ],
        [
         "153",
         "Freshman",
         "0:04:15",
         "172.2",
         "75.0"
        ],
        [
         "44",
         "Freshman",
         "0:04:13",
         "162.3",
         "51.0"
        ],
        [
         "60",
         "Freshman",
         "0:04:13",
         null,
         "65.0"
        ],
        [
         "36",
         "Freshman",
         "0:04:10",
         null,
         "79.0"
        ],
        [
         "99",
         "Freshman",
         "0:04:08",
         "181.3",
         "83.0"
        ],
        [
         "70",
         "Freshman",
         "0:04:07",
         "163.5",
         "55.0"
        ],
        [
         "121",
         "Freshman",
         "0:04:05",
         "154.6",
         "40.0"
        ],
        [
         "43",
         "Freshman",
         "0:04:00",
         "157.4",
         "46.0"
        ],
        [
         "63",
         "Freshman",
         "0:04:00",
         "152.2",
         "43.0"
        ],
        [
         "38",
         "Freshman",
         "0:03:58",
         "185.3",
         "87.0"
        ],
        [
         "6",
         "Freshman",
         "0:03:53",
         "162.5",
         "52.0"
        ],
        [
         "5",
         "Freshman",
         "0:03:47",
         "158.0",
         "51.0"
        ],
        [
         "54",
         "Freshman",
         "0:03:42",
         "162.4",
         "58.0"
        ],
        [
         "125",
         "Freshman",
         "0:03:37",
         "151.8",
         "38.0"
        ],
        [
         "141",
         "Freshman",
         "0:03:33",
         "164.9",
         "52.0"
        ]
       ],
       "shape": {
        "columns": 4,
        "rows": 200
       }
      },
      "text/html": [
       "<div>\n",
       "<style scoped>\n",
       "    .dataframe tbody tr th:only-of-type {\n",
       "        vertical-align: middle;\n",
       "    }\n",
       "\n",
       "    .dataframe tbody tr th {\n",
       "        vertical-align: top;\n",
       "    }\n",
       "\n",
       "    .dataframe thead th {\n",
       "        text-align: right;\n",
       "    }\n",
       "</style>\n",
       "<table border=\"1\" class=\"dataframe\">\n",
       "  <thead>\n",
       "    <tr style=\"text-align: right;\">\n",
       "      <th></th>\n",
       "      <th>Grade</th>\n",
       "      <th>Time_Record</th>\n",
       "      <th>Height</th>\n",
       "      <th>Weight</th>\n",
       "    </tr>\n",
       "  </thead>\n",
       "  <tbody>\n",
       "    <tr>\n",
       "      <th>136</th>\n",
       "      <td>Freshman</td>\n",
       "      <td>0:05:27</td>\n",
       "      <td>155.2</td>\n",
       "      <td>44.0</td>\n",
       "    </tr>\n",
       "    <tr>\n",
       "      <th>140</th>\n",
       "      <td>Freshman</td>\n",
       "      <td>0:05:27</td>\n",
       "      <td>152.7</td>\n",
       "      <td>43.0</td>\n",
       "    </tr>\n",
       "    <tr>\n",
       "      <th>149</th>\n",
       "      <td>Freshman</td>\n",
       "      <td>0:05:26</td>\n",
       "      <td>158.5</td>\n",
       "      <td>49.0</td>\n",
       "    </tr>\n",
       "    <tr>\n",
       "      <th>15</th>\n",
       "      <td>Freshman</td>\n",
       "      <td>0:05:25</td>\n",
       "      <td>156.0</td>\n",
       "      <td>49.0</td>\n",
       "    </tr>\n",
       "    <tr>\n",
       "      <th>28</th>\n",
       "      <td>Freshman</td>\n",
       "      <td>0:05:24</td>\n",
       "      <td>170.2</td>\n",
       "      <td>63.0</td>\n",
       "    </tr>\n",
       "    <tr>\n",
       "      <th>...</th>\n",
       "      <td>...</td>\n",
       "      <td>...</td>\n",
       "      <td>...</td>\n",
       "      <td>...</td>\n",
       "    </tr>\n",
       "    <tr>\n",
       "      <th>98</th>\n",
       "      <td>Sophomore</td>\n",
       "      <td>0:03:48</td>\n",
       "      <td>NaN</td>\n",
       "      <td>68.0</td>\n",
       "    </tr>\n",
       "    <tr>\n",
       "      <th>167</th>\n",
       "      <td>Sophomore</td>\n",
       "      <td>0:03:45</td>\n",
       "      <td>157.0</td>\n",
       "      <td>43.0</td>\n",
       "    </tr>\n",
       "    <tr>\n",
       "      <th>48</th>\n",
       "      <td>Sophomore</td>\n",
       "      <td>0:03:44</td>\n",
       "      <td>177.3</td>\n",
       "      <td>79.0</td>\n",
       "    </tr>\n",
       "    <tr>\n",
       "      <th>74</th>\n",
       "      <td>Sophomore</td>\n",
       "      <td>0:03:32</td>\n",
       "      <td>169.4</td>\n",
       "      <td>74.0</td>\n",
       "    </tr>\n",
       "    <tr>\n",
       "      <th>120</th>\n",
       "      <td>Sophomore</td>\n",
       "      <td>0:03:32</td>\n",
       "      <td>147.8</td>\n",
       "      <td>34.0</td>\n",
       "    </tr>\n",
       "  </tbody>\n",
       "</table>\n",
       "<p>200 rows × 4 columns</p>\n",
       "</div>"
      ],
      "text/plain": [
       "         Grade Time_Record  Height  Weight\n",
       "136   Freshman     0:05:27   155.2    44.0\n",
       "140   Freshman     0:05:27   152.7    43.0\n",
       "149   Freshman     0:05:26   158.5    49.0\n",
       "15    Freshman     0:05:25   156.0    49.0\n",
       "28    Freshman     0:05:24   170.2    63.0\n",
       "..         ...         ...     ...     ...\n",
       "98   Sophomore     0:03:48     NaN    68.0\n",
       "167  Sophomore     0:03:45   157.0    43.0\n",
       "48   Sophomore     0:03:44   177.3    79.0\n",
       "74   Sophomore     0:03:32   169.4    74.0\n",
       "120  Sophomore     0:03:32   147.8    34.0\n",
       "\n",
       "[200 rows x 4 columns]"
      ]
     },
     "execution_count": 725,
     "metadata": {},
     "output_type": "execute_result"
    }
   ],
   "source": [
    "sorting_data(data=learn_pd_data,index_columns=[learn_pd_data.columns[1],learn_pd_data.columns[9],learn_pd_data.columns[4],learn_pd_data.columns[5]],\n",
    "             set_index=[learn_pd_data.columns[1],learn_pd_data.columns[9]],ascending=[True,False])"
   ]
  },
  {
   "cell_type": "code",
   "execution_count": 981,
   "id": "fbce8b33",
   "metadata": {},
   "outputs": [],
   "source": [
    "def apply_data(data:pd.DataFrame|None,index_columns:list|pd.DataFrame,value,other_value=None,method:str|None=None): #value is anonymity function\n",
    "    match method:\n",
    "     case _:\n",
    "      if   data is  not None:\n",
    "       return data[index_columns].apply(value) \n",
    "      else :return index_columns.apply(value,other_value)     "
   ]
  },
  {
   "cell_type": "code",
   "execution_count": 982,
   "id": "4d3942df",
   "metadata": {},
   "outputs": [
    {
     "data": {
      "application/vnd.microsoft.datawrangler.viewer.v0+json": {
       "columns": [
        {
         "name": "index",
         "rawType": "object",
         "type": "string"
        },
        {
         "name": "0",
         "rawType": "float64",
         "type": "float"
        }
       ],
       "ref": "d6d25cd2-eb25-4293-ac35-12be6a9740c3",
       "rows": [
        [
         "Height",
         "163.21803278688526"
        ],
        [
         "Weight",
         "55.01587301587302"
        ]
       ],
       "shape": {
        "columns": 1,
        "rows": 2
       }
      },
      "text/plain": [
       "Height    163.218033\n",
       "Weight     55.015873\n",
       "dtype: float64"
      ]
     },
     "execution_count": 982,
     "metadata": {},
     "output_type": "execute_result"
    }
   ],
   "source": [
    "apply_data(data=learn_pd_data,index_columns=[learn_pd_data.columns[4],learn_pd_data.columns[5]],\n",
    "           value=lambda x:x.mean(),method=None)"
   ]
  },
  {
   "cell_type": "code",
   "execution_count": null,
   "id": "2cdf5bdc",
   "metadata": {},
   "outputs": [
    {
     "data": {
      "application/vnd.microsoft.datawrangler.viewer.v0+json": {
       "columns": [
        {
         "name": "index",
         "rawType": "object",
         "type": "string"
        },
        {
         "name": "0",
         "rawType": "float64",
         "type": "float"
        }
       ],
       "ref": "ccaf76cf-86ba-4d2e-b031-05a0eafe61a1",
       "rows": [
        [
         "Height",
         "6.707229239451763"
        ],
        [
         "Weight",
         "10.391870328378264"
        ]
       ],
       "shape": {
        "columns": 1,
        "rows": 2
       }
      },
      "text/plain": [
       "Height     6.707229\n",
       "Weight    10.391870\n",
       "dtype: float64"
      ]
     },
     "execution_count": 728,
     "metadata": {},
     "output_type": "execute_result"
    }
   ],
   "source": [
    "apply_data(data=learn_pd_data,index_columns=[learn_pd_data.columns[4],learn_pd_data.columns[5]],value=lambda x:(x-x.mean()).abs().mean(),method=None)"
   ]
  },
  {
   "cell_type": "code",
   "execution_count": null,
   "id": "8701c063",
   "metadata": {},
   "outputs": [
    {
     "data": {
      "application/vnd.microsoft.datawrangler.viewer.v0+json": {
       "columns": [
        {
         "name": "index",
         "rawType": "int64",
         "type": "integer"
        },
        {
         "name": "Height",
         "rawType": "float64",
         "type": "float"
        },
        {
         "name": "Weight",
         "rawType": "float64",
         "type": "float"
        }
       ],
       "ref": "9a1d4866-844a-4491-abb1-9a69c9e92c0c",
       "rows": [
        [
         "0",
         "158.9",
         "46.0"
        ],
        [
         "1",
         "166.5",
         "70.0"
        ],
        [
         "2",
         "188.9",
         "89.0"
        ],
        [
         "3",
         null,
         "41.0"
        ],
        [
         "4",
         "174.0",
         "74.0"
        ],
        [
         "5",
         "158.0",
         "51.0"
        ],
        [
         "6",
         "162.5",
         "52.0"
        ],
        [
         "7",
         "161.9",
         "50.0"
        ],
        [
         "8",
         "163.0",
         "48.0"
        ],
        [
         "9",
         "164.8",
         null
        ],
        [
         "10",
         "174.1",
         "74.0"
        ],
        [
         "11",
         "153.2",
         "43.0"
        ],
        [
         "12",
         null,
         "48.0"
        ],
        [
         "13",
         "160.1",
         "48.0"
        ],
        [
         "14",
         "165.3",
         "57.0"
        ],
        [
         "15",
         "156.0",
         "49.0"
        ],
        [
         "16",
         "170.1",
         "68.0"
        ],
        [
         "17",
         "162.8",
         "65.0"
        ],
        [
         "18",
         "170.3",
         "71.0"
        ],
        [
         "19",
         "162.4",
         "50.0"
        ],
        [
         "20",
         "161.4",
         "47.0"
        ],
        [
         "21",
         "166.0",
         "62.0"
        ],
        [
         "22",
         "166.1",
         "55.0"
        ],
        [
         "23",
         "183.9",
         "87.0"
        ],
        [
         "24",
         "167.4",
         "69.0"
        ],
        [
         "25",
         "156.5",
         "42.0"
        ],
        [
         "26",
         null,
         "48.0"
        ],
        [
         "27",
         "163.1",
         "53.0"
        ],
        [
         "28",
         "170.2",
         "63.0"
        ],
        [
         "29",
         "151.6",
         "43.0"
        ],
        [
         "30",
         "148.7",
         "41.0"
        ],
        [
         "31",
         "165.6",
         "51.0"
        ],
        [
         "32",
         "162.9",
         "48.0"
        ],
        [
         "33",
         "163.7",
         "49.0"
        ],
        [
         "34",
         "164.3",
         "51.0"
        ],
        [
         "35",
         "175.4",
         "78.0"
        ],
        [
         "36",
         null,
         "79.0"
        ],
        [
         "37",
         "158.3",
         "45.0"
        ],
        [
         "38",
         "185.3",
         "87.0"
        ],
        [
         "39",
         "151.7",
         "38.0"
        ],
        [
         "40",
         "175.0",
         "79.0"
        ],
        [
         "41",
         "168.6",
         "72.0"
        ],
        [
         "42",
         "156.5",
         "44.0"
        ],
        [
         "43",
         "157.4",
         "46.0"
        ],
        [
         "44",
         "162.3",
         "51.0"
        ],
        [
         "45",
         "154.7",
         "43.0"
        ],
        [
         "46",
         "155.6",
         "47.0"
        ],
        [
         "47",
         "162.5",
         "53.0"
        ],
        [
         "48",
         "177.3",
         "79.0"
        ],
        [
         "49",
         "147.3",
         "34.0"
        ]
       ],
       "shape": {
        "columns": 2,
        "rows": 200
       }
      },
      "text/html": [
       "<div>\n",
       "<style scoped>\n",
       "    .dataframe tbody tr th:only-of-type {\n",
       "        vertical-align: middle;\n",
       "    }\n",
       "\n",
       "    .dataframe tbody tr th {\n",
       "        vertical-align: top;\n",
       "    }\n",
       "\n",
       "    .dataframe thead th {\n",
       "        text-align: right;\n",
       "    }\n",
       "</style>\n",
       "<table border=\"1\" class=\"dataframe\">\n",
       "  <thead>\n",
       "    <tr style=\"text-align: right;\">\n",
       "      <th></th>\n",
       "      <th>Height</th>\n",
       "      <th>Weight</th>\n",
       "    </tr>\n",
       "  </thead>\n",
       "  <tbody>\n",
       "    <tr>\n",
       "      <th>0</th>\n",
       "      <td>158.9</td>\n",
       "      <td>46.0</td>\n",
       "    </tr>\n",
       "    <tr>\n",
       "      <th>1</th>\n",
       "      <td>166.5</td>\n",
       "      <td>70.0</td>\n",
       "    </tr>\n",
       "    <tr>\n",
       "      <th>2</th>\n",
       "      <td>188.9</td>\n",
       "      <td>89.0</td>\n",
       "    </tr>\n",
       "    <tr>\n",
       "      <th>3</th>\n",
       "      <td>NaN</td>\n",
       "      <td>41.0</td>\n",
       "    </tr>\n",
       "    <tr>\n",
       "      <th>4</th>\n",
       "      <td>174.0</td>\n",
       "      <td>74.0</td>\n",
       "    </tr>\n",
       "    <tr>\n",
       "      <th>...</th>\n",
       "      <td>...</td>\n",
       "      <td>...</td>\n",
       "    </tr>\n",
       "    <tr>\n",
       "      <th>195</th>\n",
       "      <td>153.9</td>\n",
       "      <td>46.0</td>\n",
       "    </tr>\n",
       "    <tr>\n",
       "      <th>196</th>\n",
       "      <td>160.9</td>\n",
       "      <td>50.0</td>\n",
       "    </tr>\n",
       "    <tr>\n",
       "      <th>197</th>\n",
       "      <td>153.9</td>\n",
       "      <td>45.0</td>\n",
       "    </tr>\n",
       "    <tr>\n",
       "      <th>198</th>\n",
       "      <td>175.3</td>\n",
       "      <td>71.0</td>\n",
       "    </tr>\n",
       "    <tr>\n",
       "      <th>199</th>\n",
       "      <td>155.7</td>\n",
       "      <td>51.0</td>\n",
       "    </tr>\n",
       "  </tbody>\n",
       "</table>\n",
       "<p>200 rows × 2 columns</p>\n",
       "</div>"
      ],
      "text/plain": [
       "     Height  Weight\n",
       "0     158.9    46.0\n",
       "1     166.5    70.0\n",
       "2     188.9    89.0\n",
       "3       NaN    41.0\n",
       "4     174.0    74.0\n",
       "..      ...     ...\n",
       "195   153.9    46.0\n",
       "196   160.9    50.0\n",
       "197   153.9    45.0\n",
       "198   175.3    71.0\n",
       "199   155.7    51.0\n",
       "\n",
       "[200 rows x 2 columns]"
      ]
     },
     "execution_count": 729,
     "metadata": {},
     "output_type": "execute_result"
    }
   ],
   "source": [
    "learn_pd_data[[learn_pd_data.columns[4],learn_pd_data.columns[5]]]"
   ]
  },
  {
   "cell_type": "code",
   "execution_count": null,
   "id": "0a10d293",
   "metadata": {},
   "outputs": [
    {
     "data": {
      "application/vnd.microsoft.datawrangler.viewer.v0+json": {
       "columns": [
        {
         "name": "index",
         "rawType": "object",
         "type": "string"
        },
        {
         "name": "0",
         "rawType": "float64",
         "type": "float"
        }
       ],
       "ref": "11ba9a62-5d31-4b55-8c33-724348dcbdd1",
       "rows": [
        [
         "Height",
         "0.9360160858515872"
        ],
        [
         "Weight",
         "0.9999999999999999"
        ]
       ],
       "shape": {
        "columns": 1,
        "rows": 2
       }
      },
      "text/plain": [
       "Height    0.936016\n",
       "Weight    1.000000\n",
       "dtype: float64"
      ]
     },
     "execution_count": 730,
     "metadata": {},
     "output_type": "execute_result"
    }
   ],
   "source": [
    "apply_data(data=learn_pd_data,index_columns=[learn_pd_data.columns[4],learn_pd_data.columns[5]],\n",
    "           value=lambda x:x.corr(learn_pd_data[learn_pd_data.columns[5]]),method=None)"
   ]
  },
  {
   "cell_type": "code",
   "execution_count": null,
   "id": "cc3f5922",
   "metadata": {},
   "outputs": [
    {
     "data": {
      "application/vnd.microsoft.datawrangler.viewer.v0+json": {
       "columns": [
        {
         "name": "index",
         "rawType": "object",
         "type": "string"
        },
        {
         "name": "0",
         "rawType": "float64",
         "type": "float"
        }
       ],
       "ref": "0c7d998f-1beb-4c8a-bda2-cd4458af4a5d",
       "rows": [
        [
         "Height",
         "104.65208291807858"
        ],
        [
         "Weight",
         "164.46251266464037"
        ]
       ],
       "shape": {
        "columns": 1,
        "rows": 2
       }
      },
      "text/plain": [
       "Height    104.652083\n",
       "Weight    164.462513\n",
       "dtype: float64"
      ]
     },
     "execution_count": 731,
     "metadata": {},
     "output_type": "execute_result"
    }
   ],
   "source": [
    "apply_data(data=learn_pd_data,index_columns=[learn_pd_data.columns[4],learn_pd_data.columns[5]],\n",
    "           value=lambda x:x.cov(learn_pd_data[learn_pd_data.columns[5]]),method=None)"
   ]
  },
  {
   "cell_type": "code",
   "execution_count": null,
   "id": "a60eeffa",
   "metadata": {},
   "outputs": [
    {
     "data": {
      "application/vnd.microsoft.datawrangler.viewer.v0+json": {
       "columns": [
        {
         "name": "index",
         "rawType": "object",
         "type": "string"
        },
        {
         "name": "0",
         "rawType": "float64",
         "type": "float"
        }
       ],
       "ref": "09514130-450f-4581-be0f-b9a731d12492",
       "rows": [
        [
         "Temperature",
         "298.63"
        ]
       ],
       "shape": {
        "columns": 1,
        "rows": 1
       }
      },
      "text/plain": [
       "Temperature    298.63\n",
       "dtype: float64"
      ]
     },
     "execution_count": 732,
     "metadata": {},
     "output_type": "execute_result"
    }
   ],
   "source": [
    "apply_data(data=magic_land,index_columns=[magic_land_colums[2]],value=lambda x :x.sum(),method=None)"
   ]
  },
  {
   "cell_type": "code",
   "execution_count": null,
   "id": "45bad693",
   "metadata": {},
   "outputs": [],
   "source": [
    "def rolling_apply_data(data:pd.DataFrame,index_columns:list,window:int,func:any,method:str|None,other:pd.Series|None,value:int|None):\n",
    "  if window>0:\n",
    "    if method is not None:\n",
    "     match method:\n",
    "       case 'cov':\n",
    "          return data[index_columns].rolling(window).cov(data[other])\n",
    "       case'corr':\n",
    "         return data[index_columns].rolling(window).corr(data[other])\n",
    "       case 'shfit':\n",
    "        return data[index_columns].shift(value)\n",
    "       case 'diff':\n",
    "        return data[index_columns].diff(value)\n",
    "       case 'pct':\n",
    "        return data[index_columns].pct_change()\n",
    "       case _:...\n",
    "    else:    \n",
    "     return data[index_columns].rolling(window).apply(func)\n",
    "  else:print(\"window is not negative\")"
   ]
  },
  {
   "cell_type": "code",
   "execution_count": null,
   "id": "7022aa4a",
   "metadata": {},
   "outputs": [
    {
     "data": {
      "application/vnd.microsoft.datawrangler.viewer.v0+json": {
       "columns": [
        {
         "name": "index",
         "rawType": "int64",
         "type": "integer"
        },
        {
         "name": "Height",
         "rawType": "float64",
         "type": "float"
        },
        {
         "name": "Weight",
         "rawType": "float64",
         "type": "float"
        }
       ],
       "ref": "dec82a87-ef91-4267-a964-7ceea271f38a",
       "rows": [
        [
         "0",
         null,
         null
        ],
        [
         "1",
         null,
         null
        ],
        [
         "2",
         null,
         "464.33333333333485"
        ],
        [
         "3",
         null,
         "584.3333333333321"
        ],
        [
         "4",
         null,
         "603.0"
        ],
        [
         "5",
         null,
         "286.33333333333303"
        ],
        [
         "6",
         null,
         "168.99999999999977"
        ],
        [
         "7",
         null,
         "0.9999999999997726"
        ],
        [
         "8",
         null,
         "3.9999999999997726"
        ],
        [
         "9",
         null,
         null
        ],
        [
         "10",
         null,
         null
        ],
        [
         "11",
         null,
         null
        ],
        [
         "12",
         null,
         "276.9999999999998"
        ],
        [
         "13",
         null,
         "8.333333333333485"
        ],
        [
         "14",
         null,
         "27.0"
        ],
        [
         "15",
         null,
         "24.333333333333258"
        ],
        [
         "16",
         null,
         "90.99999999999977"
        ],
        [
         "17",
         null,
         "104.33333333333348"
        ],
        [
         "18",
         null,
         "9.0"
        ],
        [
         "19",
         null,
         "117.0"
        ],
        [
         "20",
         null,
         "171.0"
        ],
        [
         "21",
         null,
         "63.0"
        ],
        [
         "22",
         null,
         "56.333333333333485"
        ],
        [
         "23",
         null,
         "283.00000000000045"
        ],
        [
         "24",
         null,
         "257.3333333333335"
        ],
        [
         "25",
         null,
         "513.0"
        ],
        [
         "26",
         null,
         "201.0"
        ],
        [
         "27",
         null,
         "30.33333333333394"
        ],
        [
         "28",
         null,
         "58.33333333333371"
        ],
        [
         "29",
         null,
         "99.99999999999977"
        ],
        [
         "30",
         null,
         "147.99999999999977"
        ],
        [
         "31",
         null,
         "28.000000000000114"
        ],
        [
         "32",
         null,
         "26.333333333334167"
        ],
        [
         "33",
         null,
         "2.333333333333485"
        ],
        [
         "34",
         null,
         "2.333333333333485"
        ],
        [
         "35",
         null,
         "262.33333333333303"
        ],
        [
         "36",
         null,
         "252.33333333333394"
        ],
        [
         "37",
         null,
         "374.3333333333335"
        ],
        [
         "38",
         null,
         "497.3333333333335"
        ],
        [
         "39",
         null,
         "702.3333333333339"
        ],
        [
         "40",
         null,
         "691.0000000000005"
        ],
        [
         "41",
         null,
         "481.00000000000045"
        ],
        [
         "42",
         null,
         "343.00000000000045"
        ],
        [
         "43",
         null,
         "243.99999999999977"
        ],
        [
         "44",
         null,
         "12.999999999999773"
        ],
        [
         "45",
         null,
         "16.333333333333712"
        ],
        [
         "46",
         null,
         "15.999999999999773"
        ],
        [
         "47",
         null,
         "25.333333333333712"
        ],
        [
         "48",
         null,
         "289.3333333333337"
        ],
        [
         "49",
         null,
         "510.33333333333326"
        ]
       ],
       "shape": {
        "columns": 2,
        "rows": 200
       }
      },
      "text/html": [
       "<div>\n",
       "<style scoped>\n",
       "    .dataframe tbody tr th:only-of-type {\n",
       "        vertical-align: middle;\n",
       "    }\n",
       "\n",
       "    .dataframe tbody tr th {\n",
       "        vertical-align: top;\n",
       "    }\n",
       "\n",
       "    .dataframe thead th {\n",
       "        text-align: right;\n",
       "    }\n",
       "</style>\n",
       "<table border=\"1\" class=\"dataframe\">\n",
       "  <thead>\n",
       "    <tr style=\"text-align: right;\">\n",
       "      <th></th>\n",
       "      <th>Height</th>\n",
       "      <th>Weight</th>\n",
       "    </tr>\n",
       "  </thead>\n",
       "  <tbody>\n",
       "    <tr>\n",
       "      <th>0</th>\n",
       "      <td>NaN</td>\n",
       "      <td>NaN</td>\n",
       "    </tr>\n",
       "    <tr>\n",
       "      <th>1</th>\n",
       "      <td>NaN</td>\n",
       "      <td>NaN</td>\n",
       "    </tr>\n",
       "    <tr>\n",
       "      <th>2</th>\n",
       "      <td>NaN</td>\n",
       "      <td>464.333333</td>\n",
       "    </tr>\n",
       "    <tr>\n",
       "      <th>3</th>\n",
       "      <td>NaN</td>\n",
       "      <td>584.333333</td>\n",
       "    </tr>\n",
       "    <tr>\n",
       "      <th>4</th>\n",
       "      <td>NaN</td>\n",
       "      <td>603.000000</td>\n",
       "    </tr>\n",
       "    <tr>\n",
       "      <th>...</th>\n",
       "      <td>...</td>\n",
       "      <td>...</td>\n",
       "    </tr>\n",
       "    <tr>\n",
       "      <th>195</th>\n",
       "      <td>NaN</td>\n",
       "      <td>333.000000</td>\n",
       "    </tr>\n",
       "    <tr>\n",
       "      <th>196</th>\n",
       "      <td>NaN</td>\n",
       "      <td>4.333333</td>\n",
       "    </tr>\n",
       "    <tr>\n",
       "      <th>197</th>\n",
       "      <td>NaN</td>\n",
       "      <td>7.000000</td>\n",
       "    </tr>\n",
       "    <tr>\n",
       "      <th>198</th>\n",
       "      <td>NaN</td>\n",
       "      <td>190.333333</td>\n",
       "    </tr>\n",
       "    <tr>\n",
       "      <th>199</th>\n",
       "      <td>NaN</td>\n",
       "      <td>185.333333</td>\n",
       "    </tr>\n",
       "  </tbody>\n",
       "</table>\n",
       "<p>200 rows × 2 columns</p>\n",
       "</div>"
      ],
      "text/plain": [
       "     Height      Weight\n",
       "0       NaN         NaN\n",
       "1       NaN         NaN\n",
       "2       NaN  464.333333\n",
       "3       NaN  584.333333\n",
       "4       NaN  603.000000\n",
       "..      ...         ...\n",
       "195     NaN  333.000000\n",
       "196     NaN    4.333333\n",
       "197     NaN    7.000000\n",
       "198     NaN  190.333333\n",
       "199     NaN  185.333333\n",
       "\n",
       "[200 rows x 2 columns]"
      ]
     },
     "execution_count": 734,
     "metadata": {},
     "output_type": "execute_result"
    }
   ],
   "source": [
    "rolling_apply_data(data=learn_pd_data,index_columns=[learn_pd_data.columns[4],learn_pd_data.columns[5]]\n",
    "                   ,window=3,func=None,method='cov',other=[learn_pd_data.columns[5]],value=None)"
   ]
  },
  {
   "cell_type": "code",
   "execution_count": null,
   "id": "6773dab1",
   "metadata": {},
   "outputs": [
    {
     "data": {
      "application/vnd.microsoft.datawrangler.viewer.v0+json": {
       "columns": [
        {
         "name": "index",
         "rawType": "object",
         "type": "string"
        },
        {
         "name": "Temperature",
         "rawType": "float64",
         "type": "float"
        }
       ],
       "ref": "9c899be4-3c18-48d3-bacd-0c257ea2a9f2",
       "rows": [
        [
         "Day 1",
         null
        ],
        [
         "Day 2",
         "13.96"
        ],
        [
         "Day 3",
         "14.21"
        ],
        [
         "Day 4",
         "14.49"
        ],
        [
         "Day 5",
         "15.25"
        ],
        [
         "Day 6",
         "15.56"
        ],
        [
         "Day 7",
         "16.1"
        ],
        [
         "Day 8",
         "16.5"
        ],
        [
         "Day 9",
         "16.5"
        ],
        [
         "Day 10",
         "16.2"
        ],
        [
         "Day 11",
         "15.8"
        ],
        [
         "Day 12",
         "15.52"
        ],
        [
         "Day 13",
         "15.12"
        ],
        [
         "Day 14",
         "14.14"
        ],
        [
         "Day 15",
         "13.31"
        ],
        [
         "Day 16",
         "12.11"
        ],
        [
         "Day 17",
         "11.96"
        ],
        [
         "Day 18",
         "12.24"
        ],
        [
         "Day 19",
         "12.89"
        ],
        [
         "Day 20",
         "13.56"
        ],
        [
         "Day 21",
         "14.83"
        ]
       ],
       "shape": {
        "columns": 1,
        "rows": 21
       }
      },
      "text/html": [
       "<div>\n",
       "<style scoped>\n",
       "    .dataframe tbody tr th:only-of-type {\n",
       "        vertical-align: middle;\n",
       "    }\n",
       "\n",
       "    .dataframe tbody tr th {\n",
       "        vertical-align: top;\n",
       "    }\n",
       "\n",
       "    .dataframe thead th {\n",
       "        text-align: right;\n",
       "    }\n",
       "</style>\n",
       "<table border=\"1\" class=\"dataframe\">\n",
       "  <thead>\n",
       "    <tr style=\"text-align: right;\">\n",
       "      <th></th>\n",
       "      <th>Temperature</th>\n",
       "    </tr>\n",
       "  </thead>\n",
       "  <tbody>\n",
       "    <tr>\n",
       "      <th>Day 1</th>\n",
       "      <td>NaN</td>\n",
       "    </tr>\n",
       "    <tr>\n",
       "      <th>Day 2</th>\n",
       "      <td>13.96</td>\n",
       "    </tr>\n",
       "    <tr>\n",
       "      <th>Day 3</th>\n",
       "      <td>14.21</td>\n",
       "    </tr>\n",
       "    <tr>\n",
       "      <th>Day 4</th>\n",
       "      <td>14.49</td>\n",
       "    </tr>\n",
       "    <tr>\n",
       "      <th>Day 5</th>\n",
       "      <td>15.25</td>\n",
       "    </tr>\n",
       "    <tr>\n",
       "      <th>Day 6</th>\n",
       "      <td>15.56</td>\n",
       "    </tr>\n",
       "    <tr>\n",
       "      <th>Day 7</th>\n",
       "      <td>16.10</td>\n",
       "    </tr>\n",
       "    <tr>\n",
       "      <th>Day 8</th>\n",
       "      <td>16.50</td>\n",
       "    </tr>\n",
       "    <tr>\n",
       "      <th>Day 9</th>\n",
       "      <td>16.50</td>\n",
       "    </tr>\n",
       "    <tr>\n",
       "      <th>Day 10</th>\n",
       "      <td>16.20</td>\n",
       "    </tr>\n",
       "    <tr>\n",
       "      <th>Day 11</th>\n",
       "      <td>15.80</td>\n",
       "    </tr>\n",
       "    <tr>\n",
       "      <th>Day 12</th>\n",
       "      <td>15.52</td>\n",
       "    </tr>\n",
       "    <tr>\n",
       "      <th>Day 13</th>\n",
       "      <td>15.12</td>\n",
       "    </tr>\n",
       "    <tr>\n",
       "      <th>Day 14</th>\n",
       "      <td>14.14</td>\n",
       "    </tr>\n",
       "    <tr>\n",
       "      <th>Day 15</th>\n",
       "      <td>13.31</td>\n",
       "    </tr>\n",
       "    <tr>\n",
       "      <th>Day 16</th>\n",
       "      <td>12.11</td>\n",
       "    </tr>\n",
       "    <tr>\n",
       "      <th>Day 17</th>\n",
       "      <td>11.96</td>\n",
       "    </tr>\n",
       "    <tr>\n",
       "      <th>Day 18</th>\n",
       "      <td>12.24</td>\n",
       "    </tr>\n",
       "    <tr>\n",
       "      <th>Day 19</th>\n",
       "      <td>12.89</td>\n",
       "    </tr>\n",
       "    <tr>\n",
       "      <th>Day 20</th>\n",
       "      <td>13.56</td>\n",
       "    </tr>\n",
       "    <tr>\n",
       "      <th>Day 21</th>\n",
       "      <td>14.83</td>\n",
       "    </tr>\n",
       "  </tbody>\n",
       "</table>\n",
       "</div>"
      ],
      "text/plain": [
       "        Temperature\n",
       "Day 1           NaN\n",
       "Day 2         13.96\n",
       "Day 3         14.21\n",
       "Day 4         14.49\n",
       "Day 5         15.25\n",
       "Day 6         15.56\n",
       "Day 7         16.10\n",
       "Day 8         16.50\n",
       "Day 9         16.50\n",
       "Day 10        16.20\n",
       "Day 11        15.80\n",
       "Day 12        15.52\n",
       "Day 13        15.12\n",
       "Day 14        14.14\n",
       "Day 15        13.31\n",
       "Day 16        12.11\n",
       "Day 17        11.96\n",
       "Day 18        12.24\n",
       "Day 19        12.89\n",
       "Day 20        13.56\n",
       "Day 21        14.83"
      ]
     },
     "execution_count": 735,
     "metadata": {},
     "output_type": "execute_result"
    }
   ],
   "source": [
    "rolling_apply_data(data=magic_land,index_columns=[magic_land.columns[2]],window=2,func=lambda x:x.max(),method=None,other=None,value=None)"
   ]
  },
  {
   "cell_type": "code",
   "execution_count": null,
   "id": "e2a893f7",
   "metadata": {},
   "outputs": [
    {
     "data": {
      "application/vnd.microsoft.datawrangler.viewer.v0+json": {
       "columns": [
        {
         "name": "index",
         "rawType": "int64",
         "type": "integer"
        },
        {
         "name": "Height",
         "rawType": "float64",
         "type": "float"
        }
       ],
       "ref": "7495020f-710f-48b6-9a2f-bfe7e9fc3a3a",
       "rows": [
        [
         "0",
         "158.9"
        ],
        [
         "1",
         "162.7"
        ],
        [
         "2",
         "171.4333333333333"
        ],
        [
         "3",
         "171.4333333333333"
        ],
        [
         "4",
         "172.075"
        ],
        [
         "5",
         "169.26"
        ],
        [
         "6",
         "168.13333333333333"
        ],
        [
         "7",
         "167.24285714285716"
        ],
        [
         "8",
         "166.7125"
        ],
        [
         "9",
         "166.5"
        ],
        [
         "10",
         "167.26"
        ],
        [
         "11",
         "165.98181818181817"
        ],
        [
         "12",
         "165.98181818181817"
        ],
        [
         "13",
         "165.49166666666667"
        ],
        [
         "14",
         "165.47692307692307"
        ],
        [
         "15",
         "164.79999999999998"
        ],
        [
         "16",
         "165.15333333333334"
        ],
        [
         "17",
         "165.00625"
        ],
        [
         "18",
         "165.31764705882352"
        ],
        [
         "19",
         "165.15555555555557"
        ],
        [
         "20",
         "164.9578947368421"
        ],
        [
         "21",
         "165.01"
        ],
        [
         "22",
         "165.06190476190477"
        ],
        [
         "23",
         "165.9181818181818"
        ],
        [
         "24",
         "165.98260869565217"
        ],
        [
         "25",
         "165.5875"
        ],
        [
         "26",
         "165.5875"
        ],
        [
         "27",
         "165.488"
        ],
        [
         "28",
         "165.66923076923075"
        ],
        [
         "29",
         "165.14814814814815"
        ],
        [
         "30",
         "164.56071428571428"
        ],
        [
         "31",
         "164.59655172413792"
        ],
        [
         "32",
         "164.54"
        ],
        [
         "33",
         "164.51290322580644"
        ],
        [
         "34",
         "164.50625"
        ],
        [
         "35",
         "164.83636363636364"
        ],
        [
         "36",
         "164.83636363636364"
        ],
        [
         "37",
         "164.6441176470588"
        ],
        [
         "38",
         "165.2342857142857"
        ],
        [
         "39",
         "164.85833333333332"
        ],
        [
         "40",
         "165.1324324324324"
        ],
        [
         "41",
         "165.22368421052633"
        ],
        [
         "42",
         "165.0"
        ],
        [
         "43",
         "164.81"
        ],
        [
         "44",
         "164.74878048780488"
        ],
        [
         "45",
         "164.5095238095238"
        ],
        [
         "46",
         "164.30232558139534"
        ],
        [
         "47",
         "164.26136363636363"
        ],
        [
         "48",
         "164.5511111111111"
        ],
        [
         "49",
         "164.17608695652174"
        ]
       ],
       "shape": {
        "columns": 1,
        "rows": 200
       }
      },
      "text/plain": [
       "0      158.900000\n",
       "1      162.700000\n",
       "2      171.433333\n",
       "3      171.433333\n",
       "4      172.075000\n",
       "          ...    \n",
       "195    163.257542\n",
       "196    163.244444\n",
       "197    163.192818\n",
       "198    163.259341\n",
       "199    163.218033\n",
       "Name: Height, Length: 200, dtype: float64"
      ]
     },
     "execution_count": 736,
     "metadata": {},
     "output_type": "execute_result"
    }
   ],
   "source": [
    "learn_pd_data[learn_pd_data.columns[4]].expanding().mean()"
   ]
  },
  {
   "cell_type": "code",
   "execution_count": null,
   "id": "f2c7c866",
   "metadata": {},
   "outputs": [
    {
     "data": {
      "application/vnd.microsoft.datawrangler.viewer.v0+json": {
       "columns": [
        {
         "name": "index",
         "rawType": "object",
         "type": "string"
        },
        {
         "name": "Temperature",
         "rawType": "float64",
         "type": "float"
        }
       ],
       "ref": "ba9e9b59-f03d-4591-9fec-a5a915fd5afc",
       "rows": [
        [
         "Day 1",
         "13.4"
        ],
        [
         "Day 2",
         "27.36"
        ],
        [
         "Day 3",
         "41.57"
        ],
        [
         "Day 4",
         "56.06"
        ],
        [
         "Day 5",
         "71.31"
        ],
        [
         "Day 6",
         "86.87"
        ],
        [
         "Day 7",
         "102.97"
        ],
        [
         "Day 8",
         "119.47"
        ],
        [
         "Day 9",
         "135.67000000000002"
        ],
        [
         "Day 10",
         "151.47"
        ],
        [
         "Day 11",
         "166.99"
        ],
        [
         "Day 12",
         "182.11"
        ],
        [
         "Day 13",
         "196.25"
        ],
        [
         "Day 14",
         "209.56"
        ],
        [
         "Day 15",
         "221.67000000000002"
        ],
        [
         "Day 16",
         "233.15"
        ],
        [
         "Day 17",
         "245.11"
        ],
        [
         "Day 18",
         "257.35"
        ],
        [
         "Day 19",
         "270.24"
        ],
        [
         "Day 20",
         "283.8"
        ],
        [
         "Day 21",
         "298.63"
        ]
       ],
       "shape": {
        "columns": 1,
        "rows": 21
       }
      },
      "text/plain": [
       "Day 1      13.40\n",
       "Day 2      27.36\n",
       "Day 3      41.57\n",
       "Day 4      56.06\n",
       "Day 5      71.31\n",
       "Day 6      86.87\n",
       "Day 7     102.97\n",
       "Day 8     119.47\n",
       "Day 9     135.67\n",
       "Day 10    151.47\n",
       "Day 11    166.99\n",
       "Day 12    182.11\n",
       "Day 13    196.25\n",
       "Day 14    209.56\n",
       "Day 15    221.67\n",
       "Day 16    233.15\n",
       "Day 17    245.11\n",
       "Day 18    257.35\n",
       "Day 19    270.24\n",
       "Day 20    283.80\n",
       "Day 21    298.63\n",
       "Name: Temperature, dtype: float64"
      ]
     },
     "execution_count": 737,
     "metadata": {},
     "output_type": "execute_result"
    }
   ],
   "source": [
    "magic_land[magic_land.columns[2]].expanding().sum()"
   ]
  },
  {
   "cell_type": "code",
   "execution_count": null,
   "id": "25feeecb",
   "metadata": {},
   "outputs": [
    {
     "name": "stdout",
     "output_type": "stream",
     "text": [
      "0.0\n"
     ]
    },
    {
     "data": {
      "application/vnd.microsoft.datawrangler.viewer.v0+json": {
       "columns": [
        {
         "name": "index",
         "rawType": "int64",
         "type": "integer"
        },
        {
         "name": "HP",
         "rawType": "int64",
         "type": "integer"
        },
        {
         "name": "Attack",
         "rawType": "int64",
         "type": "integer"
        },
        {
         "name": "Defense",
         "rawType": "int64",
         "type": "integer"
        },
        {
         "name": "Sp. Atk",
         "rawType": "int64",
         "type": "integer"
        },
        {
         "name": "Sp. Def",
         "rawType": "int64",
         "type": "integer"
        },
        {
         "name": "Speed",
         "rawType": "int64",
         "type": "integer"
        }
       ],
       "ref": "826f6fa1-de8a-4921-9742-3a419b9aac29",
       "rows": [
        [
         "0",
         "45",
         "49",
         "49",
         "65",
         "65",
         "45"
        ],
        [
         "1",
         "60",
         "62",
         "63",
         "80",
         "80",
         "60"
        ],
        [
         "2",
         "80",
         "82",
         "83",
         "100",
         "100",
         "80"
        ],
        [
         "3",
         "80",
         "100",
         "123",
         "122",
         "120",
         "80"
        ],
        [
         "4",
         "39",
         "52",
         "43",
         "60",
         "50",
         "65"
        ],
        [
         "5",
         "58",
         "64",
         "58",
         "80",
         "65",
         "80"
        ],
        [
         "6",
         "78",
         "84",
         "78",
         "109",
         "85",
         "100"
        ],
        [
         "7",
         "78",
         "130",
         "111",
         "130",
         "85",
         "100"
        ],
        [
         "8",
         "78",
         "104",
         "78",
         "159",
         "115",
         "100"
        ],
        [
         "9",
         "44",
         "48",
         "65",
         "50",
         "64",
         "43"
        ],
        [
         "10",
         "59",
         "63",
         "80",
         "65",
         "80",
         "58"
        ],
        [
         "11",
         "79",
         "83",
         "100",
         "85",
         "105",
         "78"
        ],
        [
         "12",
         "79",
         "103",
         "120",
         "135",
         "115",
         "78"
        ],
        [
         "13",
         "45",
         "30",
         "35",
         "20",
         "20",
         "45"
        ],
        [
         "14",
         "50",
         "20",
         "55",
         "25",
         "25",
         "30"
        ],
        [
         "15",
         "60",
         "45",
         "50",
         "90",
         "80",
         "70"
        ],
        [
         "16",
         "40",
         "35",
         "30",
         "20",
         "20",
         "50"
        ],
        [
         "17",
         "45",
         "25",
         "50",
         "25",
         "25",
         "35"
        ],
        [
         "18",
         "65",
         "90",
         "40",
         "45",
         "80",
         "75"
        ],
        [
         "19",
         "65",
         "150",
         "40",
         "15",
         "80",
         "145"
        ],
        [
         "20",
         "40",
         "45",
         "40",
         "35",
         "35",
         "56"
        ],
        [
         "21",
         "63",
         "60",
         "55",
         "50",
         "50",
         "71"
        ],
        [
         "22",
         "83",
         "80",
         "75",
         "70",
         "70",
         "101"
        ],
        [
         "23",
         "83",
         "80",
         "80",
         "135",
         "80",
         "121"
        ],
        [
         "24",
         "30",
         "56",
         "35",
         "25",
         "35",
         "72"
        ],
        [
         "25",
         "55",
         "81",
         "60",
         "50",
         "70",
         "97"
        ],
        [
         "26",
         "40",
         "60",
         "30",
         "31",
         "31",
         "70"
        ],
        [
         "27",
         "65",
         "90",
         "65",
         "61",
         "61",
         "100"
        ],
        [
         "28",
         "35",
         "60",
         "44",
         "40",
         "54",
         "55"
        ],
        [
         "29",
         "60",
         "85",
         "69",
         "65",
         "79",
         "80"
        ],
        [
         "30",
         "35",
         "55",
         "40",
         "50",
         "50",
         "90"
        ],
        [
         "31",
         "60",
         "90",
         "55",
         "90",
         "80",
         "110"
        ],
        [
         "32",
         "50",
         "75",
         "85",
         "20",
         "30",
         "40"
        ],
        [
         "33",
         "75",
         "100",
         "110",
         "45",
         "55",
         "65"
        ],
        [
         "34",
         "55",
         "47",
         "52",
         "40",
         "40",
         "41"
        ],
        [
         "35",
         "70",
         "62",
         "67",
         "55",
         "55",
         "56"
        ],
        [
         "36",
         "90",
         "92",
         "87",
         "75",
         "85",
         "76"
        ],
        [
         "37",
         "46",
         "57",
         "40",
         "40",
         "40",
         "50"
        ],
        [
         "38",
         "61",
         "72",
         "57",
         "55",
         "55",
         "65"
        ],
        [
         "39",
         "81",
         "102",
         "77",
         "85",
         "75",
         "85"
        ],
        [
         "40",
         "70",
         "45",
         "48",
         "60",
         "65",
         "35"
        ],
        [
         "41",
         "95",
         "70",
         "73",
         "95",
         "90",
         "60"
        ],
        [
         "42",
         "38",
         "41",
         "40",
         "50",
         "65",
         "65"
        ],
        [
         "43",
         "73",
         "76",
         "75",
         "81",
         "100",
         "100"
        ],
        [
         "44",
         "115",
         "45",
         "20",
         "45",
         "25",
         "20"
        ],
        [
         "45",
         "140",
         "70",
         "45",
         "85",
         "50",
         "45"
        ],
        [
         "46",
         "40",
         "45",
         "35",
         "30",
         "40",
         "55"
        ],
        [
         "47",
         "75",
         "80",
         "70",
         "65",
         "75",
         "90"
        ],
        [
         "48",
         "45",
         "50",
         "55",
         "75",
         "65",
         "30"
        ],
        [
         "49",
         "60",
         "65",
         "70",
         "85",
         "75",
         "40"
        ]
       ],
       "shape": {
        "columns": 6,
        "rows": 800
       }
      },
      "text/html": [
       "<div>\n",
       "<style scoped>\n",
       "    .dataframe tbody tr th:only-of-type {\n",
       "        vertical-align: middle;\n",
       "    }\n",
       "\n",
       "    .dataframe tbody tr th {\n",
       "        vertical-align: top;\n",
       "    }\n",
       "\n",
       "    .dataframe thead th {\n",
       "        text-align: right;\n",
       "    }\n",
       "</style>\n",
       "<table border=\"1\" class=\"dataframe\">\n",
       "  <thead>\n",
       "    <tr style=\"text-align: right;\">\n",
       "      <th></th>\n",
       "      <th>HP</th>\n",
       "      <th>Attack</th>\n",
       "      <th>Defense</th>\n",
       "      <th>Sp. Atk</th>\n",
       "      <th>Sp. Def</th>\n",
       "      <th>Speed</th>\n",
       "    </tr>\n",
       "  </thead>\n",
       "  <tbody>\n",
       "    <tr>\n",
       "      <th>0</th>\n",
       "      <td>45</td>\n",
       "      <td>49</td>\n",
       "      <td>49</td>\n",
       "      <td>65</td>\n",
       "      <td>65</td>\n",
       "      <td>45</td>\n",
       "    </tr>\n",
       "    <tr>\n",
       "      <th>1</th>\n",
       "      <td>60</td>\n",
       "      <td>62</td>\n",
       "      <td>63</td>\n",
       "      <td>80</td>\n",
       "      <td>80</td>\n",
       "      <td>60</td>\n",
       "    </tr>\n",
       "    <tr>\n",
       "      <th>2</th>\n",
       "      <td>80</td>\n",
       "      <td>82</td>\n",
       "      <td>83</td>\n",
       "      <td>100</td>\n",
       "      <td>100</td>\n",
       "      <td>80</td>\n",
       "    </tr>\n",
       "    <tr>\n",
       "      <th>3</th>\n",
       "      <td>80</td>\n",
       "      <td>100</td>\n",
       "      <td>123</td>\n",
       "      <td>122</td>\n",
       "      <td>120</td>\n",
       "      <td>80</td>\n",
       "    </tr>\n",
       "    <tr>\n",
       "      <th>4</th>\n",
       "      <td>39</td>\n",
       "      <td>52</td>\n",
       "      <td>43</td>\n",
       "      <td>60</td>\n",
       "      <td>50</td>\n",
       "      <td>65</td>\n",
       "    </tr>\n",
       "    <tr>\n",
       "      <th>...</th>\n",
       "      <td>...</td>\n",
       "      <td>...</td>\n",
       "      <td>...</td>\n",
       "      <td>...</td>\n",
       "      <td>...</td>\n",
       "      <td>...</td>\n",
       "    </tr>\n",
       "    <tr>\n",
       "      <th>795</th>\n",
       "      <td>50</td>\n",
       "      <td>100</td>\n",
       "      <td>150</td>\n",
       "      <td>100</td>\n",
       "      <td>150</td>\n",
       "      <td>50</td>\n",
       "    </tr>\n",
       "    <tr>\n",
       "      <th>796</th>\n",
       "      <td>50</td>\n",
       "      <td>160</td>\n",
       "      <td>110</td>\n",
       "      <td>160</td>\n",
       "      <td>110</td>\n",
       "      <td>110</td>\n",
       "    </tr>\n",
       "    <tr>\n",
       "      <th>797</th>\n",
       "      <td>80</td>\n",
       "      <td>110</td>\n",
       "      <td>60</td>\n",
       "      <td>150</td>\n",
       "      <td>130</td>\n",
       "      <td>70</td>\n",
       "    </tr>\n",
       "    <tr>\n",
       "      <th>798</th>\n",
       "      <td>80</td>\n",
       "      <td>160</td>\n",
       "      <td>60</td>\n",
       "      <td>170</td>\n",
       "      <td>130</td>\n",
       "      <td>80</td>\n",
       "    </tr>\n",
       "    <tr>\n",
       "      <th>799</th>\n",
       "      <td>80</td>\n",
       "      <td>110</td>\n",
       "      <td>120</td>\n",
       "      <td>130</td>\n",
       "      <td>90</td>\n",
       "      <td>70</td>\n",
       "    </tr>\n",
       "  </tbody>\n",
       "</table>\n",
       "<p>800 rows × 6 columns</p>\n",
       "</div>"
      ],
      "text/plain": [
       "     HP  Attack  Defense  Sp. Atk  Sp. Def  Speed\n",
       "0    45      49       49       65       65     45\n",
       "1    60      62       63       80       80     60\n",
       "2    80      82       83      100      100     80\n",
       "3    80     100      123      122      120     80\n",
       "4    39      52       43       60       50     65\n",
       "..   ..     ...      ...      ...      ...    ...\n",
       "795  50     100      150      100      150     50\n",
       "796  50     160      110      160      110    110\n",
       "797  80     110       60      150      130     70\n",
       "798  80     160       60      170      130     80\n",
       "799  80     110      120      130       90     70\n",
       "\n",
       "[800 rows x 6 columns]"
      ]
     },
     "execution_count": 919,
     "metadata": {},
     "output_type": "execute_result"
    }
   ],
   "source": [
    "\n",
    "pokemon=pd.read_csv('pokemon.csv')\n",
    "main_info=get_dataframe_column(iter=pokemon,choose_colums=5,end_columns=len(pokemon.columns))\n",
    "\n",
    "print((main_info.sum(1)!=pokemon['Total']).mean())\n"
   ]
  },
  {
   "cell_type": "code",
   "execution_count": null,
   "id": "21ecffd2",
   "metadata": {},
   "outputs": [
    {
     "data": {
      "application/vnd.microsoft.datawrangler.viewer.v0+json": {
       "columns": [
        {
         "name": "index",
         "rawType": "int64",
         "type": "integer"
        },
        {
         "name": "#",
         "rawType": "int64",
         "type": "integer"
        },
        {
         "name": "Name",
         "rawType": "object",
         "type": "string"
        },
        {
         "name": "Type 1",
         "rawType": "object",
         "type": "string"
        },
        {
         "name": "Type 2",
         "rawType": "object",
         "type": "unknown"
        },
        {
         "name": "Total",
         "rawType": "int64",
         "type": "integer"
        },
        {
         "name": "HP",
         "rawType": "int64",
         "type": "integer"
        },
        {
         "name": "Attack",
         "rawType": "int64",
         "type": "integer"
        },
        {
         "name": "Defense",
         "rawType": "int64",
         "type": "integer"
        },
        {
         "name": "Sp. Atk",
         "rawType": "int64",
         "type": "integer"
        },
        {
         "name": "Sp. Def",
         "rawType": "int64",
         "type": "integer"
        },
        {
         "name": "Speed",
         "rawType": "int64",
         "type": "integer"
        }
       ],
       "ref": "8974b95a-1622-4ad7-b193-625075f07fb6",
       "rows": [
        [
         "0",
         "1",
         "Bulbasaur",
         "Grass",
         "Poison",
         "318",
         "45",
         "49",
         "49",
         "65",
         "65",
         "45"
        ],
        [
         "1",
         "2",
         "Ivysaur",
         "Grass",
         "Poison",
         "405",
         "60",
         "62",
         "63",
         "80",
         "80",
         "60"
        ],
        [
         "2",
         "3",
         "Venusaur",
         "Grass",
         "Poison",
         "525",
         "80",
         "82",
         "83",
         "100",
         "100",
         "80"
        ],
        [
         "3",
         "3",
         "VenusaurMega Venusaur",
         "Grass",
         "Poison",
         "625",
         "80",
         "100",
         "123",
         "122",
         "120",
         "80"
        ],
        [
         "4",
         "4",
         "Charmander",
         "Fire",
         null,
         "309",
         "39",
         "52",
         "43",
         "60",
         "50",
         "65"
        ],
        [
         "5",
         "5",
         "Charmeleon",
         "Fire",
         null,
         "405",
         "58",
         "64",
         "58",
         "80",
         "65",
         "80"
        ],
        [
         "6",
         "6",
         "Charizard",
         "Fire",
         "Flying",
         "534",
         "78",
         "84",
         "78",
         "109",
         "85",
         "100"
        ],
        [
         "7",
         "6",
         "CharizardMega Charizard X",
         "Fire",
         "Dragon",
         "634",
         "78",
         "130",
         "111",
         "130",
         "85",
         "100"
        ],
        [
         "8",
         "6",
         "CharizardMega Charizard Y",
         "Fire",
         "Flying",
         "634",
         "78",
         "104",
         "78",
         "159",
         "115",
         "100"
        ],
        [
         "9",
         "7",
         "Squirtle",
         "Water",
         null,
         "314",
         "44",
         "48",
         "65",
         "50",
         "64",
         "43"
        ],
        [
         "10",
         "8",
         "Wartortle",
         "Water",
         null,
         "405",
         "59",
         "63",
         "80",
         "65",
         "80",
         "58"
        ],
        [
         "11",
         "9",
         "Blastoise",
         "Water",
         null,
         "530",
         "79",
         "83",
         "100",
         "85",
         "105",
         "78"
        ],
        [
         "12",
         "9",
         "BlastoiseMega Blastoise",
         "Water",
         null,
         "630",
         "79",
         "103",
         "120",
         "135",
         "115",
         "78"
        ],
        [
         "13",
         "10",
         "Caterpie",
         "Bug",
         null,
         "195",
         "45",
         "30",
         "35",
         "20",
         "20",
         "45"
        ],
        [
         "14",
         "11",
         "Metapod",
         "Bug",
         null,
         "205",
         "50",
         "20",
         "55",
         "25",
         "25",
         "30"
        ],
        [
         "15",
         "12",
         "Butterfree",
         "Bug",
         "Flying",
         "395",
         "60",
         "45",
         "50",
         "90",
         "80",
         "70"
        ],
        [
         "16",
         "13",
         "Weedle",
         "Bug",
         "Poison",
         "195",
         "40",
         "35",
         "30",
         "20",
         "20",
         "50"
        ],
        [
         "17",
         "14",
         "Kakuna",
         "Bug",
         "Poison",
         "205",
         "45",
         "25",
         "50",
         "25",
         "25",
         "35"
        ],
        [
         "18",
         "15",
         "Beedrill",
         "Bug",
         "Poison",
         "395",
         "65",
         "90",
         "40",
         "45",
         "80",
         "75"
        ],
        [
         "19",
         "15",
         "BeedrillMega Beedrill",
         "Bug",
         "Poison",
         "495",
         "65",
         "150",
         "40",
         "15",
         "80",
         "145"
        ],
        [
         "20",
         "16",
         "Pidgey",
         "Normal",
         "Flying",
         "251",
         "40",
         "45",
         "40",
         "35",
         "35",
         "56"
        ],
        [
         "21",
         "17",
         "Pidgeotto",
         "Normal",
         "Flying",
         "349",
         "63",
         "60",
         "55",
         "50",
         "50",
         "71"
        ],
        [
         "22",
         "18",
         "Pidgeot",
         "Normal",
         "Flying",
         "479",
         "83",
         "80",
         "75",
         "70",
         "70",
         "101"
        ],
        [
         "23",
         "18",
         "PidgeotMega Pidgeot",
         "Normal",
         "Flying",
         "579",
         "83",
         "80",
         "80",
         "135",
         "80",
         "121"
        ],
        [
         "24",
         "19",
         "Rattata",
         "Normal",
         null,
         "253",
         "30",
         "56",
         "35",
         "25",
         "35",
         "72"
        ],
        [
         "25",
         "20",
         "Raticate",
         "Normal",
         null,
         "413",
         "55",
         "81",
         "60",
         "50",
         "70",
         "97"
        ],
        [
         "26",
         "21",
         "Spearow",
         "Normal",
         "Flying",
         "262",
         "40",
         "60",
         "30",
         "31",
         "31",
         "70"
        ],
        [
         "27",
         "22",
         "Fearow",
         "Normal",
         "Flying",
         "442",
         "65",
         "90",
         "65",
         "61",
         "61",
         "100"
        ],
        [
         "28",
         "23",
         "Ekans",
         "Poison",
         null,
         "288",
         "35",
         "60",
         "44",
         "40",
         "54",
         "55"
        ],
        [
         "29",
         "24",
         "Arbok",
         "Poison",
         null,
         "438",
         "60",
         "85",
         "69",
         "65",
         "79",
         "80"
        ],
        [
         "30",
         "25",
         "Pikachu",
         "Electric",
         null,
         "320",
         "35",
         "55",
         "40",
         "50",
         "50",
         "90"
        ],
        [
         "31",
         "26",
         "Raichu",
         "Electric",
         null,
         "485",
         "60",
         "90",
         "55",
         "90",
         "80",
         "110"
        ],
        [
         "32",
         "27",
         "Sandshrew",
         "Ground",
         null,
         "300",
         "50",
         "75",
         "85",
         "20",
         "30",
         "40"
        ],
        [
         "33",
         "28",
         "Sandslash",
         "Ground",
         null,
         "450",
         "75",
         "100",
         "110",
         "45",
         "55",
         "65"
        ],
        [
         "34",
         "29",
         "Nidoran♀",
         "Poison",
         null,
         "275",
         "55",
         "47",
         "52",
         "40",
         "40",
         "41"
        ],
        [
         "35",
         "30",
         "Nidorina",
         "Poison",
         null,
         "365",
         "70",
         "62",
         "67",
         "55",
         "55",
         "56"
        ],
        [
         "36",
         "31",
         "Nidoqueen",
         "Poison",
         "Ground",
         "505",
         "90",
         "92",
         "87",
         "75",
         "85",
         "76"
        ],
        [
         "37",
         "32",
         "Nidoran♂",
         "Poison",
         null,
         "273",
         "46",
         "57",
         "40",
         "40",
         "40",
         "50"
        ],
        [
         "38",
         "33",
         "Nidorino",
         "Poison",
         null,
         "365",
         "61",
         "72",
         "57",
         "55",
         "55",
         "65"
        ],
        [
         "39",
         "34",
         "Nidoking",
         "Poison",
         "Ground",
         "505",
         "81",
         "102",
         "77",
         "85",
         "75",
         "85"
        ],
        [
         "40",
         "35",
         "Clefairy",
         "Fairy",
         null,
         "323",
         "70",
         "45",
         "48",
         "60",
         "65",
         "35"
        ],
        [
         "41",
         "36",
         "Clefable",
         "Fairy",
         null,
         "483",
         "95",
         "70",
         "73",
         "95",
         "90",
         "60"
        ],
        [
         "42",
         "37",
         "Vulpix",
         "Fire",
         null,
         "299",
         "38",
         "41",
         "40",
         "50",
         "65",
         "65"
        ],
        [
         "43",
         "38",
         "Ninetales",
         "Fire",
         null,
         "505",
         "73",
         "76",
         "75",
         "81",
         "100",
         "100"
        ],
        [
         "44",
         "39",
         "Jigglypuff",
         "Normal",
         "Fairy",
         "270",
         "115",
         "45",
         "20",
         "45",
         "25",
         "20"
        ],
        [
         "45",
         "40",
         "Wigglytuff",
         "Normal",
         "Fairy",
         "435",
         "140",
         "70",
         "45",
         "85",
         "50",
         "45"
        ],
        [
         "46",
         "41",
         "Zubat",
         "Poison",
         "Flying",
         "245",
         "40",
         "45",
         "35",
         "30",
         "40",
         "55"
        ],
        [
         "47",
         "42",
         "Golbat",
         "Poison",
         "Flying",
         "455",
         "75",
         "80",
         "70",
         "65",
         "75",
         "90"
        ],
        [
         "48",
         "43",
         "Oddish",
         "Grass",
         "Poison",
         "320",
         "45",
         "50",
         "55",
         "75",
         "65",
         "30"
        ],
        [
         "49",
         "44",
         "Gloom",
         "Grass",
         "Poison",
         "395",
         "60",
         "65",
         "70",
         "85",
         "75",
         "40"
        ]
       ],
       "shape": {
        "columns": 11,
        "rows": 800
       }
      },
      "text/html": [
       "<div>\n",
       "<style scoped>\n",
       "    .dataframe tbody tr th:only-of-type {\n",
       "        vertical-align: middle;\n",
       "    }\n",
       "\n",
       "    .dataframe tbody tr th {\n",
       "        vertical-align: top;\n",
       "    }\n",
       "\n",
       "    .dataframe thead th {\n",
       "        text-align: right;\n",
       "    }\n",
       "</style>\n",
       "<table border=\"1\" class=\"dataframe\">\n",
       "  <thead>\n",
       "    <tr style=\"text-align: right;\">\n",
       "      <th></th>\n",
       "      <th>#</th>\n",
       "      <th>Name</th>\n",
       "      <th>Type 1</th>\n",
       "      <th>Type 2</th>\n",
       "      <th>Total</th>\n",
       "      <th>HP</th>\n",
       "      <th>Attack</th>\n",
       "      <th>Defense</th>\n",
       "      <th>Sp. Atk</th>\n",
       "      <th>Sp. Def</th>\n",
       "      <th>Speed</th>\n",
       "    </tr>\n",
       "  </thead>\n",
       "  <tbody>\n",
       "    <tr>\n",
       "      <th>0</th>\n",
       "      <td>1</td>\n",
       "      <td>Bulbasaur</td>\n",
       "      <td>Grass</td>\n",
       "      <td>Poison</td>\n",
       "      <td>318</td>\n",
       "      <td>45</td>\n",
       "      <td>49</td>\n",
       "      <td>49</td>\n",
       "      <td>65</td>\n",
       "      <td>65</td>\n",
       "      <td>45</td>\n",
       "    </tr>\n",
       "    <tr>\n",
       "      <th>1</th>\n",
       "      <td>2</td>\n",
       "      <td>Ivysaur</td>\n",
       "      <td>Grass</td>\n",
       "      <td>Poison</td>\n",
       "      <td>405</td>\n",
       "      <td>60</td>\n",
       "      <td>62</td>\n",
       "      <td>63</td>\n",
       "      <td>80</td>\n",
       "      <td>80</td>\n",
       "      <td>60</td>\n",
       "    </tr>\n",
       "    <tr>\n",
       "      <th>2</th>\n",
       "      <td>3</td>\n",
       "      <td>Venusaur</td>\n",
       "      <td>Grass</td>\n",
       "      <td>Poison</td>\n",
       "      <td>525</td>\n",
       "      <td>80</td>\n",
       "      <td>82</td>\n",
       "      <td>83</td>\n",
       "      <td>100</td>\n",
       "      <td>100</td>\n",
       "      <td>80</td>\n",
       "    </tr>\n",
       "    <tr>\n",
       "      <th>3</th>\n",
       "      <td>3</td>\n",
       "      <td>VenusaurMega Venusaur</td>\n",
       "      <td>Grass</td>\n",
       "      <td>Poison</td>\n",
       "      <td>625</td>\n",
       "      <td>80</td>\n",
       "      <td>100</td>\n",
       "      <td>123</td>\n",
       "      <td>122</td>\n",
       "      <td>120</td>\n",
       "      <td>80</td>\n",
       "    </tr>\n",
       "    <tr>\n",
       "      <th>4</th>\n",
       "      <td>4</td>\n",
       "      <td>Charmander</td>\n",
       "      <td>Fire</td>\n",
       "      <td>NaN</td>\n",
       "      <td>309</td>\n",
       "      <td>39</td>\n",
       "      <td>52</td>\n",
       "      <td>43</td>\n",
       "      <td>60</td>\n",
       "      <td>50</td>\n",
       "      <td>65</td>\n",
       "    </tr>\n",
       "    <tr>\n",
       "      <th>...</th>\n",
       "      <td>...</td>\n",
       "      <td>...</td>\n",
       "      <td>...</td>\n",
       "      <td>...</td>\n",
       "      <td>...</td>\n",
       "      <td>...</td>\n",
       "      <td>...</td>\n",
       "      <td>...</td>\n",
       "      <td>...</td>\n",
       "      <td>...</td>\n",
       "      <td>...</td>\n",
       "    </tr>\n",
       "    <tr>\n",
       "      <th>795</th>\n",
       "      <td>719</td>\n",
       "      <td>Diancie</td>\n",
       "      <td>Rock</td>\n",
       "      <td>Fairy</td>\n",
       "      <td>600</td>\n",
       "      <td>50</td>\n",
       "      <td>100</td>\n",
       "      <td>150</td>\n",
       "      <td>100</td>\n",
       "      <td>150</td>\n",
       "      <td>50</td>\n",
       "    </tr>\n",
       "    <tr>\n",
       "      <th>796</th>\n",
       "      <td>719</td>\n",
       "      <td>DiancieMega Diancie</td>\n",
       "      <td>Rock</td>\n",
       "      <td>Fairy</td>\n",
       "      <td>700</td>\n",
       "      <td>50</td>\n",
       "      <td>160</td>\n",
       "      <td>110</td>\n",
       "      <td>160</td>\n",
       "      <td>110</td>\n",
       "      <td>110</td>\n",
       "    </tr>\n",
       "    <tr>\n",
       "      <th>797</th>\n",
       "      <td>720</td>\n",
       "      <td>HoopaHoopa Confined</td>\n",
       "      <td>Psychic</td>\n",
       "      <td>Ghost</td>\n",
       "      <td>600</td>\n",
       "      <td>80</td>\n",
       "      <td>110</td>\n",
       "      <td>60</td>\n",
       "      <td>150</td>\n",
       "      <td>130</td>\n",
       "      <td>70</td>\n",
       "    </tr>\n",
       "    <tr>\n",
       "      <th>798</th>\n",
       "      <td>720</td>\n",
       "      <td>HoopaHoopa Unbound</td>\n",
       "      <td>Psychic</td>\n",
       "      <td>Dark</td>\n",
       "      <td>680</td>\n",
       "      <td>80</td>\n",
       "      <td>160</td>\n",
       "      <td>60</td>\n",
       "      <td>170</td>\n",
       "      <td>130</td>\n",
       "      <td>80</td>\n",
       "    </tr>\n",
       "    <tr>\n",
       "      <th>799</th>\n",
       "      <td>721</td>\n",
       "      <td>Volcanion</td>\n",
       "      <td>Fire</td>\n",
       "      <td>Water</td>\n",
       "      <td>600</td>\n",
       "      <td>80</td>\n",
       "      <td>110</td>\n",
       "      <td>120</td>\n",
       "      <td>130</td>\n",
       "      <td>90</td>\n",
       "      <td>70</td>\n",
       "    </tr>\n",
       "  </tbody>\n",
       "</table>\n",
       "<p>800 rows × 11 columns</p>\n",
       "</div>"
      ],
      "text/plain": [
       "       #                   Name   Type 1  Type 2  Total  HP  Attack  Defense  \\\n",
       "0      1              Bulbasaur    Grass  Poison    318  45      49       49   \n",
       "1      2                Ivysaur    Grass  Poison    405  60      62       63   \n",
       "2      3               Venusaur    Grass  Poison    525  80      82       83   \n",
       "3      3  VenusaurMega Venusaur    Grass  Poison    625  80     100      123   \n",
       "4      4             Charmander     Fire     NaN    309  39      52       43   \n",
       "..   ...                    ...      ...     ...    ...  ..     ...      ...   \n",
       "795  719                Diancie     Rock   Fairy    600  50     100      150   \n",
       "796  719    DiancieMega Diancie     Rock   Fairy    700  50     160      110   \n",
       "797  720    HoopaHoopa Confined  Psychic   Ghost    600  80     110       60   \n",
       "798  720     HoopaHoopa Unbound  Psychic    Dark    680  80     160       60   \n",
       "799  721              Volcanion     Fire   Water    600  80     110      120   \n",
       "\n",
       "     Sp. Atk  Sp. Def  Speed  \n",
       "0         65       65     45  \n",
       "1         80       80     60  \n",
       "2        100      100     80  \n",
       "3        122      120     80  \n",
       "4         60       50     65  \n",
       "..       ...      ...    ...  \n",
       "795      100      150     50  \n",
       "796      160      110    110  \n",
       "797      150      130     70  \n",
       "798      170      130     80  \n",
       "799      130       90     70  \n",
       "\n",
       "[800 rows x 11 columns]"
      ]
     },
     "execution_count": 739,
     "metadata": {},
     "output_type": "execute_result"
    }
   ],
   "source": [
    "pokemon"
   ]
  },
  {
   "cell_type": "code",
   "execution_count": 847,
   "id": "e5a5a891",
   "metadata": {},
   "outputs": [
    {
     "data": {
      "text/plain": [
       "array(['Grass', 'Fire', 'Water', 'Bug', 'Normal', 'Poison', 'Electric',\n",
       "       'Ground', 'Fairy', 'Fighting', 'Psychic', 'Rock', 'Ghost', 'Ice',\n",
       "       'Dragon', 'Dark', 'Steel', 'Flying'], dtype=object)"
      ]
     },
     "execution_count": 847,
     "metadata": {},
     "output_type": "execute_result"
    }
   ],
   "source": [
    "pokemon_dup=get_muit_columns_data(data=pokemon,index=[pokemon.columns[0],pokemon.columns[2],pokemon.columns[3]],index_another=[pokemon.columns[0],pokemon.columns[2]],keep='first')\n",
    "pokemon_dup[pokemon.columns[2]].unique()"
   ]
  },
  {
   "cell_type": "code",
   "execution_count": 848,
   "id": "90941c9a",
   "metadata": {},
   "outputs": [
    {
     "data": {
      "text/plain": [
       "Index(['Water', 'Normal', 'Grass'], dtype='object', name='Type 1')"
      ]
     },
     "execution_count": 848,
     "metadata": {},
     "output_type": "execute_result"
    }
   ],
   "source": [
    "pokemon_dup[pokemon.columns[2]].value_counts().index[:3]"
   ]
  },
  {
   "cell_type": "code",
   "execution_count": 868,
   "id": "61f9ecc4",
   "metadata": {},
   "outputs": [],
   "source": [
    "pokemon_arrt=get_muit_columns_data(data=pokemon_dup,index=[pokemon.columns[2],pokemon.columns[3]],index_another=None)\n",
    "pokemon_arrt.shape[0]\n",
    "pokemon_arrt.columns[2]\n",
    "type_one_ability=pokemon_arrt[pokemon_arrt.columns[1]]\n",
    "type_two_ability=pokemon_arrt[pokemon_arrt.columns[2]]\n"
   ]
  },
  {
   "cell_type": "code",
   "execution_count": 870,
   "id": "d284b105",
   "metadata": {},
   "outputs": [
    {
     "data": {
      "text/plain": [
       "181"
      ]
     },
     "execution_count": 870,
     "metadata": {},
     "output_type": "execute_result"
    }
   ],
   "source": [
    "type_one=pokemon[pokemon.columns[2]]\n",
    "pokemon_type_Full=[i+''+j if i!=j else i for i in type_one.unique() for j in type_one.unique() ]\n",
    "pokemon_type_part=[i+''+j if not isinstance(j,float) else i for i,j in zip(type_one_ability,type_two_ability)]\n",
    "res=set(pokemon_type_Full).difference(set(pokemon_type_part))\n",
    "len(res)\n"
   ]
  },
  {
   "cell_type": "code",
   "execution_count": 895,
   "id": "878994d0",
   "metadata": {},
   "outputs": [
    {
     "data": {
      "application/vnd.microsoft.datawrangler.viewer.v0+json": {
       "columns": [
        {
         "name": "index",
         "rawType": "int64",
         "type": "integer"
        },
        {
         "name": "Attack",
         "rawType": "object",
         "type": "string"
        }
       ],
       "ref": "0749fce7-8069-4f24-9492-3805e1f7f0f2",
       "rows": [
        [
         "0",
         "low"
        ],
        [
         "1",
         "mid"
        ],
        [
         "2",
         "mid"
        ],
        [
         "3",
         "mid"
        ],
        [
         "4",
         "mid"
        ],
        [
         "5",
         "mid"
        ],
        [
         "6",
         "mid"
        ],
        [
         "7",
         "hight"
        ],
        [
         "8",
         "mid"
        ],
        [
         "9",
         "low"
        ],
        [
         "10",
         "mid"
        ],
        [
         "11",
         "mid"
        ],
        [
         "12",
         "mid"
        ],
        [
         "13",
         "low"
        ],
        [
         "14",
         "low"
        ],
        [
         "15",
         "low"
        ],
        [
         "16",
         "low"
        ],
        [
         "17",
         "low"
        ],
        [
         "18",
         "mid"
        ],
        [
         "19",
         "hight"
        ],
        [
         "20",
         "low"
        ],
        [
         "21",
         "mid"
        ],
        [
         "22",
         "mid"
        ],
        [
         "23",
         "mid"
        ],
        [
         "24",
         "mid"
        ],
        [
         "25",
         "mid"
        ],
        [
         "26",
         "mid"
        ],
        [
         "27",
         "mid"
        ],
        [
         "28",
         "mid"
        ],
        [
         "29",
         "mid"
        ],
        [
         "30",
         "mid"
        ],
        [
         "31",
         "mid"
        ],
        [
         "32",
         "mid"
        ],
        [
         "33",
         "mid"
        ],
        [
         "34",
         "low"
        ],
        [
         "35",
         "mid"
        ],
        [
         "36",
         "mid"
        ],
        [
         "37",
         "mid"
        ],
        [
         "38",
         "mid"
        ],
        [
         "39",
         "mid"
        ],
        [
         "40",
         "low"
        ],
        [
         "41",
         "mid"
        ],
        [
         "42",
         "low"
        ],
        [
         "43",
         "mid"
        ],
        [
         "44",
         "low"
        ],
        [
         "45",
         "mid"
        ],
        [
         "46",
         "low"
        ],
        [
         "47",
         "mid"
        ],
        [
         "48",
         "mid"
        ],
        [
         "49",
         "mid"
        ]
       ],
       "shape": {
        "columns": 1,
        "rows": 800
       }
      },
      "text/html": [
       "<div>\n",
       "<style scoped>\n",
       "    .dataframe tbody tr th:only-of-type {\n",
       "        vertical-align: middle;\n",
       "    }\n",
       "\n",
       "    .dataframe tbody tr th {\n",
       "        vertical-align: top;\n",
       "    }\n",
       "\n",
       "    .dataframe thead th {\n",
       "        text-align: right;\n",
       "    }\n",
       "</style>\n",
       "<table border=\"1\" class=\"dataframe\">\n",
       "  <thead>\n",
       "    <tr style=\"text-align: right;\">\n",
       "      <th></th>\n",
       "      <th>Attack</th>\n",
       "    </tr>\n",
       "  </thead>\n",
       "  <tbody>\n",
       "    <tr>\n",
       "      <th>0</th>\n",
       "      <td>low</td>\n",
       "    </tr>\n",
       "    <tr>\n",
       "      <th>1</th>\n",
       "      <td>mid</td>\n",
       "    </tr>\n",
       "    <tr>\n",
       "      <th>2</th>\n",
       "      <td>mid</td>\n",
       "    </tr>\n",
       "    <tr>\n",
       "      <th>3</th>\n",
       "      <td>mid</td>\n",
       "    </tr>\n",
       "    <tr>\n",
       "      <th>4</th>\n",
       "      <td>mid</td>\n",
       "    </tr>\n",
       "    <tr>\n",
       "      <th>...</th>\n",
       "      <td>...</td>\n",
       "    </tr>\n",
       "    <tr>\n",
       "      <th>795</th>\n",
       "      <td>mid</td>\n",
       "    </tr>\n",
       "    <tr>\n",
       "      <th>796</th>\n",
       "      <td>hight</td>\n",
       "    </tr>\n",
       "    <tr>\n",
       "      <th>797</th>\n",
       "      <td>mid</td>\n",
       "    </tr>\n",
       "    <tr>\n",
       "      <th>798</th>\n",
       "      <td>hight</td>\n",
       "    </tr>\n",
       "    <tr>\n",
       "      <th>799</th>\n",
       "      <td>mid</td>\n",
       "    </tr>\n",
       "  </tbody>\n",
       "</table>\n",
       "<p>800 rows × 1 columns</p>\n",
       "</div>"
      ],
      "text/plain": [
       "    Attack\n",
       "0      low\n",
       "1      mid\n",
       "2      mid\n",
       "3      mid\n",
       "4      mid\n",
       "..     ...\n",
       "795    mid\n",
       "796  hight\n",
       "797    mid\n",
       "798  hight\n",
       "799    mid\n",
       "\n",
       "[800 rows x 1 columns]"
      ]
     },
     "execution_count": 895,
     "metadata": {},
     "output_type": "execute_result"
    }
   ],
   "source": [
    "attack=[pokemon.columns[6]]\n",
    "mask_where(data=pokemon,index_columns=attack,cond=pokemon[attack]>120,new_value='hight',logic='mask').mask(pokemon[attack]<50,'low').mask((50<=pokemon[attack])&(pokemon[attack]<=120),'mid')"
   ]
  },
  {
   "cell_type": "code",
   "execution_count": 904,
   "id": "134b259e",
   "metadata": {},
   "outputs": [
    {
     "data": {
      "application/vnd.microsoft.datawrangler.viewer.v0+json": {
       "columns": [
        {
         "name": "index",
         "rawType": "int64",
         "type": "integer"
        },
        {
         "name": "Type 1",
         "rawType": "object",
         "type": "string"
        }
       ],
       "ref": "8264056d-2172-4f74-8fef-f9b25dd2d8b8",
       "rows": [
        [
         "0",
         "GRASS"
        ],
        [
         "1",
         "GRASS"
        ],
        [
         "2",
         "GRASS"
        ],
        [
         "3",
         "GRASS"
        ],
        [
         "4",
         "FIRE"
        ],
        [
         "5",
         "FIRE"
        ],
        [
         "6",
         "FIRE"
        ],
        [
         "7",
         "FIRE"
        ],
        [
         "8",
         "FIRE"
        ],
        [
         "9",
         "WATER"
        ],
        [
         "10",
         "WATER"
        ],
        [
         "11",
         "WATER"
        ],
        [
         "12",
         "WATER"
        ],
        [
         "13",
         "BUG"
        ],
        [
         "14",
         "BUG"
        ],
        [
         "15",
         "BUG"
        ],
        [
         "16",
         "BUG"
        ],
        [
         "17",
         "BUG"
        ],
        [
         "18",
         "BUG"
        ],
        [
         "19",
         "BUG"
        ],
        [
         "20",
         "NORMAL"
        ],
        [
         "21",
         "NORMAL"
        ],
        [
         "22",
         "NORMAL"
        ],
        [
         "23",
         "NORMAL"
        ],
        [
         "24",
         "NORMAL"
        ],
        [
         "25",
         "NORMAL"
        ],
        [
         "26",
         "NORMAL"
        ],
        [
         "27",
         "NORMAL"
        ],
        [
         "28",
         "POISON"
        ],
        [
         "29",
         "POISON"
        ],
        [
         "30",
         "ELECTRIC"
        ],
        [
         "31",
         "ELECTRIC"
        ],
        [
         "32",
         "GROUND"
        ],
        [
         "33",
         "GROUND"
        ],
        [
         "34",
         "POISON"
        ],
        [
         "35",
         "POISON"
        ],
        [
         "36",
         "POISON"
        ],
        [
         "37",
         "POISON"
        ],
        [
         "38",
         "POISON"
        ],
        [
         "39",
         "POISON"
        ],
        [
         "40",
         "FAIRY"
        ],
        [
         "41",
         "FAIRY"
        ],
        [
         "42",
         "FIRE"
        ],
        [
         "43",
         "FIRE"
        ],
        [
         "44",
         "NORMAL"
        ],
        [
         "45",
         "NORMAL"
        ],
        [
         "46",
         "POISON"
        ],
        [
         "47",
         "POISON"
        ],
        [
         "48",
         "GRASS"
        ],
        [
         "49",
         "GRASS"
        ]
       ],
       "shape": {
        "columns": 1,
        "rows": 800
       }
      },
      "text/plain": [
       "0        GRASS\n",
       "1        GRASS\n",
       "2        GRASS\n",
       "3        GRASS\n",
       "4         FIRE\n",
       "        ...   \n",
       "795       ROCK\n",
       "796       ROCK\n",
       "797    PSYCHIC\n",
       "798    PSYCHIC\n",
       "799       FIRE\n",
       "Name: Type 1, Length: 800, dtype: object"
      ]
     },
     "execution_count": 904,
     "metadata": {},
     "output_type": "execute_result"
    }
   ],
   "source": [
    "replace_data(data=pokemon,index_columns=pokemon.columns[2],replace_text={i:str.upper(i) for i in pokemon[pokemon.columns[2]].unique()})\n"
   ]
  },
  {
   "cell_type": "code",
   "execution_count": 905,
   "id": "672204a6",
   "metadata": {},
   "outputs": [
    {
     "data": {
      "application/vnd.microsoft.datawrangler.viewer.v0+json": {
       "columns": [
        {
         "name": "index",
         "rawType": "int64",
         "type": "integer"
        },
        {
         "name": "Type 1",
         "rawType": "object",
         "type": "string"
        }
       ],
       "ref": "68689958-39bf-44e2-aef7-42870b8b5be8",
       "rows": [
        [
         "0",
         "GRASS"
        ],
        [
         "1",
         "GRASS"
        ],
        [
         "2",
         "GRASS"
        ],
        [
         "3",
         "GRASS"
        ],
        [
         "4",
         "FIRE"
        ],
        [
         "5",
         "FIRE"
        ],
        [
         "6",
         "FIRE"
        ],
        [
         "7",
         "FIRE"
        ],
        [
         "8",
         "FIRE"
        ],
        [
         "9",
         "WATER"
        ],
        [
         "10",
         "WATER"
        ],
        [
         "11",
         "WATER"
        ],
        [
         "12",
         "WATER"
        ],
        [
         "13",
         "BUG"
        ],
        [
         "14",
         "BUG"
        ],
        [
         "15",
         "BUG"
        ],
        [
         "16",
         "BUG"
        ],
        [
         "17",
         "BUG"
        ],
        [
         "18",
         "BUG"
        ],
        [
         "19",
         "BUG"
        ],
        [
         "20",
         "NORMAL"
        ],
        [
         "21",
         "NORMAL"
        ],
        [
         "22",
         "NORMAL"
        ],
        [
         "23",
         "NORMAL"
        ],
        [
         "24",
         "NORMAL"
        ],
        [
         "25",
         "NORMAL"
        ],
        [
         "26",
         "NORMAL"
        ],
        [
         "27",
         "NORMAL"
        ],
        [
         "28",
         "POISON"
        ],
        [
         "29",
         "POISON"
        ],
        [
         "30",
         "ELECTRIC"
        ],
        [
         "31",
         "ELECTRIC"
        ],
        [
         "32",
         "GROUND"
        ],
        [
         "33",
         "GROUND"
        ],
        [
         "34",
         "POISON"
        ],
        [
         "35",
         "POISON"
        ],
        [
         "36",
         "POISON"
        ],
        [
         "37",
         "POISON"
        ],
        [
         "38",
         "POISON"
        ],
        [
         "39",
         "POISON"
        ],
        [
         "40",
         "FAIRY"
        ],
        [
         "41",
         "FAIRY"
        ],
        [
         "42",
         "FIRE"
        ],
        [
         "43",
         "FIRE"
        ],
        [
         "44",
         "NORMAL"
        ],
        [
         "45",
         "NORMAL"
        ],
        [
         "46",
         "POISON"
        ],
        [
         "47",
         "POISON"
        ],
        [
         "48",
         "GRASS"
        ],
        [
         "49",
         "GRASS"
        ]
       ],
       "shape": {
        "columns": 1,
        "rows": 800
       }
      },
      "text/plain": [
       "0        GRASS\n",
       "1        GRASS\n",
       "2        GRASS\n",
       "3        GRASS\n",
       "4         FIRE\n",
       "        ...   \n",
       "795       ROCK\n",
       "796       ROCK\n",
       "797    PSYCHIC\n",
       "798    PSYCHIC\n",
       "799       FIRE\n",
       "Name: Type 1, Length: 800, dtype: object"
      ]
     },
     "execution_count": 905,
     "metadata": {},
     "output_type": "execute_result"
    }
   ],
   "source": [
    "apply_data(data=pokemon,index_columns=pokemon.columns[2],value=lambda x:str.upper(x),method=None)"
   ]
  },
  {
   "cell_type": "code",
   "execution_count": null,
   "id": "c776f104",
   "metadata": {},
   "outputs": [
    {
     "data": {
      "application/vnd.microsoft.datawrangler.viewer.v0+json": {
       "columns": [
        {
         "name": "index",
         "rawType": "int64",
         "type": "integer"
        },
        {
         "name": "#",
         "rawType": "int64",
         "type": "integer"
        },
        {
         "name": "Name",
         "rawType": "object",
         "type": "string"
        },
        {
         "name": "Type 1",
         "rawType": "object",
         "type": "string"
        },
        {
         "name": "Type 2",
         "rawType": "object",
         "type": "unknown"
        },
        {
         "name": "Total",
         "rawType": "int64",
         "type": "integer"
        },
        {
         "name": "HP",
         "rawType": "int64",
         "type": "integer"
        },
        {
         "name": "Attack",
         "rawType": "int64",
         "type": "integer"
        },
        {
         "name": "Defense",
         "rawType": "int64",
         "type": "integer"
        },
        {
         "name": "Sp. Atk",
         "rawType": "int64",
         "type": "integer"
        },
        {
         "name": "Sp. Def",
         "rawType": "int64",
         "type": "integer"
        },
        {
         "name": "Speed",
         "rawType": "int64",
         "type": "integer"
        },
        {
         "name": "Deviation",
         "rawType": "float64",
         "type": "float"
        }
       ],
       "ref": "f056ba50-55bb-4772-88b0-51aad2e1f5a9",
       "rows": [
        [
         "230",
         "213",
         "Shuckle",
         "Bug",
         "Rock",
         "505",
         "20",
         "10",
         "230",
         "10",
         "230",
         "5",
         "215.0"
        ],
        [
         "121",
         "113",
         "Chansey",
         "Normal",
         null,
         "450",
         "250",
         "5",
         "5",
         "35",
         "105",
         "50",
         "207.5"
        ],
        [
         "261",
         "242",
         "Blissey",
         "Normal",
         null,
         "540",
         "255",
         "10",
         "10",
         "75",
         "135",
         "55",
         "190.0"
        ],
        [
         "333",
         "306",
         "AggronMega Aggron",
         "Steel",
         null,
         "630",
         "70",
         "140",
         "230",
         "60",
         "80",
         "50",
         "155.0"
        ],
        [
         "224",
         "208",
         "SteelixMega Steelix",
         "Steel",
         "Ground",
         "610",
         "75",
         "125",
         "230",
         "55",
         "95",
         "30",
         "145.0"
        ]
       ],
       "shape": {
        "columns": 12,
        "rows": 5
       }
      },
      "text/html": [
       "<div>\n",
       "<style scoped>\n",
       "    .dataframe tbody tr th:only-of-type {\n",
       "        vertical-align: middle;\n",
       "    }\n",
       "\n",
       "    .dataframe tbody tr th {\n",
       "        vertical-align: top;\n",
       "    }\n",
       "\n",
       "    .dataframe thead th {\n",
       "        text-align: right;\n",
       "    }\n",
       "</style>\n",
       "<table border=\"1\" class=\"dataframe\">\n",
       "  <thead>\n",
       "    <tr style=\"text-align: right;\">\n",
       "      <th></th>\n",
       "      <th>#</th>\n",
       "      <th>Name</th>\n",
       "      <th>Type 1</th>\n",
       "      <th>Type 2</th>\n",
       "      <th>Total</th>\n",
       "      <th>HP</th>\n",
       "      <th>Attack</th>\n",
       "      <th>Defense</th>\n",
       "      <th>Sp. Atk</th>\n",
       "      <th>Sp. Def</th>\n",
       "      <th>Speed</th>\n",
       "      <th>Deviation</th>\n",
       "    </tr>\n",
       "  </thead>\n",
       "  <tbody>\n",
       "    <tr>\n",
       "      <th>230</th>\n",
       "      <td>213</td>\n",
       "      <td>Shuckle</td>\n",
       "      <td>Bug</td>\n",
       "      <td>Rock</td>\n",
       "      <td>505</td>\n",
       "      <td>20</td>\n",
       "      <td>10</td>\n",
       "      <td>230</td>\n",
       "      <td>10</td>\n",
       "      <td>230</td>\n",
       "      <td>5</td>\n",
       "      <td>215.0</td>\n",
       "    </tr>\n",
       "    <tr>\n",
       "      <th>121</th>\n",
       "      <td>113</td>\n",
       "      <td>Chansey</td>\n",
       "      <td>Normal</td>\n",
       "      <td>NaN</td>\n",
       "      <td>450</td>\n",
       "      <td>250</td>\n",
       "      <td>5</td>\n",
       "      <td>5</td>\n",
       "      <td>35</td>\n",
       "      <td>105</td>\n",
       "      <td>50</td>\n",
       "      <td>207.5</td>\n",
       "    </tr>\n",
       "    <tr>\n",
       "      <th>261</th>\n",
       "      <td>242</td>\n",
       "      <td>Blissey</td>\n",
       "      <td>Normal</td>\n",
       "      <td>NaN</td>\n",
       "      <td>540</td>\n",
       "      <td>255</td>\n",
       "      <td>10</td>\n",
       "      <td>10</td>\n",
       "      <td>75</td>\n",
       "      <td>135</td>\n",
       "      <td>55</td>\n",
       "      <td>190.0</td>\n",
       "    </tr>\n",
       "    <tr>\n",
       "      <th>333</th>\n",
       "      <td>306</td>\n",
       "      <td>AggronMega Aggron</td>\n",
       "      <td>Steel</td>\n",
       "      <td>NaN</td>\n",
       "      <td>630</td>\n",
       "      <td>70</td>\n",
       "      <td>140</td>\n",
       "      <td>230</td>\n",
       "      <td>60</td>\n",
       "      <td>80</td>\n",
       "      <td>50</td>\n",
       "      <td>155.0</td>\n",
       "    </tr>\n",
       "    <tr>\n",
       "      <th>224</th>\n",
       "      <td>208</td>\n",
       "      <td>SteelixMega Steelix</td>\n",
       "      <td>Steel</td>\n",
       "      <td>Ground</td>\n",
       "      <td>610</td>\n",
       "      <td>75</td>\n",
       "      <td>125</td>\n",
       "      <td>230</td>\n",
       "      <td>55</td>\n",
       "      <td>95</td>\n",
       "      <td>30</td>\n",
       "      <td>145.0</td>\n",
       "    </tr>\n",
       "  </tbody>\n",
       "</table>\n",
       "</div>"
      ],
      "text/plain": [
       "       #                 Name  Type 1  Type 2  Total   HP  Attack  Defense  \\\n",
       "230  213              Shuckle     Bug    Rock    505   20      10      230   \n",
       "121  113              Chansey  Normal     NaN    450  250       5        5   \n",
       "261  242              Blissey  Normal     NaN    540  255      10       10   \n",
       "333  306    AggronMega Aggron   Steel     NaN    630   70     140      230   \n",
       "224  208  SteelixMega Steelix   Steel  Ground    610   75     125      230   \n",
       "\n",
       "     Sp. Atk  Sp. Def  Speed  Deviation  \n",
       "230       10      230      5      215.0  \n",
       "121       35      105     50      207.5  \n",
       "261       75      135     55      190.0  \n",
       "333       60       80     50      155.0  \n",
       "224       55       95     30      145.0  "
      ]
     },
     "execution_count": 991,
     "metadata": {},
     "output_type": "execute_result"
    }
   ],
   "source": [
    "pokemon['Deviation']=apply_data(data=None,index_columns=main_info,value=(lambda x:(np.max((x-x.median()).abs()))),other_value=1,method=None)\n",
    "sorting_data(data=pokemon,index_columns=None,set_index=['Deviation'],ascending=False).head()"
   ]
  },
  {
   "cell_type": "code",
   "execution_count": null,
   "id": "9392c0ed",
   "metadata": {},
   "outputs": [
    {
     "data": {
      "application/vnd.microsoft.datawrangler.viewer.v0+json": {
       "columns": [
        {
         "name": "index",
         "rawType": "int64",
         "type": "integer"
        },
        {
         "name": "0",
         "rawType": "float64",
         "type": "float"
        }
       ],
       "ref": "ec371733-a3b0-4ec9-a017-474fbae3fa81",
       "rows": [
        [
         "0",
         "-1.0"
        ],
        [
         "1",
         "-1.0"
        ],
        [
         "2",
         "-1.4098360655737705"
        ],
        [
         "3",
         "-1.6097560975609757"
        ],
        [
         "4",
         "-1.7258448357924796"
        ],
        [
         "5",
         "-1.5291005291005288"
        ],
        [
         "6",
         "-1.6482726227304383"
        ],
        [
         "7",
         "-1.4924805207189416"
        ],
        [
         "8",
         "-1.609720038249986"
        ],
        [
         "9",
         "-1.9212234553230114"
        ],
        [
         "10",
         "-2.376047885302045"
        ],
        [
         "11",
         "-2.5100466319978514"
        ],
        [
         "12",
         "-2.613737787136928"
        ],
        [
         "13",
         "-2.485343384148455"
        ],
        [
         "14",
         "-2.177441368223561"
        ],
        [
         "15",
         "-2.1409252574354847"
        ],
        [
         "16",
         "-2.1120909142625424"
        ],
        [
         "17",
         "-2.089261472752931"
        ],
        [
         "18",
         "-2.071148137531128"
        ],
        [
         "19",
         "-2.056752540086243"
        ],
        [
         "20",
         "-2.247158214441501"
        ],
        [
         "21",
         "-2.398845828592157"
        ],
        [
         "22",
         "-2.720978196746751"
        ],
        [
         "23",
         "-3.1789452456393503"
        ],
        [
         "24",
         "-3.5445373644862355"
        ],
        [
         "25",
         "-3.6359060364556077"
        ],
        [
         "26",
         "-3.909386063295678"
        ],
        [
         "27",
         "-3.927543973142212"
        ],
        [
         "28",
         "-4.1423676019781706"
        ],
        [
         "29",
         "-4.314106684268814"
        ]
       ],
       "shape": {
        "columns": 1,
        "rows": 30
       }
      },
      "text/plain": [
       "0    -1.000000\n",
       "1    -1.000000\n",
       "2    -1.409836\n",
       "3    -1.609756\n",
       "4    -1.725845\n",
       "5    -1.529101\n",
       "6    -1.648273\n",
       "7    -1.492481\n",
       "8    -1.609720\n",
       "9    -1.921223\n",
       "10   -2.376048\n",
       "11   -2.510047\n",
       "12   -2.613738\n",
       "13   -2.485343\n",
       "14   -2.177441\n",
       "15   -2.140925\n",
       "16   -2.112091\n",
       "17   -2.089261\n",
       "18   -2.071148\n",
       "19   -2.056753\n",
       "20   -2.247158\n",
       "21   -2.398846\n",
       "22   -2.720978\n",
       "23   -3.178945\n",
       "24   -3.544537\n",
       "25   -3.635906\n",
       "26   -3.909386\n",
       "27   -3.927544\n",
       "28   -4.142368\n",
       "29   -4.314107\n",
       "dtype: float64"
      ]
     },
     "execution_count": 1044,
     "metadata": {},
     "output_type": "execute_result"
    }
   ],
   "source": [
    "np.random.seed(0)\n",
    "s=pd.Series(np.random.randint(-1,2,30).cumsum())\n",
    "s.ewm(alpha=0.2).mean()"
   ]
  }
 ],
 "metadata": {
  "kernelspec": {
   "display_name": "Python 3",
   "language": "python",
   "name": "python3"
  },
  "language_info": {
   "codemirror_mode": {
    "name": "ipython",
    "version": 3
   },
   "file_extension": ".py",
   "mimetype": "text/x-python",
   "name": "python",
   "nbconvert_exporter": "python",
   "pygments_lexer": "ipython3",
   "version": "3.13.3"
  }
 },
 "nbformat": 4,
 "nbformat_minor": 5
}
