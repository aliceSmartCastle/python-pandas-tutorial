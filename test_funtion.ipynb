{
 "cells": [
  {
   "cell_type": "code",
   "execution_count": 1,
   "id": "9f78e935",
   "metadata": {},
   "outputs": [],
   "source": [
    "from pandas_basic_function import function_panads  as bas\n",
    "import pandas as pd\n",
    "import numpy.dtypes as T"
   ]
  },
  {
   "cell_type": "code",
   "execution_count": 2,
   "id": "14f32dbe",
   "metadata": {},
   "outputs": [
    {
     "data": {
      "application/vnd.microsoft.datawrangler.viewer.v0+json": {
       "columns": [
        {
         "name": "index",
         "rawType": "int64",
         "type": "integer"
        },
        {
         "name": "#",
         "rawType": "int64",
         "type": "integer"
        },
        {
         "name": "Name",
         "rawType": "object",
         "type": "string"
        },
        {
         "name": "Type 1",
         "rawType": "object",
         "type": "string"
        },
        {
         "name": "Type 2",
         "rawType": "object",
         "type": "unknown"
        },
        {
         "name": "Total",
         "rawType": "int64",
         "type": "integer"
        },
        {
         "name": "HP",
         "rawType": "int64",
         "type": "integer"
        },
        {
         "name": "Attack",
         "rawType": "int64",
         "type": "integer"
        },
        {
         "name": "Defense",
         "rawType": "int64",
         "type": "integer"
        },
        {
         "name": "Sp. Atk",
         "rawType": "int64",
         "type": "integer"
        },
        {
         "name": "Sp. Def",
         "rawType": "int64",
         "type": "integer"
        },
        {
         "name": "Speed",
         "rawType": "int64",
         "type": "integer"
        }
       ],
       "ref": "a2c0937f-f8a5-456b-8d6a-f39afd4abf4d",
       "rows": [
        [
         "0",
         "1",
         "Bulbasaur",
         "Grass",
         "Poison",
         "318",
         "45",
         "49",
         "49",
         "65",
         "65",
         "45"
        ],
        [
         "1",
         "2",
         "Ivysaur",
         "Grass",
         "Poison",
         "405",
         "60",
         "62",
         "63",
         "80",
         "80",
         "60"
        ],
        [
         "2",
         "3",
         "Venusaur",
         "Grass",
         "Poison",
         "525",
         "80",
         "82",
         "83",
         "100",
         "100",
         "80"
        ],
        [
         "3",
         "3",
         "VenusaurMega Venusaur",
         "Grass",
         "Poison",
         "625",
         "80",
         "100",
         "123",
         "122",
         "120",
         "80"
        ],
        [
         "4",
         "4",
         "Charmander",
         "Fire",
         null,
         "309",
         "39",
         "52",
         "43",
         "60",
         "50",
         "65"
        ],
        [
         "5",
         "5",
         "Charmeleon",
         "Fire",
         null,
         "405",
         "58",
         "64",
         "58",
         "80",
         "65",
         "80"
        ],
        [
         "6",
         "6",
         "Charizard",
         "Fire",
         "Flying",
         "534",
         "78",
         "84",
         "78",
         "109",
         "85",
         "100"
        ],
        [
         "7",
         "6",
         "CharizardMega Charizard X",
         "Fire",
         "Dragon",
         "634",
         "78",
         "130",
         "111",
         "130",
         "85",
         "100"
        ],
        [
         "8",
         "6",
         "CharizardMega Charizard Y",
         "Fire",
         "Flying",
         "634",
         "78",
         "104",
         "78",
         "159",
         "115",
         "100"
        ],
        [
         "9",
         "7",
         "Squirtle",
         "Water",
         null,
         "314",
         "44",
         "48",
         "65",
         "50",
         "64",
         "43"
        ],
        [
         "10",
         "8",
         "Wartortle",
         "Water",
         null,
         "405",
         "59",
         "63",
         "80",
         "65",
         "80",
         "58"
        ],
        [
         "11",
         "9",
         "Blastoise",
         "Water",
         null,
         "530",
         "79",
         "83",
         "100",
         "85",
         "105",
         "78"
        ],
        [
         "12",
         "9",
         "BlastoiseMega Blastoise",
         "Water",
         null,
         "630",
         "79",
         "103",
         "120",
         "135",
         "115",
         "78"
        ],
        [
         "13",
         "10",
         "Caterpie",
         "Bug",
         null,
         "195",
         "45",
         "30",
         "35",
         "20",
         "20",
         "45"
        ],
        [
         "14",
         "11",
         "Metapod",
         "Bug",
         null,
         "205",
         "50",
         "20",
         "55",
         "25",
         "25",
         "30"
        ],
        [
         "15",
         "12",
         "Butterfree",
         "Bug",
         "Flying",
         "395",
         "60",
         "45",
         "50",
         "90",
         "80",
         "70"
        ],
        [
         "16",
         "13",
         "Weedle",
         "Bug",
         "Poison",
         "195",
         "40",
         "35",
         "30",
         "20",
         "20",
         "50"
        ],
        [
         "17",
         "14",
         "Kakuna",
         "Bug",
         "Poison",
         "205",
         "45",
         "25",
         "50",
         "25",
         "25",
         "35"
        ],
        [
         "18",
         "15",
         "Beedrill",
         "Bug",
         "Poison",
         "395",
         "65",
         "90",
         "40",
         "45",
         "80",
         "75"
        ],
        [
         "19",
         "15",
         "BeedrillMega Beedrill",
         "Bug",
         "Poison",
         "495",
         "65",
         "150",
         "40",
         "15",
         "80",
         "145"
        ],
        [
         "20",
         "16",
         "Pidgey",
         "Normal",
         "Flying",
         "251",
         "40",
         "45",
         "40",
         "35",
         "35",
         "56"
        ],
        [
         "21",
         "17",
         "Pidgeotto",
         "Normal",
         "Flying",
         "349",
         "63",
         "60",
         "55",
         "50",
         "50",
         "71"
        ],
        [
         "22",
         "18",
         "Pidgeot",
         "Normal",
         "Flying",
         "479",
         "83",
         "80",
         "75",
         "70",
         "70",
         "101"
        ],
        [
         "23",
         "18",
         "PidgeotMega Pidgeot",
         "Normal",
         "Flying",
         "579",
         "83",
         "80",
         "80",
         "135",
         "80",
         "121"
        ],
        [
         "24",
         "19",
         "Rattata",
         "Normal",
         null,
         "253",
         "30",
         "56",
         "35",
         "25",
         "35",
         "72"
        ],
        [
         "25",
         "20",
         "Raticate",
         "Normal",
         null,
         "413",
         "55",
         "81",
         "60",
         "50",
         "70",
         "97"
        ],
        [
         "26",
         "21",
         "Spearow",
         "Normal",
         "Flying",
         "262",
         "40",
         "60",
         "30",
         "31",
         "31",
         "70"
        ],
        [
         "27",
         "22",
         "Fearow",
         "Normal",
         "Flying",
         "442",
         "65",
         "90",
         "65",
         "61",
         "61",
         "100"
        ],
        [
         "28",
         "23",
         "Ekans",
         "Poison",
         null,
         "288",
         "35",
         "60",
         "44",
         "40",
         "54",
         "55"
        ],
        [
         "29",
         "24",
         "Arbok",
         "Poison",
         null,
         "438",
         "60",
         "85",
         "69",
         "65",
         "79",
         "80"
        ],
        [
         "30",
         "25",
         "Pikachu",
         "Electric",
         null,
         "320",
         "35",
         "55",
         "40",
         "50",
         "50",
         "90"
        ],
        [
         "31",
         "26",
         "Raichu",
         "Electric",
         null,
         "485",
         "60",
         "90",
         "55",
         "90",
         "80",
         "110"
        ],
        [
         "32",
         "27",
         "Sandshrew",
         "Ground",
         null,
         "300",
         "50",
         "75",
         "85",
         "20",
         "30",
         "40"
        ],
        [
         "33",
         "28",
         "Sandslash",
         "Ground",
         null,
         "450",
         "75",
         "100",
         "110",
         "45",
         "55",
         "65"
        ],
        [
         "34",
         "29",
         "Nidoran♀",
         "Poison",
         null,
         "275",
         "55",
         "47",
         "52",
         "40",
         "40",
         "41"
        ],
        [
         "35",
         "30",
         "Nidorina",
         "Poison",
         null,
         "365",
         "70",
         "62",
         "67",
         "55",
         "55",
         "56"
        ],
        [
         "36",
         "31",
         "Nidoqueen",
         "Poison",
         "Ground",
         "505",
         "90",
         "92",
         "87",
         "75",
         "85",
         "76"
        ],
        [
         "37",
         "32",
         "Nidoran♂",
         "Poison",
         null,
         "273",
         "46",
         "57",
         "40",
         "40",
         "40",
         "50"
        ],
        [
         "38",
         "33",
         "Nidorino",
         "Poison",
         null,
         "365",
         "61",
         "72",
         "57",
         "55",
         "55",
         "65"
        ],
        [
         "39",
         "34",
         "Nidoking",
         "Poison",
         "Ground",
         "505",
         "81",
         "102",
         "77",
         "85",
         "75",
         "85"
        ],
        [
         "40",
         "35",
         "Clefairy",
         "Fairy",
         null,
         "323",
         "70",
         "45",
         "48",
         "60",
         "65",
         "35"
        ],
        [
         "41",
         "36",
         "Clefable",
         "Fairy",
         null,
         "483",
         "95",
         "70",
         "73",
         "95",
         "90",
         "60"
        ],
        [
         "42",
         "37",
         "Vulpix",
         "Fire",
         null,
         "299",
         "38",
         "41",
         "40",
         "50",
         "65",
         "65"
        ],
        [
         "43",
         "38",
         "Ninetales",
         "Fire",
         null,
         "505",
         "73",
         "76",
         "75",
         "81",
         "100",
         "100"
        ],
        [
         "44",
         "39",
         "Jigglypuff",
         "Normal",
         "Fairy",
         "270",
         "115",
         "45",
         "20",
         "45",
         "25",
         "20"
        ],
        [
         "45",
         "40",
         "Wigglytuff",
         "Normal",
         "Fairy",
         "435",
         "140",
         "70",
         "45",
         "85",
         "50",
         "45"
        ],
        [
         "46",
         "41",
         "Zubat",
         "Poison",
         "Flying",
         "245",
         "40",
         "45",
         "35",
         "30",
         "40",
         "55"
        ],
        [
         "47",
         "42",
         "Golbat",
         "Poison",
         "Flying",
         "455",
         "75",
         "80",
         "70",
         "65",
         "75",
         "90"
        ],
        [
         "48",
         "43",
         "Oddish",
         "Grass",
         "Poison",
         "320",
         "45",
         "50",
         "55",
         "75",
         "65",
         "30"
        ],
        [
         "49",
         "44",
         "Gloom",
         "Grass",
         "Poison",
         "395",
         "60",
         "65",
         "70",
         "85",
         "75",
         "40"
        ]
       ],
       "shape": {
        "columns": 11,
        "rows": 800
       }
      },
      "text/html": [
       "<div>\n",
       "<style scoped>\n",
       "    .dataframe tbody tr th:only-of-type {\n",
       "        vertical-align: middle;\n",
       "    }\n",
       "\n",
       "    .dataframe tbody tr th {\n",
       "        vertical-align: top;\n",
       "    }\n",
       "\n",
       "    .dataframe thead th {\n",
       "        text-align: right;\n",
       "    }\n",
       "</style>\n",
       "<table border=\"1\" class=\"dataframe\">\n",
       "  <thead>\n",
       "    <tr style=\"text-align: right;\">\n",
       "      <th></th>\n",
       "      <th>#</th>\n",
       "      <th>Name</th>\n",
       "      <th>Type 1</th>\n",
       "      <th>Type 2</th>\n",
       "      <th>Total</th>\n",
       "      <th>HP</th>\n",
       "      <th>Attack</th>\n",
       "      <th>Defense</th>\n",
       "      <th>Sp. Atk</th>\n",
       "      <th>Sp. Def</th>\n",
       "      <th>Speed</th>\n",
       "    </tr>\n",
       "  </thead>\n",
       "  <tbody>\n",
       "    <tr>\n",
       "      <th>0</th>\n",
       "      <td>1</td>\n",
       "      <td>Bulbasaur</td>\n",
       "      <td>Grass</td>\n",
       "      <td>Poison</td>\n",
       "      <td>318</td>\n",
       "      <td>45</td>\n",
       "      <td>49</td>\n",
       "      <td>49</td>\n",
       "      <td>65</td>\n",
       "      <td>65</td>\n",
       "      <td>45</td>\n",
       "    </tr>\n",
       "    <tr>\n",
       "      <th>1</th>\n",
       "      <td>2</td>\n",
       "      <td>Ivysaur</td>\n",
       "      <td>Grass</td>\n",
       "      <td>Poison</td>\n",
       "      <td>405</td>\n",
       "      <td>60</td>\n",
       "      <td>62</td>\n",
       "      <td>63</td>\n",
       "      <td>80</td>\n",
       "      <td>80</td>\n",
       "      <td>60</td>\n",
       "    </tr>\n",
       "    <tr>\n",
       "      <th>2</th>\n",
       "      <td>3</td>\n",
       "      <td>Venusaur</td>\n",
       "      <td>Grass</td>\n",
       "      <td>Poison</td>\n",
       "      <td>525</td>\n",
       "      <td>80</td>\n",
       "      <td>82</td>\n",
       "      <td>83</td>\n",
       "      <td>100</td>\n",
       "      <td>100</td>\n",
       "      <td>80</td>\n",
       "    </tr>\n",
       "    <tr>\n",
       "      <th>3</th>\n",
       "      <td>3</td>\n",
       "      <td>VenusaurMega Venusaur</td>\n",
       "      <td>Grass</td>\n",
       "      <td>Poison</td>\n",
       "      <td>625</td>\n",
       "      <td>80</td>\n",
       "      <td>100</td>\n",
       "      <td>123</td>\n",
       "      <td>122</td>\n",
       "      <td>120</td>\n",
       "      <td>80</td>\n",
       "    </tr>\n",
       "    <tr>\n",
       "      <th>4</th>\n",
       "      <td>4</td>\n",
       "      <td>Charmander</td>\n",
       "      <td>Fire</td>\n",
       "      <td>NaN</td>\n",
       "      <td>309</td>\n",
       "      <td>39</td>\n",
       "      <td>52</td>\n",
       "      <td>43</td>\n",
       "      <td>60</td>\n",
       "      <td>50</td>\n",
       "      <td>65</td>\n",
       "    </tr>\n",
       "    <tr>\n",
       "      <th>...</th>\n",
       "      <td>...</td>\n",
       "      <td>...</td>\n",
       "      <td>...</td>\n",
       "      <td>...</td>\n",
       "      <td>...</td>\n",
       "      <td>...</td>\n",
       "      <td>...</td>\n",
       "      <td>...</td>\n",
       "      <td>...</td>\n",
       "      <td>...</td>\n",
       "      <td>...</td>\n",
       "    </tr>\n",
       "    <tr>\n",
       "      <th>795</th>\n",
       "      <td>719</td>\n",
       "      <td>Diancie</td>\n",
       "      <td>Rock</td>\n",
       "      <td>Fairy</td>\n",
       "      <td>600</td>\n",
       "      <td>50</td>\n",
       "      <td>100</td>\n",
       "      <td>150</td>\n",
       "      <td>100</td>\n",
       "      <td>150</td>\n",
       "      <td>50</td>\n",
       "    </tr>\n",
       "    <tr>\n",
       "      <th>796</th>\n",
       "      <td>719</td>\n",
       "      <td>DiancieMega Diancie</td>\n",
       "      <td>Rock</td>\n",
       "      <td>Fairy</td>\n",
       "      <td>700</td>\n",
       "      <td>50</td>\n",
       "      <td>160</td>\n",
       "      <td>110</td>\n",
       "      <td>160</td>\n",
       "      <td>110</td>\n",
       "      <td>110</td>\n",
       "    </tr>\n",
       "    <tr>\n",
       "      <th>797</th>\n",
       "      <td>720</td>\n",
       "      <td>HoopaHoopa Confined</td>\n",
       "      <td>Psychic</td>\n",
       "      <td>Ghost</td>\n",
       "      <td>600</td>\n",
       "      <td>80</td>\n",
       "      <td>110</td>\n",
       "      <td>60</td>\n",
       "      <td>150</td>\n",
       "      <td>130</td>\n",
       "      <td>70</td>\n",
       "    </tr>\n",
       "    <tr>\n",
       "      <th>798</th>\n",
       "      <td>720</td>\n",
       "      <td>HoopaHoopa Unbound</td>\n",
       "      <td>Psychic</td>\n",
       "      <td>Dark</td>\n",
       "      <td>680</td>\n",
       "      <td>80</td>\n",
       "      <td>160</td>\n",
       "      <td>60</td>\n",
       "      <td>170</td>\n",
       "      <td>130</td>\n",
       "      <td>80</td>\n",
       "    </tr>\n",
       "    <tr>\n",
       "      <th>799</th>\n",
       "      <td>721</td>\n",
       "      <td>Volcanion</td>\n",
       "      <td>Fire</td>\n",
       "      <td>Water</td>\n",
       "      <td>600</td>\n",
       "      <td>80</td>\n",
       "      <td>110</td>\n",
       "      <td>120</td>\n",
       "      <td>130</td>\n",
       "      <td>90</td>\n",
       "      <td>70</td>\n",
       "    </tr>\n",
       "  </tbody>\n",
       "</table>\n",
       "<p>800 rows × 11 columns</p>\n",
       "</div>"
      ],
      "text/plain": [
       "       #                   Name   Type 1  Type 2  Total  HP  Attack  Defense  \\\n",
       "0      1              Bulbasaur    Grass  Poison    318  45      49       49   \n",
       "1      2                Ivysaur    Grass  Poison    405  60      62       63   \n",
       "2      3               Venusaur    Grass  Poison    525  80      82       83   \n",
       "3      3  VenusaurMega Venusaur    Grass  Poison    625  80     100      123   \n",
       "4      4             Charmander     Fire     NaN    309  39      52       43   \n",
       "..   ...                    ...      ...     ...    ...  ..     ...      ...   \n",
       "795  719                Diancie     Rock   Fairy    600  50     100      150   \n",
       "796  719    DiancieMega Diancie     Rock   Fairy    700  50     160      110   \n",
       "797  720    HoopaHoopa Confined  Psychic   Ghost    600  80     110       60   \n",
       "798  720     HoopaHoopa Unbound  Psychic    Dark    680  80     160       60   \n",
       "799  721              Volcanion     Fire   Water    600  80     110      120   \n",
       "\n",
       "     Sp. Atk  Sp. Def  Speed  \n",
       "0         65       65     45  \n",
       "1         80       80     60  \n",
       "2        100      100     80  \n",
       "3        122      120     80  \n",
       "4         60       50     65  \n",
       "..       ...      ...    ...  \n",
       "795      100      150     50  \n",
       "796      160      110    110  \n",
       "797      150      130     70  \n",
       "798      170      130     80  \n",
       "799      130       90     70  \n",
       "\n",
       "[800 rows x 11 columns]"
      ]
     },
     "execution_count": 2,
     "metadata": {},
     "output_type": "execute_result"
    }
   ],
   "source": [
    "pokemon_data=pd.read_csv('pokemon.csv')\n",
    "pokemon_data"
   ]
  },
  {
   "cell_type": "markdown",
   "id": "ca4bf8c9",
   "metadata": {},
   "source": [
    "Test my function by pokemon_data\n",
    "Firstly: all columns from this data"
   ]
  },
  {
   "cell_type": "code",
   "execution_count": 3,
   "id": "ba19ae1e",
   "metadata": {},
   "outputs": [
    {
     "data": {
      "text/plain": [
       "array([ True,  True,  True,  True,  True,  True,  True,  True,  True,\n",
       "        True,  True])"
      ]
     },
     "execution_count": 3,
     "metadata": {},
     "output_type": "execute_result"
    }
   ],
   "source": [
    "pokemon_columns=bas.data_colunm_get(iter=pokemon_data) #this funtion is simliar to the pandas.DataFrame.colums\n",
    "pokemon_columns==pokemon_data.columns\n",
    "\n"
   ]
  },
  {
   "cell_type": "markdown",
   "id": "20ebd569",
   "metadata": {},
   "source": [
    "Second: get any my want columns for data"
   ]
  },
  {
   "cell_type": "code",
   "execution_count": 4,
   "id": "abf42f57",
   "metadata": {},
   "outputs": [
    {
     "data": {
      "application/vnd.microsoft.datawrangler.viewer.v0+json": {
       "columns": [
        {
         "name": "index",
         "rawType": "int64",
         "type": "integer"
        },
        {
         "name": "Type 2",
         "rawType": "object",
         "type": "unknown"
        },
        {
         "name": "Total",
         "rawType": "int64",
         "type": "integer"
        },
        {
         "name": "HP",
         "rawType": "int64",
         "type": "integer"
        },
        {
         "name": "Attack",
         "rawType": "int64",
         "type": "integer"
        },
        {
         "name": "Defense",
         "rawType": "int64",
         "type": "integer"
        },
        {
         "name": "Sp. Atk",
         "rawType": "int64",
         "type": "integer"
        }
       ],
       "ref": "1b7836e3-718e-4b6e-a3d3-43ce2fda11ec",
       "rows": [
        [
         "0",
         "Poison",
         "318",
         "45",
         "49",
         "49",
         "65"
        ],
        [
         "1",
         "Poison",
         "405",
         "60",
         "62",
         "63",
         "80"
        ],
        [
         "2",
         "Poison",
         "525",
         "80",
         "82",
         "83",
         "100"
        ],
        [
         "3",
         "Poison",
         "625",
         "80",
         "100",
         "123",
         "122"
        ],
        [
         "4",
         null,
         "309",
         "39",
         "52",
         "43",
         "60"
        ],
        [
         "5",
         null,
         "405",
         "58",
         "64",
         "58",
         "80"
        ],
        [
         "6",
         "Flying",
         "534",
         "78",
         "84",
         "78",
         "109"
        ],
        [
         "7",
         "Dragon",
         "634",
         "78",
         "130",
         "111",
         "130"
        ],
        [
         "8",
         "Flying",
         "634",
         "78",
         "104",
         "78",
         "159"
        ],
        [
         "9",
         null,
         "314",
         "44",
         "48",
         "65",
         "50"
        ],
        [
         "10",
         null,
         "405",
         "59",
         "63",
         "80",
         "65"
        ],
        [
         "11",
         null,
         "530",
         "79",
         "83",
         "100",
         "85"
        ],
        [
         "12",
         null,
         "630",
         "79",
         "103",
         "120",
         "135"
        ],
        [
         "13",
         null,
         "195",
         "45",
         "30",
         "35",
         "20"
        ],
        [
         "14",
         null,
         "205",
         "50",
         "20",
         "55",
         "25"
        ],
        [
         "15",
         "Flying",
         "395",
         "60",
         "45",
         "50",
         "90"
        ],
        [
         "16",
         "Poison",
         "195",
         "40",
         "35",
         "30",
         "20"
        ],
        [
         "17",
         "Poison",
         "205",
         "45",
         "25",
         "50",
         "25"
        ],
        [
         "18",
         "Poison",
         "395",
         "65",
         "90",
         "40",
         "45"
        ],
        [
         "19",
         "Poison",
         "495",
         "65",
         "150",
         "40",
         "15"
        ],
        [
         "20",
         "Flying",
         "251",
         "40",
         "45",
         "40",
         "35"
        ],
        [
         "21",
         "Flying",
         "349",
         "63",
         "60",
         "55",
         "50"
        ],
        [
         "22",
         "Flying",
         "479",
         "83",
         "80",
         "75",
         "70"
        ],
        [
         "23",
         "Flying",
         "579",
         "83",
         "80",
         "80",
         "135"
        ],
        [
         "24",
         null,
         "253",
         "30",
         "56",
         "35",
         "25"
        ],
        [
         "25",
         null,
         "413",
         "55",
         "81",
         "60",
         "50"
        ],
        [
         "26",
         "Flying",
         "262",
         "40",
         "60",
         "30",
         "31"
        ],
        [
         "27",
         "Flying",
         "442",
         "65",
         "90",
         "65",
         "61"
        ],
        [
         "28",
         null,
         "288",
         "35",
         "60",
         "44",
         "40"
        ],
        [
         "29",
         null,
         "438",
         "60",
         "85",
         "69",
         "65"
        ],
        [
         "30",
         null,
         "320",
         "35",
         "55",
         "40",
         "50"
        ],
        [
         "31",
         null,
         "485",
         "60",
         "90",
         "55",
         "90"
        ],
        [
         "32",
         null,
         "300",
         "50",
         "75",
         "85",
         "20"
        ],
        [
         "33",
         null,
         "450",
         "75",
         "100",
         "110",
         "45"
        ],
        [
         "34",
         null,
         "275",
         "55",
         "47",
         "52",
         "40"
        ],
        [
         "35",
         null,
         "365",
         "70",
         "62",
         "67",
         "55"
        ],
        [
         "36",
         "Ground",
         "505",
         "90",
         "92",
         "87",
         "75"
        ],
        [
         "37",
         null,
         "273",
         "46",
         "57",
         "40",
         "40"
        ],
        [
         "38",
         null,
         "365",
         "61",
         "72",
         "57",
         "55"
        ],
        [
         "39",
         "Ground",
         "505",
         "81",
         "102",
         "77",
         "85"
        ],
        [
         "40",
         null,
         "323",
         "70",
         "45",
         "48",
         "60"
        ],
        [
         "41",
         null,
         "483",
         "95",
         "70",
         "73",
         "95"
        ],
        [
         "42",
         null,
         "299",
         "38",
         "41",
         "40",
         "50"
        ],
        [
         "43",
         null,
         "505",
         "73",
         "76",
         "75",
         "81"
        ],
        [
         "44",
         "Fairy",
         "270",
         "115",
         "45",
         "20",
         "45"
        ],
        [
         "45",
         "Fairy",
         "435",
         "140",
         "70",
         "45",
         "85"
        ],
        [
         "46",
         "Flying",
         "245",
         "40",
         "45",
         "35",
         "30"
        ],
        [
         "47",
         "Flying",
         "455",
         "75",
         "80",
         "70",
         "65"
        ],
        [
         "48",
         "Poison",
         "320",
         "45",
         "50",
         "55",
         "75"
        ],
        [
         "49",
         "Poison",
         "395",
         "60",
         "65",
         "70",
         "85"
        ]
       ],
       "shape": {
        "columns": 6,
        "rows": 800
       }
      },
      "text/html": [
       "<div>\n",
       "<style scoped>\n",
       "    .dataframe tbody tr th:only-of-type {\n",
       "        vertical-align: middle;\n",
       "    }\n",
       "\n",
       "    .dataframe tbody tr th {\n",
       "        vertical-align: top;\n",
       "    }\n",
       "\n",
       "    .dataframe thead th {\n",
       "        text-align: right;\n",
       "    }\n",
       "</style>\n",
       "<table border=\"1\" class=\"dataframe\">\n",
       "  <thead>\n",
       "    <tr style=\"text-align: right;\">\n",
       "      <th></th>\n",
       "      <th>Type 2</th>\n",
       "      <th>Total</th>\n",
       "      <th>HP</th>\n",
       "      <th>Attack</th>\n",
       "      <th>Defense</th>\n",
       "      <th>Sp. Atk</th>\n",
       "    </tr>\n",
       "  </thead>\n",
       "  <tbody>\n",
       "    <tr>\n",
       "      <th>0</th>\n",
       "      <td>Poison</td>\n",
       "      <td>318</td>\n",
       "      <td>45</td>\n",
       "      <td>49</td>\n",
       "      <td>49</td>\n",
       "      <td>65</td>\n",
       "    </tr>\n",
       "    <tr>\n",
       "      <th>1</th>\n",
       "      <td>Poison</td>\n",
       "      <td>405</td>\n",
       "      <td>60</td>\n",
       "      <td>62</td>\n",
       "      <td>63</td>\n",
       "      <td>80</td>\n",
       "    </tr>\n",
       "    <tr>\n",
       "      <th>2</th>\n",
       "      <td>Poison</td>\n",
       "      <td>525</td>\n",
       "      <td>80</td>\n",
       "      <td>82</td>\n",
       "      <td>83</td>\n",
       "      <td>100</td>\n",
       "    </tr>\n",
       "    <tr>\n",
       "      <th>3</th>\n",
       "      <td>Poison</td>\n",
       "      <td>625</td>\n",
       "      <td>80</td>\n",
       "      <td>100</td>\n",
       "      <td>123</td>\n",
       "      <td>122</td>\n",
       "    </tr>\n",
       "    <tr>\n",
       "      <th>4</th>\n",
       "      <td>NaN</td>\n",
       "      <td>309</td>\n",
       "      <td>39</td>\n",
       "      <td>52</td>\n",
       "      <td>43</td>\n",
       "      <td>60</td>\n",
       "    </tr>\n",
       "    <tr>\n",
       "      <th>...</th>\n",
       "      <td>...</td>\n",
       "      <td>...</td>\n",
       "      <td>...</td>\n",
       "      <td>...</td>\n",
       "      <td>...</td>\n",
       "      <td>...</td>\n",
       "    </tr>\n",
       "    <tr>\n",
       "      <th>795</th>\n",
       "      <td>Fairy</td>\n",
       "      <td>600</td>\n",
       "      <td>50</td>\n",
       "      <td>100</td>\n",
       "      <td>150</td>\n",
       "      <td>100</td>\n",
       "    </tr>\n",
       "    <tr>\n",
       "      <th>796</th>\n",
       "      <td>Fairy</td>\n",
       "      <td>700</td>\n",
       "      <td>50</td>\n",
       "      <td>160</td>\n",
       "      <td>110</td>\n",
       "      <td>160</td>\n",
       "    </tr>\n",
       "    <tr>\n",
       "      <th>797</th>\n",
       "      <td>Ghost</td>\n",
       "      <td>600</td>\n",
       "      <td>80</td>\n",
       "      <td>110</td>\n",
       "      <td>60</td>\n",
       "      <td>150</td>\n",
       "    </tr>\n",
       "    <tr>\n",
       "      <th>798</th>\n",
       "      <td>Dark</td>\n",
       "      <td>680</td>\n",
       "      <td>80</td>\n",
       "      <td>160</td>\n",
       "      <td>60</td>\n",
       "      <td>170</td>\n",
       "    </tr>\n",
       "    <tr>\n",
       "      <th>799</th>\n",
       "      <td>Water</td>\n",
       "      <td>600</td>\n",
       "      <td>80</td>\n",
       "      <td>110</td>\n",
       "      <td>120</td>\n",
       "      <td>130</td>\n",
       "    </tr>\n",
       "  </tbody>\n",
       "</table>\n",
       "<p>800 rows × 6 columns</p>\n",
       "</div>"
      ],
      "text/plain": [
       "     Type 2  Total  HP  Attack  Defense  Sp. Atk\n",
       "0    Poison    318  45      49       49       65\n",
       "1    Poison    405  60      62       63       80\n",
       "2    Poison    525  80      82       83      100\n",
       "3    Poison    625  80     100      123      122\n",
       "4       NaN    309  39      52       43       60\n",
       "..      ...    ...  ..     ...      ...      ...\n",
       "795   Fairy    600  50     100      150      100\n",
       "796   Fairy    700  50     160      110      160\n",
       "797   Ghost    600  80     110       60      150\n",
       "798    Dark    680  80     160       60      170\n",
       "799   Water    600  80     110      120      130\n",
       "\n",
       "[800 rows x 6 columns]"
      ]
     },
     "execution_count": 4,
     "metadata": {},
     "output_type": "execute_result"
    }
   ],
   "source": [
    "bas.get_dataframe_column(iter=pokemon_data,choose_colums=3,end_columns=9)"
   ]
  },
  {
   "cell_type": "markdown",
   "id": "bf51bcb4",
   "metadata": {},
   "source": [
    "Third:get feature statistics for my data"
   ]
  },
  {
   "cell_type": "code",
   "execution_count": 11,
   "id": "9a77af01",
   "metadata": {},
   "outputs": [
    {
     "name": "stdout",
     "output_type": "stream",
     "text": [
      "<class 'numpy.dtypes.Int64DType'>\n"
     ]
    },
    {
     "data": {
      "application/vnd.microsoft.datawrangler.viewer.v0+json": {
       "columns": [
        {
         "name": "index",
         "rawType": "object",
         "type": "string"
        },
        {
         "name": "0",
         "rawType": "int64",
         "type": "integer"
        }
       ],
       "ref": "9aea094d-d278-4c64-9ff7-8db348517c43",
       "rows": [
        [
         "Total",
         "180"
        ],
        [
         "HP",
         "1"
        ],
        [
         "Attack",
         "5"
        ]
       ],
       "shape": {
        "columns": 1,
        "rows": 3
       }
      },
      "text/plain": [
       "Total     180\n",
       "HP          1\n",
       "Attack      5\n",
       "dtype: int64"
      ]
     },
     "execution_count": 11,
     "metadata": {},
     "output_type": "execute_result"
    }
   ],
   "source": [
    "bas.feature_statistics(data=pokemon_data,index=[pokemon_columns[4],pokemon_columns[5],pokemon_columns[6]],feature='min')\n",
    "#rint((T.ObjectDType)==(pokemon_data[[pokemon_columns[3],pokemon_columns[9]]].dtypes))\n",
    "#pokemon_data[[pokemon_columns[3],pokemon_columns[4]]]"
   ]
  },
  {
   "cell_type": "markdown",
   "id": "4890be5f",
   "metadata": {},
   "source": [
    "Fourth: get Data single columns for value count and unique"
   ]
  },
  {
   "cell_type": "code",
   "execution_count": null,
   "id": "d519c5a1",
   "metadata": {},
   "outputs": [
    {
     "name": "stdout",
     "output_type": "stream",
     "text": [
      "unique data is array([ 45,  60,  80,  39,  58,  78,  44,  59,  79,  50,  40,  65,  63,\n",
      "        83,  30,  55,  35,  75,  70,  90,  46,  61,  81,  95,  38,  73,\n",
      "       115, 140,  10,  25,  52, 105,  85, 250,  20, 130,  48, 160,  41,\n",
      "        91, 106, 100, 125, 190, 255,  28,  68, 150,  31,   1,  64,  84,\n",
      "       104,  72, 144, 170, 110,  43,  66,  86,  99,  76,  53,  37,  77,\n",
      "        67,  97, 111,  49,  71, 103,  57, 108, 135,  74,  69, 120, 116,\n",
      "        62,  54,  36,  51, 114, 165, 109,  89,  92,  56,  88, 123, 101,\n",
      "        82,  42, 126])\n",
      "HP\n",
      "60     67\n",
      "50     63\n",
      "70     57\n",
      "65     46\n",
      "75     43\n",
      "       ..\n",
      "92      1\n",
      "88      1\n",
      "56      1\n",
      "101     1\n",
      "42      1\n",
      "Name: count, Length: 94, dtype: int64\n"
     ]
    }
   ],
   "source": [
    "bas.data_uniform(data=pokemon_data,index=pokemon_columns[5])\n"
   ]
  },
  {
   "cell_type": "markdown",
   "id": "03d8018d",
   "metadata": {},
   "source": [
    "#Fivth: get single columns for duplicated_data"
   ]
  },
  {
   "cell_type": "code",
   "execution_count": null,
   "id": "0fbd307b",
   "metadata": {},
   "outputs": [
    {
     "data": {
      "application/vnd.microsoft.datawrangler.viewer.v0+json": {
       "columns": [
        {
         "name": "index",
         "rawType": "int64",
         "type": "integer"
        },
        {
         "name": "0",
         "rawType": "bool",
         "type": "boolean"
        }
       ],
       "ref": "476ab4e7-f82e-4711-8945-6d7501491138",
       "rows": [
        [
         "0",
         "False"
        ],
        [
         "1",
         "False"
        ],
        [
         "2",
         "False"
        ],
        [
         "3",
         "False"
        ],
        [
         "4",
         "False"
        ],
        [
         "5",
         "False"
        ],
        [
         "6",
         "False"
        ],
        [
         "7",
         "False"
        ],
        [
         "8",
         "True"
        ],
        [
         "9",
         "False"
        ],
        [
         "10",
         "False"
        ],
        [
         "11",
         "False"
        ],
        [
         "12",
         "False"
        ],
        [
         "13",
         "False"
        ],
        [
         "14",
         "False"
        ],
        [
         "15",
         "False"
        ],
        [
         "16",
         "False"
        ],
        [
         "17",
         "False"
        ],
        [
         "18",
         "False"
        ],
        [
         "19",
         "False"
        ],
        [
         "20",
         "False"
        ],
        [
         "21",
         "False"
        ],
        [
         "22",
         "False"
        ],
        [
         "23",
         "False"
        ],
        [
         "24",
         "False"
        ],
        [
         "25",
         "False"
        ],
        [
         "26",
         "False"
        ],
        [
         "27",
         "False"
        ],
        [
         "28",
         "False"
        ],
        [
         "29",
         "False"
        ],
        [
         "30",
         "False"
        ],
        [
         "31",
         "False"
        ],
        [
         "32",
         "False"
        ],
        [
         "33",
         "False"
        ],
        [
         "34",
         "False"
        ],
        [
         "35",
         "False"
        ],
        [
         "36",
         "False"
        ],
        [
         "37",
         "False"
        ],
        [
         "38",
         "False"
        ],
        [
         "39",
         "False"
        ],
        [
         "40",
         "False"
        ],
        [
         "41",
         "False"
        ],
        [
         "42",
         "False"
        ],
        [
         "43",
         "False"
        ],
        [
         "44",
         "False"
        ],
        [
         "45",
         "False"
        ],
        [
         "46",
         "False"
        ],
        [
         "47",
         "False"
        ],
        [
         "48",
         "False"
        ],
        [
         "49",
         "True"
        ]
       ],
       "shape": {
        "columns": 1,
        "rows": 800
       }
      },
      "text/plain": [
       "0      False\n",
       "1      False\n",
       "2      False\n",
       "3      False\n",
       "4      False\n",
       "       ...  \n",
       "795     True\n",
       "796    False\n",
       "797     True\n",
       "798    False\n",
       "799     True\n",
       "Length: 800, dtype: bool"
      ]
     },
     "execution_count": 7,
     "metadata": {},
     "output_type": "execute_result"
    }
   ],
   "source": [
    "bas.duplicated_data(data=pokemon_data,index=[pokemon_columns[4],pokemon_columns[5],pokemon_columns[6]],duplicate_index=[pokemon_columns[4],pokemon_columns[5]])"
   ]
  },
  {
   "cell_type": "markdown",
   "id": "2264871e",
   "metadata": {},
   "source": [
    "Sixth: get multi-columns for data"
   ]
  },
  {
   "cell_type": "code",
   "execution_count": null,
   "id": "72260fff",
   "metadata": {},
   "outputs": [
    {
     "data": {
      "application/vnd.microsoft.datawrangler.viewer.v0+json": {
       "columns": [
        {
         "name": "index",
         "rawType": "int64",
         "type": "integer"
        },
        {
         "name": "Total",
         "rawType": "int64",
         "type": "integer"
        },
        {
         "name": "HP",
         "rawType": "int64",
         "type": "integer"
        },
        {
         "name": "Attack",
         "rawType": "int64",
         "type": "integer"
        }
       ],
       "ref": "7773153a-a1fd-41ad-9461-f6a92bb1bed3",
       "rows": [
        [
         "3",
         "625",
         "80",
         "100"
        ],
        [
         "9",
         "314",
         "44",
         "48"
        ],
        [
         "10",
         "405",
         "59",
         "63"
        ],
        [
         "11",
         "530",
         "79",
         "83"
        ],
        [
         "12",
         "630",
         "79",
         "103"
        ],
        [
         "16",
         "195",
         "40",
         "35"
        ],
        [
         "17",
         "205",
         "45",
         "25"
        ],
        [
         "20",
         "251",
         "40",
         "45"
        ],
        [
         "21",
         "349",
         "63",
         "60"
        ],
        [
         "22",
         "479",
         "83",
         "80"
        ],
        [
         "23",
         "579",
         "83",
         "80"
        ],
        [
         "24",
         "253",
         "30",
         "56"
        ],
        [
         "25",
         "413",
         "55",
         "81"
        ],
        [
         "26",
         "262",
         "40",
         "60"
        ],
        [
         "27",
         "442",
         "65",
         "90"
        ],
        [
         "28",
         "288",
         "35",
         "60"
        ],
        [
         "29",
         "438",
         "60",
         "85"
        ],
        [
         "30",
         "320",
         "35",
         "55"
        ],
        [
         "33",
         "450",
         "75",
         "100"
        ],
        [
         "34",
         "275",
         "55",
         "47"
        ],
        [
         "37",
         "273",
         "46",
         "57"
        ],
        [
         "38",
         "365",
         "61",
         "72"
        ],
        [
         "39",
         "505",
         "81",
         "102"
        ],
        [
         "40",
         "323",
         "70",
         "45"
        ],
        [
         "41",
         "483",
         "95",
         "70"
        ],
        [
         "42",
         "299",
         "38",
         "41"
        ],
        [
         "43",
         "505",
         "73",
         "76"
        ],
        [
         "44",
         "270",
         "115",
         "45"
        ],
        [
         "45",
         "435",
         "140",
         "70"
        ],
        [
         "47",
         "455",
         "75",
         "80"
        ],
        [
         "51",
         "285",
         "35",
         "70"
        ],
        [
         "55",
         "265",
         "10",
         "55"
        ],
        [
         "56",
         "405",
         "35",
         "80"
        ],
        [
         "57",
         "290",
         "40",
         "45"
        ],
        [
         "58",
         "440",
         "65",
         "70"
        ],
        [
         "61",
         "305",
         "40",
         "80"
        ],
        [
         "64",
         "555",
         "90",
         "110"
        ],
        [
         "66",
         "385",
         "65",
         "65"
        ],
        [
         "68",
         "310",
         "25",
         "20"
        ],
        [
         "69",
         "400",
         "40",
         "35"
        ],
        [
         "70",
         "500",
         "55",
         "50"
        ],
        [
         "71",
         "590",
         "55",
         "50"
        ],
        [
         "72",
         "305",
         "70",
         "80"
        ],
        [
         "73",
         "405",
         "80",
         "100"
        ],
        [
         "77",
         "490",
         "80",
         "105"
        ],
        [
         "78",
         "335",
         "40",
         "40"
        ],
        [
         "85",
         "315",
         "90",
         "65"
        ],
        [
         "87",
         "590",
         "95",
         "75"
        ],
        [
         "88",
         "325",
         "25",
         "35"
        ],
        [
         "89",
         "465",
         "50",
         "60"
        ]
       ],
       "shape": {
        "columns": 3,
        "rows": 464
       }
      },
      "text/html": [
       "<div>\n",
       "<style scoped>\n",
       "    .dataframe tbody tr th:only-of-type {\n",
       "        vertical-align: middle;\n",
       "    }\n",
       "\n",
       "    .dataframe tbody tr th {\n",
       "        vertical-align: top;\n",
       "    }\n",
       "\n",
       "    .dataframe thead th {\n",
       "        text-align: right;\n",
       "    }\n",
       "</style>\n",
       "<table border=\"1\" class=\"dataframe\">\n",
       "  <thead>\n",
       "    <tr style=\"text-align: right;\">\n",
       "      <th></th>\n",
       "      <th>Total</th>\n",
       "      <th>HP</th>\n",
       "      <th>Attack</th>\n",
       "    </tr>\n",
       "  </thead>\n",
       "  <tbody>\n",
       "    <tr>\n",
       "      <th>3</th>\n",
       "      <td>625</td>\n",
       "      <td>80</td>\n",
       "      <td>100</td>\n",
       "    </tr>\n",
       "    <tr>\n",
       "      <th>9</th>\n",
       "      <td>314</td>\n",
       "      <td>44</td>\n",
       "      <td>48</td>\n",
       "    </tr>\n",
       "    <tr>\n",
       "      <th>10</th>\n",
       "      <td>405</td>\n",
       "      <td>59</td>\n",
       "      <td>63</td>\n",
       "    </tr>\n",
       "    <tr>\n",
       "      <th>11</th>\n",
       "      <td>530</td>\n",
       "      <td>79</td>\n",
       "      <td>83</td>\n",
       "    </tr>\n",
       "    <tr>\n",
       "      <th>12</th>\n",
       "      <td>630</td>\n",
       "      <td>79</td>\n",
       "      <td>103</td>\n",
       "    </tr>\n",
       "    <tr>\n",
       "      <th>...</th>\n",
       "      <td>...</td>\n",
       "      <td>...</td>\n",
       "      <td>...</td>\n",
       "    </tr>\n",
       "    <tr>\n",
       "      <th>787</th>\n",
       "      <td>494</td>\n",
       "      <td>85</td>\n",
       "      <td>100</td>\n",
       "    </tr>\n",
       "    <tr>\n",
       "      <th>788</th>\n",
       "      <td>304</td>\n",
       "      <td>55</td>\n",
       "      <td>69</td>\n",
       "    </tr>\n",
       "    <tr>\n",
       "      <th>789</th>\n",
       "      <td>514</td>\n",
       "      <td>95</td>\n",
       "      <td>117</td>\n",
       "    </tr>\n",
       "    <tr>\n",
       "      <th>796</th>\n",
       "      <td>700</td>\n",
       "      <td>50</td>\n",
       "      <td>160</td>\n",
       "    </tr>\n",
       "    <tr>\n",
       "      <th>798</th>\n",
       "      <td>680</td>\n",
       "      <td>80</td>\n",
       "      <td>160</td>\n",
       "    </tr>\n",
       "  </tbody>\n",
       "</table>\n",
       "<p>464 rows × 3 columns</p>\n",
       "</div>"
      ],
      "text/plain": [
       "     Total  HP  Attack\n",
       "3      625  80     100\n",
       "9      314  44      48\n",
       "10     405  59      63\n",
       "11     530  79      83\n",
       "12     630  79     103\n",
       "..     ...  ..     ...\n",
       "787    494  85     100\n",
       "788    304  55      69\n",
       "789    514  95     117\n",
       "796    700  50     160\n",
       "798    680  80     160\n",
       "\n",
       "[464 rows x 3 columns]"
      ]
     },
     "execution_count": 8,
     "metadata": {},
     "output_type": "execute_result"
    }
   ],
   "source": [
    "bas.get_muit_columns_data(data=pokemon_data,index=[pokemon_columns[4],pokemon_columns[5],pokemon_columns[6]],index_another=[pokemon_columns[4],pokemon_columns[5]])"
   ]
  },
  {
   "cell_type": "markdown",
   "id": "2aba5b94",
   "metadata": {},
   "source": [
    "##Seventh: replace data"
   ]
  },
  {
   "cell_type": "code",
   "execution_count": null,
   "id": "856f527e",
   "metadata": {},
   "outputs": [
    {
     "data": {
      "application/vnd.microsoft.datawrangler.viewer.v0+json": {
       "columns": [
        {
         "name": "index",
         "rawType": "int64",
         "type": "integer"
        },
        {
         "name": "Type 1",
         "rawType": "object",
         "type": "string"
        },
        {
         "name": "Type 2",
         "rawType": "object",
         "type": "string"
        }
       ],
       "ref": "4deaa964-4460-49a9-936f-fcbd9697a2e8",
       "rows": [
        [
         "0",
         "Grass",
         "Poison"
        ],
        [
         "1",
         "Grass",
         "Poison"
        ],
        [
         "2",
         "Grass",
         "Poison"
        ],
        [
         "3",
         "Grass",
         "Poison"
        ],
        [
         "4",
         "Fire",
         "data lose"
        ],
        [
         "5",
         "Fire",
         "data lose"
        ],
        [
         "6",
         "Fire",
         "Flying"
        ],
        [
         "7",
         "Fire",
         "Dragon"
        ],
        [
         "8",
         "Fire",
         "Flying"
        ],
        [
         "9",
         "Water",
         "data lose"
        ],
        [
         "10",
         "Water",
         "data lose"
        ],
        [
         "11",
         "Water",
         "data lose"
        ],
        [
         "12",
         "Water",
         "data lose"
        ],
        [
         "13",
         "Bug",
         "data lose"
        ],
        [
         "14",
         "Bug",
         "data lose"
        ],
        [
         "15",
         "Bug",
         "Flying"
        ],
        [
         "16",
         "Bug",
         "Poison"
        ],
        [
         "17",
         "Bug",
         "Poison"
        ],
        [
         "18",
         "Bug",
         "Poison"
        ],
        [
         "19",
         "Bug",
         "Poison"
        ],
        [
         "20",
         "Normal",
         "Flying"
        ],
        [
         "21",
         "Normal",
         "Flying"
        ],
        [
         "22",
         "Normal",
         "Flying"
        ],
        [
         "23",
         "Normal",
         "Flying"
        ],
        [
         "24",
         "Normal",
         "data lose"
        ],
        [
         "25",
         "Normal",
         "data lose"
        ],
        [
         "26",
         "Normal",
         "Flying"
        ],
        [
         "27",
         "Normal",
         "Flying"
        ],
        [
         "28",
         "Poison",
         "data lose"
        ],
        [
         "29",
         "Poison",
         "data lose"
        ],
        [
         "30",
         "Electric",
         "data lose"
        ],
        [
         "31",
         "Electric",
         "data lose"
        ],
        [
         "32",
         "Ground",
         "data lose"
        ],
        [
         "33",
         "Ground",
         "data lose"
        ],
        [
         "34",
         "Poison",
         "data lose"
        ],
        [
         "35",
         "Poison",
         "data lose"
        ],
        [
         "36",
         "Poison",
         "Ground"
        ],
        [
         "37",
         "Poison",
         "data lose"
        ],
        [
         "38",
         "Poison",
         "data lose"
        ],
        [
         "39",
         "Poison",
         "Ground"
        ],
        [
         "40",
         "Fairy",
         "data lose"
        ],
        [
         "41",
         "Fairy",
         "data lose"
        ],
        [
         "42",
         "Fire",
         "data lose"
        ],
        [
         "43",
         "Fire",
         "data lose"
        ],
        [
         "44",
         "Normal",
         "Fairy"
        ],
        [
         "45",
         "Normal",
         "Fairy"
        ],
        [
         "46",
         "Poison",
         "Flying"
        ],
        [
         "47",
         "Poison",
         "Flying"
        ],
        [
         "48",
         "Grass",
         "Poison"
        ],
        [
         "49",
         "Grass",
         "Poison"
        ]
       ],
       "shape": {
        "columns": 2,
        "rows": 800
       }
      },
      "text/html": [
       "<div>\n",
       "<style scoped>\n",
       "    .dataframe tbody tr th:only-of-type {\n",
       "        vertical-align: middle;\n",
       "    }\n",
       "\n",
       "    .dataframe tbody tr th {\n",
       "        vertical-align: top;\n",
       "    }\n",
       "\n",
       "    .dataframe thead th {\n",
       "        text-align: right;\n",
       "    }\n",
       "</style>\n",
       "<table border=\"1\" class=\"dataframe\">\n",
       "  <thead>\n",
       "    <tr style=\"text-align: right;\">\n",
       "      <th></th>\n",
       "      <th>Type 1</th>\n",
       "      <th>Type 2</th>\n",
       "    </tr>\n",
       "  </thead>\n",
       "  <tbody>\n",
       "    <tr>\n",
       "      <th>0</th>\n",
       "      <td>Grass</td>\n",
       "      <td>Poison</td>\n",
       "    </tr>\n",
       "    <tr>\n",
       "      <th>1</th>\n",
       "      <td>Grass</td>\n",
       "      <td>Poison</td>\n",
       "    </tr>\n",
       "    <tr>\n",
       "      <th>2</th>\n",
       "      <td>Grass</td>\n",
       "      <td>Poison</td>\n",
       "    </tr>\n",
       "    <tr>\n",
       "      <th>3</th>\n",
       "      <td>Grass</td>\n",
       "      <td>Poison</td>\n",
       "    </tr>\n",
       "    <tr>\n",
       "      <th>4</th>\n",
       "      <td>Fire</td>\n",
       "      <td>data lose</td>\n",
       "    </tr>\n",
       "    <tr>\n",
       "      <th>...</th>\n",
       "      <td>...</td>\n",
       "      <td>...</td>\n",
       "    </tr>\n",
       "    <tr>\n",
       "      <th>795</th>\n",
       "      <td>Rock</td>\n",
       "      <td>Fairy</td>\n",
       "    </tr>\n",
       "    <tr>\n",
       "      <th>796</th>\n",
       "      <td>Rock</td>\n",
       "      <td>Fairy</td>\n",
       "    </tr>\n",
       "    <tr>\n",
       "      <th>797</th>\n",
       "      <td>Psychic</td>\n",
       "      <td>Ghost</td>\n",
       "    </tr>\n",
       "    <tr>\n",
       "      <th>798</th>\n",
       "      <td>Psychic</td>\n",
       "      <td>Dark</td>\n",
       "    </tr>\n",
       "    <tr>\n",
       "      <th>799</th>\n",
       "      <td>Fire</td>\n",
       "      <td>Water</td>\n",
       "    </tr>\n",
       "  </tbody>\n",
       "</table>\n",
       "<p>800 rows × 2 columns</p>\n",
       "</div>"
      ],
      "text/plain": [
       "      Type 1     Type 2\n",
       "0      Grass     Poison\n",
       "1      Grass     Poison\n",
       "2      Grass     Poison\n",
       "3      Grass     Poison\n",
       "4       Fire  data lose\n",
       "..       ...        ...\n",
       "795     Rock      Fairy\n",
       "796     Rock      Fairy\n",
       "797  Psychic      Ghost\n",
       "798  Psychic       Dark\n",
       "799     Fire      Water\n",
       "\n",
       "[800 rows x 2 columns]"
      ]
     },
     "execution_count": 9,
     "metadata": {},
     "output_type": "execute_result"
    }
   ],
   "source": [
    "import numpy as np\n",
    "bas.replace_data(data=pokemon_data,index_columns=[pokemon_columns[2],pokemon_columns[3]],replace_text={np.nan:\"data lose\"})"
   ]
  },
  {
   "cell_type": "markdown",
   "id": "208cb08d",
   "metadata": {},
   "source": [
    "#Eighth:get data mask or where"
   ]
  },
  {
   "cell_type": "code",
   "execution_count": null,
   "id": "bd0c4733",
   "metadata": {},
   "outputs": [
    {
     "data": {
      "application/vnd.microsoft.datawrangler.viewer.v0+json": {
       "columns": [
        {
         "name": "index",
         "rawType": "int64",
         "type": "integer"
        },
        {
         "name": "Attack",
         "rawType": "int64",
         "type": "integer"
        }
       ],
       "ref": "eff143ba-61c0-4775-bbae-2c439fdb0c41",
       "rows": [
        [
         "0",
         "49"
        ],
        [
         "1",
         "62"
        ],
        [
         "2",
         "82"
        ],
        [
         "3",
         "100"
        ],
        [
         "4",
         "52"
        ],
        [
         "5",
         "64"
        ],
        [
         "6",
         "84"
        ],
        [
         "7",
         "130"
        ],
        [
         "8",
         "104"
        ],
        [
         "9",
         "48"
        ],
        [
         "10",
         "63"
        ],
        [
         "11",
         "83"
        ],
        [
         "12",
         "103"
        ],
        [
         "13",
         "30"
        ],
        [
         "14",
         "20"
        ],
        [
         "15",
         "45"
        ],
        [
         "16",
         "35"
        ],
        [
         "17",
         "25"
        ],
        [
         "18",
         "90"
        ],
        [
         "19",
         "150"
        ],
        [
         "20",
         "45"
        ],
        [
         "21",
         "60"
        ],
        [
         "22",
         "80"
        ],
        [
         "23",
         "80"
        ],
        [
         "24",
         "56"
        ],
        [
         "25",
         "81"
        ],
        [
         "26",
         "60"
        ],
        [
         "27",
         "90"
        ],
        [
         "28",
         "60"
        ],
        [
         "29",
         "85"
        ],
        [
         "30",
         "55"
        ],
        [
         "31",
         "90"
        ],
        [
         "32",
         "75"
        ],
        [
         "33",
         "100"
        ],
        [
         "34",
         "47"
        ],
        [
         "35",
         "62"
        ],
        [
         "36",
         "92"
        ],
        [
         "37",
         "57"
        ],
        [
         "38",
         "72"
        ],
        [
         "39",
         "102"
        ],
        [
         "40",
         "45"
        ],
        [
         "41",
         "70"
        ],
        [
         "42",
         "41"
        ],
        [
         "43",
         "76"
        ],
        [
         "44",
         "45"
        ],
        [
         "45",
         "70"
        ],
        [
         "46",
         "45"
        ],
        [
         "47",
         "80"
        ],
        [
         "48",
         "50"
        ],
        [
         "49",
         "65"
        ]
       ],
       "shape": {
        "columns": 1,
        "rows": 800
       }
      },
      "text/plain": [
       "0       49\n",
       "1       62\n",
       "2       82\n",
       "3      100\n",
       "4       52\n",
       "      ... \n",
       "795    100\n",
       "796    160\n",
       "797    110\n",
       "798    160\n",
       "799    110\n",
       "Name: Attack, Length: 800, dtype: int64"
      ]
     },
     "execution_count": 10,
     "metadata": {},
     "output_type": "execute_result"
    }
   ],
   "source": [
    "pokemon_data[pokemon_columns[6]]"
   ]
  },
  {
   "cell_type": "code",
   "execution_count": null,
   "id": "4c604674",
   "metadata": {},
   "outputs": [
    {
     "data": {
      "application/vnd.microsoft.datawrangler.viewer.v0+json": {
       "columns": [
        {
         "name": "index",
         "rawType": "int64",
         "type": "integer"
        },
        {
         "name": "Total",
         "rawType": "object",
         "type": "unknown"
        },
        {
         "name": "HP",
         "rawType": "object",
         "type": "unknown"
        },
        {
         "name": "Attack",
         "rawType": "object",
         "type": "unknown"
        }
       ],
       "ref": "44b69cfd-56d6-412a-96ed-dc08d4fab5c1",
       "rows": [
        [
         "0",
         "318",
         "45",
         "49"
        ],
        [
         "1",
         "405",
         "60",
         "62"
        ],
        [
         "2",
         "s+",
         "s+",
         "s+"
        ],
        [
         "3",
         "s+",
         "s+",
         "s+"
        ],
        [
         "4",
         "309",
         "39",
         "52"
        ],
        [
         "5",
         "405",
         "58",
         "64"
        ],
        [
         "6",
         "s+",
         "s+",
         "s+"
        ],
        [
         "7",
         "s+",
         "s+",
         "s+"
        ],
        [
         "8",
         "s+",
         "s+",
         "s+"
        ],
        [
         "9",
         "314",
         "44",
         "48"
        ],
        [
         "10",
         "405",
         "59",
         "63"
        ],
        [
         "11",
         "s+",
         "s+",
         "s+"
        ],
        [
         "12",
         "s+",
         "s+",
         "s+"
        ],
        [
         "13",
         "195",
         "45",
         "30"
        ],
        [
         "14",
         "205",
         "50",
         "20"
        ],
        [
         "15",
         "395",
         "60",
         "45"
        ],
        [
         "16",
         "195",
         "40",
         "35"
        ],
        [
         "17",
         "205",
         "45",
         "25"
        ],
        [
         "18",
         "s+",
         "s+",
         "s+"
        ],
        [
         "19",
         "s+",
         "s+",
         "s+"
        ],
        [
         "20",
         "251",
         "40",
         "45"
        ],
        [
         "21",
         "s+",
         "s+",
         "s+"
        ],
        [
         "22",
         "s+",
         "s+",
         "s+"
        ],
        [
         "23",
         "s+",
         "s+",
         "s+"
        ],
        [
         "24",
         "253",
         "30",
         "56"
        ],
        [
         "25",
         "413",
         "55",
         "81"
        ],
        [
         "26",
         "262",
         "40",
         "60"
        ],
        [
         "27",
         "s+",
         "s+",
         "s+"
        ],
        [
         "28",
         "288",
         "35",
         "60"
        ],
        [
         "29",
         "438",
         "60",
         "85"
        ],
        [
         "30",
         "320",
         "35",
         "55"
        ],
        [
         "31",
         "485",
         "60",
         "90"
        ],
        [
         "32",
         "300",
         "50",
         "75"
        ],
        [
         "33",
         "s+",
         "s+",
         "s+"
        ],
        [
         "34",
         "275",
         "55",
         "47"
        ],
        [
         "35",
         "s+",
         "s+",
         "s+"
        ],
        [
         "36",
         "s+",
         "s+",
         "s+"
        ],
        [
         "37",
         "273",
         "46",
         "57"
        ],
        [
         "38",
         "s+",
         "s+",
         "s+"
        ],
        [
         "39",
         "s+",
         "s+",
         "s+"
        ],
        [
         "40",
         "s+",
         "s+",
         "s+"
        ],
        [
         "41",
         "s+",
         "s+",
         "s+"
        ],
        [
         "42",
         "299",
         "38",
         "41"
        ],
        [
         "43",
         "s+",
         "s+",
         "s+"
        ],
        [
         "44",
         "s+",
         "s+",
         "s+"
        ],
        [
         "45",
         "s+",
         "s+",
         "s+"
        ],
        [
         "46",
         "245",
         "40",
         "45"
        ],
        [
         "47",
         "s+",
         "s+",
         "s+"
        ],
        [
         "48",
         "320",
         "45",
         "50"
        ],
        [
         "49",
         "395",
         "60",
         "65"
        ]
       ],
       "shape": {
        "columns": 3,
        "rows": 800
       }
      },
      "text/html": [
       "<div>\n",
       "<style scoped>\n",
       "    .dataframe tbody tr th:only-of-type {\n",
       "        vertical-align: middle;\n",
       "    }\n",
       "\n",
       "    .dataframe tbody tr th {\n",
       "        vertical-align: top;\n",
       "    }\n",
       "\n",
       "    .dataframe thead th {\n",
       "        text-align: right;\n",
       "    }\n",
       "</style>\n",
       "<table border=\"1\" class=\"dataframe\">\n",
       "  <thead>\n",
       "    <tr style=\"text-align: right;\">\n",
       "      <th></th>\n",
       "      <th>Total</th>\n",
       "      <th>HP</th>\n",
       "      <th>Attack</th>\n",
       "    </tr>\n",
       "  </thead>\n",
       "  <tbody>\n",
       "    <tr>\n",
       "      <th>0</th>\n",
       "      <td>318</td>\n",
       "      <td>45</td>\n",
       "      <td>49</td>\n",
       "    </tr>\n",
       "    <tr>\n",
       "      <th>1</th>\n",
       "      <td>405</td>\n",
       "      <td>60</td>\n",
       "      <td>62</td>\n",
       "    </tr>\n",
       "    <tr>\n",
       "      <th>2</th>\n",
       "      <td>s+</td>\n",
       "      <td>s+</td>\n",
       "      <td>s+</td>\n",
       "    </tr>\n",
       "    <tr>\n",
       "      <th>3</th>\n",
       "      <td>s+</td>\n",
       "      <td>s+</td>\n",
       "      <td>s+</td>\n",
       "    </tr>\n",
       "    <tr>\n",
       "      <th>4</th>\n",
       "      <td>309</td>\n",
       "      <td>39</td>\n",
       "      <td>52</td>\n",
       "    </tr>\n",
       "    <tr>\n",
       "      <th>...</th>\n",
       "      <td>...</td>\n",
       "      <td>...</td>\n",
       "      <td>...</td>\n",
       "    </tr>\n",
       "    <tr>\n",
       "      <th>795</th>\n",
       "      <td>600</td>\n",
       "      <td>50</td>\n",
       "      <td>100</td>\n",
       "    </tr>\n",
       "    <tr>\n",
       "      <th>796</th>\n",
       "      <td>700</td>\n",
       "      <td>50</td>\n",
       "      <td>160</td>\n",
       "    </tr>\n",
       "    <tr>\n",
       "      <th>797</th>\n",
       "      <td>s+</td>\n",
       "      <td>s+</td>\n",
       "      <td>s+</td>\n",
       "    </tr>\n",
       "    <tr>\n",
       "      <th>798</th>\n",
       "      <td>s+</td>\n",
       "      <td>s+</td>\n",
       "      <td>s+</td>\n",
       "    </tr>\n",
       "    <tr>\n",
       "      <th>799</th>\n",
       "      <td>s+</td>\n",
       "      <td>s+</td>\n",
       "      <td>s+</td>\n",
       "    </tr>\n",
       "  </tbody>\n",
       "</table>\n",
       "<p>800 rows × 3 columns</p>\n",
       "</div>"
      ],
      "text/plain": [
       "    Total  HP Attack\n",
       "0     318  45     49\n",
       "1     405  60     62\n",
       "2      s+  s+     s+\n",
       "3      s+  s+     s+\n",
       "4     309  39     52\n",
       "..    ...  ..    ...\n",
       "795   600  50    100\n",
       "796   700  50    160\n",
       "797    s+  s+     s+\n",
       "798    s+  s+     s+\n",
       "799    s+  s+     s+\n",
       "\n",
       "[800 rows x 3 columns]"
      ]
     },
     "execution_count": 11,
     "metadata": {},
     "output_type": "execute_result"
    }
   ],
   "source": [
    "bas.mask_where(data=pokemon_data,index_columns=[pokemon_columns[4]\n",
    ",pokemon_columns[5],pokemon_columns[6]],cond=(~(pokemon_data[pokemon_columns[5]]>60)&(pokemon_data[pokemon_columns[6]]<180)),new_value=\"s+\",logic='where')"
   ]
  },
  {
   "cell_type": "markdown",
   "id": "ac0082b7",
   "metadata": {},
   "source": [
    "#nighth sort_value() of data"
   ]
  },
  {
   "cell_type": "code",
   "execution_count": null,
   "id": "89704fc2",
   "metadata": {},
   "outputs": [
    {
     "name": "stdout",
     "output_type": "stream",
     "text": [
      "index_columns is not None\n",
      "duplicated data finish\n"
     ]
    },
    {
     "data": {
      "application/vnd.microsoft.datawrangler.viewer.v0+json": {
       "columns": [
        {
         "name": "index",
         "rawType": "int64",
         "type": "integer"
        },
        {
         "name": "Total",
         "rawType": "int64",
         "type": "integer"
        },
        {
         "name": "HP",
         "rawType": "int64",
         "type": "integer"
        },
        {
         "name": "Attack",
         "rawType": "int64",
         "type": "integer"
        }
       ],
       "ref": "a20cec10-052d-46fc-ae5d-ef4c1666c016",
       "rows": [
        [
         "261",
         "540",
         "255",
         "10"
        ],
        [
         "121",
         "450",
         "250",
         "5"
        ],
        [
         "217",
         "405",
         "190",
         "33"
        ],
        [
         "351",
         "500",
         "170",
         "90"
        ],
        [
         "655",
         "470",
         "165",
         "75"
        ],
        [
         "155",
         "540",
         "160",
         "110"
        ],
        [
         "313",
         "670",
         "150",
         "160"
        ],
        [
         "545",
         "680",
         "150",
         "120"
        ],
        [
         "544",
         "680",
         "150",
         "100"
        ],
        [
         "473",
         "498",
         "150",
         "80"
        ],
        [
         "321",
         "474",
         "144",
         "120"
        ],
        [
         "45",
         "435",
         "140",
         "70"
        ],
        [
         "495",
         "390",
         "135",
         "85"
        ],
        [
         "142",
         "535",
         "130",
         "85"
        ],
        [
         "350",
         "400",
         "130",
         "70"
        ],
        [
         "145",
         "525",
         "130",
         "65"
        ],
        [
         "792",
         "680",
         "126",
         "131"
        ],
        [
         "793",
         "680",
         "126",
         "131"
        ],
        [
         "711",
         "700",
         "125",
         "170"
        ],
        [
         "710",
         "660",
         "125",
         "130"
        ],
        [
         "712",
         "700",
         "125",
         "120"
        ],
        [
         "185",
         "460",
         "125",
         "58"
        ],
        [
         "741",
         "531",
         "123",
         "100"
        ],
        [
         "769",
         "521",
         "123",
         "77"
        ],
        [
         "552",
         "720",
         "120",
         "120"
        ],
        [
         "598",
         "465",
         "120",
         "100"
        ],
        [
         "546",
         "600",
         "120",
         "70"
        ],
        [
         "577",
         "487",
         "116",
         "55"
        ],
        [
         "515",
         "535",
         "115",
         "140"
        ],
        [
         "263",
         "580",
         "115",
         "115"
        ],
        [
         "44",
         "270",
         "115",
         "45"
        ],
        [
         "652",
         "464",
         "114",
         "85"
        ],
        [
         "470",
         "475",
         "111",
         "83"
        ],
        [
         "543",
         "670",
         "110",
         "160"
        ],
        [
         "589",
         "508",
         "110",
         "135"
        ],
        [
         "524",
         "530",
         "110",
         "130"
        ],
        [
         "559",
         "528",
         "110",
         "123"
        ],
        [
         "514",
         "515",
         "110",
         "85"
        ],
        [
         "400",
         "530",
         "110",
         "80"
        ],
        [
         "372",
         "468",
         "110",
         "78"
        ],
        [
         "640",
         "490",
         "110",
         "65"
        ],
        [
         "691",
         "510",
         "110",
         "65"
        ],
        [
         "679",
         "471",
         "109",
         "66"
        ],
        [
         "494",
         "700",
         "108",
         "170"
        ],
        [
         "493",
         "600",
         "108",
         "130"
        ],
        [
         "500",
         "525",
         "108",
         "112"
        ],
        [
         "794",
         "600",
         "108",
         "100"
        ],
        [
         "163",
         "780",
         "106",
         "190"
        ],
        [
         "164",
         "780",
         "106",
         "150"
        ],
        [
         "270",
         "680",
         "106",
         "130"
        ]
       ],
       "shape": {
        "columns": 3,
        "rows": 800
       }
      },
      "text/html": [
       "<div>\n",
       "<style scoped>\n",
       "    .dataframe tbody tr th:only-of-type {\n",
       "        vertical-align: middle;\n",
       "    }\n",
       "\n",
       "    .dataframe tbody tr th {\n",
       "        vertical-align: top;\n",
       "    }\n",
       "\n",
       "    .dataframe thead th {\n",
       "        text-align: right;\n",
       "    }\n",
       "</style>\n",
       "<table border=\"1\" class=\"dataframe\">\n",
       "  <thead>\n",
       "    <tr style=\"text-align: right;\">\n",
       "      <th></th>\n",
       "      <th>Total</th>\n",
       "      <th>HP</th>\n",
       "      <th>Attack</th>\n",
       "    </tr>\n",
       "  </thead>\n",
       "  <tbody>\n",
       "    <tr>\n",
       "      <th>261</th>\n",
       "      <td>540</td>\n",
       "      <td>255</td>\n",
       "      <td>10</td>\n",
       "    </tr>\n",
       "    <tr>\n",
       "      <th>121</th>\n",
       "      <td>450</td>\n",
       "      <td>250</td>\n",
       "      <td>5</td>\n",
       "    </tr>\n",
       "    <tr>\n",
       "      <th>217</th>\n",
       "      <td>405</td>\n",
       "      <td>190</td>\n",
       "      <td>33</td>\n",
       "    </tr>\n",
       "    <tr>\n",
       "      <th>351</th>\n",
       "      <td>500</td>\n",
       "      <td>170</td>\n",
       "      <td>90</td>\n",
       "    </tr>\n",
       "    <tr>\n",
       "      <th>655</th>\n",
       "      <td>470</td>\n",
       "      <td>165</td>\n",
       "      <td>75</td>\n",
       "    </tr>\n",
       "    <tr>\n",
       "      <th>...</th>\n",
       "      <td>...</td>\n",
       "      <td>...</td>\n",
       "      <td>...</td>\n",
       "    </tr>\n",
       "    <tr>\n",
       "      <th>381</th>\n",
       "      <td>200</td>\n",
       "      <td>20</td>\n",
       "      <td>15</td>\n",
       "    </tr>\n",
       "    <tr>\n",
       "      <th>139</th>\n",
       "      <td>200</td>\n",
       "      <td>20</td>\n",
       "      <td>10</td>\n",
       "    </tr>\n",
       "    <tr>\n",
       "      <th>230</th>\n",
       "      <td>505</td>\n",
       "      <td>20</td>\n",
       "      <td>10</td>\n",
       "    </tr>\n",
       "    <tr>\n",
       "      <th>55</th>\n",
       "      <td>265</td>\n",
       "      <td>10</td>\n",
       "      <td>55</td>\n",
       "    </tr>\n",
       "    <tr>\n",
       "      <th>316</th>\n",
       "      <td>236</td>\n",
       "      <td>1</td>\n",
       "      <td>90</td>\n",
       "    </tr>\n",
       "  </tbody>\n",
       "</table>\n",
       "<p>800 rows × 3 columns</p>\n",
       "</div>"
      ],
      "text/plain": [
       "     Total   HP  Attack\n",
       "261    540  255      10\n",
       "121    450  250       5\n",
       "217    405  190      33\n",
       "351    500  170      90\n",
       "655    470  165      75\n",
       "..     ...  ...     ...\n",
       "381    200   20      15\n",
       "139    200   20      10\n",
       "230    505   20      10\n",
       "55     265   10      55\n",
       "316    236    1      90\n",
       "\n",
       "[800 rows x 3 columns]"
      ]
     },
     "execution_count": 12,
     "metadata": {},
     "output_type": "execute_result"
    }
   ],
   "source": [
    "\n",
    "bas.sorting_data(data=pokemon_data,index_columns=[pokemon_columns[4],pokemon_columns[5],pokemon_columns[6]],set_index=[pokemon_columns[5],pokemon_columns[6]],ascending=False)"
   ]
  },
  {
   "cell_type": "markdown",
   "id": "680def32",
   "metadata": {},
   "source": [
    "#tenth :set_index() for data"
   ]
  },
  {
   "cell_type": "code",
   "execution_count": null,
   "id": "e83a3e7f",
   "metadata": {},
   "outputs": [
    {
     "data": {
      "application/vnd.microsoft.datawrangler.viewer.v0+json": {
       "columns": [
        {
         "name": "Attack",
         "rawType": "int64",
         "type": "integer"
        },
        {
         "name": "HP",
         "rawType": "int64",
         "type": "integer"
        },
        {
         "name": "HP",
         "rawType": "int64",
         "type": "integer"
        }
       ],
       "ref": "ed40641a-ab8a-45e6-b8b2-d53161abc9ff",
       "rows": [
        [
         "49",
         "45",
         "45"
        ],
        [
         "62",
         "60",
         "60"
        ],
        [
         "82",
         "80",
         "80"
        ],
        [
         "100",
         "80",
         "80"
        ],
        [
         "52",
         "39",
         "39"
        ],
        [
         "64",
         "58",
         "58"
        ],
        [
         "84",
         "78",
         "78"
        ],
        [
         "130",
         "78",
         "78"
        ],
        [
         "104",
         "78",
         "78"
        ],
        [
         "48",
         "44",
         "44"
        ],
        [
         "63",
         "59",
         "59"
        ],
        [
         "83",
         "79",
         "79"
        ],
        [
         "103",
         "79",
         "79"
        ],
        [
         "30",
         "45",
         "45"
        ],
        [
         "20",
         "50",
         "50"
        ],
        [
         "45",
         "60",
         "60"
        ],
        [
         "35",
         "40",
         "40"
        ],
        [
         "25",
         "45",
         "45"
        ],
        [
         "90",
         "65",
         "65"
        ],
        [
         "150",
         "65",
         "65"
        ],
        [
         "45",
         "40",
         "40"
        ],
        [
         "60",
         "63",
         "63"
        ],
        [
         "80",
         "83",
         "83"
        ],
        [
         "80",
         "83",
         "83"
        ],
        [
         "56",
         "30",
         "30"
        ],
        [
         "81",
         "55",
         "55"
        ],
        [
         "60",
         "40",
         "40"
        ],
        [
         "90",
         "65",
         "65"
        ],
        [
         "60",
         "35",
         "35"
        ],
        [
         "85",
         "60",
         "60"
        ],
        [
         "55",
         "35",
         "35"
        ],
        [
         "90",
         "60",
         "60"
        ],
        [
         "75",
         "50",
         "50"
        ],
        [
         "100",
         "75",
         "75"
        ],
        [
         "47",
         "55",
         "55"
        ],
        [
         "62",
         "70",
         "70"
        ],
        [
         "92",
         "90",
         "90"
        ],
        [
         "57",
         "46",
         "46"
        ],
        [
         "72",
         "61",
         "61"
        ],
        [
         "102",
         "81",
         "81"
        ],
        [
         "45",
         "70",
         "70"
        ],
        [
         "70",
         "95",
         "95"
        ],
        [
         "41",
         "38",
         "38"
        ],
        [
         "76",
         "73",
         "73"
        ],
        [
         "45",
         "115",
         "115"
        ],
        [
         "70",
         "140",
         "140"
        ],
        [
         "45",
         "40",
         "40"
        ],
        [
         "80",
         "75",
         "75"
        ],
        [
         "50",
         "45",
         "45"
        ],
        [
         "65",
         "60",
         "60"
        ]
       ],
       "shape": {
        "columns": 2,
        "rows": 800
       }
      },
      "text/html": [
       "<div>\n",
       "<style scoped>\n",
       "    .dataframe tbody tr th:only-of-type {\n",
       "        vertical-align: middle;\n",
       "    }\n",
       "\n",
       "    .dataframe tbody tr th {\n",
       "        vertical-align: top;\n",
       "    }\n",
       "\n",
       "    .dataframe thead th {\n",
       "        text-align: right;\n",
       "    }\n",
       "</style>\n",
       "<table border=\"1\" class=\"dataframe\">\n",
       "  <thead>\n",
       "    <tr style=\"text-align: right;\">\n",
       "      <th></th>\n",
       "      <th>HP</th>\n",
       "      <th>HP</th>\n",
       "    </tr>\n",
       "    <tr>\n",
       "      <th>Attack</th>\n",
       "      <th></th>\n",
       "      <th></th>\n",
       "    </tr>\n",
       "  </thead>\n",
       "  <tbody>\n",
       "    <tr>\n",
       "      <th>49</th>\n",
       "      <td>45</td>\n",
       "      <td>45</td>\n",
       "    </tr>\n",
       "    <tr>\n",
       "      <th>62</th>\n",
       "      <td>60</td>\n",
       "      <td>60</td>\n",
       "    </tr>\n",
       "    <tr>\n",
       "      <th>82</th>\n",
       "      <td>80</td>\n",
       "      <td>80</td>\n",
       "    </tr>\n",
       "    <tr>\n",
       "      <th>100</th>\n",
       "      <td>80</td>\n",
       "      <td>80</td>\n",
       "    </tr>\n",
       "    <tr>\n",
       "      <th>52</th>\n",
       "      <td>39</td>\n",
       "      <td>39</td>\n",
       "    </tr>\n",
       "    <tr>\n",
       "      <th>...</th>\n",
       "      <td>...</td>\n",
       "      <td>...</td>\n",
       "    </tr>\n",
       "    <tr>\n",
       "      <th>100</th>\n",
       "      <td>50</td>\n",
       "      <td>50</td>\n",
       "    </tr>\n",
       "    <tr>\n",
       "      <th>160</th>\n",
       "      <td>50</td>\n",
       "      <td>50</td>\n",
       "    </tr>\n",
       "    <tr>\n",
       "      <th>110</th>\n",
       "      <td>80</td>\n",
       "      <td>80</td>\n",
       "    </tr>\n",
       "    <tr>\n",
       "      <th>160</th>\n",
       "      <td>80</td>\n",
       "      <td>80</td>\n",
       "    </tr>\n",
       "    <tr>\n",
       "      <th>110</th>\n",
       "      <td>80</td>\n",
       "      <td>80</td>\n",
       "    </tr>\n",
       "  </tbody>\n",
       "</table>\n",
       "<p>800 rows × 2 columns</p>\n",
       "</div>"
      ],
      "text/plain": [
       "        HP  HP\n",
       "Attack        \n",
       "49      45  45\n",
       "62      60  60\n",
       "82      80  80\n",
       "100     80  80\n",
       "52      39  39\n",
       "...     ..  ..\n",
       "100     50  50\n",
       "160     50  50\n",
       "110     80  80\n",
       "160     80  80\n",
       "110     80  80\n",
       "\n",
       "[800 rows x 2 columns]"
      ]
     },
     "execution_count": 13,
     "metadata": {},
     "output_type": "execute_result"
    }
   ],
   "source": [
    "bas.data_set_index(data=pokemon_data,index_columns=[pokemon_columns[6],pokemon_columns[5],pokemon_columns[5]],set_indx=[pokemon_columns[6]])\n",
    "\n",
    "#feature_statistics(data=a,index=[a.columns[0]],feature='max')"
   ]
  },
  {
   "cell_type": "markdown",
   "id": "9669fd4f",
   "metadata": {},
   "source": [
    "#eleventh:apply function for data"
   ]
  },
  {
   "cell_type": "code",
   "execution_count": null,
   "id": "5859b9bc",
   "metadata": {},
   "outputs": [
    {
     "data": {
      "application/vnd.microsoft.datawrangler.viewer.v0+json": {
       "columns": [
        {
         "name": "index",
         "rawType": "object",
         "type": "string"
        },
        {
         "name": "0",
         "rawType": "int64",
         "type": "integer"
        }
       ],
       "ref": "022ed019-7c05-4774-b74e-70eb96f05fe4",
       "rows": [
        [
         "Total",
         "780"
        ],
        [
         "HP",
         "255"
        ],
        [
         "Attack",
         "190"
        ]
       ],
       "shape": {
        "columns": 1,
        "rows": 3
       }
      },
      "text/plain": [
       "Total     780\n",
       "HP        255\n",
       "Attack    190\n",
       "dtype: int64"
      ]
     },
     "execution_count": 14,
     "metadata": {},
     "output_type": "execute_result"
    }
   ],
   "source": [
    "bas.apply_data(data=pokemon_data,index_columns=[pokemon_columns[4],pokemon_columns[5],pokemon_columns[6]],value=lambda x:x.max())"
   ]
  },
  {
   "cell_type": "markdown",
   "id": "09044024",
   "metadata": {},
   "source": [
    "Finish: rolling window for my data"
   ]
  },
  {
   "cell_type": "code",
   "execution_count": null,
   "id": "619fe537",
   "metadata": {},
   "outputs": [
    {
     "data": {
      "application/vnd.microsoft.datawrangler.viewer.v0+json": {
       "columns": [
        {
         "name": "index",
         "rawType": "int64",
         "type": "integer"
        },
        {
         "name": "Total",
         "rawType": "float64",
         "type": "float"
        },
        {
         "name": "HP",
         "rawType": "float64",
         "type": "float"
        },
        {
         "name": "Attack",
         "rawType": "float64",
         "type": "float"
        }
       ],
       "ref": "6c70ebc7-9462-4137-9a30-fd3fa1eea7d8",
       "rows": [
        [
         "0",
         "318.0",
         "45.0",
         "49.0"
        ],
        [
         "1",
         "405.0",
         "60.0",
         "62.0"
        ],
        [
         "2",
         "525.0",
         "80.0",
         "82.0"
        ],
        [
         "3",
         "625.0",
         "80.0",
         "100.0"
        ],
        [
         "4",
         "309.0",
         "39.0",
         "52.0"
        ],
        [
         "5",
         "405.0",
         "58.0",
         "64.0"
        ],
        [
         "6",
         "534.0",
         "78.0",
         "84.0"
        ],
        [
         "7",
         "634.0",
         "78.0",
         "130.0"
        ],
        [
         "8",
         "634.0",
         "78.0",
         "104.0"
        ],
        [
         "9",
         "314.0",
         "44.0",
         "48.0"
        ],
        [
         "10",
         "405.0",
         "59.0",
         "63.0"
        ],
        [
         "11",
         "530.0",
         "79.0",
         "83.0"
        ],
        [
         "12",
         "630.0",
         "79.0",
         "103.0"
        ],
        [
         "13",
         "195.0",
         "45.0",
         "30.0"
        ],
        [
         "14",
         "205.0",
         "50.0",
         "20.0"
        ],
        [
         "15",
         "395.0",
         "60.0",
         "45.0"
        ],
        [
         "16",
         "195.0",
         "40.0",
         "35.0"
        ],
        [
         "17",
         "205.0",
         "45.0",
         "25.0"
        ],
        [
         "18",
         "395.0",
         "65.0",
         "90.0"
        ],
        [
         "19",
         "495.0",
         "65.0",
         "150.0"
        ],
        [
         "20",
         "251.0",
         "40.0",
         "45.0"
        ],
        [
         "21",
         "349.0",
         "63.0",
         "60.0"
        ],
        [
         "22",
         "479.0",
         "83.0",
         "80.0"
        ],
        [
         "23",
         "579.0",
         "83.0",
         "80.0"
        ],
        [
         "24",
         "253.0",
         "30.0",
         "56.0"
        ],
        [
         "25",
         "413.0",
         "55.0",
         "81.0"
        ],
        [
         "26",
         "262.0",
         "40.0",
         "60.0"
        ],
        [
         "27",
         "442.0",
         "65.0",
         "90.0"
        ],
        [
         "28",
         "288.0",
         "35.0",
         "60.0"
        ],
        [
         "29",
         "438.0",
         "60.0",
         "85.0"
        ],
        [
         "30",
         "320.0",
         "35.0",
         "55.0"
        ],
        [
         "31",
         "485.0",
         "60.0",
         "90.0"
        ],
        [
         "32",
         "300.0",
         "50.0",
         "75.0"
        ],
        [
         "33",
         "450.0",
         "75.0",
         "100.0"
        ],
        [
         "34",
         "275.0",
         "55.0",
         "47.0"
        ],
        [
         "35",
         "365.0",
         "70.0",
         "62.0"
        ],
        [
         "36",
         "505.0",
         "90.0",
         "92.0"
        ],
        [
         "37",
         "273.0",
         "46.0",
         "57.0"
        ],
        [
         "38",
         "365.0",
         "61.0",
         "72.0"
        ],
        [
         "39",
         "505.0",
         "81.0",
         "102.0"
        ],
        [
         "40",
         "323.0",
         "70.0",
         "45.0"
        ],
        [
         "41",
         "483.0",
         "95.0",
         "70.0"
        ],
        [
         "42",
         "299.0",
         "38.0",
         "41.0"
        ],
        [
         "43",
         "505.0",
         "73.0",
         "76.0"
        ],
        [
         "44",
         "270.0",
         "115.0",
         "45.0"
        ],
        [
         "45",
         "435.0",
         "140.0",
         "70.0"
        ],
        [
         "46",
         "245.0",
         "40.0",
         "45.0"
        ],
        [
         "47",
         "455.0",
         "75.0",
         "80.0"
        ],
        [
         "48",
         "320.0",
         "45.0",
         "50.0"
        ],
        [
         "49",
         "395.0",
         "60.0",
         "65.0"
        ]
       ],
       "shape": {
        "columns": 3,
        "rows": 800
       }
      },
      "text/html": [
       "<div>\n",
       "<style scoped>\n",
       "    .dataframe tbody tr th:only-of-type {\n",
       "        vertical-align: middle;\n",
       "    }\n",
       "\n",
       "    .dataframe tbody tr th {\n",
       "        vertical-align: top;\n",
       "    }\n",
       "\n",
       "    .dataframe thead th {\n",
       "        text-align: right;\n",
       "    }\n",
       "</style>\n",
       "<table border=\"1\" class=\"dataframe\">\n",
       "  <thead>\n",
       "    <tr style=\"text-align: right;\">\n",
       "      <th></th>\n",
       "      <th>Total</th>\n",
       "      <th>HP</th>\n",
       "      <th>Attack</th>\n",
       "    </tr>\n",
       "  </thead>\n",
       "  <tbody>\n",
       "    <tr>\n",
       "      <th>0</th>\n",
       "      <td>318.0</td>\n",
       "      <td>45.0</td>\n",
       "      <td>49.0</td>\n",
       "    </tr>\n",
       "    <tr>\n",
       "      <th>1</th>\n",
       "      <td>405.0</td>\n",
       "      <td>60.0</td>\n",
       "      <td>62.0</td>\n",
       "    </tr>\n",
       "    <tr>\n",
       "      <th>2</th>\n",
       "      <td>525.0</td>\n",
       "      <td>80.0</td>\n",
       "      <td>82.0</td>\n",
       "    </tr>\n",
       "    <tr>\n",
       "      <th>3</th>\n",
       "      <td>625.0</td>\n",
       "      <td>80.0</td>\n",
       "      <td>100.0</td>\n",
       "    </tr>\n",
       "    <tr>\n",
       "      <th>4</th>\n",
       "      <td>309.0</td>\n",
       "      <td>39.0</td>\n",
       "      <td>52.0</td>\n",
       "    </tr>\n",
       "    <tr>\n",
       "      <th>...</th>\n",
       "      <td>...</td>\n",
       "      <td>...</td>\n",
       "      <td>...</td>\n",
       "    </tr>\n",
       "    <tr>\n",
       "      <th>795</th>\n",
       "      <td>600.0</td>\n",
       "      <td>50.0</td>\n",
       "      <td>100.0</td>\n",
       "    </tr>\n",
       "    <tr>\n",
       "      <th>796</th>\n",
       "      <td>700.0</td>\n",
       "      <td>50.0</td>\n",
       "      <td>160.0</td>\n",
       "    </tr>\n",
       "    <tr>\n",
       "      <th>797</th>\n",
       "      <td>600.0</td>\n",
       "      <td>80.0</td>\n",
       "      <td>110.0</td>\n",
       "    </tr>\n",
       "    <tr>\n",
       "      <th>798</th>\n",
       "      <td>680.0</td>\n",
       "      <td>80.0</td>\n",
       "      <td>160.0</td>\n",
       "    </tr>\n",
       "    <tr>\n",
       "      <th>799</th>\n",
       "      <td>600.0</td>\n",
       "      <td>80.0</td>\n",
       "      <td>110.0</td>\n",
       "    </tr>\n",
       "  </tbody>\n",
       "</table>\n",
       "<p>800 rows × 3 columns</p>\n",
       "</div>"
      ],
      "text/plain": [
       "     Total    HP  Attack\n",
       "0    318.0  45.0    49.0\n",
       "1    405.0  60.0    62.0\n",
       "2    525.0  80.0    82.0\n",
       "3    625.0  80.0   100.0\n",
       "4    309.0  39.0    52.0\n",
       "..     ...   ...     ...\n",
       "795  600.0  50.0   100.0\n",
       "796  700.0  50.0   160.0\n",
       "797  600.0  80.0   110.0\n",
       "798  680.0  80.0   160.0\n",
       "799  600.0  80.0   110.0\n",
       "\n",
       "[800 rows x 3 columns]"
      ]
     },
     "execution_count": 15,
     "metadata": {},
     "output_type": "execute_result"
    }
   ],
   "source": [
    "bas.rolling_apply_data(data=pokemon_data,index_columns=[pokemon_columns[4],pokemon_columns[5],pokemon_columns[6]],window=1,func=lambda x:x.max())\n",
    "#pokemon_data[pokemon_columns[5]].rolling(window=1).max()"
   ]
  },
  {
   "cell_type": "code",
   "execution_count": null,
   "id": "fd1bed05",
   "metadata": {},
   "outputs": [],
   "source": []
  }
 ],
 "metadata": {
  "kernelspec": {
   "display_name": "Python 3",
   "language": "python",
   "name": "python3"
  },
  "language_info": {
   "codemirror_mode": {
    "name": "ipython",
    "version": 3
   },
   "file_extension": ".py",
   "mimetype": "text/x-python",
   "name": "python",
   "nbconvert_exporter": "python",
   "pygments_lexer": "ipython3",
   "version": "3.13.3"
  }
 },
 "nbformat": 4,
 "nbformat_minor": 5
}
