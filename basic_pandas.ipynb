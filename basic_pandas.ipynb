{
 "cells": [
  {
   "cell_type": "code",
   "execution_count": 375,
   "id": "f5d3e82c",
   "metadata": {},
   "outputs": [],
   "source": [
    "import pandas as pd\n",
    "import numpy as np"
   ]
  },
  {
   "cell_type": "markdown",
   "id": "cc85dfad",
   "metadata": {},
   "source": [
    "OPEN Data write to Pandas"
   ]
  },
  {
   "cell_type": "code",
   "execution_count": null,
   "id": "c1c01f1a",
   "metadata": {},
   "outputs": [
    {
     "data": {
      "application/vnd.microsoft.datawrangler.viewer.v0+json": {
       "columns": [
        {
         "name": "index",
         "rawType": "object",
         "type": "string"
        }
       ],
       "ref": "32210c4c-b58e-4726-bab4-eb6be1f87819",
       "rows": [
        [
         "cmake_minimum_required(VERSION 3.25)"
        ],
        [
         "#this change avoid the warning that appear when we include raylib using Cmake fatch content "
        ],
        [
         "project(raylib)"
        ],
        [
         "# Avoid excessive expansion of variables in conditionals. In particular, if"
        ]
       ],
       "shape": {
        "columns": 0,
        "rows": 4
       }
      },
      "text/html": [
       "<div>\n",
       "<style scoped>\n",
       "    .dataframe tbody tr th:only-of-type {\n",
       "        vertical-align: middle;\n",
       "    }\n",
       "\n",
       "    .dataframe tbody tr th {\n",
       "        vertical-align: top;\n",
       "    }\n",
       "\n",
       "    .dataframe thead th {\n",
       "        text-align: right;\n",
       "    }\n",
       "</style>\n",
       "<table border=\"1\" class=\"dataframe\">\n",
       "  <thead>\n",
       "    <tr style=\"text-align: right;\">\n",
       "      <th></th>\n",
       "    </tr>\n",
       "    <tr>\n",
       "      <th>0</th>\n",
       "    </tr>\n",
       "  </thead>\n",
       "  <tbody>\n",
       "    <tr>\n",
       "      <th>cmake_minimum_required(VERSION 3.25)</th>\n",
       "    </tr>\n",
       "    <tr>\n",
       "      <th>#this change avoid the warning that appear when we include raylib using Cmake fatch content</th>\n",
       "    </tr>\n",
       "    <tr>\n",
       "      <th>project(raylib)</th>\n",
       "    </tr>\n",
       "    <tr>\n",
       "      <th># Avoid excessive expansion of variables in conditionals. In particular, if</th>\n",
       "    </tr>\n",
       "  </tbody>\n",
       "</table>\n",
       "</div>"
      ],
      "text/plain": [
       "Empty DataFrame\n",
       "Columns: []\n",
       "Index: [cmake_minimum_required(VERSION 3.25), #this change avoid the warning that appear when we include raylib using Cmake fatch content , project(raylib), # Avoid excessive expansion of variables in conditionals. In particular, if]"
      ]
     },
     "execution_count": 376,
     "metadata": {},
     "output_type": "execute_result"
    }
   ],
   "source": [
    "read_cmakelists=pd.read_table(\"CMakeLists.txt\",usecols=[0],header=None,engine='python',index_col=0)  #CMakeLists.txt builds by cmake\n",
    "read_cmakelists.head(4)"
   ]
  },
  {
   "cell_type": "code",
   "execution_count": null,
   "id": "2fee4304",
   "metadata": {},
   "outputs": [
    {
     "data": {
      "application/vnd.microsoft.datawrangler.viewer.v0+json": {
       "columns": [
        {
         "name": "index",
         "rawType": "object",
         "type": "string"
        },
        {
         "name": "Week",
         "rawType": "object",
         "type": "string"
        },
        {
         "name": "Weather",
         "rawType": "object",
         "type": "string"
        },
        {
         "name": "Temperature",
         "rawType": "float64",
         "type": "float"
        }
       ],
       "ref": "e4743ff9-1579-4e05-89ed-f750a77aab23",
       "rows": [
        [
         "Day 1",
         "Monday",
         "accumulation",
         "13.4"
        ],
        [
         "Day 2",
         "Tuesday",
         "breeze",
         "13.96"
        ],
        [
         "Day 3",
         "Wednesday",
         "calm",
         "14.21"
        ],
        [
         "Day 4",
         "Thursday",
         "disturbance",
         "14.49"
        ],
        [
         "Day 5",
         "Friday",
         "drizzle",
         "15.25"
        ],
        [
         "Day 6",
         "Saturday",
         "sunny",
         "15.56"
        ],
        [
         "Day 7",
         "Sunday",
         "fair",
         "16.1"
        ],
        [
         "Day 8",
         "Monday",
         "cloudy",
         "16.5"
        ],
        [
         "Day 9",
         "Tuesday",
         "showers",
         "16.2"
        ],
        [
         "Day 10",
         "Wednesday",
         "rain",
         "15.8"
        ],
        [
         "Day 11",
         "Thursday",
         "downpour",
         "15.52"
        ],
        [
         "Day 12",
         "Friday",
         "hail",
         "15.12"
        ],
        [
         "Day 13",
         "Saturday",
         "sleet",
         "14.14"
        ],
        [
         "Day 14",
         "Sunday",
         "snow",
         "13.31"
        ],
        [
         "Day 15",
         "Monday",
         "snowflake",
         "12.11"
        ],
        [
         "Day 16",
         "Tuesday",
         "gloomy",
         "11.48"
        ],
        [
         "Day 17",
         "Wednesday",
         "foggy",
         "11.96"
        ],
        [
         "Day 18",
         "Thursday",
         "overcast",
         "12.24"
        ],
        [
         "Day 19",
         "Friday",
         "clear",
         "12.89"
        ],
        [
         "Day 20",
         "Saturday",
         "blustery",
         "13.56"
        ],
        [
         "Day 21",
         "Sunday",
         "windy",
         "14.83"
        ]
       ],
       "shape": {
        "columns": 3,
        "rows": 21
       }
      },
      "text/html": [
       "<div>\n",
       "<style scoped>\n",
       "    .dataframe tbody tr th:only-of-type {\n",
       "        vertical-align: middle;\n",
       "    }\n",
       "\n",
       "    .dataframe tbody tr th {\n",
       "        vertical-align: top;\n",
       "    }\n",
       "\n",
       "    .dataframe thead th {\n",
       "        text-align: right;\n",
       "    }\n",
       "</style>\n",
       "<table border=\"1\" class=\"dataframe\">\n",
       "  <thead>\n",
       "    <tr style=\"text-align: right;\">\n",
       "      <th></th>\n",
       "      <th>Week</th>\n",
       "      <th>Weather</th>\n",
       "      <th>Temperature</th>\n",
       "    </tr>\n",
       "  </thead>\n",
       "  <tbody>\n",
       "    <tr>\n",
       "      <th>Day 1</th>\n",
       "      <td>Monday</td>\n",
       "      <td>accumulation</td>\n",
       "      <td>13.40</td>\n",
       "    </tr>\n",
       "    <tr>\n",
       "      <th>Day 2</th>\n",
       "      <td>Tuesday</td>\n",
       "      <td>breeze</td>\n",
       "      <td>13.96</td>\n",
       "    </tr>\n",
       "    <tr>\n",
       "      <th>Day 3</th>\n",
       "      <td>Wednesday</td>\n",
       "      <td>calm</td>\n",
       "      <td>14.21</td>\n",
       "    </tr>\n",
       "    <tr>\n",
       "      <th>Day 4</th>\n",
       "      <td>Thursday</td>\n",
       "      <td>disturbance</td>\n",
       "      <td>14.49</td>\n",
       "    </tr>\n",
       "    <tr>\n",
       "      <th>Day 5</th>\n",
       "      <td>Friday</td>\n",
       "      <td>drizzle</td>\n",
       "      <td>15.25</td>\n",
       "    </tr>\n",
       "    <tr>\n",
       "      <th>Day 6</th>\n",
       "      <td>Saturday</td>\n",
       "      <td>sunny</td>\n",
       "      <td>15.56</td>\n",
       "    </tr>\n",
       "    <tr>\n",
       "      <th>Day 7</th>\n",
       "      <td>Sunday</td>\n",
       "      <td>fair</td>\n",
       "      <td>16.10</td>\n",
       "    </tr>\n",
       "    <tr>\n",
       "      <th>Day 8</th>\n",
       "      <td>Monday</td>\n",
       "      <td>cloudy</td>\n",
       "      <td>16.50</td>\n",
       "    </tr>\n",
       "    <tr>\n",
       "      <th>Day 9</th>\n",
       "      <td>Tuesday</td>\n",
       "      <td>showers</td>\n",
       "      <td>16.20</td>\n",
       "    </tr>\n",
       "    <tr>\n",
       "      <th>Day 10</th>\n",
       "      <td>Wednesday</td>\n",
       "      <td>rain</td>\n",
       "      <td>15.80</td>\n",
       "    </tr>\n",
       "    <tr>\n",
       "      <th>Day 11</th>\n",
       "      <td>Thursday</td>\n",
       "      <td>downpour</td>\n",
       "      <td>15.52</td>\n",
       "    </tr>\n",
       "    <tr>\n",
       "      <th>Day 12</th>\n",
       "      <td>Friday</td>\n",
       "      <td>hail</td>\n",
       "      <td>15.12</td>\n",
       "    </tr>\n",
       "    <tr>\n",
       "      <th>Day 13</th>\n",
       "      <td>Saturday</td>\n",
       "      <td>sleet</td>\n",
       "      <td>14.14</td>\n",
       "    </tr>\n",
       "    <tr>\n",
       "      <th>Day 14</th>\n",
       "      <td>Sunday</td>\n",
       "      <td>snow</td>\n",
       "      <td>13.31</td>\n",
       "    </tr>\n",
       "    <tr>\n",
       "      <th>Day 15</th>\n",
       "      <td>Monday</td>\n",
       "      <td>snowflake</td>\n",
       "      <td>12.11</td>\n",
       "    </tr>\n",
       "    <tr>\n",
       "      <th>Day 16</th>\n",
       "      <td>Tuesday</td>\n",
       "      <td>gloomy</td>\n",
       "      <td>11.48</td>\n",
       "    </tr>\n",
       "    <tr>\n",
       "      <th>Day 17</th>\n",
       "      <td>Wednesday</td>\n",
       "      <td>foggy</td>\n",
       "      <td>11.96</td>\n",
       "    </tr>\n",
       "    <tr>\n",
       "      <th>Day 18</th>\n",
       "      <td>Thursday</td>\n",
       "      <td>overcast</td>\n",
       "      <td>12.24</td>\n",
       "    </tr>\n",
       "    <tr>\n",
       "      <th>Day 19</th>\n",
       "      <td>Friday</td>\n",
       "      <td>clear</td>\n",
       "      <td>12.89</td>\n",
       "    </tr>\n",
       "    <tr>\n",
       "      <th>Day 20</th>\n",
       "      <td>Saturday</td>\n",
       "      <td>blustery</td>\n",
       "      <td>13.56</td>\n",
       "    </tr>\n",
       "    <tr>\n",
       "      <th>Day 21</th>\n",
       "      <td>Sunday</td>\n",
       "      <td>windy</td>\n",
       "      <td>14.83</td>\n",
       "    </tr>\n",
       "  </tbody>\n",
       "</table>\n",
       "</div>"
      ],
      "text/plain": [
       "             Week       Weather  Temperature\n",
       "Day 1      Monday  accumulation        13.40\n",
       "Day 2     Tuesday        breeze        13.96\n",
       "Day 3   Wednesday          calm        14.21\n",
       "Day 4    Thursday   disturbance        14.49\n",
       "Day 5      Friday       drizzle        15.25\n",
       "Day 6    Saturday         sunny        15.56\n",
       "Day 7      Sunday          fair        16.10\n",
       "Day 8      Monday        cloudy        16.50\n",
       "Day 9     Tuesday       showers        16.20\n",
       "Day 10  Wednesday          rain        15.80\n",
       "Day 11   Thursday      downpour        15.52\n",
       "Day 12     Friday          hail        15.12\n",
       "Day 13   Saturday         sleet        14.14\n",
       "Day 14     Sunday          snow        13.31\n",
       "Day 15     Monday     snowflake        12.11\n",
       "Day 16    Tuesday        gloomy        11.48\n",
       "Day 17  Wednesday         foggy        11.96\n",
       "Day 18   Thursday      overcast        12.24\n",
       "Day 19     Friday         clear        12.89\n",
       "Day 20   Saturday      blustery        13.56\n",
       "Day 21     Sunday         windy        14.83"
      ]
     },
     "execution_count": 377,
     "metadata": {},
     "output_type": "execute_result"
    }
   ],
   "source": [
    "\n",
    "read_land=pd.read_csv('lands.csv',index_col=0) \n",
    "read_land\n",
    "\n"
   ]
  },
  {
   "cell_type": "code",
   "execution_count": 378,
   "id": "179f8d86",
   "metadata": {},
   "outputs": [
    {
     "data": {
      "application/vnd.microsoft.datawrangler.viewer.v0+json": {
       "columns": [
        {
         "name": "State Agency or Indian Tribal Organization",
         "rawType": "object",
         "type": "string"
        },
        {
         "name": "Cumulative Cost:\r\n October-September",
         "rawType": "float64",
         "type": "float"
        }
       ],
       "ref": "b5572525-270c-43d6-8fa2-4f2d711f186b",
       "rows": [
        [
         "Connecticut",
         "12113786.0"
        ],
        [
         "Maine",
         "5095547.0"
        ],
        [
         "Massachusetts",
         "24672286.0"
        ],
        [
         "New Hampshire",
         "4033109.0"
        ],
        [
         "New York",
         "108621754.0"
        ],
        [
         "Rhode Island",
         "5876413.0"
        ],
        [
         "Vermont",
         "4175866.0"
        ],
        [
         "Indian Township, ME",
         "37269.0"
        ],
        [
         "Pleasant Point, ME",
         "35018.0"
        ],
        [
         "Seneca Nation, NY",
         "55024.0"
        ],
        [
         "Delaware",
         "4582581.0"
        ],
        [
         "District of Columbia",
         "5123352.0"
        ],
        [
         "Maryland",
         "30151699.0"
        ],
        [
         "New Jersey",
         "30850575.0"
        ],
        [
         "Pennsylvania",
         "57166396.0"
        ],
        [
         "Puerto Rico",
         "42304231.0"
        ],
        [
         "Virginia",
         "33808792.0"
        ],
        [
         "Virgin Islands",
         "1990993.0"
        ],
        [
         "West Virginia",
         "11347056.0"
        ],
        [
         "Alabama",
         "31083991.0"
        ],
        [
         "Florida",
         "96090643.0"
        ],
        [
         "Georgia",
         "69442596.0"
        ],
        [
         "Kentucky",
         "33933092.0"
        ],
        [
         "Mississippi",
         "20285815.0"
        ],
        [
         "North Carolina",
         "57148056.0"
        ],
        [
         "South Carolina",
         "25584384.0"
        ],
        [
         "Tennessee",
         "39832380.0"
        ],
        [
         "Choctaw Indians, MS",
         "404038.0"
        ],
        [
         "Eastern Cherokee, NC",
         "371791.0"
        ],
        [
         "Illinois",
         "53761574.0"
        ],
        [
         "Indiana",
         "30152917.0"
        ],
        [
         "Michigan",
         "56524342.0"
        ],
        [
         "Minnesota",
         "30353785.0"
        ],
        [
         "Ohio",
         "51227090.0"
        ],
        [
         "Wisconsin",
         "28108360.0"
        ],
        [
         "Arkansas",
         "18755925.0"
        ],
        [
         "Louisiana",
         "29513281.0"
        ],
        [
         "New Mexico",
         "13158757.0"
        ],
        [
         "Oklahoma",
         "20599360.0"
        ],
        [
         "Texas",
         null
        ],
        [
         "Texas",
         "178674130.0"
        ],
        [
         "Acoma, Canoncito & Laguna, NM",
         "200412.0"
        ],
        [
         "Eight Northern Pueblos, NM",
         "168935.0"
        ],
        [
         "Five Sandoval Pueblos, NM",
         "192723.0"
        ],
        [
         "Isleta Pueblo, NM",
         "319088.0"
        ],
        [
         "San Felipe Pueblo, NM",
         "202192.0"
        ],
        [
         "Santo Domingo Tribe, NM",
         "100159.0"
        ],
        [
         "Zuni Pueblo, NM",
         "233917.0"
        ],
        [
         "Cherokee Nation, OK",
         "2236757.0"
        ],
        [
         "Chickasaw Nation, OK",
         "2166361.0"
        ]
       ],
       "shape": {
        "columns": 1,
        "rows": 92
       }
      },
      "text/html": [
       "<div>\n",
       "<style scoped>\n",
       "    .dataframe tbody tr th:only-of-type {\n",
       "        vertical-align: middle;\n",
       "    }\n",
       "\n",
       "    .dataframe tbody tr th {\n",
       "        vertical-align: top;\n",
       "    }\n",
       "\n",
       "    .dataframe thead th {\n",
       "        text-align: right;\n",
       "    }\n",
       "</style>\n",
       "<table border=\"1\" class=\"dataframe\">\n",
       "  <thead>\n",
       "    <tr style=\"text-align: right;\">\n",
       "      <th></th>\n",
       "      <th>Cumulative Cost:\\r\\n October-September</th>\n",
       "    </tr>\n",
       "    <tr>\n",
       "      <th>State Agency or Indian Tribal Organization</th>\n",
       "      <th></th>\n",
       "    </tr>\n",
       "  </thead>\n",
       "  <tbody>\n",
       "    <tr>\n",
       "      <th>Connecticut</th>\n",
       "      <td>12113786.0</td>\n",
       "    </tr>\n",
       "    <tr>\n",
       "      <th>Maine</th>\n",
       "      <td>5095547.0</td>\n",
       "    </tr>\n",
       "    <tr>\n",
       "      <th>Massachusetts</th>\n",
       "      <td>24672286.0</td>\n",
       "    </tr>\n",
       "    <tr>\n",
       "      <th>New Hampshire</th>\n",
       "      <td>4033109.0</td>\n",
       "    </tr>\n",
       "    <tr>\n",
       "      <th>New York</th>\n",
       "      <td>108621754.0</td>\n",
       "    </tr>\n",
       "    <tr>\n",
       "      <th>...</th>\n",
       "      <td>...</td>\n",
       "    </tr>\n",
       "    <tr>\n",
       "      <th>Washington</th>\n",
       "      <td>50671500.0</td>\n",
       "    </tr>\n",
       "    <tr>\n",
       "      <th>Northern Marianas</th>\n",
       "      <td>1184670.0</td>\n",
       "    </tr>\n",
       "    <tr>\n",
       "      <th>Inter-Tribal Council, AZ</th>\n",
       "      <td>3188297.0</td>\n",
       "    </tr>\n",
       "    <tr>\n",
       "      <th>Navajo Nation, AZ</th>\n",
       "      <td>3291062.0</td>\n",
       "    </tr>\n",
       "    <tr>\n",
       "      <th>Inter-Tribal Council, NV</th>\n",
       "      <td>609464.0</td>\n",
       "    </tr>\n",
       "  </tbody>\n",
       "</table>\n",
       "<p>92 rows × 1 columns</p>\n",
       "</div>"
      ],
      "text/plain": [
       "                                            Cumulative Cost:\\r\\n October-September\n",
       "State Agency or Indian Tribal Organization                                        \n",
       "Connecticut                                                             12113786.0\n",
       "Maine                                                                    5095547.0\n",
       "Massachusetts                                                           24672286.0\n",
       "New Hampshire                                                            4033109.0\n",
       "New York                                                               108621754.0\n",
       "...                                                                            ...\n",
       "Washington                                                              50671500.0\n",
       "Northern Marianas                                                        1184670.0\n",
       "Inter-Tribal Council, AZ                                                 3188297.0\n",
       "Navajo Nation, AZ                                                        3291062.0\n",
       "Inter-Tribal Council, NV                                                  609464.0\n",
       "\n",
       "[92 rows x 1 columns]"
      ]
     },
     "execution_count": 378,
     "metadata": {},
     "output_type": "execute_result"
    }
   ],
   "source": [
    "\n",
    "read_nut=pd.read_csv(\"Nut_Services_Admin_Costs.csv\",index_col=0)\n",
    "read_nut\n",
    "\n"
   ]
  },
  {
   "cell_type": "code",
   "execution_count": 379,
   "id": "e8888d4b",
   "metadata": {},
   "outputs": [
    {
     "data": {
      "application/vnd.microsoft.datawrangler.viewer.v0+json": {
       "columns": [
        {
         "name": "index",
         "rawType": "int64",
         "type": "integer"
        },
        {
         "name": "id",
         "rawType": "object",
         "type": "string"
        },
        {
         "name": "rated",
         "rawType": "bool",
         "type": "boolean"
        },
        {
         "name": "created_at",
         "rawType": "int64",
         "type": "integer"
        },
        {
         "name": "last_move_at",
         "rawType": "int64",
         "type": "integer"
        },
        {
         "name": "turns",
         "rawType": "int64",
         "type": "integer"
        },
        {
         "name": "victory_status",
         "rawType": "object",
         "type": "string"
        },
        {
         "name": "winner",
         "rawType": "object",
         "type": "string"
        },
        {
         "name": "increment_code",
         "rawType": "object",
         "type": "string"
        },
        {
         "name": "white_id",
         "rawType": "object",
         "type": "string"
        },
        {
         "name": "white_rating",
         "rawType": "int64",
         "type": "integer"
        },
        {
         "name": "black_id",
         "rawType": "object",
         "type": "string"
        },
        {
         "name": "black_rating",
         "rawType": "int64",
         "type": "integer"
        },
        {
         "name": "moves",
         "rawType": "object",
         "type": "string"
        },
        {
         "name": "opening_eco",
         "rawType": "object",
         "type": "string"
        },
        {
         "name": "opening_name",
         "rawType": "object",
         "type": "string"
        },
        {
         "name": "opening_ply",
         "rawType": "int64",
         "type": "integer"
        }
       ],
       "ref": "1a97b6ef-c8f0-4e11-8647-ca776ebc609a",
       "rows": [
        [
         "0",
         "TZJHLljE",
         "False",
         "1504210000000",
         "1504210000000",
         "13",
         "outoftime",
         "white",
         "15+2",
         "bourgris",
         "1500",
         "a-00",
         "1191",
         "d4 d5 c4 c6 cxd5 e6 dxe6 fxe6 Nf3 Bb4+ Nc3 Ba5 Bf4",
         "D10",
         "Slav Defense: Exchange Variation",
         "5"
        ],
        [
         "1",
         "l1NXvwaE",
         "True",
         "1504130000000",
         "1504130000000",
         "16",
         "resign",
         "black",
         "5+10",
         "a-00",
         "1322",
         "skinnerua",
         "1261",
         "d4 Nc6 e4 e5 f4 f6 dxe5 fxe5 fxe5 Nxe5 Qd4 Nc6 Qe5+ Nxe5 c4 Bb4+",
         "B00",
         "Nimzowitsch Defense: Kennedy Variation",
         "4"
        ],
        [
         "2",
         "mIICvQHh",
         "True",
         "1504130000000",
         "1504130000000",
         "61",
         "mate",
         "white",
         "5+10",
         "ischia",
         "1496",
         "a-00",
         "1500",
         "e4 e5 d3 d6 Be3 c6 Be2 b5 Nd2 a5 a4 c5 axb5 Nc6 bxc6 Ra6 Nc4 a4 c3 a3 Nxa3 Rxa3 Rxa3 c4 dxc4 d5 cxd5 Qxd5 exd5 Be6 Ra8+ Ke7 Bc5+ Kf6 Bxf8 Kg6 Bxg7 Kxg7 dxe6 Kh6 exf7 Nf6 Rxh8 Nh5 Bxh5 Kg5 Rxh7 Kf5 Qf3+ Ke6 Bg4+ Kd6 Rh6+ Kc5 Qe3+ Kb5 c4+ Kb4 Qc3+ Ka4 Bd1#",
         "C20",
         "King's Pawn Game: Leonardis Variation",
         "3"
        ],
        [
         "3",
         "kWKvrqYL",
         "True",
         "1504110000000",
         "1504110000000",
         "61",
         "mate",
         "white",
         "20+0",
         "daniamurashov",
         "1439",
         "adivanov2009",
         "1454",
         "d4 d5 Nf3 Bf5 Nc3 Nf6 Bf4 Ng4 e3 Nc6 Be2 Qd7 O-O O-O-O Nb5 Nb4 Rc1 Nxa2 Ra1 Nb4 Nxa7+ Kb8 Nb5 Bxc2 Bxc7+ Kc8 Qd2 Qc6 Na7+ Kd7 Nxc6 bxc6 Bxd8 Kxd8 Qxb4 e5 Qb8+ Ke7 dxe5 Be4 Ra7+ Ke6 Qe8+ Kf5 Qxf7+ Nf6 Nh4+ Kg5 g3 Ng4 Qf4+ Kh5 Qxg4+ Kh6 Qf4+ g5 Qf6+ Bg6 Nxg6 Bg7 Qxg7#",
         "D02",
         "Queen's Pawn Game: Zukertort Variation",
         "3"
        ],
        [
         "4",
         "9tXo1AUZ",
         "True",
         "1504030000000",
         "1504030000000",
         "95",
         "mate",
         "white",
         "30+3",
         "nik221107",
         "1523",
         "adivanov2009",
         "1469",
         "e4 e5 Nf3 d6 d4 Nc6 d5 Nb4 a3 Na6 Nc3 Be7 b4 Nf6 Bg5 O-O b5 Nc5 Bxf6 Bxf6 Bd3 Qd7 O-O Nxd3 Qxd3 c6 a4 cxd5 Nxd5 Qe6 Nc7 Qg4 Nxa8 Bd7 Nc7 Rc8 Nd5 Qg6 Nxf6+ Qxf6 Rfd1 Re8 Qxd6 Bg4 Qxf6 gxf6 Rd3 Bxf3 Rxf3 Rd8 Rxf6 Kg7 Rf3 Rd2 Rg3+ Kf8 c3 Re2 f3 Rc2 Rg5 f6 Rh5 Kg7 Rd1 Kg6 Rh3 Rxc3 Rd7 Rc1+ Kf2 Rc2+ Kg3 h5 Rxb7 Kg5 Rxa7 h4+ Rxh4 Rxg2+ Kxg2 Kxh4 b6 Kg5 b7 f5 exf5 Kxf5 b8=Q e4 Rf7+ Kg5 Qg8+ Kh6 Rh7#",
         "C41",
         "Philidor Defense",
         "5"
        ]
       ],
       "shape": {
        "columns": 16,
        "rows": 5
       }
      },
      "text/html": [
       "<div>\n",
       "<style scoped>\n",
       "    .dataframe tbody tr th:only-of-type {\n",
       "        vertical-align: middle;\n",
       "    }\n",
       "\n",
       "    .dataframe tbody tr th {\n",
       "        vertical-align: top;\n",
       "    }\n",
       "\n",
       "    .dataframe thead th {\n",
       "        text-align: right;\n",
       "    }\n",
       "</style>\n",
       "<table border=\"1\" class=\"dataframe\">\n",
       "  <thead>\n",
       "    <tr style=\"text-align: right;\">\n",
       "      <th></th>\n",
       "      <th>id</th>\n",
       "      <th>rated</th>\n",
       "      <th>created_at</th>\n",
       "      <th>last_move_at</th>\n",
       "      <th>turns</th>\n",
       "      <th>victory_status</th>\n",
       "      <th>winner</th>\n",
       "      <th>increment_code</th>\n",
       "      <th>white_id</th>\n",
       "      <th>white_rating</th>\n",
       "      <th>black_id</th>\n",
       "      <th>black_rating</th>\n",
       "      <th>moves</th>\n",
       "      <th>opening_eco</th>\n",
       "      <th>opening_name</th>\n",
       "      <th>opening_ply</th>\n",
       "    </tr>\n",
       "  </thead>\n",
       "  <tbody>\n",
       "    <tr>\n",
       "      <th>0</th>\n",
       "      <td>TZJHLljE</td>\n",
       "      <td>False</td>\n",
       "      <td>1504210000000</td>\n",
       "      <td>1504210000000</td>\n",
       "      <td>13</td>\n",
       "      <td>outoftime</td>\n",
       "      <td>white</td>\n",
       "      <td>15+2</td>\n",
       "      <td>bourgris</td>\n",
       "      <td>1500</td>\n",
       "      <td>a-00</td>\n",
       "      <td>1191</td>\n",
       "      <td>d4 d5 c4 c6 cxd5 e6 dxe6 fxe6 Nf3 Bb4+ Nc3 Ba5...</td>\n",
       "      <td>D10</td>\n",
       "      <td>Slav Defense: Exchange Variation</td>\n",
       "      <td>5</td>\n",
       "    </tr>\n",
       "    <tr>\n",
       "      <th>1</th>\n",
       "      <td>l1NXvwaE</td>\n",
       "      <td>True</td>\n",
       "      <td>1504130000000</td>\n",
       "      <td>1504130000000</td>\n",
       "      <td>16</td>\n",
       "      <td>resign</td>\n",
       "      <td>black</td>\n",
       "      <td>5+10</td>\n",
       "      <td>a-00</td>\n",
       "      <td>1322</td>\n",
       "      <td>skinnerua</td>\n",
       "      <td>1261</td>\n",
       "      <td>d4 Nc6 e4 e5 f4 f6 dxe5 fxe5 fxe5 Nxe5 Qd4 Nc6...</td>\n",
       "      <td>B00</td>\n",
       "      <td>Nimzowitsch Defense: Kennedy Variation</td>\n",
       "      <td>4</td>\n",
       "    </tr>\n",
       "    <tr>\n",
       "      <th>2</th>\n",
       "      <td>mIICvQHh</td>\n",
       "      <td>True</td>\n",
       "      <td>1504130000000</td>\n",
       "      <td>1504130000000</td>\n",
       "      <td>61</td>\n",
       "      <td>mate</td>\n",
       "      <td>white</td>\n",
       "      <td>5+10</td>\n",
       "      <td>ischia</td>\n",
       "      <td>1496</td>\n",
       "      <td>a-00</td>\n",
       "      <td>1500</td>\n",
       "      <td>e4 e5 d3 d6 Be3 c6 Be2 b5 Nd2 a5 a4 c5 axb5 Nc...</td>\n",
       "      <td>C20</td>\n",
       "      <td>King's Pawn Game: Leonardis Variation</td>\n",
       "      <td>3</td>\n",
       "    </tr>\n",
       "    <tr>\n",
       "      <th>3</th>\n",
       "      <td>kWKvrqYL</td>\n",
       "      <td>True</td>\n",
       "      <td>1504110000000</td>\n",
       "      <td>1504110000000</td>\n",
       "      <td>61</td>\n",
       "      <td>mate</td>\n",
       "      <td>white</td>\n",
       "      <td>20+0</td>\n",
       "      <td>daniamurashov</td>\n",
       "      <td>1439</td>\n",
       "      <td>adivanov2009</td>\n",
       "      <td>1454</td>\n",
       "      <td>d4 d5 Nf3 Bf5 Nc3 Nf6 Bf4 Ng4 e3 Nc6 Be2 Qd7 O...</td>\n",
       "      <td>D02</td>\n",
       "      <td>Queen's Pawn Game: Zukertort Variation</td>\n",
       "      <td>3</td>\n",
       "    </tr>\n",
       "    <tr>\n",
       "      <th>4</th>\n",
       "      <td>9tXo1AUZ</td>\n",
       "      <td>True</td>\n",
       "      <td>1504030000000</td>\n",
       "      <td>1504030000000</td>\n",
       "      <td>95</td>\n",
       "      <td>mate</td>\n",
       "      <td>white</td>\n",
       "      <td>30+3</td>\n",
       "      <td>nik221107</td>\n",
       "      <td>1523</td>\n",
       "      <td>adivanov2009</td>\n",
       "      <td>1469</td>\n",
       "      <td>e4 e5 Nf3 d6 d4 Nc6 d5 Nb4 a3 Na6 Nc3 Be7 b4 N...</td>\n",
       "      <td>C41</td>\n",
       "      <td>Philidor Defense</td>\n",
       "      <td>5</td>\n",
       "    </tr>\n",
       "  </tbody>\n",
       "</table>\n",
       "</div>"
      ],
      "text/plain": [
       "         id  rated     created_at   last_move_at  turns victory_status winner  \\\n",
       "0  TZJHLljE  False  1504210000000  1504210000000     13      outoftime  white   \n",
       "1  l1NXvwaE   True  1504130000000  1504130000000     16         resign  black   \n",
       "2  mIICvQHh   True  1504130000000  1504130000000     61           mate  white   \n",
       "3  kWKvrqYL   True  1504110000000  1504110000000     61           mate  white   \n",
       "4  9tXo1AUZ   True  1504030000000  1504030000000     95           mate  white   \n",
       "\n",
       "  increment_code       white_id  white_rating      black_id  black_rating  \\\n",
       "0           15+2       bourgris          1500          a-00          1191   \n",
       "1           5+10           a-00          1322     skinnerua          1261   \n",
       "2           5+10         ischia          1496          a-00          1500   \n",
       "3           20+0  daniamurashov          1439  adivanov2009          1454   \n",
       "4           30+3      nik221107          1523  adivanov2009          1469   \n",
       "\n",
       "                                               moves opening_eco  \\\n",
       "0  d4 d5 c4 c6 cxd5 e6 dxe6 fxe6 Nf3 Bb4+ Nc3 Ba5...         D10   \n",
       "1  d4 Nc6 e4 e5 f4 f6 dxe5 fxe5 fxe5 Nxe5 Qd4 Nc6...         B00   \n",
       "2  e4 e5 d3 d6 Be3 c6 Be2 b5 Nd2 a5 a4 c5 axb5 Nc...         C20   \n",
       "3  d4 d5 Nf3 Bf5 Nc3 Nf6 Bf4 Ng4 e3 Nc6 Be2 Qd7 O...         D02   \n",
       "4  e4 e5 Nf3 d6 d4 Nc6 d5 Nb4 a3 Na6 Nc3 Be7 b4 N...         C41   \n",
       "\n",
       "                             opening_name  opening_ply  \n",
       "0        Slav Defense: Exchange Variation            5  \n",
       "1  Nimzowitsch Defense: Kennedy Variation            4  \n",
       "2   King's Pawn Game: Leonardis Variation            3  \n",
       "3  Queen's Pawn Game: Zukertort Variation            3  \n",
       "4                        Philidor Defense            5  "
      ]
     },
     "execution_count": 379,
     "metadata": {},
     "output_type": "execute_result"
    }
   ],
   "source": [
    "read_xlsx=pd.read_excel(\"chess_data.xlsx\",nrows=5)\n",
    "read_xlsx.head()"
   ]
  },
  {
   "cell_type": "code",
   "execution_count": 380,
   "id": "60abe16e",
   "metadata": {},
   "outputs": [],
   "source": [
    "read_nut.to_csv(\"nut_sales.txt\",sep='\\t',index=True)"
   ]
  },
  {
   "cell_type": "code",
   "execution_count": null,
   "id": "cb1c4013",
   "metadata": {},
   "outputs": [
    {
     "data": {
      "text/plain": [
       "pandas.core.frame.DataFrame"
      ]
     },
     "execution_count": 381,
     "metadata": {},
     "output_type": "execute_result"
    }
   ],
   "source": [
    "\n",
    "type(read_land)\n"
   ]
  },
  {
   "cell_type": "code",
   "execution_count": null,
   "id": "36aa1566",
   "metadata": {},
   "outputs": [
    {
     "data": {
      "text/plain": [
       "['Week', 'Weather', 'Temperature']"
      ]
     },
     "execution_count": 382,
     "metadata": {},
     "output_type": "execute_result"
    }
   ],
   "source": [
    "def  data_colunm_get(iter:pd.DataFrame):   #get any dataframe columns for any data\n",
    " data_row=[]\n",
    " for i in iter:\n",
    "   data_row.append(i)\n",
    " return data_row\n",
    "\n",
    "magic_land_colums=data_colunm_get(iter=read_land)\n",
    "magic_land_colums"
   ]
  },
  {
   "cell_type": "code",
   "execution_count": null,
   "id": "d7637b91",
   "metadata": {},
   "outputs": [
    {
     "data": {
      "text/plain": [
       "'Week'"
      ]
     },
     "execution_count": 383,
     "metadata": {},
     "output_type": "execute_result"
    }
   ],
   "source": [
    "\n",
    "magic_land_colums[0]  #get magic_land_columns[0] index"
   ]
  },
  {
   "cell_type": "code",
   "execution_count": null,
   "id": "6ab93bf8",
   "metadata": {},
   "outputs": [
    {
     "data": {
      "application/vnd.microsoft.datawrangler.viewer.v0+json": {
       "columns": [
        {
         "name": "index",
         "rawType": "object",
         "type": "string"
        },
        {
         "name": "Week",
         "rawType": "object",
         "type": "string"
        }
       ],
       "ref": "db646d65-a9fa-4edd-953f-862b823690b2",
       "rows": [
        [
         "Day 1",
         "Monday"
        ],
        [
         "Day 2",
         "Tuesday"
        ],
        [
         "Day 3",
         "Wednesday"
        ],
        [
         "Day 4",
         "Thursday"
        ],
        [
         "Day 5",
         "Friday"
        ],
        [
         "Day 6",
         "Saturday"
        ],
        [
         "Day 7",
         "Sunday"
        ],
        [
         "Day 8",
         "Monday"
        ],
        [
         "Day 9",
         "Tuesday"
        ],
        [
         "Day 10",
         "Wednesday"
        ],
        [
         "Day 11",
         "Thursday"
        ],
        [
         "Day 12",
         "Friday"
        ],
        [
         "Day 13",
         "Saturday"
        ],
        [
         "Day 14",
         "Sunday"
        ],
        [
         "Day 15",
         "Monday"
        ],
        [
         "Day 16",
         "Tuesday"
        ],
        [
         "Day 17",
         "Wednesday"
        ],
        [
         "Day 18",
         "Thursday"
        ],
        [
         "Day 19",
         "Friday"
        ],
        [
         "Day 20",
         "Saturday"
        ],
        [
         "Day 21",
         "Sunday"
        ]
       ],
       "shape": {
        "columns": 1,
        "rows": 21
       }
      },
      "text/plain": [
       "Day 1        Monday\n",
       "Day 2       Tuesday\n",
       "Day 3     Wednesday\n",
       "Day 4      Thursday\n",
       "Day 5        Friday\n",
       "Day 6      Saturday\n",
       "Day 7        Sunday\n",
       "Day 8        Monday\n",
       "Day 9       Tuesday\n",
       "Day 10    Wednesday\n",
       "Day 11     Thursday\n",
       "Day 12       Friday\n",
       "Day 13     Saturday\n",
       "Day 14       Sunday\n",
       "Day 15       Monday\n",
       "Day 16      Tuesday\n",
       "Day 17    Wednesday\n",
       "Day 18     Thursday\n",
       "Day 19       Friday\n",
       "Day 20     Saturday\n",
       "Day 21       Sunday\n",
       "Name: Week, dtype: object"
      ]
     },
     "execution_count": 416,
     "metadata": {},
     "output_type": "execute_result"
    }
   ],
   "source": [
    "Week=read_land.loc[:,'Week']    #get the magic land all week\n",
    "WEEK=pd.Series(data=Week,index=[\"Day %d\"% (i+1) for i in range(0,21)],dtype=object,name=\"Week\") #see the day-week reference \n",
    "WEEK\n",
    "\n"
   ]
  },
  {
   "cell_type": "code",
   "execution_count": null,
   "id": "d8e38124",
   "metadata": {},
   "outputs": [
    {
     "data": {
      "text/plain": [
       "array(['Monday', 'Tuesday', 'Wednesday', 'Thursday', 'Friday', 'Saturday',\n",
       "       'Sunday', 'Monday', 'Tuesday', 'Wednesday', 'Thursday', 'Friday',\n",
       "       'Saturday', 'Sunday', 'Monday', 'Tuesday', 'Wednesday', 'Thursday',\n",
       "       'Friday', 'Saturday', 'Sunday'], dtype=object)"
      ]
     },
     "execution_count": 385,
     "metadata": {},
     "output_type": "execute_result"
    }
   ],
   "source": [
    "magic_land_value=WEEK.values   #get magic land all week index data\n",
    "magic_land_value"
   ]
  },
  {
   "cell_type": "code",
   "execution_count": null,
   "id": "9256be99",
   "metadata": {},
   "outputs": [
    {
     "data": {
      "text/plain": [
       "Index(['Day 1', 'Day 2', 'Day 3', 'Day 4', 'Day 5', 'Day 6', 'Day 7', 'Day 8',\n",
       "       'Day 9', 'Day 10', 'Day 11', 'Day 12', 'Day 13', 'Day 14', 'Day 15',\n",
       "       'Day 16', 'Day 17', 'Day 18', 'Day 19', 'Day 20', 'Day 21'],\n",
       "      dtype='object')"
      ]
     },
     "execution_count": 386,
     "metadata": {},
     "output_type": "execute_result"
    }
   ],
   "source": [
    "magic_land_index=WEEK.index  #get magic land all day index data\n",
    "magic_land_index\n"
   ]
  },
  {
   "cell_type": "code",
   "execution_count": 387,
   "id": "2e37df75",
   "metadata": {},
   "outputs": [
    {
     "data": {
      "text/plain": [
       "dtype('O')"
      ]
     },
     "execution_count": 387,
     "metadata": {},
     "output_type": "execute_result"
    }
   ],
   "source": [
    "magic_land_datatype=WEEK.dtype\n",
    "magic_land_datatype"
   ]
  },
  {
   "cell_type": "code",
   "execution_count": 388,
   "id": "aab4afee",
   "metadata": {},
   "outputs": [
    {
     "data": {
      "text/plain": [
       "'Week'"
      ]
     },
     "execution_count": 388,
     "metadata": {},
     "output_type": "execute_result"
    }
   ],
   "source": [
    "magic_land_name=WEEK.name\n",
    "magic_land_name"
   ]
  },
  {
   "cell_type": "code",
   "execution_count": 389,
   "id": "02bd0d5c",
   "metadata": {},
   "outputs": [
    {
     "data": {
      "text/plain": [
       "(21,)"
      ]
     },
     "execution_count": 389,
     "metadata": {},
     "output_type": "execute_result"
    }
   ],
   "source": [
    "magic_land_shape=WEEK.shape\n",
    "magic_land_shape"
   ]
  },
  {
   "cell_type": "code",
   "execution_count": null,
   "id": "385c6498",
   "metadata": {},
   "outputs": [
    {
     "data": {
      "text/plain": [
       "'Monday'"
      ]
     },
     "execution_count": 390,
     "metadata": {},
     "output_type": "execute_result"
    }
   ],
   "source": [
    "WEEK[magic_land_index.tolist()[0]]   "
   ]
  },
  {
   "cell_type": "code",
   "execution_count": 391,
   "id": "7eff8921",
   "metadata": {},
   "outputs": [
    {
     "data": {
      "application/vnd.microsoft.datawrangler.viewer.v0+json": {
       "columns": [
        {
         "name": "index",
         "rawType": "object",
         "type": "string"
        },
        {
         "name": "Week",
         "rawType": "object",
         "type": "string"
        },
        {
         "name": "Weather",
         "rawType": "object",
         "type": "string"
        },
        {
         "name": "Temperature",
         "rawType": "float64",
         "type": "float"
        }
       ],
       "ref": "6bef101d-90be-4bff-a012-02ad346849dd",
       "rows": [
        [
         "Day 1",
         "Monday",
         "accumulation",
         "13.4"
        ],
        [
         "Day 2",
         "Tuesday",
         "breeze",
         "13.96"
        ],
        [
         "Day 3",
         "Wednesday",
         "calm",
         "14.21"
        ],
        [
         "Day 4",
         "Thursday",
         "disturbance",
         "14.49"
        ],
        [
         "Day 5",
         "Friday",
         "drizzle",
         "15.25"
        ],
        [
         "Day 6",
         "Saturday",
         "sunny",
         "15.56"
        ],
        [
         "Day 7",
         "Sunday",
         "fair",
         "16.1"
        ],
        [
         "Day 8",
         "Monday",
         "cloudy",
         "16.5"
        ],
        [
         "Day 9",
         "Tuesday",
         "showers",
         "16.2"
        ],
        [
         "Day 10",
         "Wednesday",
         "rain",
         "15.8"
        ],
        [
         "Day 11",
         "Thursday",
         "downpour",
         "15.52"
        ],
        [
         "Day 12",
         "Friday",
         "hail",
         "15.12"
        ],
        [
         "Day 13",
         "Saturday",
         "sleet",
         "14.14"
        ],
        [
         "Day 14",
         "Sunday",
         "snow",
         "13.31"
        ],
        [
         "Day 15",
         "Monday",
         "snowflake",
         "12.11"
        ],
        [
         "Day 16",
         "Tuesday",
         "gloomy",
         "11.48"
        ],
        [
         "Day 17",
         "Wednesday",
         "foggy",
         "11.96"
        ],
        [
         "Day 18",
         "Thursday",
         "overcast",
         "12.24"
        ],
        [
         "Day 19",
         "Friday",
         "clear",
         "12.89"
        ],
        [
         "Day 20",
         "Saturday",
         "blustery",
         "13.56"
        ],
        [
         "Day 21",
         "Sunday",
         "windy",
         "14.83"
        ]
       ],
       "shape": {
        "columns": 3,
        "rows": 21
       }
      },
      "text/html": [
       "<div>\n",
       "<style scoped>\n",
       "    .dataframe tbody tr th:only-of-type {\n",
       "        vertical-align: middle;\n",
       "    }\n",
       "\n",
       "    .dataframe tbody tr th {\n",
       "        vertical-align: top;\n",
       "    }\n",
       "\n",
       "    .dataframe thead th {\n",
       "        text-align: right;\n",
       "    }\n",
       "</style>\n",
       "<table border=\"1\" class=\"dataframe\">\n",
       "  <thead>\n",
       "    <tr style=\"text-align: right;\">\n",
       "      <th></th>\n",
       "      <th>Week</th>\n",
       "      <th>Weather</th>\n",
       "      <th>Temperature</th>\n",
       "    </tr>\n",
       "  </thead>\n",
       "  <tbody>\n",
       "    <tr>\n",
       "      <th>Day 1</th>\n",
       "      <td>Monday</td>\n",
       "      <td>accumulation</td>\n",
       "      <td>13.40</td>\n",
       "    </tr>\n",
       "    <tr>\n",
       "      <th>Day 2</th>\n",
       "      <td>Tuesday</td>\n",
       "      <td>breeze</td>\n",
       "      <td>13.96</td>\n",
       "    </tr>\n",
       "    <tr>\n",
       "      <th>Day 3</th>\n",
       "      <td>Wednesday</td>\n",
       "      <td>calm</td>\n",
       "      <td>14.21</td>\n",
       "    </tr>\n",
       "    <tr>\n",
       "      <th>Day 4</th>\n",
       "      <td>Thursday</td>\n",
       "      <td>disturbance</td>\n",
       "      <td>14.49</td>\n",
       "    </tr>\n",
       "    <tr>\n",
       "      <th>Day 5</th>\n",
       "      <td>Friday</td>\n",
       "      <td>drizzle</td>\n",
       "      <td>15.25</td>\n",
       "    </tr>\n",
       "    <tr>\n",
       "      <th>Day 6</th>\n",
       "      <td>Saturday</td>\n",
       "      <td>sunny</td>\n",
       "      <td>15.56</td>\n",
       "    </tr>\n",
       "    <tr>\n",
       "      <th>Day 7</th>\n",
       "      <td>Sunday</td>\n",
       "      <td>fair</td>\n",
       "      <td>16.10</td>\n",
       "    </tr>\n",
       "    <tr>\n",
       "      <th>Day 8</th>\n",
       "      <td>Monday</td>\n",
       "      <td>cloudy</td>\n",
       "      <td>16.50</td>\n",
       "    </tr>\n",
       "    <tr>\n",
       "      <th>Day 9</th>\n",
       "      <td>Tuesday</td>\n",
       "      <td>showers</td>\n",
       "      <td>16.20</td>\n",
       "    </tr>\n",
       "    <tr>\n",
       "      <th>Day 10</th>\n",
       "      <td>Wednesday</td>\n",
       "      <td>rain</td>\n",
       "      <td>15.80</td>\n",
       "    </tr>\n",
       "    <tr>\n",
       "      <th>Day 11</th>\n",
       "      <td>Thursday</td>\n",
       "      <td>downpour</td>\n",
       "      <td>15.52</td>\n",
       "    </tr>\n",
       "    <tr>\n",
       "      <th>Day 12</th>\n",
       "      <td>Friday</td>\n",
       "      <td>hail</td>\n",
       "      <td>15.12</td>\n",
       "    </tr>\n",
       "    <tr>\n",
       "      <th>Day 13</th>\n",
       "      <td>Saturday</td>\n",
       "      <td>sleet</td>\n",
       "      <td>14.14</td>\n",
       "    </tr>\n",
       "    <tr>\n",
       "      <th>Day 14</th>\n",
       "      <td>Sunday</td>\n",
       "      <td>snow</td>\n",
       "      <td>13.31</td>\n",
       "    </tr>\n",
       "    <tr>\n",
       "      <th>Day 15</th>\n",
       "      <td>Monday</td>\n",
       "      <td>snowflake</td>\n",
       "      <td>12.11</td>\n",
       "    </tr>\n",
       "    <tr>\n",
       "      <th>Day 16</th>\n",
       "      <td>Tuesday</td>\n",
       "      <td>gloomy</td>\n",
       "      <td>11.48</td>\n",
       "    </tr>\n",
       "    <tr>\n",
       "      <th>Day 17</th>\n",
       "      <td>Wednesday</td>\n",
       "      <td>foggy</td>\n",
       "      <td>11.96</td>\n",
       "    </tr>\n",
       "    <tr>\n",
       "      <th>Day 18</th>\n",
       "      <td>Thursday</td>\n",
       "      <td>overcast</td>\n",
       "      <td>12.24</td>\n",
       "    </tr>\n",
       "    <tr>\n",
       "      <th>Day 19</th>\n",
       "      <td>Friday</td>\n",
       "      <td>clear</td>\n",
       "      <td>12.89</td>\n",
       "    </tr>\n",
       "    <tr>\n",
       "      <th>Day 20</th>\n",
       "      <td>Saturday</td>\n",
       "      <td>blustery</td>\n",
       "      <td>13.56</td>\n",
       "    </tr>\n",
       "    <tr>\n",
       "      <th>Day 21</th>\n",
       "      <td>Sunday</td>\n",
       "      <td>windy</td>\n",
       "      <td>14.83</td>\n",
       "    </tr>\n",
       "  </tbody>\n",
       "</table>\n",
       "</div>"
      ],
      "text/plain": [
       "             Week       Weather  Temperature\n",
       "Day 1      Monday  accumulation        13.40\n",
       "Day 2     Tuesday        breeze        13.96\n",
       "Day 3   Wednesday          calm        14.21\n",
       "Day 4    Thursday   disturbance        14.49\n",
       "Day 5      Friday       drizzle        15.25\n",
       "Day 6    Saturday         sunny        15.56\n",
       "Day 7      Sunday          fair        16.10\n",
       "Day 8      Monday        cloudy        16.50\n",
       "Day 9     Tuesday       showers        16.20\n",
       "Day 10  Wednesday          rain        15.80\n",
       "Day 11   Thursday      downpour        15.52\n",
       "Day 12     Friday          hail        15.12\n",
       "Day 13   Saturday         sleet        14.14\n",
       "Day 14     Sunday          snow        13.31\n",
       "Day 15     Monday     snowflake        12.11\n",
       "Day 16    Tuesday        gloomy        11.48\n",
       "Day 17  Wednesday         foggy        11.96\n",
       "Day 18   Thursday      overcast        12.24\n",
       "Day 19     Friday         clear        12.89\n",
       "Day 20   Saturday      blustery        13.56\n",
       "Day 21     Sunday         windy        14.83"
      ]
     },
     "execution_count": 391,
     "metadata": {},
     "output_type": "execute_result"
    }
   ],
   "source": [
    "magic_land=pd.DataFrame(data=read_land)\n",
    "magic_land"
   ]
  },
  {
   "cell_type": "code",
   "execution_count": null,
   "id": "f7bfcc3b",
   "metadata": {},
   "outputs": [
    {
     "data": {
      "application/vnd.microsoft.datawrangler.viewer.v0+json": {
       "columns": [
        {
         "name": "index",
         "rawType": "object",
         "type": "string"
        },
        {
         "name": "Week",
         "rawType": "object",
         "type": "string"
        },
        {
         "name": "Weather",
         "rawType": "object",
         "type": "string"
        }
       ],
       "ref": "73a1ce54-b0a3-4b85-b562-8fa5f4c94c75",
       "rows": [
        [
         "Day 1",
         "Monday",
         "accumulation"
        ],
        [
         "Day 2",
         "Tuesday",
         "breeze"
        ],
        [
         "Day 3",
         "Wednesday",
         "calm"
        ],
        [
         "Day 4",
         "Thursday",
         "disturbance"
        ],
        [
         "Day 5",
         "Friday",
         "drizzle"
        ],
        [
         "Day 6",
         "Saturday",
         "sunny"
        ],
        [
         "Day 7",
         "Sunday",
         "fair"
        ],
        [
         "Day 8",
         "Monday",
         "cloudy"
        ],
        [
         "Day 9",
         "Tuesday",
         "showers"
        ],
        [
         "Day 10",
         "Wednesday",
         "rain"
        ],
        [
         "Day 11",
         "Thursday",
         "downpour"
        ],
        [
         "Day 12",
         "Friday",
         "hail"
        ],
        [
         "Day 13",
         "Saturday",
         "sleet"
        ],
        [
         "Day 14",
         "Sunday",
         "snow"
        ],
        [
         "Day 15",
         "Monday",
         "snowflake"
        ],
        [
         "Day 16",
         "Tuesday",
         "gloomy"
        ],
        [
         "Day 17",
         "Wednesday",
         "foggy"
        ],
        [
         "Day 18",
         "Thursday",
         "overcast"
        ],
        [
         "Day 19",
         "Friday",
         "clear"
        ],
        [
         "Day 20",
         "Saturday",
         "blustery"
        ],
        [
         "Day 21",
         "Sunday",
         "windy"
        ]
       ],
       "shape": {
        "columns": 2,
        "rows": 21
       }
      },
      "text/html": [
       "<div>\n",
       "<style scoped>\n",
       "    .dataframe tbody tr th:only-of-type {\n",
       "        vertical-align: middle;\n",
       "    }\n",
       "\n",
       "    .dataframe tbody tr th {\n",
       "        vertical-align: top;\n",
       "    }\n",
       "\n",
       "    .dataframe thead th {\n",
       "        text-align: right;\n",
       "    }\n",
       "</style>\n",
       "<table border=\"1\" class=\"dataframe\">\n",
       "  <thead>\n",
       "    <tr style=\"text-align: right;\">\n",
       "      <th></th>\n",
       "      <th>Week</th>\n",
       "      <th>Weather</th>\n",
       "    </tr>\n",
       "  </thead>\n",
       "  <tbody>\n",
       "    <tr>\n",
       "      <th>Day 1</th>\n",
       "      <td>Monday</td>\n",
       "      <td>accumulation</td>\n",
       "    </tr>\n",
       "    <tr>\n",
       "      <th>Day 2</th>\n",
       "      <td>Tuesday</td>\n",
       "      <td>breeze</td>\n",
       "    </tr>\n",
       "    <tr>\n",
       "      <th>Day 3</th>\n",
       "      <td>Wednesday</td>\n",
       "      <td>calm</td>\n",
       "    </tr>\n",
       "    <tr>\n",
       "      <th>Day 4</th>\n",
       "      <td>Thursday</td>\n",
       "      <td>disturbance</td>\n",
       "    </tr>\n",
       "    <tr>\n",
       "      <th>Day 5</th>\n",
       "      <td>Friday</td>\n",
       "      <td>drizzle</td>\n",
       "    </tr>\n",
       "    <tr>\n",
       "      <th>Day 6</th>\n",
       "      <td>Saturday</td>\n",
       "      <td>sunny</td>\n",
       "    </tr>\n",
       "    <tr>\n",
       "      <th>Day 7</th>\n",
       "      <td>Sunday</td>\n",
       "      <td>fair</td>\n",
       "    </tr>\n",
       "    <tr>\n",
       "      <th>Day 8</th>\n",
       "      <td>Monday</td>\n",
       "      <td>cloudy</td>\n",
       "    </tr>\n",
       "    <tr>\n",
       "      <th>Day 9</th>\n",
       "      <td>Tuesday</td>\n",
       "      <td>showers</td>\n",
       "    </tr>\n",
       "    <tr>\n",
       "      <th>Day 10</th>\n",
       "      <td>Wednesday</td>\n",
       "      <td>rain</td>\n",
       "    </tr>\n",
       "    <tr>\n",
       "      <th>Day 11</th>\n",
       "      <td>Thursday</td>\n",
       "      <td>downpour</td>\n",
       "    </tr>\n",
       "    <tr>\n",
       "      <th>Day 12</th>\n",
       "      <td>Friday</td>\n",
       "      <td>hail</td>\n",
       "    </tr>\n",
       "    <tr>\n",
       "      <th>Day 13</th>\n",
       "      <td>Saturday</td>\n",
       "      <td>sleet</td>\n",
       "    </tr>\n",
       "    <tr>\n",
       "      <th>Day 14</th>\n",
       "      <td>Sunday</td>\n",
       "      <td>snow</td>\n",
       "    </tr>\n",
       "    <tr>\n",
       "      <th>Day 15</th>\n",
       "      <td>Monday</td>\n",
       "      <td>snowflake</td>\n",
       "    </tr>\n",
       "    <tr>\n",
       "      <th>Day 16</th>\n",
       "      <td>Tuesday</td>\n",
       "      <td>gloomy</td>\n",
       "    </tr>\n",
       "    <tr>\n",
       "      <th>Day 17</th>\n",
       "      <td>Wednesday</td>\n",
       "      <td>foggy</td>\n",
       "    </tr>\n",
       "    <tr>\n",
       "      <th>Day 18</th>\n",
       "      <td>Thursday</td>\n",
       "      <td>overcast</td>\n",
       "    </tr>\n",
       "    <tr>\n",
       "      <th>Day 19</th>\n",
       "      <td>Friday</td>\n",
       "      <td>clear</td>\n",
       "    </tr>\n",
       "    <tr>\n",
       "      <th>Day 20</th>\n",
       "      <td>Saturday</td>\n",
       "      <td>blustery</td>\n",
       "    </tr>\n",
       "    <tr>\n",
       "      <th>Day 21</th>\n",
       "      <td>Sunday</td>\n",
       "      <td>windy</td>\n",
       "    </tr>\n",
       "  </tbody>\n",
       "</table>\n",
       "</div>"
      ],
      "text/plain": [
       "             Week       Weather\n",
       "Day 1      Monday  accumulation\n",
       "Day 2     Tuesday        breeze\n",
       "Day 3   Wednesday          calm\n",
       "Day 4    Thursday   disturbance\n",
       "Day 5      Friday       drizzle\n",
       "Day 6    Saturday         sunny\n",
       "Day 7      Sunday          fair\n",
       "Day 8      Monday        cloudy\n",
       "Day 9     Tuesday       showers\n",
       "Day 10  Wednesday          rain\n",
       "Day 11   Thursday      downpour\n",
       "Day 12     Friday          hail\n",
       "Day 13   Saturday         sleet\n",
       "Day 14     Sunday          snow\n",
       "Day 15     Monday     snowflake\n",
       "Day 16    Tuesday        gloomy\n",
       "Day 17  Wednesday         foggy\n",
       "Day 18   Thursday      overcast\n",
       "Day 19     Friday         clear\n",
       "Day 20   Saturday      blustery\n",
       "Day 21     Sunday         windy"
      ]
     },
     "execution_count": 392,
     "metadata": {},
     "output_type": "execute_result"
    }
   ],
   "source": [
    "magic_land[[magic_land_colums[0],magic_land_colums[1]]] #select the Week and Weather data"
   ]
  },
  {
   "cell_type": "code",
   "execution_count": 393,
   "id": "103187a8",
   "metadata": {},
   "outputs": [
    {
     "data": {
      "text/plain": [
       "array([['Monday', 'accumulation', 13.4],\n",
       "       ['Tuesday', 'breeze', 13.96],\n",
       "       ['Wednesday', 'calm', 14.21],\n",
       "       ['Thursday', 'disturbance', 14.49],\n",
       "       ['Friday', 'drizzle', 15.25],\n",
       "       ['Saturday', 'sunny', 15.56],\n",
       "       ['Sunday', 'fair', 16.1],\n",
       "       ['Monday', 'cloudy', 16.5],\n",
       "       ['Tuesday', 'showers', 16.2],\n",
       "       ['Wednesday', 'rain', 15.8],\n",
       "       ['Thursday', 'downpour', 15.52],\n",
       "       ['Friday', 'hail', 15.12],\n",
       "       ['Saturday', 'sleet', 14.14],\n",
       "       ['Sunday', 'snow', 13.31],\n",
       "       ['Monday', 'snowflake', 12.11],\n",
       "       ['Tuesday', 'gloomy', 11.48],\n",
       "       ['Wednesday', 'foggy', 11.96],\n",
       "       ['Thursday', 'overcast', 12.24],\n",
       "       ['Friday', 'clear', 12.89],\n",
       "       ['Saturday', 'blustery', 13.56],\n",
       "       ['Sunday', 'windy', 14.83]], dtype=object)"
      ]
     },
     "execution_count": 393,
     "metadata": {},
     "output_type": "execute_result"
    }
   ],
   "source": [
    "magic_lands_value=magic_land.values\n",
    "magic_lands_value"
   ]
  },
  {
   "cell_type": "code",
   "execution_count": 394,
   "id": "b7924c06",
   "metadata": {},
   "outputs": [
    {
     "data": {
      "text/plain": [
       "Index(['Day 1', 'Day 2', 'Day 3', 'Day 4', 'Day 5', 'Day 6', 'Day 7', 'Day 8',\n",
       "       'Day 9', 'Day 10', 'Day 11', 'Day 12', 'Day 13', 'Day 14', 'Day 15',\n",
       "       'Day 16', 'Day 17', 'Day 18', 'Day 19', 'Day 20', 'Day 21'],\n",
       "      dtype='object')"
      ]
     },
     "execution_count": 394,
     "metadata": {},
     "output_type": "execute_result"
    }
   ],
   "source": [
    "magic_lands_index=magic_land.index\n",
    "magic_lands_index"
   ]
  },
  {
   "cell_type": "code",
   "execution_count": 395,
   "id": "7395501d",
   "metadata": {},
   "outputs": [
    {
     "data": {
      "text/plain": [
       "Index(['Week', 'Weather', 'Temperature'], dtype='object')"
      ]
     },
     "execution_count": 395,
     "metadata": {},
     "output_type": "execute_result"
    }
   ],
   "source": [
    "magic_lands_colums=magic_land.columns\n",
    "magic_lands_colums"
   ]
  },
  {
   "cell_type": "code",
   "execution_count": 396,
   "id": "485dfffb",
   "metadata": {},
   "outputs": [
    {
     "data": {
      "application/vnd.microsoft.datawrangler.viewer.v0+json": {
       "columns": [
        {
         "name": "index",
         "rawType": "object",
         "type": "string"
        },
        {
         "name": "0",
         "rawType": "object",
         "type": "unknown"
        }
       ],
       "ref": "36ccae1c-631d-4f4c-8bea-4873f2a94132",
       "rows": [
        [
         "Week",
         "object"
        ],
        [
         "Weather",
         "object"
        ],
        [
         "Temperature",
         "float64"
        ]
       ],
       "shape": {
        "columns": 1,
        "rows": 3
       }
      },
      "text/plain": [
       "Week            object\n",
       "Weather         object\n",
       "Temperature    float64\n",
       "dtype: object"
      ]
     },
     "execution_count": 396,
     "metadata": {},
     "output_type": "execute_result"
    }
   ],
   "source": [
    "magic_land.dtypes"
   ]
  },
  {
   "cell_type": "code",
   "execution_count": 397,
   "id": "5546d137",
   "metadata": {},
   "outputs": [
    {
     "data": {
      "text/plain": [
       "(21, 3)"
      ]
     },
     "execution_count": 397,
     "metadata": {},
     "output_type": "execute_result"
    }
   ],
   "source": [
    "magic_land.shape"
   ]
  },
  {
   "cell_type": "code",
   "execution_count": 398,
   "id": "cf6aa386",
   "metadata": {},
   "outputs": [
    {
     "data": {
      "application/vnd.microsoft.datawrangler.viewer.v0+json": {
       "columns": [
        {
         "name": "index",
         "rawType": "object",
         "type": "string"
        },
        {
         "name": "Day 1",
         "rawType": "object",
         "type": "unknown"
        },
        {
         "name": "Day 2",
         "rawType": "object",
         "type": "unknown"
        },
        {
         "name": "Day 3",
         "rawType": "object",
         "type": "unknown"
        },
        {
         "name": "Day 4",
         "rawType": "object",
         "type": "unknown"
        },
        {
         "name": "Day 5",
         "rawType": "object",
         "type": "unknown"
        },
        {
         "name": "Day 6",
         "rawType": "object",
         "type": "unknown"
        },
        {
         "name": "Day 7",
         "rawType": "object",
         "type": "unknown"
        },
        {
         "name": "Day 8",
         "rawType": "object",
         "type": "unknown"
        },
        {
         "name": "Day 9",
         "rawType": "object",
         "type": "unknown"
        },
        {
         "name": "Day 10",
         "rawType": "object",
         "type": "unknown"
        },
        {
         "name": "Day 11",
         "rawType": "object",
         "type": "unknown"
        },
        {
         "name": "Day 12",
         "rawType": "object",
         "type": "unknown"
        },
        {
         "name": "Day 13",
         "rawType": "object",
         "type": "unknown"
        },
        {
         "name": "Day 14",
         "rawType": "object",
         "type": "unknown"
        },
        {
         "name": "Day 15",
         "rawType": "object",
         "type": "unknown"
        },
        {
         "name": "Day 16",
         "rawType": "object",
         "type": "unknown"
        },
        {
         "name": "Day 17",
         "rawType": "object",
         "type": "unknown"
        },
        {
         "name": "Day 18",
         "rawType": "object",
         "type": "unknown"
        },
        {
         "name": "Day 19",
         "rawType": "object",
         "type": "unknown"
        },
        {
         "name": "Day 20",
         "rawType": "object",
         "type": "unknown"
        },
        {
         "name": "Day 21",
         "rawType": "object",
         "type": "unknown"
        }
       ],
       "ref": "babb455e-f1ac-4418-be72-9c137e0eb00a",
       "rows": [
        [
         "Week",
         "Monday",
         "Tuesday",
         "Wednesday",
         "Thursday",
         "Friday",
         "Saturday",
         "Sunday",
         "Monday",
         "Tuesday",
         "Wednesday",
         "Thursday",
         "Friday",
         "Saturday",
         "Sunday",
         "Monday",
         "Tuesday",
         "Wednesday",
         "Thursday",
         "Friday",
         "Saturday",
         "Sunday"
        ],
        [
         "Weather",
         "accumulation",
         "breeze",
         "calm",
         "disturbance",
         "drizzle",
         "sunny",
         "fair",
         "cloudy",
         "showers",
         "rain",
         "downpour",
         "hail",
         "sleet",
         "snow",
         "snowflake",
         "gloomy",
         "foggy",
         "overcast",
         "clear",
         "blustery",
         "windy"
        ],
        [
         "Temperature",
         "13.4",
         "13.96",
         "14.21",
         "14.49",
         "15.25",
         "15.56",
         "16.1",
         "16.5",
         "16.2",
         "15.8",
         "15.52",
         "15.12",
         "14.14",
         "13.31",
         "12.11",
         "11.48",
         "11.96",
         "12.24",
         "12.89",
         "13.56",
         "14.83"
        ]
       ],
       "shape": {
        "columns": 21,
        "rows": 3
       }
      },
      "text/html": [
       "<div>\n",
       "<style scoped>\n",
       "    .dataframe tbody tr th:only-of-type {\n",
       "        vertical-align: middle;\n",
       "    }\n",
       "\n",
       "    .dataframe tbody tr th {\n",
       "        vertical-align: top;\n",
       "    }\n",
       "\n",
       "    .dataframe thead th {\n",
       "        text-align: right;\n",
       "    }\n",
       "</style>\n",
       "<table border=\"1\" class=\"dataframe\">\n",
       "  <thead>\n",
       "    <tr style=\"text-align: right;\">\n",
       "      <th></th>\n",
       "      <th>Day 1</th>\n",
       "      <th>Day 2</th>\n",
       "      <th>Day 3</th>\n",
       "      <th>Day 4</th>\n",
       "      <th>Day 5</th>\n",
       "      <th>Day 6</th>\n",
       "      <th>Day 7</th>\n",
       "      <th>Day 8</th>\n",
       "      <th>Day 9</th>\n",
       "      <th>Day 10</th>\n",
       "      <th>...</th>\n",
       "      <th>Day 12</th>\n",
       "      <th>Day 13</th>\n",
       "      <th>Day 14</th>\n",
       "      <th>Day 15</th>\n",
       "      <th>Day 16</th>\n",
       "      <th>Day 17</th>\n",
       "      <th>Day 18</th>\n",
       "      <th>Day 19</th>\n",
       "      <th>Day 20</th>\n",
       "      <th>Day 21</th>\n",
       "    </tr>\n",
       "  </thead>\n",
       "  <tbody>\n",
       "    <tr>\n",
       "      <th>Week</th>\n",
       "      <td>Monday</td>\n",
       "      <td>Tuesday</td>\n",
       "      <td>Wednesday</td>\n",
       "      <td>Thursday</td>\n",
       "      <td>Friday</td>\n",
       "      <td>Saturday</td>\n",
       "      <td>Sunday</td>\n",
       "      <td>Monday</td>\n",
       "      <td>Tuesday</td>\n",
       "      <td>Wednesday</td>\n",
       "      <td>...</td>\n",
       "      <td>Friday</td>\n",
       "      <td>Saturday</td>\n",
       "      <td>Sunday</td>\n",
       "      <td>Monday</td>\n",
       "      <td>Tuesday</td>\n",
       "      <td>Wednesday</td>\n",
       "      <td>Thursday</td>\n",
       "      <td>Friday</td>\n",
       "      <td>Saturday</td>\n",
       "      <td>Sunday</td>\n",
       "    </tr>\n",
       "    <tr>\n",
       "      <th>Weather</th>\n",
       "      <td>accumulation</td>\n",
       "      <td>breeze</td>\n",
       "      <td>calm</td>\n",
       "      <td>disturbance</td>\n",
       "      <td>drizzle</td>\n",
       "      <td>sunny</td>\n",
       "      <td>fair</td>\n",
       "      <td>cloudy</td>\n",
       "      <td>showers</td>\n",
       "      <td>rain</td>\n",
       "      <td>...</td>\n",
       "      <td>hail</td>\n",
       "      <td>sleet</td>\n",
       "      <td>snow</td>\n",
       "      <td>snowflake</td>\n",
       "      <td>gloomy</td>\n",
       "      <td>foggy</td>\n",
       "      <td>overcast</td>\n",
       "      <td>clear</td>\n",
       "      <td>blustery</td>\n",
       "      <td>windy</td>\n",
       "    </tr>\n",
       "    <tr>\n",
       "      <th>Temperature</th>\n",
       "      <td>13.4</td>\n",
       "      <td>13.96</td>\n",
       "      <td>14.21</td>\n",
       "      <td>14.49</td>\n",
       "      <td>15.25</td>\n",
       "      <td>15.56</td>\n",
       "      <td>16.1</td>\n",
       "      <td>16.5</td>\n",
       "      <td>16.2</td>\n",
       "      <td>15.8</td>\n",
       "      <td>...</td>\n",
       "      <td>15.12</td>\n",
       "      <td>14.14</td>\n",
       "      <td>13.31</td>\n",
       "      <td>12.11</td>\n",
       "      <td>11.48</td>\n",
       "      <td>11.96</td>\n",
       "      <td>12.24</td>\n",
       "      <td>12.89</td>\n",
       "      <td>13.56</td>\n",
       "      <td>14.83</td>\n",
       "    </tr>\n",
       "  </tbody>\n",
       "</table>\n",
       "<p>3 rows × 21 columns</p>\n",
       "</div>"
      ],
      "text/plain": [
       "                    Day 1    Day 2      Day 3        Day 4    Day 5     Day 6  \\\n",
       "Week               Monday  Tuesday  Wednesday     Thursday   Friday  Saturday   \n",
       "Weather      accumulation   breeze       calm  disturbance  drizzle     sunny   \n",
       "Temperature          13.4    13.96      14.21        14.49    15.25     15.56   \n",
       "\n",
       "              Day 7   Day 8    Day 9     Day 10  ...  Day 12    Day 13  \\\n",
       "Week         Sunday  Monday  Tuesday  Wednesday  ...  Friday  Saturday   \n",
       "Weather        fair  cloudy  showers       rain  ...    hail     sleet   \n",
       "Temperature    16.1    16.5     16.2       15.8  ...   15.12     14.14   \n",
       "\n",
       "             Day 14     Day 15   Day 16     Day 17    Day 18  Day 19  \\\n",
       "Week         Sunday     Monday  Tuesday  Wednesday  Thursday  Friday   \n",
       "Weather        snow  snowflake   gloomy      foggy  overcast   clear   \n",
       "Temperature   13.31      12.11    11.48      11.96     12.24   12.89   \n",
       "\n",
       "               Day 20  Day 21  \n",
       "Week         Saturday  Sunday  \n",
       "Weather      blustery   windy  \n",
       "Temperature     13.56   14.83  \n",
       "\n",
       "[3 rows x 21 columns]"
      ]
     },
     "execution_count": 398,
     "metadata": {},
     "output_type": "execute_result"
    }
   ],
   "source": [
    "magic_land.T"
   ]
  },
  {
   "cell_type": "code",
   "execution_count": null,
   "id": "35176058",
   "metadata": {},
   "outputs": [
    {
     "data": {
      "text/plain": [
       "'Gender'"
      ]
     },
     "execution_count": 399,
     "metadata": {},
     "output_type": "execute_result"
    }
   ],
   "source": [
    "learn_pd_data=pd.read_csv('learn_pandas.csv',index_col=0)  #it data for joyful-pandas address is  https://github.com/datawhalechina/joyful-pandas/blob/master/data/learn_pandas.csv\n",
    "learn_pd_data.columns[2]"
   ]
  },
  {
   "cell_type": "code",
   "execution_count": null,
   "id": "a91cae6c",
   "metadata": {},
   "outputs": [],
   "source": [
    "def get_dataframe_column(iter:pd.DataFrame,choose_colums:int):  #get any dataframe columns for any data\n",
    "    if  (choose_colums>len(iter.columns)) or (choose_colums<0):\n",
    "        raise ValueError(\"choose_colums is not in range\")\n",
    "    else:\n",
    "        return iter[iter.columns[:choose_colums]]"
   ]
  },
  {
   "cell_type": "code",
   "execution_count": 419,
   "id": "53324749",
   "metadata": {},
   "outputs": [
    {
     "data": {
      "application/vnd.microsoft.datawrangler.viewer.v0+json": {
       "columns": [
        {
         "name": "index",
         "rawType": "object",
         "type": "string"
        },
        {
         "name": "Week",
         "rawType": "object",
         "type": "string"
        },
        {
         "name": "Weather",
         "rawType": "object",
         "type": "string"
        }
       ],
       "ref": "723de6e2-16da-42a2-8212-8642851bd38a",
       "rows": [
        [
         "Day 1",
         "Monday",
         "accumulation"
        ],
        [
         "Day 2",
         "Tuesday",
         "breeze"
        ],
        [
         "Day 3",
         "Wednesday",
         "calm"
        ],
        [
         "Day 4",
         "Thursday",
         "disturbance"
        ],
        [
         "Day 5",
         "Friday",
         "drizzle"
        ],
        [
         "Day 6",
         "Saturday",
         "sunny"
        ],
        [
         "Day 7",
         "Sunday",
         "fair"
        ],
        [
         "Day 8",
         "Monday",
         "cloudy"
        ],
        [
         "Day 9",
         "Tuesday",
         "showers"
        ],
        [
         "Day 10",
         "Wednesday",
         "rain"
        ],
        [
         "Day 11",
         "Thursday",
         "downpour"
        ],
        [
         "Day 12",
         "Friday",
         "hail"
        ],
        [
         "Day 13",
         "Saturday",
         "sleet"
        ],
        [
         "Day 14",
         "Sunday",
         "snow"
        ],
        [
         "Day 15",
         "Monday",
         "snowflake"
        ],
        [
         "Day 16",
         "Tuesday",
         "gloomy"
        ],
        [
         "Day 17",
         "Wednesday",
         "foggy"
        ],
        [
         "Day 18",
         "Thursday",
         "overcast"
        ],
        [
         "Day 19",
         "Friday",
         "clear"
        ],
        [
         "Day 20",
         "Saturday",
         "blustery"
        ],
        [
         "Day 21",
         "Sunday",
         "windy"
        ]
       ],
       "shape": {
        "columns": 2,
        "rows": 21
       }
      },
      "text/html": [
       "<div>\n",
       "<style scoped>\n",
       "    .dataframe tbody tr th:only-of-type {\n",
       "        vertical-align: middle;\n",
       "    }\n",
       "\n",
       "    .dataframe tbody tr th {\n",
       "        vertical-align: top;\n",
       "    }\n",
       "\n",
       "    .dataframe thead th {\n",
       "        text-align: right;\n",
       "    }\n",
       "</style>\n",
       "<table border=\"1\" class=\"dataframe\">\n",
       "  <thead>\n",
       "    <tr style=\"text-align: right;\">\n",
       "      <th></th>\n",
       "      <th>Week</th>\n",
       "      <th>Weather</th>\n",
       "    </tr>\n",
       "  </thead>\n",
       "  <tbody>\n",
       "    <tr>\n",
       "      <th>Day 1</th>\n",
       "      <td>Monday</td>\n",
       "      <td>accumulation</td>\n",
       "    </tr>\n",
       "    <tr>\n",
       "      <th>Day 2</th>\n",
       "      <td>Tuesday</td>\n",
       "      <td>breeze</td>\n",
       "    </tr>\n",
       "    <tr>\n",
       "      <th>Day 3</th>\n",
       "      <td>Wednesday</td>\n",
       "      <td>calm</td>\n",
       "    </tr>\n",
       "    <tr>\n",
       "      <th>Day 4</th>\n",
       "      <td>Thursday</td>\n",
       "      <td>disturbance</td>\n",
       "    </tr>\n",
       "    <tr>\n",
       "      <th>Day 5</th>\n",
       "      <td>Friday</td>\n",
       "      <td>drizzle</td>\n",
       "    </tr>\n",
       "    <tr>\n",
       "      <th>Day 6</th>\n",
       "      <td>Saturday</td>\n",
       "      <td>sunny</td>\n",
       "    </tr>\n",
       "    <tr>\n",
       "      <th>Day 7</th>\n",
       "      <td>Sunday</td>\n",
       "      <td>fair</td>\n",
       "    </tr>\n",
       "    <tr>\n",
       "      <th>Day 8</th>\n",
       "      <td>Monday</td>\n",
       "      <td>cloudy</td>\n",
       "    </tr>\n",
       "    <tr>\n",
       "      <th>Day 9</th>\n",
       "      <td>Tuesday</td>\n",
       "      <td>showers</td>\n",
       "    </tr>\n",
       "    <tr>\n",
       "      <th>Day 10</th>\n",
       "      <td>Wednesday</td>\n",
       "      <td>rain</td>\n",
       "    </tr>\n",
       "    <tr>\n",
       "      <th>Day 11</th>\n",
       "      <td>Thursday</td>\n",
       "      <td>downpour</td>\n",
       "    </tr>\n",
       "    <tr>\n",
       "      <th>Day 12</th>\n",
       "      <td>Friday</td>\n",
       "      <td>hail</td>\n",
       "    </tr>\n",
       "    <tr>\n",
       "      <th>Day 13</th>\n",
       "      <td>Saturday</td>\n",
       "      <td>sleet</td>\n",
       "    </tr>\n",
       "    <tr>\n",
       "      <th>Day 14</th>\n",
       "      <td>Sunday</td>\n",
       "      <td>snow</td>\n",
       "    </tr>\n",
       "    <tr>\n",
       "      <th>Day 15</th>\n",
       "      <td>Monday</td>\n",
       "      <td>snowflake</td>\n",
       "    </tr>\n",
       "    <tr>\n",
       "      <th>Day 16</th>\n",
       "      <td>Tuesday</td>\n",
       "      <td>gloomy</td>\n",
       "    </tr>\n",
       "    <tr>\n",
       "      <th>Day 17</th>\n",
       "      <td>Wednesday</td>\n",
       "      <td>foggy</td>\n",
       "    </tr>\n",
       "    <tr>\n",
       "      <th>Day 18</th>\n",
       "      <td>Thursday</td>\n",
       "      <td>overcast</td>\n",
       "    </tr>\n",
       "    <tr>\n",
       "      <th>Day 19</th>\n",
       "      <td>Friday</td>\n",
       "      <td>clear</td>\n",
       "    </tr>\n",
       "    <tr>\n",
       "      <th>Day 20</th>\n",
       "      <td>Saturday</td>\n",
       "      <td>blustery</td>\n",
       "    </tr>\n",
       "    <tr>\n",
       "      <th>Day 21</th>\n",
       "      <td>Sunday</td>\n",
       "      <td>windy</td>\n",
       "    </tr>\n",
       "  </tbody>\n",
       "</table>\n",
       "</div>"
      ],
      "text/plain": [
       "             Week       Weather\n",
       "Day 1      Monday  accumulation\n",
       "Day 2     Tuesday        breeze\n",
       "Day 3   Wednesday          calm\n",
       "Day 4    Thursday   disturbance\n",
       "Day 5      Friday       drizzle\n",
       "Day 6    Saturday         sunny\n",
       "Day 7      Sunday          fair\n",
       "Day 8      Monday        cloudy\n",
       "Day 9     Tuesday       showers\n",
       "Day 10  Wednesday          rain\n",
       "Day 11   Thursday      downpour\n",
       "Day 12     Friday          hail\n",
       "Day 13   Saturday         sleet\n",
       "Day 14     Sunday          snow\n",
       "Day 15     Monday     snowflake\n",
       "Day 16    Tuesday        gloomy\n",
       "Day 17  Wednesday         foggy\n",
       "Day 18   Thursday      overcast\n",
       "Day 19     Friday         clear\n",
       "Day 20   Saturday      blustery\n",
       "Day 21     Sunday         windy"
      ]
     },
     "execution_count": 419,
     "metadata": {},
     "output_type": "execute_result"
    }
   ],
   "source": [
    "#magic_land[magic_lands_colums[:2]]\n",
    "get_dataframe_column(iter=magic_land,choose_colums=2)"
   ]
  },
  {
   "cell_type": "code",
   "execution_count": 420,
   "id": "5b562cf9",
   "metadata": {},
   "outputs": [
    {
     "data": {
      "application/vnd.microsoft.datawrangler.viewer.v0+json": {
       "columns": [
        {
         "name": "School",
         "rawType": "object",
         "type": "string"
        },
        {
         "name": "Grade",
         "rawType": "object",
         "type": "string"
        },
        {
         "name": "Name",
         "rawType": "object",
         "type": "string"
        },
        {
         "name": "Gender",
         "rawType": "object",
         "type": "string"
        }
       ],
       "ref": "1fd12695-1672-49f7-bd98-fbe5d2592ee0",
       "rows": [
        [
         "Shanghai Jiao Tong University",
         "Freshman",
         "Gaopeng Yang",
         "Female"
        ],
        [
         "Peking University",
         "Freshman",
         "Changqiang You",
         "Male"
        ],
        [
         "Shanghai Jiao Tong University",
         "Senior",
         "Mei Sun",
         "Male"
        ],
        [
         "Fudan University",
         "Sophomore",
         "Xiaojuan Sun",
         "Female"
        ],
        [
         "Fudan University",
         "Sophomore",
         "Gaojuan You",
         "Male"
        ],
        [
         "Tsinghua University",
         "Freshman",
         "Xiaoli Qian",
         "Female"
        ],
        [
         "Shanghai Jiao Tong University",
         "Freshman",
         "Qiang Chu",
         "Female"
        ],
        [
         "Tsinghua University",
         "Junior",
         "Gaoqiang Qian",
         "Female"
        ],
        [
         "Tsinghua University",
         "Freshman",
         "Changli Zhang",
         "Female"
        ],
        [
         "Peking University",
         "Junior",
         "Juan Xu",
         "Female"
        ],
        [
         "Shanghai Jiao Tong University",
         "Freshman",
         "Xiaopeng Zhou",
         "Male"
        ],
        [
         "Tsinghua University",
         "Junior",
         "Xiaoquan Lv",
         "Female"
        ],
        [
         "Shanghai Jiao Tong University",
         "Senior",
         "Peng You",
         "Female"
        ],
        [
         "Shanghai Jiao Tong University",
         "Sophomore",
         "Yanfeng Qian",
         "Female"
        ],
        [
         "Tsinghua University",
         "Senior",
         "Xiaomei Zhou",
         "Female"
        ],
        [
         "Fudan University",
         "Freshman",
         "Changqiang Yang",
         "Female"
        ],
        [
         "Tsinghua University",
         "Junior",
         "Xiaoqiang Qin",
         "Male"
        ],
        [
         "Tsinghua University",
         "Junior",
         "Peng Wang",
         "Male"
        ],
        [
         "Tsinghua University",
         "Senior",
         "Xiaofeng Sun",
         "Male"
        ],
        [
         "Shanghai Jiao Tong University",
         "Senior",
         "Qiang Chu",
         "Female"
        ],
        [
         "Peking University",
         "Junior",
         "Changjuan You",
         "Female"
        ],
        [
         "Shanghai Jiao Tong University",
         "Senior",
         "Xiaopeng Shen",
         "Male"
        ],
        [
         "Shanghai Jiao Tong University",
         "Senior",
         "Changqiang Sun",
         "Female"
        ],
        [
         "Shanghai Jiao Tong University",
         "Senior",
         "Qiang Zheng",
         "Male"
        ],
        [
         "Tsinghua University",
         "Senior",
         "Chunmei You",
         "Male"
        ],
        [
         "Tsinghua University",
         "Senior",
         "Xiaopeng Chu",
         "Female"
        ],
        [
         "Fudan University",
         "Junior",
         "Yanli You",
         "Female"
        ],
        [
         "Tsinghua University",
         "Junior",
         "Qiang Sun",
         "Female"
        ],
        [
         "Fudan University",
         "Freshman",
         "Gaoqiang Qin",
         "Female"
        ],
        [
         "Peking University",
         "Sophomore",
         "Changmei Xu",
         "Female"
        ],
        [
         "Peking University",
         "Senior",
         "Changli Lv",
         "Female"
        ],
        [
         "Shanghai Jiao Tong University",
         "Junior",
         "Feng Zheng",
         "Female"
        ],
        [
         "Peking University",
         "Freshman",
         "Gaopeng Shi",
         "Female"
        ],
        [
         "Tsinghua University",
         "Freshman",
         "Yanjuan Han",
         "Female"
        ],
        [
         "Tsinghua University",
         "Freshman",
         "Li Wu",
         "Female"
        ],
        [
         "Peking University",
         "Freshman",
         "Gaoli Zhao",
         "Male"
        ],
        [
         "Peking University",
         "Freshman",
         "Xiaojuan Qin",
         "Male"
        ],
        [
         "Fudan University",
         "Sophomore",
         "Xiaoquan Zhang",
         "Female"
        ],
        [
         "Peking University",
         "Freshman",
         "Qiang Han",
         "Male"
        ],
        [
         "Fudan University",
         "Senior",
         "Chengpeng Zheng",
         "Female"
        ],
        [
         "Tsinghua University",
         "Sophomore",
         "Li Wang",
         "Male"
        ],
        [
         "Fudan University",
         "Junior",
         "Chunqiang Chu",
         "Male"
        ],
        [
         "Shanghai Jiao Tong University",
         "Junior",
         "Mei Zhang",
         "Female"
        ],
        [
         "Tsinghua University",
         "Freshman",
         "Gaoli Feng",
         "Female"
        ],
        [
         "Tsinghua University",
         "Freshman",
         "Yanqiang Feng",
         "Female"
        ],
        [
         "Peking University",
         "Freshman",
         "Quan Chu",
         "Female"
        ],
        [
         "Fudan University",
         "Senior",
         "Feng Zhou",
         "Female"
        ],
        [
         "Tsinghua University",
         "Freshman",
         "Peng Wu",
         "Female"
        ],
        [
         "Fudan University",
         "Sophomore",
         "Mei Xu",
         "Male"
        ],
        [
         "Fudan University",
         "Senior",
         "Gaomei Lv",
         "Female"
        ]
       ],
       "shape": {
        "columns": 3,
        "rows": 200
       }
      },
      "text/html": [
       "<div>\n",
       "<style scoped>\n",
       "    .dataframe tbody tr th:only-of-type {\n",
       "        vertical-align: middle;\n",
       "    }\n",
       "\n",
       "    .dataframe tbody tr th {\n",
       "        vertical-align: top;\n",
       "    }\n",
       "\n",
       "    .dataframe thead th {\n",
       "        text-align: right;\n",
       "    }\n",
       "</style>\n",
       "<table border=\"1\" class=\"dataframe\">\n",
       "  <thead>\n",
       "    <tr style=\"text-align: right;\">\n",
       "      <th></th>\n",
       "      <th>Grade</th>\n",
       "      <th>Name</th>\n",
       "      <th>Gender</th>\n",
       "    </tr>\n",
       "    <tr>\n",
       "      <th>School</th>\n",
       "      <th></th>\n",
       "      <th></th>\n",
       "      <th></th>\n",
       "    </tr>\n",
       "  </thead>\n",
       "  <tbody>\n",
       "    <tr>\n",
       "      <th>Shanghai Jiao Tong University</th>\n",
       "      <td>Freshman</td>\n",
       "      <td>Gaopeng Yang</td>\n",
       "      <td>Female</td>\n",
       "    </tr>\n",
       "    <tr>\n",
       "      <th>Peking University</th>\n",
       "      <td>Freshman</td>\n",
       "      <td>Changqiang You</td>\n",
       "      <td>Male</td>\n",
       "    </tr>\n",
       "    <tr>\n",
       "      <th>Shanghai Jiao Tong University</th>\n",
       "      <td>Senior</td>\n",
       "      <td>Mei Sun</td>\n",
       "      <td>Male</td>\n",
       "    </tr>\n",
       "    <tr>\n",
       "      <th>Fudan University</th>\n",
       "      <td>Sophomore</td>\n",
       "      <td>Xiaojuan Sun</td>\n",
       "      <td>Female</td>\n",
       "    </tr>\n",
       "    <tr>\n",
       "      <th>Fudan University</th>\n",
       "      <td>Sophomore</td>\n",
       "      <td>Gaojuan You</td>\n",
       "      <td>Male</td>\n",
       "    </tr>\n",
       "    <tr>\n",
       "      <th>...</th>\n",
       "      <td>...</td>\n",
       "      <td>...</td>\n",
       "      <td>...</td>\n",
       "    </tr>\n",
       "    <tr>\n",
       "      <th>Fudan University</th>\n",
       "      <td>Junior</td>\n",
       "      <td>Xiaojuan Sun</td>\n",
       "      <td>Female</td>\n",
       "    </tr>\n",
       "    <tr>\n",
       "      <th>Tsinghua University</th>\n",
       "      <td>Senior</td>\n",
       "      <td>Li Zhao</td>\n",
       "      <td>Female</td>\n",
       "    </tr>\n",
       "    <tr>\n",
       "      <th>Shanghai Jiao Tong University</th>\n",
       "      <td>Senior</td>\n",
       "      <td>Chengqiang Chu</td>\n",
       "      <td>Female</td>\n",
       "    </tr>\n",
       "    <tr>\n",
       "      <th>Shanghai Jiao Tong University</th>\n",
       "      <td>Senior</td>\n",
       "      <td>Chengmei Shen</td>\n",
       "      <td>Male</td>\n",
       "    </tr>\n",
       "    <tr>\n",
       "      <th>Tsinghua University</th>\n",
       "      <td>Sophomore</td>\n",
       "      <td>Chunpeng Lv</td>\n",
       "      <td>Male</td>\n",
       "    </tr>\n",
       "  </tbody>\n",
       "</table>\n",
       "<p>200 rows × 3 columns</p>\n",
       "</div>"
      ],
      "text/plain": [
       "                                   Grade            Name  Gender\n",
       "School                                                          \n",
       "Shanghai Jiao Tong University   Freshman    Gaopeng Yang  Female\n",
       "Peking University               Freshman  Changqiang You    Male\n",
       "Shanghai Jiao Tong University     Senior         Mei Sun    Male\n",
       "Fudan University               Sophomore    Xiaojuan Sun  Female\n",
       "Fudan University               Sophomore     Gaojuan You    Male\n",
       "...                                  ...             ...     ...\n",
       "Fudan University                  Junior    Xiaojuan Sun  Female\n",
       "Tsinghua University               Senior         Li Zhao  Female\n",
       "Shanghai Jiao Tong University     Senior  Chengqiang Chu  Female\n",
       "Shanghai Jiao Tong University     Senior   Chengmei Shen    Male\n",
       "Tsinghua University            Sophomore     Chunpeng Lv    Male\n",
       "\n",
       "[200 rows x 3 columns]"
      ]
     },
     "execution_count": 420,
     "metadata": {},
     "output_type": "execute_result"
    }
   ],
   "source": [
    "get_dataframe_column(iter=learn_pd_data,choose_colums=3)"
   ]
  },
  {
   "cell_type": "code",
   "execution_count": 403,
   "id": "bc446697",
   "metadata": {},
   "outputs": [
    {
     "data": {
      "application/vnd.microsoft.datawrangler.viewer.v0+json": {
       "columns": [
        {
         "name": "index",
         "rawType": "object",
         "type": "string"
        },
        {
         "name": "Week",
         "rawType": "object",
         "type": "string"
        },
        {
         "name": "Weather",
         "rawType": "object",
         "type": "string"
        },
        {
         "name": "Temperature",
         "rawType": "float64",
         "type": "float"
        }
       ],
       "ref": "5780cdaf-fd2e-4e64-b25a-ab9ff5ca886f",
       "rows": [
        [
         "Day 1",
         "Monday",
         "accumulation",
         "13.4"
        ],
        [
         "Day 2",
         "Tuesday",
         "breeze",
         "13.96"
        ],
        [
         "Day 3",
         "Wednesday",
         "calm",
         "14.21"
        ]
       ],
       "shape": {
        "columns": 3,
        "rows": 3
       }
      },
      "text/html": [
       "<div>\n",
       "<style scoped>\n",
       "    .dataframe tbody tr th:only-of-type {\n",
       "        vertical-align: middle;\n",
       "    }\n",
       "\n",
       "    .dataframe tbody tr th {\n",
       "        vertical-align: top;\n",
       "    }\n",
       "\n",
       "    .dataframe thead th {\n",
       "        text-align: right;\n",
       "    }\n",
       "</style>\n",
       "<table border=\"1\" class=\"dataframe\">\n",
       "  <thead>\n",
       "    <tr style=\"text-align: right;\">\n",
       "      <th></th>\n",
       "      <th>Week</th>\n",
       "      <th>Weather</th>\n",
       "      <th>Temperature</th>\n",
       "    </tr>\n",
       "  </thead>\n",
       "  <tbody>\n",
       "    <tr>\n",
       "      <th>Day 1</th>\n",
       "      <td>Monday</td>\n",
       "      <td>accumulation</td>\n",
       "      <td>13.40</td>\n",
       "    </tr>\n",
       "    <tr>\n",
       "      <th>Day 2</th>\n",
       "      <td>Tuesday</td>\n",
       "      <td>breeze</td>\n",
       "      <td>13.96</td>\n",
       "    </tr>\n",
       "    <tr>\n",
       "      <th>Day 3</th>\n",
       "      <td>Wednesday</td>\n",
       "      <td>calm</td>\n",
       "      <td>14.21</td>\n",
       "    </tr>\n",
       "  </tbody>\n",
       "</table>\n",
       "</div>"
      ],
      "text/plain": [
       "            Week       Weather  Temperature\n",
       "Day 1     Monday  accumulation        13.40\n",
       "Day 2    Tuesday        breeze        13.96\n",
       "Day 3  Wednesday          calm        14.21"
      ]
     },
     "execution_count": 403,
     "metadata": {},
     "output_type": "execute_result"
    }
   ],
   "source": [
    "magic_land.head(3)"
   ]
  },
  {
   "cell_type": "code",
   "execution_count": 404,
   "id": "78426c95",
   "metadata": {},
   "outputs": [
    {
     "data": {
      "application/vnd.microsoft.datawrangler.viewer.v0+json": {
       "columns": [
        {
         "name": "School",
         "rawType": "object",
         "type": "string"
        },
        {
         "name": "Grade",
         "rawType": "object",
         "type": "string"
        },
        {
         "name": "Name",
         "rawType": "object",
         "type": "string"
        },
        {
         "name": "Gender",
         "rawType": "object",
         "type": "string"
        },
        {
         "name": "Height",
         "rawType": "float64",
         "type": "float"
        },
        {
         "name": "Weight",
         "rawType": "float64",
         "type": "float"
        },
        {
         "name": "Transfer",
         "rawType": "object",
         "type": "string"
        },
        {
         "name": "Test_Number",
         "rawType": "int64",
         "type": "integer"
        },
        {
         "name": "Test_Date",
         "rawType": "object",
         "type": "string"
        },
        {
         "name": "Time_Record",
         "rawType": "object",
         "type": "string"
        }
       ],
       "ref": "e69f2cd0-dadc-4133-87a3-f2e56e99988e",
       "rows": [
        [
         "Shanghai Jiao Tong University",
         "Freshman",
         "Gaopeng Yang",
         "Female",
         "158.9",
         "46.0",
         "N",
         "1",
         "2019/10/5",
         "0:04:34"
        ],
        [
         "Peking University",
         "Freshman",
         "Changqiang You",
         "Male",
         "166.5",
         "70.0",
         "N",
         "1",
         "2019/9/4",
         "0:04:20"
        ],
        [
         "Shanghai Jiao Tong University",
         "Senior",
         "Mei Sun",
         "Male",
         "188.9",
         "89.0",
         "N",
         "2",
         "2019/9/12",
         "0:05:22"
        ]
       ],
       "shape": {
        "columns": 9,
        "rows": 3
       }
      },
      "text/html": [
       "<div>\n",
       "<style scoped>\n",
       "    .dataframe tbody tr th:only-of-type {\n",
       "        vertical-align: middle;\n",
       "    }\n",
       "\n",
       "    .dataframe tbody tr th {\n",
       "        vertical-align: top;\n",
       "    }\n",
       "\n",
       "    .dataframe thead th {\n",
       "        text-align: right;\n",
       "    }\n",
       "</style>\n",
       "<table border=\"1\" class=\"dataframe\">\n",
       "  <thead>\n",
       "    <tr style=\"text-align: right;\">\n",
       "      <th></th>\n",
       "      <th>Grade</th>\n",
       "      <th>Name</th>\n",
       "      <th>Gender</th>\n",
       "      <th>Height</th>\n",
       "      <th>Weight</th>\n",
       "      <th>Transfer</th>\n",
       "      <th>Test_Number</th>\n",
       "      <th>Test_Date</th>\n",
       "      <th>Time_Record</th>\n",
       "    </tr>\n",
       "    <tr>\n",
       "      <th>School</th>\n",
       "      <th></th>\n",
       "      <th></th>\n",
       "      <th></th>\n",
       "      <th></th>\n",
       "      <th></th>\n",
       "      <th></th>\n",
       "      <th></th>\n",
       "      <th></th>\n",
       "      <th></th>\n",
       "    </tr>\n",
       "  </thead>\n",
       "  <tbody>\n",
       "    <tr>\n",
       "      <th>Shanghai Jiao Tong University</th>\n",
       "      <td>Freshman</td>\n",
       "      <td>Gaopeng Yang</td>\n",
       "      <td>Female</td>\n",
       "      <td>158.9</td>\n",
       "      <td>46.0</td>\n",
       "      <td>N</td>\n",
       "      <td>1</td>\n",
       "      <td>2019/10/5</td>\n",
       "      <td>0:04:34</td>\n",
       "    </tr>\n",
       "    <tr>\n",
       "      <th>Peking University</th>\n",
       "      <td>Freshman</td>\n",
       "      <td>Changqiang You</td>\n",
       "      <td>Male</td>\n",
       "      <td>166.5</td>\n",
       "      <td>70.0</td>\n",
       "      <td>N</td>\n",
       "      <td>1</td>\n",
       "      <td>2019/9/4</td>\n",
       "      <td>0:04:20</td>\n",
       "    </tr>\n",
       "    <tr>\n",
       "      <th>Shanghai Jiao Tong University</th>\n",
       "      <td>Senior</td>\n",
       "      <td>Mei Sun</td>\n",
       "      <td>Male</td>\n",
       "      <td>188.9</td>\n",
       "      <td>89.0</td>\n",
       "      <td>N</td>\n",
       "      <td>2</td>\n",
       "      <td>2019/9/12</td>\n",
       "      <td>0:05:22</td>\n",
       "    </tr>\n",
       "  </tbody>\n",
       "</table>\n",
       "</div>"
      ],
      "text/plain": [
       "                                  Grade            Name  Gender  Height  \\\n",
       "School                                                                    \n",
       "Shanghai Jiao Tong University  Freshman    Gaopeng Yang  Female   158.9   \n",
       "Peking University              Freshman  Changqiang You    Male   166.5   \n",
       "Shanghai Jiao Tong University    Senior         Mei Sun    Male   188.9   \n",
       "\n",
       "                               Weight Transfer  Test_Number  Test_Date  \\\n",
       "School                                                                   \n",
       "Shanghai Jiao Tong University    46.0        N            1  2019/10/5   \n",
       "Peking University                70.0        N            1   2019/9/4   \n",
       "Shanghai Jiao Tong University    89.0        N            2  2019/9/12   \n",
       "\n",
       "                              Time_Record  \n",
       "School                                     \n",
       "Shanghai Jiao Tong University     0:04:34  \n",
       "Peking University                 0:04:20  \n",
       "Shanghai Jiao Tong University     0:05:22  "
      ]
     },
     "execution_count": 404,
     "metadata": {},
     "output_type": "execute_result"
    }
   ],
   "source": [
    "learn_pd_data.head(3)"
   ]
  },
  {
   "cell_type": "code",
   "execution_count": 405,
   "id": "ce0d1b7b",
   "metadata": {},
   "outputs": [
    {
     "data": {
      "application/vnd.microsoft.datawrangler.viewer.v0+json": {
       "columns": [
        {
         "name": "index",
         "rawType": "object",
         "type": "string"
        },
        {
         "name": "Week",
         "rawType": "object",
         "type": "string"
        },
        {
         "name": "Weather",
         "rawType": "object",
         "type": "string"
        },
        {
         "name": "Temperature",
         "rawType": "float64",
         "type": "float"
        }
       ],
       "ref": "51edc7d1-2f81-42e8-acd1-9ea90893024a",
       "rows": [
        [
         "Day 19",
         "Friday",
         "clear",
         "12.89"
        ],
        [
         "Day 20",
         "Saturday",
         "blustery",
         "13.56"
        ],
        [
         "Day 21",
         "Sunday",
         "windy",
         "14.83"
        ]
       ],
       "shape": {
        "columns": 3,
        "rows": 3
       }
      },
      "text/html": [
       "<div>\n",
       "<style scoped>\n",
       "    .dataframe tbody tr th:only-of-type {\n",
       "        vertical-align: middle;\n",
       "    }\n",
       "\n",
       "    .dataframe tbody tr th {\n",
       "        vertical-align: top;\n",
       "    }\n",
       "\n",
       "    .dataframe thead th {\n",
       "        text-align: right;\n",
       "    }\n",
       "</style>\n",
       "<table border=\"1\" class=\"dataframe\">\n",
       "  <thead>\n",
       "    <tr style=\"text-align: right;\">\n",
       "      <th></th>\n",
       "      <th>Week</th>\n",
       "      <th>Weather</th>\n",
       "      <th>Temperature</th>\n",
       "    </tr>\n",
       "  </thead>\n",
       "  <tbody>\n",
       "    <tr>\n",
       "      <th>Day 19</th>\n",
       "      <td>Friday</td>\n",
       "      <td>clear</td>\n",
       "      <td>12.89</td>\n",
       "    </tr>\n",
       "    <tr>\n",
       "      <th>Day 20</th>\n",
       "      <td>Saturday</td>\n",
       "      <td>blustery</td>\n",
       "      <td>13.56</td>\n",
       "    </tr>\n",
       "    <tr>\n",
       "      <th>Day 21</th>\n",
       "      <td>Sunday</td>\n",
       "      <td>windy</td>\n",
       "      <td>14.83</td>\n",
       "    </tr>\n",
       "  </tbody>\n",
       "</table>\n",
       "</div>"
      ],
      "text/plain": [
       "            Week   Weather  Temperature\n",
       "Day 19    Friday     clear        12.89\n",
       "Day 20  Saturday  blustery        13.56\n",
       "Day 21    Sunday     windy        14.83"
      ]
     },
     "execution_count": 405,
     "metadata": {},
     "output_type": "execute_result"
    }
   ],
   "source": [
    "magic_land.tail(3)"
   ]
  },
  {
   "cell_type": "code",
   "execution_count": 406,
   "id": "f208828f",
   "metadata": {},
   "outputs": [
    {
     "data": {
      "application/vnd.microsoft.datawrangler.viewer.v0+json": {
       "columns": [
        {
         "name": "School",
         "rawType": "object",
         "type": "string"
        },
        {
         "name": "Grade",
         "rawType": "object",
         "type": "string"
        },
        {
         "name": "Name",
         "rawType": "object",
         "type": "string"
        },
        {
         "name": "Gender",
         "rawType": "object",
         "type": "string"
        },
        {
         "name": "Height",
         "rawType": "float64",
         "type": "float"
        },
        {
         "name": "Weight",
         "rawType": "float64",
         "type": "float"
        },
        {
         "name": "Transfer",
         "rawType": "object",
         "type": "string"
        },
        {
         "name": "Test_Number",
         "rawType": "int64",
         "type": "integer"
        },
        {
         "name": "Test_Date",
         "rawType": "object",
         "type": "string"
        },
        {
         "name": "Time_Record",
         "rawType": "object",
         "type": "string"
        }
       ],
       "ref": "a9b3d200-606b-49c3-9dc1-9c999ed6340c",
       "rows": [
        [
         "Shanghai Jiao Tong University",
         "Senior",
         "Chengqiang Chu",
         "Female",
         "153.9",
         "45.0",
         "N",
         "1",
         "2020/1/5",
         "0:04:48"
        ],
        [
         "Shanghai Jiao Tong University",
         "Senior",
         "Chengmei Shen",
         "Male",
         "175.3",
         "71.0",
         "N",
         "2",
         "2020/1/7",
         "0:04:58"
        ],
        [
         "Tsinghua University",
         "Sophomore",
         "Chunpeng Lv",
         "Male",
         "155.7",
         "51.0",
         "N",
         "1",
         "2019/11/6",
         "0:05:05"
        ]
       ],
       "shape": {
        "columns": 9,
        "rows": 3
       }
      },
      "text/html": [
       "<div>\n",
       "<style scoped>\n",
       "    .dataframe tbody tr th:only-of-type {\n",
       "        vertical-align: middle;\n",
       "    }\n",
       "\n",
       "    .dataframe tbody tr th {\n",
       "        vertical-align: top;\n",
       "    }\n",
       "\n",
       "    .dataframe thead th {\n",
       "        text-align: right;\n",
       "    }\n",
       "</style>\n",
       "<table border=\"1\" class=\"dataframe\">\n",
       "  <thead>\n",
       "    <tr style=\"text-align: right;\">\n",
       "      <th></th>\n",
       "      <th>Grade</th>\n",
       "      <th>Name</th>\n",
       "      <th>Gender</th>\n",
       "      <th>Height</th>\n",
       "      <th>Weight</th>\n",
       "      <th>Transfer</th>\n",
       "      <th>Test_Number</th>\n",
       "      <th>Test_Date</th>\n",
       "      <th>Time_Record</th>\n",
       "    </tr>\n",
       "    <tr>\n",
       "      <th>School</th>\n",
       "      <th></th>\n",
       "      <th></th>\n",
       "      <th></th>\n",
       "      <th></th>\n",
       "      <th></th>\n",
       "      <th></th>\n",
       "      <th></th>\n",
       "      <th></th>\n",
       "      <th></th>\n",
       "    </tr>\n",
       "  </thead>\n",
       "  <tbody>\n",
       "    <tr>\n",
       "      <th>Shanghai Jiao Tong University</th>\n",
       "      <td>Senior</td>\n",
       "      <td>Chengqiang Chu</td>\n",
       "      <td>Female</td>\n",
       "      <td>153.9</td>\n",
       "      <td>45.0</td>\n",
       "      <td>N</td>\n",
       "      <td>1</td>\n",
       "      <td>2020/1/5</td>\n",
       "      <td>0:04:48</td>\n",
       "    </tr>\n",
       "    <tr>\n",
       "      <th>Shanghai Jiao Tong University</th>\n",
       "      <td>Senior</td>\n",
       "      <td>Chengmei Shen</td>\n",
       "      <td>Male</td>\n",
       "      <td>175.3</td>\n",
       "      <td>71.0</td>\n",
       "      <td>N</td>\n",
       "      <td>2</td>\n",
       "      <td>2020/1/7</td>\n",
       "      <td>0:04:58</td>\n",
       "    </tr>\n",
       "    <tr>\n",
       "      <th>Tsinghua University</th>\n",
       "      <td>Sophomore</td>\n",
       "      <td>Chunpeng Lv</td>\n",
       "      <td>Male</td>\n",
       "      <td>155.7</td>\n",
       "      <td>51.0</td>\n",
       "      <td>N</td>\n",
       "      <td>1</td>\n",
       "      <td>2019/11/6</td>\n",
       "      <td>0:05:05</td>\n",
       "    </tr>\n",
       "  </tbody>\n",
       "</table>\n",
       "</div>"
      ],
      "text/plain": [
       "                                   Grade            Name  Gender  Height  \\\n",
       "School                                                                     \n",
       "Shanghai Jiao Tong University     Senior  Chengqiang Chu  Female   153.9   \n",
       "Shanghai Jiao Tong University     Senior   Chengmei Shen    Male   175.3   \n",
       "Tsinghua University            Sophomore     Chunpeng Lv    Male   155.7   \n",
       "\n",
       "                               Weight Transfer  Test_Number  Test_Date  \\\n",
       "School                                                                   \n",
       "Shanghai Jiao Tong University    45.0        N            1   2020/1/5   \n",
       "Shanghai Jiao Tong University    71.0        N            2   2020/1/7   \n",
       "Tsinghua University              51.0        N            1  2019/11/6   \n",
       "\n",
       "                              Time_Record  \n",
       "School                                     \n",
       "Shanghai Jiao Tong University     0:04:48  \n",
       "Shanghai Jiao Tong University     0:04:58  \n",
       "Tsinghua University               0:05:05  "
      ]
     },
     "execution_count": 406,
     "metadata": {},
     "output_type": "execute_result"
    }
   ],
   "source": [
    "learn_pd_data.tail(3)"
   ]
  },
  {
   "cell_type": "code",
   "execution_count": 407,
   "id": "34d9188a",
   "metadata": {},
   "outputs": [
    {
     "name": "stdout",
     "output_type": "stream",
     "text": [
      "<class 'pandas.core.frame.DataFrame'>\n",
      "Index: 200 entries, Shanghai Jiao Tong University to Tsinghua University\n",
      "Data columns (total 9 columns):\n",
      " #   Column       Non-Null Count  Dtype  \n",
      "---  ------       --------------  -----  \n",
      " 0   Grade        200 non-null    object \n",
      " 1   Name         200 non-null    object \n",
      " 2   Gender       200 non-null    object \n",
      " 3   Height       183 non-null    float64\n",
      " 4   Weight       189 non-null    float64\n",
      " 5   Transfer     188 non-null    object \n",
      " 6   Test_Number  200 non-null    int64  \n",
      " 7   Test_Date    200 non-null    object \n",
      " 8   Time_Record  200 non-null    object \n",
      "dtypes: float64(2), int64(1), object(6)\n",
      "memory usage: 23.7+ KB\n"
     ]
    }
   ],
   "source": [
    "learn_pd_data.info()"
   ]
  },
  {
   "cell_type": "code",
   "execution_count": 408,
   "id": "2e4e304c",
   "metadata": {},
   "outputs": [
    {
     "name": "stdout",
     "output_type": "stream",
     "text": [
      "<class 'pandas.core.frame.DataFrame'>\n",
      "Index: 21 entries, Day 1 to Day 21\n",
      "Data columns (total 3 columns):\n",
      " #   Column       Non-Null Count  Dtype  \n",
      "---  ------       --------------  -----  \n",
      " 0   Week         21 non-null     object \n",
      " 1   Weather      21 non-null     object \n",
      " 2   Temperature  21 non-null     float64\n",
      "dtypes: float64(1), object(2)\n",
      "memory usage: 1.2+ KB\n"
     ]
    }
   ],
   "source": [
    "magic_land.info()"
   ]
  },
  {
   "cell_type": "code",
   "execution_count": 409,
   "id": "80e4b3c3",
   "metadata": {},
   "outputs": [
    {
     "data": {
      "application/vnd.microsoft.datawrangler.viewer.v0+json": {
       "columns": [
        {
         "name": "index",
         "rawType": "object",
         "type": "string"
        },
        {
         "name": "Temperature",
         "rawType": "float64",
         "type": "float"
        }
       ],
       "ref": "66931527-19a5-4708-affb-b958748d19ae",
       "rows": [
        [
         "count",
         "21.0"
        ],
        [
         "mean",
         "14.220476190476191"
        ],
        [
         "std",
         "1.511917577748457"
        ],
        [
         "min",
         "11.48"
        ],
        [
         "25%",
         "13.31"
        ],
        [
         "50%",
         "14.21"
        ],
        [
         "75%",
         "15.52"
        ],
        [
         "max",
         "16.5"
        ]
       ],
       "shape": {
        "columns": 1,
        "rows": 8
       }
      },
      "text/html": [
       "<div>\n",
       "<style scoped>\n",
       "    .dataframe tbody tr th:only-of-type {\n",
       "        vertical-align: middle;\n",
       "    }\n",
       "\n",
       "    .dataframe tbody tr th {\n",
       "        vertical-align: top;\n",
       "    }\n",
       "\n",
       "    .dataframe thead th {\n",
       "        text-align: right;\n",
       "    }\n",
       "</style>\n",
       "<table border=\"1\" class=\"dataframe\">\n",
       "  <thead>\n",
       "    <tr style=\"text-align: right;\">\n",
       "      <th></th>\n",
       "      <th>Temperature</th>\n",
       "    </tr>\n",
       "  </thead>\n",
       "  <tbody>\n",
       "    <tr>\n",
       "      <th>count</th>\n",
       "      <td>21.000000</td>\n",
       "    </tr>\n",
       "    <tr>\n",
       "      <th>mean</th>\n",
       "      <td>14.220476</td>\n",
       "    </tr>\n",
       "    <tr>\n",
       "      <th>std</th>\n",
       "      <td>1.511918</td>\n",
       "    </tr>\n",
       "    <tr>\n",
       "      <th>min</th>\n",
       "      <td>11.480000</td>\n",
       "    </tr>\n",
       "    <tr>\n",
       "      <th>25%</th>\n",
       "      <td>13.310000</td>\n",
       "    </tr>\n",
       "    <tr>\n",
       "      <th>50%</th>\n",
       "      <td>14.210000</td>\n",
       "    </tr>\n",
       "    <tr>\n",
       "      <th>75%</th>\n",
       "      <td>15.520000</td>\n",
       "    </tr>\n",
       "    <tr>\n",
       "      <th>max</th>\n",
       "      <td>16.500000</td>\n",
       "    </tr>\n",
       "  </tbody>\n",
       "</table>\n",
       "</div>"
      ],
      "text/plain": [
       "       Temperature\n",
       "count    21.000000\n",
       "mean     14.220476\n",
       "std       1.511918\n",
       "min      11.480000\n",
       "25%      13.310000\n",
       "50%      14.210000\n",
       "75%      15.520000\n",
       "max      16.500000"
      ]
     },
     "execution_count": 409,
     "metadata": {},
     "output_type": "execute_result"
    }
   ],
   "source": [
    "magic_land.describe()"
   ]
  },
  {
   "cell_type": "code",
   "execution_count": 410,
   "id": "fe92c0ef",
   "metadata": {},
   "outputs": [
    {
     "data": {
      "application/vnd.microsoft.datawrangler.viewer.v0+json": {
       "columns": [
        {
         "name": "index",
         "rawType": "object",
         "type": "string"
        },
        {
         "name": "Height",
         "rawType": "float64",
         "type": "float"
        },
        {
         "name": "Weight",
         "rawType": "float64",
         "type": "float"
        },
        {
         "name": "Test_Number",
         "rawType": "float64",
         "type": "float"
        }
       ],
       "ref": "4aef2fd7-41c7-4910-98a7-5d7d31a37aa5",
       "rows": [
        [
         "count",
         "183.0",
         "189.0",
         "200.0"
        ],
        [
         "mean",
         "163.21803278688526",
         "55.01587301587302",
         "1.645"
        ],
        [
         "std",
         "8.608879421853812",
         "12.824293846627201",
         "0.7222069748852226"
        ],
        [
         "min",
         "145.4",
         "34.0",
         "1.0"
        ],
        [
         "25%",
         "157.15",
         "46.0",
         "1.0"
        ],
        [
         "50%",
         "161.9",
         "51.0",
         "1.5"
        ],
        [
         "75%",
         "167.5",
         "65.0",
         "2.0"
        ],
        [
         "max",
         "193.9",
         "89.0",
         "3.0"
        ]
       ],
       "shape": {
        "columns": 3,
        "rows": 8
       }
      },
      "text/html": [
       "<div>\n",
       "<style scoped>\n",
       "    .dataframe tbody tr th:only-of-type {\n",
       "        vertical-align: middle;\n",
       "    }\n",
       "\n",
       "    .dataframe tbody tr th {\n",
       "        vertical-align: top;\n",
       "    }\n",
       "\n",
       "    .dataframe thead th {\n",
       "        text-align: right;\n",
       "    }\n",
       "</style>\n",
       "<table border=\"1\" class=\"dataframe\">\n",
       "  <thead>\n",
       "    <tr style=\"text-align: right;\">\n",
       "      <th></th>\n",
       "      <th>Height</th>\n",
       "      <th>Weight</th>\n",
       "      <th>Test_Number</th>\n",
       "    </tr>\n",
       "  </thead>\n",
       "  <tbody>\n",
       "    <tr>\n",
       "      <th>count</th>\n",
       "      <td>183.000000</td>\n",
       "      <td>189.000000</td>\n",
       "      <td>200.000000</td>\n",
       "    </tr>\n",
       "    <tr>\n",
       "      <th>mean</th>\n",
       "      <td>163.218033</td>\n",
       "      <td>55.015873</td>\n",
       "      <td>1.645000</td>\n",
       "    </tr>\n",
       "    <tr>\n",
       "      <th>std</th>\n",
       "      <td>8.608879</td>\n",
       "      <td>12.824294</td>\n",
       "      <td>0.722207</td>\n",
       "    </tr>\n",
       "    <tr>\n",
       "      <th>min</th>\n",
       "      <td>145.400000</td>\n",
       "      <td>34.000000</td>\n",
       "      <td>1.000000</td>\n",
       "    </tr>\n",
       "    <tr>\n",
       "      <th>25%</th>\n",
       "      <td>157.150000</td>\n",
       "      <td>46.000000</td>\n",
       "      <td>1.000000</td>\n",
       "    </tr>\n",
       "    <tr>\n",
       "      <th>50%</th>\n",
       "      <td>161.900000</td>\n",
       "      <td>51.000000</td>\n",
       "      <td>1.500000</td>\n",
       "    </tr>\n",
       "    <tr>\n",
       "      <th>75%</th>\n",
       "      <td>167.500000</td>\n",
       "      <td>65.000000</td>\n",
       "      <td>2.000000</td>\n",
       "    </tr>\n",
       "    <tr>\n",
       "      <th>max</th>\n",
       "      <td>193.900000</td>\n",
       "      <td>89.000000</td>\n",
       "      <td>3.000000</td>\n",
       "    </tr>\n",
       "  </tbody>\n",
       "</table>\n",
       "</div>"
      ],
      "text/plain": [
       "           Height      Weight  Test_Number\n",
       "count  183.000000  189.000000   200.000000\n",
       "mean   163.218033   55.015873     1.645000\n",
       "std      8.608879   12.824294     0.722207\n",
       "min    145.400000   34.000000     1.000000\n",
       "25%    157.150000   46.000000     1.000000\n",
       "50%    161.900000   51.000000     1.500000\n",
       "75%    167.500000   65.000000     2.000000\n",
       "max    193.900000   89.000000     3.000000"
      ]
     },
     "execution_count": 410,
     "metadata": {},
     "output_type": "execute_result"
    }
   ],
   "source": [
    "learn_pd_data.describe()"
   ]
  },
  {
   "cell_type": "code",
   "execution_count": 411,
   "id": "edaf90aa",
   "metadata": {},
   "outputs": [
    {
     "name": "stdout",
     "output_type": "stream",
     "text": [
      "<class 'numpy.dtypes.ObjectDType'>\n"
     ]
    },
    {
     "data": {
      "text/plain": [
       "pandas.core.series.Series"
      ]
     },
     "execution_count": 411,
     "metadata": {},
     "output_type": "execute_result"
    }
   ],
   "source": [
    "objects=(type(magic_land[magic_lands_colums[0]].dtypes))\n",
    "print(objects)\n",
    "type(magic_land[magic_land_colums[2]])\n",
    "   "
   ]
  },
  {
   "cell_type": "code",
   "execution_count": null,
   "id": "82b48729",
   "metadata": {},
   "outputs": [],
   "source": [
    "def feature_statistics(data:pd.DataFrame,index:list,feature:str):\n",
    "     data_feature=data[index]\n",
    "     for index in data_feature.columns:\n",
    "      if (type(data_feature[index].dtypes)!=objects) :\n",
    "       match feature:\n",
    "         case \"mean\":\n",
    "          return data_feature.mean(axis=1)       #get any dataframe feature for any data\n",
    "         \n",
    "         case \"median\":                         \n",
    "          return data_feature.median(axis=1)\n",
    "         case \"max\":\n",
    "             return data_feature.max()\n",
    "         case \"min\":\n",
    "             return data_feature.min()\n",
    "         case \"std\":\n",
    "          return data_feature.std()\n",
    "         case \"var\":\n",
    "          return data_feature.var()\n",
    "         case 'quantile':\n",
    "          return data_feature.quantile(q=0.25,axis=1)\n",
    "         case \"count\":\n",
    "          return data_feature.count()\n",
    "         case \"idxmax\":\n",
    "          return data_feature.idxmax()\n",
    "         case _:\n",
    "           return(\"not support feature\")\n",
    "         \n",
    "      else:raise TypeError(\"not support dtype is object\")\n",
    "     "
   ]
  },
  {
   "cell_type": "code",
   "execution_count": null,
   "id": "c350bad2",
   "metadata": {},
   "outputs": [],
   "source": []
  },
  {
   "cell_type": "code",
   "execution_count": 413,
   "id": "9e7c8f08",
   "metadata": {},
   "outputs": [
    {
     "data": {
      "application/vnd.microsoft.datawrangler.viewer.v0+json": {
       "columns": [
        {
         "name": "index",
         "rawType": "object",
         "type": "string"
        },
        {
         "name": "0",
         "rawType": "object",
         "type": "string"
        }
       ],
       "ref": "e0d8620b-c79b-47c7-b150-9f7b673245fd",
       "rows": [
        [
         "Height",
         "Tsinghua University"
        ],
        [
         "Weight",
         "Shanghai Jiao Tong University"
        ]
       ],
       "shape": {
        "columns": 1,
        "rows": 2
       }
      },
      "text/plain": [
       "Height              Tsinghua University\n",
       "Weight    Shanghai Jiao Tong University\n",
       "dtype: object"
      ]
     },
     "execution_count": 413,
     "metadata": {},
     "output_type": "execute_result"
    }
   ],
   "source": [
    "feature_statistics(data=learn_pd_data,index=[learn_pd_data.columns[3],learn_pd_data.columns[4]],feature=\"idxmax\")"
   ]
  },
  {
   "cell_type": "code",
   "execution_count": 414,
   "id": "caf45979",
   "metadata": {},
   "outputs": [
    {
     "data": {
      "application/vnd.microsoft.datawrangler.viewer.v0+json": {
       "columns": [
        {
         "name": "index",
         "rawType": "object",
         "type": "string"
        },
        {
         "name": "0",
         "rawType": "float64",
         "type": "float"
        }
       ],
       "ref": "46694911-5cfa-4e0d-93e1-40c039424096",
       "rows": [
        [
         "Day 1",
         "13.4"
        ],
        [
         "Day 2",
         "13.96"
        ],
        [
         "Day 3",
         "14.21"
        ],
        [
         "Day 4",
         "14.49"
        ],
        [
         "Day 5",
         "15.25"
        ],
        [
         "Day 6",
         "15.56"
        ],
        [
         "Day 7",
         "16.1"
        ],
        [
         "Day 8",
         "16.5"
        ],
        [
         "Day 9",
         "16.2"
        ],
        [
         "Day 10",
         "15.8"
        ],
        [
         "Day 11",
         "15.52"
        ],
        [
         "Day 12",
         "15.12"
        ],
        [
         "Day 13",
         "14.14"
        ],
        [
         "Day 14",
         "13.31"
        ],
        [
         "Day 15",
         "12.11"
        ],
        [
         "Day 16",
         "11.48"
        ],
        [
         "Day 17",
         "11.96"
        ],
        [
         "Day 18",
         "12.24"
        ],
        [
         "Day 19",
         "12.89"
        ],
        [
         "Day 20",
         "13.56"
        ],
        [
         "Day 21",
         "14.83"
        ]
       ],
       "shape": {
        "columns": 1,
        "rows": 21
       }
      },
      "text/plain": [
       "Day 1     13.40\n",
       "Day 2     13.96\n",
       "Day 3     14.21\n",
       "Day 4     14.49\n",
       "Day 5     15.25\n",
       "Day 6     15.56\n",
       "Day 7     16.10\n",
       "Day 8     16.50\n",
       "Day 9     16.20\n",
       "Day 10    15.80\n",
       "Day 11    15.52\n",
       "Day 12    15.12\n",
       "Day 13    14.14\n",
       "Day 14    13.31\n",
       "Day 15    12.11\n",
       "Day 16    11.48\n",
       "Day 17    11.96\n",
       "Day 18    12.24\n",
       "Day 19    12.89\n",
       "Day 20    13.56\n",
       "Day 21    14.83\n",
       "dtype: float64"
      ]
     },
     "execution_count": 414,
     "metadata": {},
     "output_type": "execute_result"
    }
   ],
   "source": [
    "feature_statistics(data=magic_land,index=[magic_land_colums[2]],feature='median')"
   ]
  },
  {
   "cell_type": "code",
   "execution_count": null,
   "id": "1d6bfdc2",
   "metadata": {},
   "outputs": [],
   "source": []
  }
 ],
 "metadata": {
  "kernelspec": {
   "display_name": "Python 3",
   "language": "python",
   "name": "python3"
  },
  "language_info": {
   "codemirror_mode": {
    "name": "ipython",
    "version": 3
   },
   "file_extension": ".py",
   "mimetype": "text/x-python",
   "name": "python",
   "nbconvert_exporter": "python",
   "pygments_lexer": "ipython3",
   "version": "3.13.3"
  }
 },
 "nbformat": 4,
 "nbformat_minor": 5
}
